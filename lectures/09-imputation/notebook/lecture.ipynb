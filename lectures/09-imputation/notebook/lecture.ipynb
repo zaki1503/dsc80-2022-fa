{
 "cells": [
  {
   "cell_type": "code",
   "execution_count": null,
   "id": "1c02d3c7",
   "metadata": {},
   "outputs": [],
   "source": [
    "import pandas as pd\n",
    "import numpy as np\n",
    "\n",
    "import matplotlib.pyplot as plt\n",
    "plt.rcParams['figure.figsize'] = (10, 5)\n"
   ]
  },
  {
   "cell_type": "markdown",
   "id": "ce9e66d9",
   "metadata": {
    "slideshow": {
     "slide_type": "slide"
    }
   },
   "source": [
    "# Lecture 09 - Imputation\n",
    "\n",
    "## DSC 80, Fall 2022"
   ]
  },
  {
   "cell_type": "markdown",
   "id": "6ae2dd05",
   "metadata": {
    "slideshow": {
     "slide_type": "slide"
    }
   },
   "source": [
    "## Today, in DSC 80...\n",
    "\n",
    "- We know *how* data can go missing.\n",
    "- How do we *replace* missing values intelligently?"
   ]
  },
  {
   "cell_type": "markdown",
   "id": "c304426c",
   "metadata": {
    "slideshow": {
     "slide_type": "slide"
    }
   },
   "source": [
    "## Review: Missingness mechanisms"
   ]
  },
  {
   "cell_type": "markdown",
   "id": "a304d489",
   "metadata": {
    "slideshow": {
     "slide_type": "slide"
    }
   },
   "source": [
    "### Review: Missingness mechanisms\n",
    "\n",
    "- **Missing by design (MD):** Whether or not a value is missing depends entirely on the data in other columns. In other words, if we can always predict if a value will be missing given the other columns, the data is MD.\n",
    "- **Not missing at random (NMAR, also called NI):** The chance that a value is missing **depends on the actual missing value**!\n",
    "- **Missing at random (MAR):** The chance that a value is missing **depends on other columns**, but **not** the actual missing value itself.\n",
    "- **Missing completely at random (MCAR):** The chance that a value is missing is **completely independent** of other columns and the actual missing value."
   ]
  },
  {
   "cell_type": "markdown",
   "id": "340cfedf",
   "metadata": {
    "slideshow": {
     "slide_type": "slide"
    }
   },
   "source": [
    "### Deciding between MAR and MCAR\n",
    "\n",
    "- Recall, the \"missing value flowchart\" says that we should:\n",
    "    - First, determine whether values are **missing by design (MD)**.\n",
    "    - Then, reason about whether values are **not missing at random (NMAR)**.\n",
    "    - Finally, decide whether values are **missing at random (MAR)** or **missing completely at random (MCAR)**.\n",
    "- To decide between MAR and MCAR, we can look at the data itself."
   ]
  },
  {
   "cell_type": "code",
   "execution_count": 3,
   "id": "849655f5",
   "metadata": {
    "slideshow": {
     "slide_type": "slide"
    }
   },
   "outputs": [
    {
     "data": {
      "text/html": [
       "<div>\n",
       "<style scoped>\n",
       "    .dataframe tbody tr th:only-of-type {\n",
       "        vertical-align: middle;\n",
       "    }\n",
       "\n",
       "    .dataframe tbody tr th {\n",
       "        vertical-align: top;\n",
       "    }\n",
       "\n",
       "    .dataframe thead th {\n",
       "        text-align: right;\n",
       "    }\n",
       "</style>\n",
       "<table border=\"1\" class=\"dataframe\">\n",
       "  <thead>\n",
       "    <tr style=\"text-align: right;\">\n",
       "      <th></th>\n",
       "      <th>family</th>\n",
       "      <th>father</th>\n",
       "      <th>mother</th>\n",
       "      <th>children</th>\n",
       "      <th>number</th>\n",
       "      <th>gender</th>\n",
       "      <th>child</th>\n",
       "    </tr>\n",
       "  </thead>\n",
       "  <tbody>\n",
       "    <tr>\n",
       "      <th>0</th>\n",
       "      <td>1</td>\n",
       "      <td>78.5</td>\n",
       "      <td>67.0</td>\n",
       "      <td>4</td>\n",
       "      <td>1</td>\n",
       "      <td>male</td>\n",
       "      <td>73.2</td>\n",
       "    </tr>\n",
       "    <tr>\n",
       "      <th>1</th>\n",
       "      <td>1</td>\n",
       "      <td>78.5</td>\n",
       "      <td>67.0</td>\n",
       "      <td>4</td>\n",
       "      <td>2</td>\n",
       "      <td>female</td>\n",
       "      <td>69.2</td>\n",
       "    </tr>\n",
       "    <tr>\n",
       "      <th>2</th>\n",
       "      <td>1</td>\n",
       "      <td>78.5</td>\n",
       "      <td>67.0</td>\n",
       "      <td>4</td>\n",
       "      <td>3</td>\n",
       "      <td>female</td>\n",
       "      <td>69.0</td>\n",
       "    </tr>\n",
       "    <tr>\n",
       "      <th>3</th>\n",
       "      <td>1</td>\n",
       "      <td>78.5</td>\n",
       "      <td>67.0</td>\n",
       "      <td>4</td>\n",
       "      <td>4</td>\n",
       "      <td>female</td>\n",
       "      <td>69.0</td>\n",
       "    </tr>\n",
       "    <tr>\n",
       "      <th>4</th>\n",
       "      <td>2</td>\n",
       "      <td>75.5</td>\n",
       "      <td>66.5</td>\n",
       "      <td>4</td>\n",
       "      <td>1</td>\n",
       "      <td>male</td>\n",
       "      <td>73.5</td>\n",
       "    </tr>\n",
       "  </tbody>\n",
       "</table>\n",
       "</div>"
      ],
      "text/plain": [
       "  family  father  mother  children  number  gender  child\n",
       "0      1    78.5    67.0         4       1    male   73.2\n",
       "1      1    78.5    67.0         4       2  female   69.2\n",
       "2      1    78.5    67.0         4       3  female   69.0\n",
       "3      1    78.5    67.0         4       4  female   69.0\n",
       "4      2    75.5    66.5         4       1    male   73.5"
      ]
     },
     "execution_count": 3,
     "metadata": {},
     "output_type": "execute_result"
    }
   ],
   "source": [
    "heights = pd.read_csv(os.path.join('data', 'heights.csv'))\n",
    "heights = (\n",
    "    heights\n",
    "    .rename(columns={'childHeight': 'child', 'childNum': 'number'})\n",
    "    .drop('midparentHeight', axis=1)\n",
    ")\n",
    "heights.head()"
   ]
  },
  {
   "cell_type": "markdown",
   "id": "b20fbfd1",
   "metadata": {
    "slideshow": {
     "slide_type": "slide"
    }
   },
   "source": [
    "### Example: Missingness of `'child'` heights on `'father'`'s heights (MCAR)\n",
    "\n",
    "- **Question:** Is the missingness of `'child'` heights dependent on the `'father'` column?\n",
    "- To answer, we can look at two distributions:\n",
    "    - The distribution of `'father'` when `'child'` is missing.\n",
    "    - The distribution of `'father'` when `'child'` is not missing.\n",
    "- If the two distributions look similar, then the missingness of `'child'` is not dependent on `'father'`.\n",
    "    - To test whether two distributions look similar, we use a permutation test."
   ]
  },
  {
   "cell_type": "markdown",
   "id": "cc28ca52",
   "metadata": {
    "slideshow": {
     "slide_type": "slide"
    }
   },
   "source": [
    "- In `util.py`, there are several functions that we've created to help us with this lecture. \n",
    "    - `make_mcar` takes in a dataset and intentionally drops values from a column such that they are MCAR. \n",
    "    - You wouldn't actually do this in practice!"
   ]
  },
  {
   "cell_type": "code",
   "execution_count": 4,
   "id": "56dfba8a",
   "metadata": {},
   "outputs": [
    {
     "data": {
      "text/plain": [
       "family      0.0\n",
       "father      0.0\n",
       "mother      0.0\n",
       "children    0.0\n",
       "number      0.0\n",
       "gender      0.0\n",
       "child       0.5\n",
       "dtype: float64"
      ]
     },
     "execution_count": 4,
     "metadata": {},
     "output_type": "execute_result"
    }
   ],
   "source": [
    "# Generating MCAR data\n",
    "heights_mcar = util.make_mcar(heights, 'child', pct=0.5)\n",
    "heights_mcar.isna().mean()"
   ]
  },
  {
   "cell_type": "code",
   "execution_count": 5,
   "id": "d5dddd0d",
   "metadata": {},
   "outputs": [
    {
     "data": {
      "image/png": "[encoded data removed]",
      "text/plain": [
       "<Figure size 1000x500 with 1 Axes>"
      ]
     },
     "metadata": {},
     "output_type": "display_data"
    }
   ],
   "source": [
    "heights_mcar['child_missing'] = heights_mcar['child'].isna()\n",
    "\n",
    "(\n",
    "    heights_mcar\n",
    "    .groupby('child_missing')['father']\n",
    "    .plot(kind='kde', legend=True, title=\"Father's Height by Missingness of Child Height (MCAR example)\")\n",
    ");"
   ]
  },
  {
   "cell_type": "markdown",
   "id": "0b407a8e",
   "metadata": {},
   "source": [
    "- To test whether the two distributions are similar, we can use a permutation test. \n",
    "- The `ks_2samp` function from `scipy.stats` can do the entire permutation test for us, if we want to use the Kolmogorov-Smirnov test statistic!\n",
    "    - If we want to use the difference of means, we'd have to run a `for`-loop (see Lecture 10 and 12 for examples)."
   ]
  },
  {
   "cell_type": "code",
   "execution_count": 6,
   "id": "43d874ce",
   "metadata": {},
   "outputs": [],
   "source": [
    "# 'father' when 'child' is missing \n",
    "father_ch_mis = heights_mcar.loc[heights_mcar['child_missing'], 'father']\n",
    "\n",
    "# 'father' when 'child' is not missing\n",
    "father_ch_not_mis = heights_mcar.loc[~heights_mcar['child_missing'], 'father']"
   ]
  },
  {
   "cell_type": "code",
   "execution_count": 7,
   "id": "f8a021b2",
   "metadata": {},
   "outputs": [
    {
     "data": {
      "text/plain": [
       "KstestResult(statistic=0.055674518201284794, pvalue=0.4645992385588452)"
      ]
     },
     "execution_count": 7,
     "metadata": {},
     "output_type": "execute_result"
    }
   ],
   "source": [
    "stats.ks_2samp(father_ch_mis, father_ch_not_mis)"
   ]
  },
  {
   "cell_type": "markdown",
   "id": "69b030a9",
   "metadata": {},
   "source": [
    "- This states that if the missingness of `'child'` is truly unrelated to the distribution of `'father'`, then the chance of seeing two distributions that are as or more different than our two observed `'father'` distributions is 83%.\n",
    "- We fail to reject the null – it looks like the missingness of `'child'` is likely unrelated to the distribution of `'father'`."
   ]
  },
  {
   "cell_type": "markdown",
   "id": "d27072ee",
   "metadata": {
    "slideshow": {
     "slide_type": "slide"
    }
   },
   "source": [
    "### Discussion Question\n",
    "\n",
    "In this MCAR example, if we were to take the mean of the `'child'` column that contains missing values, is the result likely to:\n",
    "\n",
    "1. Overestimate the true mean?\n",
    "2. Underestimate the true mean?\n",
    "3. Be accurate?"
   ]
  },
  {
   "cell_type": "code",
   "execution_count": 8,
   "id": "ee56078a",
   "metadata": {},
   "outputs": [
    {
     "data": {
      "image/png": "[encoded data removed]",
      "text/plain": [
       "<Figure size 1000x500 with 1 Axes>"
      ]
     },
     "metadata": {},
     "output_type": "display_data"
    }
   ],
   "source": [
    "(\n",
    "    heights_mcar\n",
    "    .groupby('child_missing')['father']\n",
    "    .plot(kind='kde', legend=True, title=\"Father's Height by Missingness of Child Height (MCAR example)\")\n",
    ");"
   ]
  },
  {
   "cell_type": "markdown",
   "id": "7508f8eb",
   "metadata": {
    "slideshow": {
     "slide_type": "slide"
    }
   },
   "source": [
    "### Example: Missingness of `'child'` heights on `'father'`'s heights (MAR)\n",
    "\n",
    "- **Question:** Is the missingness of `'child'` heights dependent on the `'father'` column?\n",
    "- We will follow the same procedure as before. The only difference is that the missing values in our simulated data are MAR."
   ]
  },
  {
   "cell_type": "code",
   "execution_count": 9,
   "id": "c6101542",
   "metadata": {},
   "outputs": [
    {
     "data": {
      "text/plain": [
       "family      0.000000\n",
       "father      0.000000\n",
       "mother      0.000000\n",
       "children    0.000000\n",
       "number      0.000000\n",
       "gender      0.000000\n",
       "child       0.749465\n",
       "dtype: float64"
      ]
     },
     "execution_count": 9,
     "metadata": {},
     "output_type": "execute_result"
    }
   ],
   "source": [
    "# Generating MAR data\n",
    "heights_mar = util.make_mar_on_num(heights, 'child', 'father', pct=0.75)\n",
    "heights_mar.isna().mean()"
   ]
  },
  {
   "cell_type": "code",
   "execution_count": 10,
   "id": "8978e210",
   "metadata": {},
   "outputs": [
    {
     "data": {
      "image/png": "[encoded data removed]",
      "text/plain": [
       "<Figure size 1000x500 with 1 Axes>"
      ]
     },
     "metadata": {},
     "output_type": "display_data"
    }
   ],
   "source": [
    "heights_mar['child_missing'] = heights_mar['child'].isna()\n",
    "\n",
    "(\n",
    "    heights_mar\n",
    "    .groupby('child_missing')['father']\n",
    "    .plot(kind='kde', legend=True, title=\"Father's Height by Missingness of Child Height (MAR example)\")\n",
    ");"
   ]
  },
  {
   "cell_type": "markdown",
   "id": "34a490be",
   "metadata": {},
   "source": [
    "- The above picture shows us that missing `'child'` heights tend to come from taller `'father'`s heights.\n",
    "- Let's again use a permutation test."
   ]
  },
  {
   "cell_type": "code",
   "execution_count": 11,
   "id": "c4709e1e",
   "metadata": {},
   "outputs": [],
   "source": [
    "# 'father' when 'child' is missing \n",
    "father_ch_mis = heights_mar.loc[heights_mar['child_missing'], 'father']\n",
    "\n",
    "# 'father' when 'child' is not missing\n",
    "father_ch_not_mis = heights_mar.loc[~heights_mar['child_missing'], 'father']"
   ]
  },
  {
   "cell_type": "code",
   "execution_count": 12,
   "id": "de68cb5a",
   "metadata": {},
   "outputs": [
    {
     "data": {
      "text/plain": [
       "KstestResult(statistic=0.48356532356532356, pvalue=5.551115123125783e-16)"
      ]
     },
     "execution_count": 12,
     "metadata": {},
     "output_type": "execute_result"
    }
   ],
   "source": [
    "stats.ks_2samp(father_ch_mis, father_ch_not_mis)"
   ]
  },
  {
   "cell_type": "markdown",
   "id": "9f52820a",
   "metadata": {},
   "source": [
    "- The p-value of our permutation test is essentially 0.\n",
    "- We reject the null that the missingness of the `'child'` column is independent of the `'father'` column, and we conclude that `'child'` is MAR dependent on `'father'`."
   ]
  },
  {
   "cell_type": "markdown",
   "id": "66e2a0a1",
   "metadata": {
    "slideshow": {
     "slide_type": "slide"
    }
   },
   "source": [
    "### Discussion Question\n",
    "\n",
    "In this MAR example, if we were to take the mean of the `'child'` column that contains missing values, is the result likely to:\n",
    "\n",
    "1. Overestimate the true mean?\n",
    "2. Underestimate the true mean?\n",
    "3. Be accurate?"
   ]
  },
  {
   "cell_type": "code",
   "execution_count": 13,
   "id": "995dda51",
   "metadata": {},
   "outputs": [
    {
     "data": {
      "image/png": "[encoded data removed]",
      "text/plain": [
       "<Figure size 1000x500 with 1 Axes>"
      ]
     },
     "metadata": {},
     "output_type": "display_data"
    }
   ],
   "source": [
    "(\n",
    "    heights_mar\n",
    "    .groupby('child_missing')['father']\n",
    "    .plot(kind='kde', legend=True, title=\"Father's Height by Missingness of Child Height (MAR example)\")\n",
    ");"
   ]
  },
  {
   "cell_type": "markdown",
   "id": "a32c1c9d",
   "metadata": {
    "slideshow": {
     "slide_type": "slide"
    }
   },
   "source": [
    "## Handling missing values"
   ]
  },
  {
   "cell_type": "markdown",
   "id": "3f68040d",
   "metadata": {
    "slideshow": {
     "slide_type": "slide"
    }
   },
   "source": [
    "### What do we do with missing data?\n",
    "\n",
    "- Suppose we are interested in a dataset $Y$. \n",
    "- We get to **observe** $Y_{obs}$, while the rest of the dataset, $Y_{mis}$, is **missing**.\n",
    "- Issue: $Y_{obs}$ may look quite different than $Y$.\n",
    "    - The mean and other measures of central tendency may be different.\n",
    "    - The variance may be different.\n",
    "    - Correlations between variables may be different."
   ]
  },
  {
   "cell_type": "markdown",
   "id": "6b4d8752",
   "metadata": {
    "slideshow": {
     "slide_type": "slide"
    }
   },
   "source": [
    "### Example: Charity\n",
    "\n",
    "- Consider a survey with an optional question: \"How much do you give to charity?\"\n",
    "- People who give little are less likely to respond.\n",
    "- Therefore, the average response is **biased high**."
   ]
  },
  {
   "cell_type": "markdown",
   "id": "857d21c3",
   "metadata": {
    "slideshow": {
     "slide_type": "slide"
    }
   },
   "source": [
    "### Solution 1: Dropping missing values\n",
    "\n",
    "- If the data are MCAR (missing completely at random), then dropping the missing values entirely doesn't significantly change the data.\n",
    "    - For instance, the mean of the dataset post-dropping is an unbiased estimate of the true mean.\n",
    "    - This is because MCAR data is a **random sample** of the full dataset.\n",
    "    - From DSC 10, we know that random samples tend to resemble the larger populations they are drawn from.\n",
    "- **If the data are not MCAR, then dropping the missing values will introduce bias.**\n",
    "    - MCAR is rare!"
   ]
  },
  {
   "cell_type": "markdown",
   "id": "a895e694",
   "metadata": {
    "slideshow": {
     "slide_type": "slide"
    }
   },
   "source": [
    "### Listwise deletion\n",
    "\n",
    "- _Listwise deletion_ is the act of dropping entire rows that contain missing values.\n",
    "- Issue: This can delete perfectly good data in other columns for a given row.\n",
    "    - Improvement: Drop missing data only when working with the column that contains missing data."
   ]
  },
  {
   "cell_type": "markdown",
   "id": "1973c449",
   "metadata": {},
   "source": [
    "To illustrate, let's generate another dataset with missing values."
   ]
  },
  {
   "cell_type": "code",
   "execution_count": 14,
   "id": "0520018f",
   "metadata": {},
   "outputs": [],
   "source": [
    "np.random.seed(42) # So that we get the same results each time (for lecture)\n",
    "heights_mcar = util.make_mcar(heights, 'child', pct=0.50)\n",
    "heights_mar = util.make_mar_on_cat(heights, 'child', 'gender', pct=0.50)"
   ]
  },
  {
   "cell_type": "markdown",
   "id": "2e46ff1d",
   "metadata": {},
   "source": [
    "The true `'child'` mean with all of the data is as follows."
   ]
  },
  {
   "cell_type": "code",
   "execution_count": 15,
   "id": "2654d616",
   "metadata": {},
   "outputs": [
    {
     "data": {
      "text/plain": [
       "66.74593147751597"
      ]
     },
     "execution_count": 15,
     "metadata": {},
     "output_type": "execute_result"
    }
   ],
   "source": [
    "heights['child'].mean()"
   ]
  },
  {
   "cell_type": "markdown",
   "id": "f54eadd8",
   "metadata": {},
   "source": [
    "The `'child'` mean in the MCAR dataset is very close to the true `'child'` mean:"
   ]
  },
  {
   "cell_type": "code",
   "execution_count": 16,
   "id": "cc473ebb",
   "metadata": {},
   "outputs": [
    {
     "data": {
      "text/plain": [
       "66.64068522483944"
      ]
     },
     "execution_count": 16,
     "metadata": {},
     "output_type": "execute_result"
    }
   ],
   "source": [
    "heights_mcar['child'].dropna().mean()"
   ]
  },
  {
   "cell_type": "code",
   "execution_count": 17,
   "id": "2bfeae3b",
   "metadata": {},
   "outputs": [
    {
     "data": {
      "text/plain": [
       "66.64068522483944"
      ]
     },
     "execution_count": 17,
     "metadata": {},
     "output_type": "execute_result"
    }
   ],
   "source": [
    "# Note that .mean() automatically drops nulls, so this expression is the same as the one above\n",
    "heights_mcar['child'].mean()"
   ]
  },
  {
   "cell_type": "markdown",
   "id": "99ba3a6d",
   "metadata": {},
   "source": [
    "The `'child'` mean in the MAR dataset is quite biased. Note that this is not the same example as before."
   ]
  },
  {
   "cell_type": "code",
   "execution_count": 18,
   "id": "dbc3ffd4",
   "metadata": {},
   "outputs": [
    {
     "data": {
      "text/plain": [
       "68.51884368308356"
      ]
     },
     "execution_count": 18,
     "metadata": {},
     "output_type": "execute_result"
    }
   ],
   "source": [
    "heights_mar['child'].mean()"
   ]
  },
  {
   "cell_type": "markdown",
   "id": "34768680",
   "metadata": {
    "slideshow": {
     "slide_type": "slide"
    }
   },
   "source": [
    "### Solution 2: Imputation\n",
    "\n",
    "**Imputation** is the act of filling in missing data with plausable values. Ideally, imputation:\n",
    "\n",
    "* is quick and easy to do.\n",
    "* shouldn't introduce bias into the dataset.\n",
    "\n",
    "These are hard to satisfy!"
   ]
  },
  {
   "cell_type": "markdown",
   "id": "50ad5f56",
   "metadata": {
    "slideshow": {
     "slide_type": "slide"
    }
   },
   "source": [
    "### Kinds of imputation\n",
    "\n",
    "- There are three main types of imputation, two of which we will focus on today:\n",
    "\n",
    "    - **Imputation with a single value: mean, median, mode.**\n",
    "    - Imputation with a single value, using a model: regression, kNN.\n",
    "    - **Probabilistic imputation by drawing from a distribution.**\n",
    "\n",
    "- Each has upsides and downsides, and **each works differently with different types of missingness**."
   ]
  },
  {
   "cell_type": "markdown",
   "id": "92b27fbd",
   "metadata": {
    "slideshow": {
     "slide_type": "slide"
    }
   },
   "source": [
    "## Mean imputation"
   ]
  },
  {
   "cell_type": "markdown",
   "id": "1e18a505",
   "metadata": {
    "slideshow": {
     "slide_type": "slide"
    }
   },
   "source": [
    "### Mean imputation\n",
    "\n",
    "- Mean imputation is the act of filling in missing values in a column with the mean of the observed values in that column.\n",
    "- This strategy:\n",
    "    - 👍 Preserves the mean of the observed data, for all types of missingness.\n",
    "    - 👎 Decreases the variance of the data, for all types of missingness.\n",
    "    - 👎 Creates a biased estimate of the true mean when the data are not MCAR."
   ]
  },
  {
   "cell_type": "markdown",
   "id": "f04f0953",
   "metadata": {
    "slideshow": {
     "slide_type": "slide"
    }
   },
   "source": [
    "### Example: Mean imputation in the MCAR `heights` dataset\n",
    "\n",
    "Let's look at two distributions:\n",
    "- The distribution of **all `'child'` heights**.\n",
    "- The distribution of the **`'child'` heights that have MCAR values**."
   ]
  },
  {
   "cell_type": "code",
   "execution_count": 19,
   "id": "9c2676b2",
   "metadata": {},
   "outputs": [
    {
     "data": {
      "text/plain": [
       "0    73.2\n",
       "1    69.2\n",
       "2     NaN\n",
       "3     NaN\n",
       "4    73.5\n",
       "Name: child, dtype: float64"
      ]
     },
     "execution_count": 19,
     "metadata": {},
     "output_type": "execute_result"
    }
   ],
   "source": [
    "heights_mcar['child'].head()"
   ]
  },
  {
   "cell_type": "code",
   "execution_count": 20,
   "id": "02593b0b",
   "metadata": {},
   "outputs": [
    {
     "data": {
      "image/png": "[encoded data removed]",
      "text/plain": [
       "<Figure size 1000x500 with 1 Axes>"
      ]
     },
     "metadata": {},
     "output_type": "display_data"
    }
   ],
   "source": [
    "# Note that this is **not** a density histogram!\n",
    "plt.hist([heights['child'], heights_mcar['child'].dropna()])\n",
    "plt.legend(['full data', 'missing (mcar)']);"
   ]
  },
  {
   "cell_type": "markdown",
   "id": "e2f28edc",
   "metadata": {},
   "source": [
    "- Since the data is MCAR, the blue distribution has the same shape as the orange distribution.\n",
    "- Let's fill in missing values with the mean of the observed `'child'` heights."
   ]
  },
  {
   "cell_type": "code",
   "execution_count": 21,
   "id": "b3217d68",
   "metadata": {},
   "outputs": [
    {
     "data": {
      "text/plain": [
       "0    73.2\n",
       "1    69.2\n",
       "2     NaN\n",
       "3     NaN\n",
       "4    73.5\n",
       "Name: child, dtype: float64"
      ]
     },
     "execution_count": 21,
     "metadata": {},
     "output_type": "execute_result"
    }
   ],
   "source": [
    "heights_mcar['child'].head()"
   ]
  },
  {
   "cell_type": "code",
   "execution_count": 22,
   "id": "a404d069",
   "metadata": {},
   "outputs": [
    {
     "data": {
      "text/plain": [
       "0    73.200000\n",
       "1    69.200000\n",
       "2    66.640685\n",
       "3    66.640685\n",
       "4    73.500000\n",
       "Name: child, dtype: float64"
      ]
     },
     "execution_count": 22,
     "metadata": {},
     "output_type": "execute_result"
    }
   ],
   "source": [
    "heights_mcar_mfilled = heights_mcar.fillna(heights_mcar['child'].mean())\n",
    "heights_mcar_mfilled['child'].head()"
   ]
  },
  {
   "cell_type": "markdown",
   "id": "e9469160",
   "metadata": {},
   "source": [
    "- Note that the mean of the full set of heights is very close to the mean of the subset of heights that weren't missing.\n",
    "- Also note that the mean of the imputed dataset is the same as the mean of the subset of heights that weren't missing."
   ]
  },
  {
   "cell_type": "code",
   "execution_count": 23,
   "id": "b4efb4cd",
   "metadata": {},
   "outputs": [
    {
     "name": "stdout",
     "output_type": "stream",
     "text": [
      "mean (original): 66.745931\n",
      "mean (missing):  66.640685\n",
      "mean (mean imp): 66.640685\n"
     ]
    }
   ],
   "source": [
    "print(\n",
    "    'mean (original): %f' % heights['child'].mean(),\n",
    "    'mean (missing):  %f' % heights_mcar['child'].mean(),\n",
    "    'mean (mean imp): %f' % heights_mcar_mfilled['child'].mean(),\n",
    "    sep='\\n'\n",
    ")"
   ]
  },
  {
   "cell_type": "markdown",
   "id": "4d337b78",
   "metadata": {},
   "source": [
    "- Why is the standard deviation of the imputed dataset smaller than either of the other two?"
   ]
  },
  {
   "cell_type": "code",
   "execution_count": 24,
   "id": "8359560a",
   "metadata": {},
   "outputs": [
    {
     "name": "stdout",
     "output_type": "stream",
     "text": [
      "std (original): 3.579251\n",
      "std (missing):  3.563299\n",
      "std (mean imp): 2.518282\n"
     ]
    }
   ],
   "source": [
    "print(\n",
    "    'std (original): %f' % heights['child'].std(),\n",
    "    'std (missing):  %f' % heights_mcar['child'].std(),\n",
    "    'std (mean imp): %f' % heights_mcar_mfilled['child'].std(),\n",
    "    sep='\\n'\n",
    ")"
   ]
  },
  {
   "cell_type": "markdown",
   "id": "edba2893",
   "metadata": {
    "slideshow": {
     "slide_type": "slide"
    }
   },
   "source": [
    "### Mean imputation of MCAR data\n",
    "\n",
    "Let's take a look at all three distributions: the original, the MCAR heights with missing values, and the imputed MCAR heights."
   ]
  },
  {
   "cell_type": "code",
   "execution_count": 25,
   "id": "d7c92e7d",
   "metadata": {},
   "outputs": [
    {
     "data": {
      "image/png": "[encoded data removed]",
      "text/plain": [
       "<Figure size 1000x500 with 1 Axes>"
      ]
     },
     "metadata": {},
     "output_type": "display_data"
    }
   ],
   "source": [
    "plt.hist([heights['child'], heights_mcar['child'].dropna(), heights_mcar_mfilled['child']])\n",
    "plt.legend(['full data', 'missing (mcar)', 'imputed']);"
   ]
  },
  {
   "cell_type": "markdown",
   "id": "fefd2a41",
   "metadata": {},
   "source": [
    "**Takeaway:** When data are MCAR and you impute with the mean:\n",
    "- The mean of the imputed dataset is an unbiased estimator of the true mean.\n",
    "- The variance of the imputed dataset is smaller than the variance of the full dataset.\n",
    "    - Mean imputation tricks you into thinking your data are more reliable than they are!"
   ]
  },
  {
   "cell_type": "markdown",
   "id": "51e5d9ec",
   "metadata": {
    "slideshow": {
     "slide_type": "slide"
    }
   },
   "source": [
    "### Example: Mean imputation in the MAR `heights` dataset\n",
    "\n",
    "- When data are MAR, mean imputation leads to biased estimates of the mean across groups.\n",
    "- The bias may be different in different groups.\n",
    "    - For example: If the missingness depends on gender, then different genders will have differently-biased means.\n",
    "    - The overall mean will be biased towards one group."
   ]
  },
  {
   "cell_type": "code",
   "execution_count": 26,
   "id": "8ad38222",
   "metadata": {},
   "outputs": [
    {
     "data": {
      "text/plain": [
       "0     NaN\n",
       "1    69.2\n",
       "2    69.0\n",
       "3    69.0\n",
       "4     NaN\n",
       "Name: child, dtype: float64"
      ]
     },
     "execution_count": 26,
     "metadata": {},
     "output_type": "execute_result"
    }
   ],
   "source": [
    "np.random.seed(42) # So that we get the same results each time (for lecture)\n",
    "heights_mar_cat = util.make_mar_on_cat(heights, 'child', 'gender', pct=0.50)\n",
    "heights_mar_cat['child'].head()"
   ]
  },
  {
   "cell_type": "markdown",
   "id": "48f99d1e",
   "metadata": {},
   "source": [
    "Again, let's look at two distributions:\n",
    "- The distribution of **all `'child'` heights**.\n",
    "- The distribution of the **`'child'` heights that have MAR values**."
   ]
  },
  {
   "cell_type": "code",
   "execution_count": 27,
   "id": "2441ef47",
   "metadata": {},
   "outputs": [
    {
     "data": {
      "image/png": "[encoded data removed]",
      "text/plain": [
       "<Figure size 1000x500 with 1 Axes>"
      ]
     },
     "metadata": {},
     "output_type": "display_data"
    }
   ],
   "source": [
    "# The observed vs true distribution\n",
    "plt.hist([heights['child'], heights_mar_cat['child']])\n",
    "plt.legend(['full data', 'missing (mar)']);"
   ]
  },
  {
   "cell_type": "markdown",
   "id": "7ee1245b",
   "metadata": {},
   "source": [
    "- Let's impute with the mean."
   ]
  },
  {
   "cell_type": "code",
   "execution_count": 28,
   "id": "4f4f8514",
   "metadata": {},
   "outputs": [
    {
     "data": {
      "text/html": [
       "<div>\n",
       "<style scoped>\n",
       "    .dataframe tbody tr th:only-of-type {\n",
       "        vertical-align: middle;\n",
       "    }\n",
       "\n",
       "    .dataframe tbody tr th {\n",
       "        vertical-align: top;\n",
       "    }\n",
       "\n",
       "    .dataframe thead th {\n",
       "        text-align: right;\n",
       "    }\n",
       "</style>\n",
       "<table border=\"1\" class=\"dataframe\">\n",
       "  <thead>\n",
       "    <tr style=\"text-align: right;\">\n",
       "      <th></th>\n",
       "      <th>family</th>\n",
       "      <th>father</th>\n",
       "      <th>mother</th>\n",
       "      <th>children</th>\n",
       "      <th>number</th>\n",
       "      <th>gender</th>\n",
       "      <th>child</th>\n",
       "    </tr>\n",
       "  </thead>\n",
       "  <tbody>\n",
       "    <tr>\n",
       "      <th>0</th>\n",
       "      <td>1</td>\n",
       "      <td>78.5</td>\n",
       "      <td>67.0</td>\n",
       "      <td>4</td>\n",
       "      <td>1</td>\n",
       "      <td>male</td>\n",
       "      <td>64.999358</td>\n",
       "    </tr>\n",
       "    <tr>\n",
       "      <th>1</th>\n",
       "      <td>1</td>\n",
       "      <td>78.5</td>\n",
       "      <td>67.0</td>\n",
       "      <td>4</td>\n",
       "      <td>2</td>\n",
       "      <td>female</td>\n",
       "      <td>69.200000</td>\n",
       "    </tr>\n",
       "    <tr>\n",
       "      <th>2</th>\n",
       "      <td>1</td>\n",
       "      <td>78.5</td>\n",
       "      <td>67.0</td>\n",
       "      <td>4</td>\n",
       "      <td>3</td>\n",
       "      <td>female</td>\n",
       "      <td>69.000000</td>\n",
       "    </tr>\n",
       "    <tr>\n",
       "      <th>3</th>\n",
       "      <td>1</td>\n",
       "      <td>78.5</td>\n",
       "      <td>67.0</td>\n",
       "      <td>4</td>\n",
       "      <td>4</td>\n",
       "      <td>female</td>\n",
       "      <td>69.000000</td>\n",
       "    </tr>\n",
       "    <tr>\n",
       "      <th>4</th>\n",
       "      <td>2</td>\n",
       "      <td>75.5</td>\n",
       "      <td>66.5</td>\n",
       "      <td>4</td>\n",
       "      <td>1</td>\n",
       "      <td>male</td>\n",
       "      <td>64.999358</td>\n",
       "    </tr>\n",
       "    <tr>\n",
       "      <th>...</th>\n",
       "      <td>...</td>\n",
       "      <td>...</td>\n",
       "      <td>...</td>\n",
       "      <td>...</td>\n",
       "      <td>...</td>\n",
       "      <td>...</td>\n",
       "      <td>...</td>\n",
       "    </tr>\n",
       "    <tr>\n",
       "      <th>929</th>\n",
       "      <td>203</td>\n",
       "      <td>62.0</td>\n",
       "      <td>66.0</td>\n",
       "      <td>3</td>\n",
       "      <td>1</td>\n",
       "      <td>male</td>\n",
       "      <td>64.999358</td>\n",
       "    </tr>\n",
       "    <tr>\n",
       "      <th>930</th>\n",
       "      <td>203</td>\n",
       "      <td>62.0</td>\n",
       "      <td>66.0</td>\n",
       "      <td>3</td>\n",
       "      <td>2</td>\n",
       "      <td>female</td>\n",
       "      <td>62.000000</td>\n",
       "    </tr>\n",
       "    <tr>\n",
       "      <th>931</th>\n",
       "      <td>203</td>\n",
       "      <td>62.0</td>\n",
       "      <td>66.0</td>\n",
       "      <td>3</td>\n",
       "      <td>3</td>\n",
       "      <td>female</td>\n",
       "      <td>64.999358</td>\n",
       "    </tr>\n",
       "    <tr>\n",
       "      <th>932</th>\n",
       "      <td>204</td>\n",
       "      <td>62.5</td>\n",
       "      <td>63.0</td>\n",
       "      <td>2</td>\n",
       "      <td>1</td>\n",
       "      <td>male</td>\n",
       "      <td>64.999358</td>\n",
       "    </tr>\n",
       "    <tr>\n",
       "      <th>933</th>\n",
       "      <td>204</td>\n",
       "      <td>62.5</td>\n",
       "      <td>63.0</td>\n",
       "      <td>2</td>\n",
       "      <td>2</td>\n",
       "      <td>female</td>\n",
       "      <td>57.000000</td>\n",
       "    </tr>\n",
       "  </tbody>\n",
       "</table>\n",
       "<p>934 rows × 7 columns</p>\n",
       "</div>"
      ],
      "text/plain": [
       "    family  father  mother  children  number  gender      child\n",
       "0        1    78.5    67.0         4       1    male  64.999358\n",
       "1        1    78.5    67.0         4       2  female  69.200000\n",
       "2        1    78.5    67.0         4       3  female  69.000000\n",
       "3        1    78.5    67.0         4       4  female  69.000000\n",
       "4        2    75.5    66.5         4       1    male  64.999358\n",
       "..     ...     ...     ...       ...     ...     ...        ...\n",
       "929    203    62.0    66.0         3       1    male  64.999358\n",
       "930    203    62.0    66.0         3       2  female  62.000000\n",
       "931    203    62.0    66.0         3       3  female  64.999358\n",
       "932    204    62.5    63.0         2       1    male  64.999358\n",
       "933    204    62.5    63.0         2       2  female  57.000000\n",
       "\n",
       "[934 rows x 7 columns]"
      ]
     },
     "execution_count": 28,
     "metadata": {},
     "output_type": "execute_result"
    }
   ],
   "source": [
    "heights_mar_cat_mfilled = heights_mar_cat.fillna(heights_mar_cat['child'].mean())\n",
    "heights_mar_cat_mfilled"
   ]
  },
  {
   "cell_type": "markdown",
   "id": "67639ae3",
   "metadata": {},
   "source": [
    "- Note that the latter two means are biased **low**."
   ]
  },
  {
   "cell_type": "code",
   "execution_count": 29,
   "id": "9f373715",
   "metadata": {},
   "outputs": [
    {
     "name": "stdout",
     "output_type": "stream",
     "text": [
      "mean (original): 66.745931\n",
      "mean (missing):  64.999358\n",
      "mean (mean imp): 64.999358\n"
     ]
    }
   ],
   "source": [
    "print(\n",
    "    'mean (original): %f' % heights['child'].mean(),\n",
    "    'mean (missing):  %f' % heights_mar_cat['child'].mean(),\n",
    "    'mean (mean imp): %f' % heights_mar_cat_mfilled['child'].mean(),\n",
    "    sep='\\n'\n",
    ")"
   ]
  },
  {
   "cell_type": "code",
   "execution_count": 30,
   "id": "707c40bd",
   "metadata": {},
   "outputs": [
    {
     "name": "stdout",
     "output_type": "stream",
     "text": [
      "std (original): 3.579251\n",
      "std (missing):  3.166655\n",
      "std (mean imp): 2.237963\n"
     ]
    }
   ],
   "source": [
    "print(\n",
    "    'std (original): %f' % heights.child.std(),\n",
    "    'std (missing):  %f' % heights_mar_cat.child.std(),\n",
    "    'std (mean imp): %f' % heights_mar_cat_mfilled.child.std(),\n",
    "    sep='\\n'\n",
    ")"
   ]
  },
  {
   "cell_type": "code",
   "execution_count": 31,
   "id": "13855f40",
   "metadata": {},
   "outputs": [
    {
     "data": {
      "image/png": "[encoded data removed]",
      "text/plain": [
       "<Figure size 1000x500 with 1 Axes>"
      ]
     },
     "metadata": {},
     "output_type": "display_data"
    }
   ],
   "source": [
    "plt.hist([heights['child'], heights_mar_cat['child'], heights_mar_cat_mfilled['child']]);\n",
    "plt.legend(['full data', 'missing (mar)', 'imputed']);"
   ]
  },
  {
   "cell_type": "markdown",
   "id": "58485665",
   "metadata": {},
   "source": [
    "- Since the sample with MAR values was already biased low, mean imputation kept the sample biased – it did not bring the data **closer to the data generating process**."
   ]
  },
  {
   "cell_type": "markdown",
   "id": "b7a15f26",
   "metadata": {
    "slideshow": {
     "slide_type": "slide"
    }
   },
   "source": [
    "### Within-group (conditional) mean imputation\n",
    "\n",
    "\n",
    "* **Improvement:** Since MAR data are MCAR within each group, we can perform group-wise mean imputation.\n",
    "    - In our case, since the missingness of `'child'` is dependent on `'gender'`, we can impute separately for each `'gender'`.\n",
    "    - For instance, if there is a missing `'child'` height for a `'female'` child, impute their height with the mean observed `'female'` height.\n",
    "- With this technique, the overall mean remains unbiased, as do the within-group means.\n",
    "- Like single mean imputation, the variance of the dataset is reduced."
   ]
  },
  {
   "cell_type": "code",
   "execution_count": 32,
   "id": "ad362280",
   "metadata": {},
   "outputs": [
    {
     "data": {
      "text/html": [
       "<div>\n",
       "<style scoped>\n",
       "    .dataframe tbody tr th:only-of-type {\n",
       "        vertical-align: middle;\n",
       "    }\n",
       "\n",
       "    .dataframe tbody tr th {\n",
       "        vertical-align: top;\n",
       "    }\n",
       "\n",
       "    .dataframe thead th {\n",
       "        text-align: right;\n",
       "    }\n",
       "</style>\n",
       "<table border=\"1\" class=\"dataframe\">\n",
       "  <thead>\n",
       "    <tr style=\"text-align: right;\">\n",
       "      <th></th>\n",
       "      <th>full</th>\n",
       "      <th>missing (mar)</th>\n",
       "      <th>naively imputed</th>\n",
       "    </tr>\n",
       "    <tr>\n",
       "      <th>gender</th>\n",
       "      <th></th>\n",
       "      <th></th>\n",
       "      <th></th>\n",
       "    </tr>\n",
       "  </thead>\n",
       "  <tbody>\n",
       "    <tr>\n",
       "      <th>female</th>\n",
       "      <td>64.103974</td>\n",
       "      <td>64.011024</td>\n",
       "      <td>64.168110</td>\n",
       "    </tr>\n",
       "    <tr>\n",
       "      <th>male</th>\n",
       "      <td>69.234096</td>\n",
       "      <td>69.377907</td>\n",
       "      <td>65.782217</td>\n",
       "    </tr>\n",
       "  </tbody>\n",
       "</table>\n",
       "</div>"
      ],
      "text/plain": [
       "             full  missing (mar)  naively imputed\n",
       "gender                                           \n",
       "female  64.103974      64.011024        64.168110\n",
       "male    69.234096      69.377907        65.782217"
      ]
     },
     "execution_count": 32,
     "metadata": {},
     "output_type": "execute_result"
    }
   ],
   "source": [
    "pd.concat([\n",
    "    heights.groupby('gender')['child'].mean().rename('full'),\n",
    "    heights_mar_cat.groupby('gender')['child'].mean().rename('missing (mar)'),\n",
    "    heights_mar_cat_mfilled.groupby('gender')['child'].mean().rename('naively imputed')\n",
    "], axis=1)"
   ]
  },
  {
   "cell_type": "markdown",
   "id": "6f35d936",
   "metadata": {},
   "source": [
    "Note that with our single mean imputation strategy, the resulting male mean height is biased quite low."
   ]
  },
  {
   "cell_type": "markdown",
   "id": "97a350ff",
   "metadata": {
    "slideshow": {
     "slide_type": "slide"
    }
   },
   "source": [
    "### Discussion Question\n",
    "\n",
    "- In MAR data, imputation by the overall mean gives a biased estimate of the mean of each group. \n",
    "- To obtain an unbiased estimate of the mean within each group, impute using the mean within each group.\n",
    "- How do we implement this?\n",
    "    - Remember, our setting is that `'child'` heights are MAR dependent on `'gender'`.\n",
    "    - Remember that unconditional mean imputation is implemented with `heights['child'].fillna(heights['child'].mean())`."
   ]
  },
  {
   "cell_type": "code",
   "execution_count": 33,
   "id": "d887b838",
   "metadata": {},
   "outputs": [
    {
     "data": {
      "text/plain": [
       "0      69.377907\n",
       "1      69.200000\n",
       "2      69.000000\n",
       "3      69.000000\n",
       "4      69.377907\n",
       "         ...    \n",
       "929    69.377907\n",
       "930    62.000000\n",
       "931    64.011024\n",
       "932    69.377907\n",
       "933    57.000000\n",
       "Name: child, Length: 934, dtype: float64"
      ]
     },
     "execution_count": 33,
     "metadata": {},
     "output_type": "execute_result"
    }
   ],
   "source": [
    "def mean_impute(ser):\n",
    "    return ser.fillna(ser.mean())\n",
    "\n",
    "heights_mar_cat.groupby('gender')['child'].transform(mean_impute)"
   ]
  },
  {
   "cell_type": "markdown",
   "id": "a93fd8b4",
   "metadata": {
    "slideshow": {
     "slide_type": "slide"
    }
   },
   "source": [
    "### Conclusion: Imputation with single values\n",
    "* Imputing missing data in a column with the mean of the column:\n",
    "    - faithfully reproduces the mean of the observed dataset,\n",
    "    - reduces the variance, and\n",
    "    - biases relationships between the column and other columns if the data are not MCAR.\n",
    "    \n",
    "* The same is true with other statistics (e.g. median and mode)."
   ]
  },
  {
   "cell_type": "markdown",
   "id": "cbfb1a27",
   "metadata": {
    "slideshow": {
     "slide_type": "slide"
    }
   },
   "source": [
    "### Discussion Question\n",
    "\n",
    "* The US Census asks individuals for their salaries, and some individuals don't respond. \n",
    "* Suppose we impute missing salaries with the mean overall salary.\n",
    "* Is there more bias in:\n",
    "    - (low-paying) service jobs or \n",
    "    - (high-paying) executive jobs?\n",
    "    \n",
    "***Hint:*** What does the distribution of incomes look like? Where is the mean/median?"
   ]
  },
  {
   "cell_type": "markdown",
   "id": "cc8fc775",
   "metadata": {
    "slideshow": {
     "slide_type": "slide"
    }
   },
   "source": [
    "## Probabilistic imputation"
   ]
  },
  {
   "cell_type": "markdown",
   "id": "a4a20c95",
   "metadata": {
    "slideshow": {
     "slide_type": "slide"
    }
   },
   "source": [
    "### Imputing missing values using distributions\n",
    "- So far, each missing value in a column has been filled in with a constant value.\n",
    "    - This creates \"spikes\" in the imputed distributions.\n",
    "- **Idea:**We can **probabilistically** impute missing data from a distribution.\n",
    "    - We can fill in missing data by drawing from the distribution of the ***non-missing** data.\n",
    "    - There are 5 missing values? Pick 5 values from the data that aren't missing.\n",
    "     - How? Using `.sample`."
   ]
  },
  {
   "cell_type": "markdown",
   "id": "22747ff4",
   "metadata": {
    "slideshow": {
     "slide_type": "slide"
    }
   },
   "source": [
    "### Example: Probabilistic imputation in the MCAR `heights` dataset\n",
    "\n",
    "Steps:\n",
    "1. Figure out the number of missing values.\n",
    "2. Sample that number of values from the observed dataset.\n",
    "3. Fill in the missing values with the sample from Step 2."
   ]
  },
  {
   "cell_type": "markdown",
   "id": "c66ca345",
   "metadata": {
    "slideshow": {
     "slide_type": "fragment"
    }
   },
   "source": [
    "Step 1: Figure out the number of missing values."
   ]
  },
  {
   "cell_type": "code",
   "execution_count": 34,
   "id": "a7bb9039",
   "metadata": {},
   "outputs": [
    {
     "data": {
      "text/plain": [
       "467"
      ]
     },
     "execution_count": 34,
     "metadata": {},
     "output_type": "execute_result"
    }
   ],
   "source": [
    "num_null = heights_mcar['child'].isna().sum()\n",
    "num_null"
   ]
  },
  {
   "cell_type": "markdown",
   "id": "02958f48",
   "metadata": {
    "slideshow": {
     "slide_type": "fragment"
    }
   },
   "source": [
    "Step 2: Sample that number of values from the observed dataset."
   ]
  },
  {
   "cell_type": "code",
   "execution_count": 35,
   "id": "4e6dc693",
   "metadata": {
    "slideshow": {
     "slide_type": "skip"
    }
   },
   "outputs": [
    {
     "data": {
      "text/plain": [
       "253    73.0\n",
       "640    66.0\n",
       "50     70.5\n",
       "288    67.0\n",
       "27     64.0\n",
       "       ... \n",
       "655    73.5\n",
       "855    61.0\n",
       "930    62.0\n",
       "16     69.0\n",
       "691    64.0\n",
       "Name: child, Length: 467, dtype: float64"
      ]
     },
     "execution_count": 35,
     "metadata": {},
     "output_type": "execute_result"
    }
   ],
   "source": [
    "fill_values = heights_mcar.child.dropna().sample(num_null, replace=True)\n",
    "fill_values"
   ]
  },
  {
   "cell_type": "markdown",
   "id": "78e4b503",
   "metadata": {},
   "source": [
    "Step 3: Fill in the missing values with the sample from Step 2."
   ]
  },
  {
   "cell_type": "code",
   "execution_count": 36,
   "id": "cee51e50",
   "metadata": {},
   "outputs": [],
   "source": [
    "# Find the positions where values in heights_mcar are missing\n",
    "fill_values.index = heights_mcar.loc[heights_mcar['child'].isna()].index\n",
    "\n",
    "# Fill in the missing values\n",
    "heights_mcar_dfilled = heights_mcar.fillna({'child': fill_values.to_dict()})  # fill the vals"
   ]
  },
  {
   "cell_type": "markdown",
   "id": "b200f25e",
   "metadata": {
    "slideshow": {
     "slide_type": "slide"
    }
   },
   "source": [
    "Let's look at the results."
   ]
  },
  {
   "cell_type": "code",
   "execution_count": 37,
   "id": "ffdcfa23",
   "metadata": {},
   "outputs": [
    {
     "name": "stdout",
     "output_type": "stream",
     "text": [
      "mean (original):  66.745931\n",
      "mean (missing):   66.640685\n",
      "mean (distr imp): 66.659529\n"
     ]
    }
   ],
   "source": [
    "print(\n",
    "    'mean (original):  %f' % heights['child'].mean(),\n",
    "    'mean (missing):   %f' % heights_mcar['child'].mean(),\n",
    "    'mean (distr imp): %f' % heights_mcar_dfilled['child'].mean(),\n",
    "    sep='\\n'\n",
    ")"
   ]
  },
  {
   "cell_type": "code",
   "execution_count": 38,
   "id": "a5852292",
   "metadata": {},
   "outputs": [
    {
     "name": "stdout",
     "output_type": "stream",
     "text": [
      "std (original):  3.579251\n",
      "std (missing):   3.563299\n",
      "std (distr imp): 3.501084\n"
     ]
    }
   ],
   "source": [
    "print(\n",
    "    'std (original):  %f' % heights['child'].std(),\n",
    "    'std (missing):   %f' % heights_mcar['child'].std(),\n",
    "    'std (distr imp): %f' % heights_mcar_dfilled['child'].std(),\n",
    "    sep='\\n'\n",
    ")"
   ]
  },
  {
   "cell_type": "markdown",
   "id": "503ba254",
   "metadata": {},
   "source": [
    "Variance is preserved!"
   ]
  },
  {
   "cell_type": "code",
   "execution_count": 39,
   "id": "f9e9b586",
   "metadata": {
    "scrolled": false,
    "slideshow": {
     "slide_type": "slide"
    }
   },
   "outputs": [
    {
     "data": {
      "image/png": "[encoded data removed]",
      "text/plain": [
       "<Figure size 1000x500 with 1 Axes>"
      ]
     },
     "metadata": {},
     "output_type": "display_data"
    }
   ],
   "source": [
    "plt.hist([heights['child'], heights_mcar['child'], heights_mcar_dfilled['child']], density=True);\n",
    "plt.legend(['full data','missing (mcar)', 'distr imputed']);"
   ]
  },
  {
   "cell_type": "markdown",
   "id": "84c714d8",
   "metadata": {},
   "source": [
    "No spikes!"
   ]
  },
  {
   "cell_type": "markdown",
   "id": "1740750a",
   "metadata": {
    "slideshow": {
     "slide_type": "slide"
    }
   },
   "source": [
    "### Observations\n",
    "\n",
    "- With this technique, the missing values were filled in with observed values in the dataset.\n",
    "- If a value was never observed in the dataset, it will never be used to fill in a missing value.\n",
    "    - For instance, if the observed heights were 68, 69, and 69.5 inches, we will never fill a missing value with 68.5 inches even though it's a perfectly reasonable height.\n",
    "    \n",
    "- Solution? Create a histogram (with `np.histogram`) to bin the data, then sample from the histogram.\n",
    "    - See Lab 5, Question 4.\n",
    "\n",
    "- **Question:** How would we generalize this process for MAR data?"
   ]
  },
  {
   "cell_type": "markdown",
   "id": "c5ae3454",
   "metadata": {
    "slideshow": {
     "slide_type": "slide"
    }
   },
   "source": [
    "### Randomness\n",
    "\n",
    "- Unlike mean imputation, probabilistic imputation is **random** – each time you run the cell in which imputation is performed, the results could be different.\n",
    "- **Multiple imputation**: Generate multiple imputed datasets and aggregate the results!\n",
    "    - Similar to bootstrapping."
   ]
  },
  {
   "cell_type": "markdown",
   "id": "bae324ce",
   "metadata": {
    "slideshow": {
     "slide_type": "slide"
    }
   },
   "source": [
    "### Multiple imputation\n",
    "\n",
    "Steps:\n",
    "\n",
    "0. Start with observed and incomplete data. \n",
    "1. Create several **imputed** versions of the data through a probabilistic procedure.\n",
    "    - The imputed datasets are identical for the observed data entries.\n",
    "    - They differ in the imputed values. \n",
    "    - The differences reflect our **uncertainty** about what value to impute.\n",
    "\n",
    "2. Then, estimate the parameters of interest for **each** imputed dataset.\n",
    "    - For instance, the mean, standard deviation, median, etc.\n",
    "3. Finally, pool the m parameter estimates into one estimate."
   ]
  },
  {
   "cell_type": "markdown",
   "id": "cf9ae04d",
   "metadata": {
    "slideshow": {
     "slide_type": "slide"
    }
   },
   "source": [
    "Let's try this procedure out on the `heights_mcar` dataset."
   ]
  },
  {
   "cell_type": "code",
   "execution_count": 40,
   "id": "5d281a0f",
   "metadata": {},
   "outputs": [
    {
     "data": {
      "text/html": [
       "<div>\n",
       "<style scoped>\n",
       "    .dataframe tbody tr th:only-of-type {\n",
       "        vertical-align: middle;\n",
       "    }\n",
       "\n",
       "    .dataframe tbody tr th {\n",
       "        vertical-align: top;\n",
       "    }\n",
       "\n",
       "    .dataframe thead th {\n",
       "        text-align: right;\n",
       "    }\n",
       "</style>\n",
       "<table border=\"1\" class=\"dataframe\">\n",
       "  <thead>\n",
       "    <tr style=\"text-align: right;\">\n",
       "      <th></th>\n",
       "      <th>family</th>\n",
       "      <th>father</th>\n",
       "      <th>mother</th>\n",
       "      <th>children</th>\n",
       "      <th>number</th>\n",
       "      <th>gender</th>\n",
       "      <th>child</th>\n",
       "    </tr>\n",
       "  </thead>\n",
       "  <tbody>\n",
       "    <tr>\n",
       "      <th>0</th>\n",
       "      <td>1</td>\n",
       "      <td>78.5</td>\n",
       "      <td>67.0</td>\n",
       "      <td>4</td>\n",
       "      <td>1</td>\n",
       "      <td>male</td>\n",
       "      <td>73.2</td>\n",
       "    </tr>\n",
       "    <tr>\n",
       "      <th>1</th>\n",
       "      <td>1</td>\n",
       "      <td>78.5</td>\n",
       "      <td>67.0</td>\n",
       "      <td>4</td>\n",
       "      <td>2</td>\n",
       "      <td>female</td>\n",
       "      <td>69.2</td>\n",
       "    </tr>\n",
       "    <tr>\n",
       "      <th>2</th>\n",
       "      <td>1</td>\n",
       "      <td>78.5</td>\n",
       "      <td>67.0</td>\n",
       "      <td>4</td>\n",
       "      <td>3</td>\n",
       "      <td>female</td>\n",
       "      <td>NaN</td>\n",
       "    </tr>\n",
       "    <tr>\n",
       "      <th>3</th>\n",
       "      <td>1</td>\n",
       "      <td>78.5</td>\n",
       "      <td>67.0</td>\n",
       "      <td>4</td>\n",
       "      <td>4</td>\n",
       "      <td>female</td>\n",
       "      <td>NaN</td>\n",
       "    </tr>\n",
       "    <tr>\n",
       "      <th>4</th>\n",
       "      <td>2</td>\n",
       "      <td>75.5</td>\n",
       "      <td>66.5</td>\n",
       "      <td>4</td>\n",
       "      <td>1</td>\n",
       "      <td>male</td>\n",
       "      <td>73.5</td>\n",
       "    </tr>\n",
       "  </tbody>\n",
       "</table>\n",
       "</div>"
      ],
      "text/plain": [
       "  family  father  mother  children  number  gender  child\n",
       "0      1    78.5    67.0         4       1    male   73.2\n",
       "1      1    78.5    67.0         4       2  female   69.2\n",
       "2      1    78.5    67.0         4       3  female    NaN\n",
       "3      1    78.5    67.0         4       4  female    NaN\n",
       "4      2    75.5    66.5         4       1    male   73.5"
      ]
     },
     "execution_count": 40,
     "metadata": {},
     "output_type": "execute_result"
    }
   ],
   "source": [
    "heights_mcar.head()"
   ]
  },
  {
   "cell_type": "code",
   "execution_count": 41,
   "id": "f8dab219",
   "metadata": {},
   "outputs": [],
   "source": [
    "# This function implements the 3-step process we studied earlier\n",
    "def create_imputed(col):\n",
    "    num_null = col.isna().sum()\n",
    "    fill_values = col.dropna().sample(num_null, replace=True)\n",
    "    fill_values.index = col.loc[col.isna()].index\n",
    "    return col.fillna(fill_values.to_dict())"
   ]
  },
  {
   "cell_type": "markdown",
   "id": "47e3e7aa",
   "metadata": {},
   "source": [
    "Each time we run the following cell, it generates a new imputed version of the `'child'` column."
   ]
  },
  {
   "cell_type": "code",
   "execution_count": 42,
   "id": "07e23ec6",
   "metadata": {},
   "outputs": [
    {
     "data": {
      "text/plain": [
       "0    73.2\n",
       "1    69.2\n",
       "2    62.0\n",
       "3    65.0\n",
       "4    73.5\n",
       "Name: child, dtype: float64"
      ]
     },
     "execution_count": 42,
     "metadata": {},
     "output_type": "execute_result"
    }
   ],
   "source": [
    "create_imputed(heights_mcar['child']).head()"
   ]
  },
  {
   "cell_type": "markdown",
   "id": "ce6d30fa",
   "metadata": {},
   "source": [
    "Let's run the above procedure 100 times."
   ]
  },
  {
   "cell_type": "code",
   "execution_count": 43,
   "id": "325c8f37",
   "metadata": {},
   "outputs": [
    {
     "data": {
      "text/html": [
       "<div>\n",
       "<style scoped>\n",
       "    .dataframe tbody tr th:only-of-type {\n",
       "        vertical-align: middle;\n",
       "    }\n",
       "\n",
       "    .dataframe tbody tr th {\n",
       "        vertical-align: top;\n",
       "    }\n",
       "\n",
       "    .dataframe thead th {\n",
       "        text-align: right;\n",
       "    }\n",
       "</style>\n",
       "<table border=\"1\" class=\"dataframe\">\n",
       "  <thead>\n",
       "    <tr style=\"text-align: right;\">\n",
       "      <th></th>\n",
       "      <th>0</th>\n",
       "      <th>1</th>\n",
       "      <th>2</th>\n",
       "      <th>3</th>\n",
       "      <th>4</th>\n",
       "      <th>5</th>\n",
       "      <th>6</th>\n",
       "      <th>7</th>\n",
       "      <th>8</th>\n",
       "      <th>9</th>\n",
       "      <th>...</th>\n",
       "      <th>90</th>\n",
       "      <th>91</th>\n",
       "      <th>92</th>\n",
       "      <th>93</th>\n",
       "      <th>94</th>\n",
       "      <th>95</th>\n",
       "      <th>96</th>\n",
       "      <th>97</th>\n",
       "      <th>98</th>\n",
       "      <th>99</th>\n",
       "    </tr>\n",
       "  </thead>\n",
       "  <tbody>\n",
       "    <tr>\n",
       "      <th>0</th>\n",
       "      <td>73.2</td>\n",
       "      <td>73.2</td>\n",
       "      <td>73.2</td>\n",
       "      <td>73.2</td>\n",
       "      <td>73.2</td>\n",
       "      <td>73.2</td>\n",
       "      <td>73.2</td>\n",
       "      <td>73.2</td>\n",
       "      <td>73.2</td>\n",
       "      <td>73.2</td>\n",
       "      <td>...</td>\n",
       "      <td>73.2</td>\n",
       "      <td>73.2</td>\n",
       "      <td>73.2</td>\n",
       "      <td>73.2</td>\n",
       "      <td>73.2</td>\n",
       "      <td>73.2</td>\n",
       "      <td>73.2</td>\n",
       "      <td>73.2</td>\n",
       "      <td>73.2</td>\n",
       "      <td>73.2</td>\n",
       "    </tr>\n",
       "    <tr>\n",
       "      <th>1</th>\n",
       "      <td>69.2</td>\n",
       "      <td>69.2</td>\n",
       "      <td>69.2</td>\n",
       "      <td>69.2</td>\n",
       "      <td>69.2</td>\n",
       "      <td>69.2</td>\n",
       "      <td>69.2</td>\n",
       "      <td>69.2</td>\n",
       "      <td>69.2</td>\n",
       "      <td>69.2</td>\n",
       "      <td>...</td>\n",
       "      <td>69.2</td>\n",
       "      <td>69.2</td>\n",
       "      <td>69.2</td>\n",
       "      <td>69.2</td>\n",
       "      <td>69.2</td>\n",
       "      <td>69.2</td>\n",
       "      <td>69.2</td>\n",
       "      <td>69.2</td>\n",
       "      <td>69.2</td>\n",
       "      <td>69.2</td>\n",
       "    </tr>\n",
       "    <tr>\n",
       "      <th>2</th>\n",
       "      <td>66.0</td>\n",
       "      <td>68.0</td>\n",
       "      <td>65.0</td>\n",
       "      <td>63.0</td>\n",
       "      <td>70.0</td>\n",
       "      <td>68.5</td>\n",
       "      <td>74.0</td>\n",
       "      <td>70.0</td>\n",
       "      <td>71.0</td>\n",
       "      <td>69.0</td>\n",
       "      <td>...</td>\n",
       "      <td>68.7</td>\n",
       "      <td>68.0</td>\n",
       "      <td>70.0</td>\n",
       "      <td>62.0</td>\n",
       "      <td>65.0</td>\n",
       "      <td>67.0</td>\n",
       "      <td>65.5</td>\n",
       "      <td>71.0</td>\n",
       "      <td>70.2</td>\n",
       "      <td>72.7</td>\n",
       "    </tr>\n",
       "    <tr>\n",
       "      <th>3</th>\n",
       "      <td>70.5</td>\n",
       "      <td>64.0</td>\n",
       "      <td>62.0</td>\n",
       "      <td>70.0</td>\n",
       "      <td>69.0</td>\n",
       "      <td>63.0</td>\n",
       "      <td>64.5</td>\n",
       "      <td>63.0</td>\n",
       "      <td>64.5</td>\n",
       "      <td>66.5</td>\n",
       "      <td>...</td>\n",
       "      <td>72.0</td>\n",
       "      <td>67.0</td>\n",
       "      <td>69.0</td>\n",
       "      <td>60.0</td>\n",
       "      <td>65.0</td>\n",
       "      <td>66.0</td>\n",
       "      <td>73.0</td>\n",
       "      <td>72.0</td>\n",
       "      <td>60.0</td>\n",
       "      <td>64.0</td>\n",
       "    </tr>\n",
       "    <tr>\n",
       "      <th>4</th>\n",
       "      <td>73.5</td>\n",
       "      <td>73.5</td>\n",
       "      <td>73.5</td>\n",
       "      <td>73.5</td>\n",
       "      <td>73.5</td>\n",
       "      <td>73.5</td>\n",
       "      <td>73.5</td>\n",
       "      <td>73.5</td>\n",
       "      <td>73.5</td>\n",
       "      <td>73.5</td>\n",
       "      <td>...</td>\n",
       "      <td>73.5</td>\n",
       "      <td>73.5</td>\n",
       "      <td>73.5</td>\n",
       "      <td>73.5</td>\n",
       "      <td>73.5</td>\n",
       "      <td>73.5</td>\n",
       "      <td>73.5</td>\n",
       "      <td>73.5</td>\n",
       "      <td>73.5</td>\n",
       "      <td>73.5</td>\n",
       "    </tr>\n",
       "  </tbody>\n",
       "</table>\n",
       "<p>5 rows × 100 columns</p>\n",
       "</div>"
      ],
      "text/plain": [
       "     0     1     2     3     4     5     6     7     8     9   ...    90  \\\n",
       "0  73.2  73.2  73.2  73.2  73.2  73.2  73.2  73.2  73.2  73.2  ...  73.2   \n",
       "1  69.2  69.2  69.2  69.2  69.2  69.2  69.2  69.2  69.2  69.2  ...  69.2   \n",
       "2  66.0  68.0  65.0  63.0  70.0  68.5  74.0  70.0  71.0  69.0  ...  68.7   \n",
       "3  70.5  64.0  62.0  70.0  69.0  63.0  64.5  63.0  64.5  66.5  ...  72.0   \n",
       "4  73.5  73.5  73.5  73.5  73.5  73.5  73.5  73.5  73.5  73.5  ...  73.5   \n",
       "\n",
       "     91    92    93    94    95    96    97    98    99  \n",
       "0  73.2  73.2  73.2  73.2  73.2  73.2  73.2  73.2  73.2  \n",
       "1  69.2  69.2  69.2  69.2  69.2  69.2  69.2  69.2  69.2  \n",
       "2  68.0  70.0  62.0  65.0  67.0  65.5  71.0  70.2  72.7  \n",
       "3  67.0  69.0  60.0  65.0  66.0  73.0  72.0  60.0  64.0  \n",
       "4  73.5  73.5  73.5  73.5  73.5  73.5  73.5  73.5  73.5  \n",
       "\n",
       "[5 rows x 100 columns]"
      ]
     },
     "execution_count": 43,
     "metadata": {},
     "output_type": "execute_result"
    }
   ],
   "source": [
    "mult_imp = pd.concat([create_imputed(heights_mcar['child']).rename(k) for k in range(100)], axis=1)\n",
    "mult_imp.head()"
   ]
  },
  {
   "cell_type": "markdown",
   "id": "1c2902b4",
   "metadata": {},
   "source": [
    "Let's plot some of the imputed columns above."
   ]
  },
  {
   "cell_type": "code",
   "execution_count": 44,
   "id": "a4df97c5",
   "metadata": {},
   "outputs": [
    {
     "data": {
      "image/png": "[encoded data removed]",
      "text/plain": [
       "<Figure size 1000x500 with 1 Axes>"
      ]
     },
     "metadata": {},
     "output_type": "display_data"
    }
   ],
   "source": [
    "# Random sample of 15 imputed columns\n",
    "mult_imp.sample(15, axis=1).plot(kind='kde', alpha=0.5, legend=False);"
   ]
  },
  {
   "cell_type": "markdown",
   "id": "a40a5bb9",
   "metadata": {},
   "source": [
    "Let's look at the distribution of means across the imputed columns."
   ]
  },
  {
   "cell_type": "code",
   "execution_count": 45,
   "id": "d93103e7",
   "metadata": {},
   "outputs": [
    {
     "data": {
      "image/png": "[encoded data removed]",
      "text/plain": [
       "<Figure size 1000x500 with 1 Axes>"
      ]
     },
     "metadata": {},
     "output_type": "display_data"
    }
   ],
   "source": [
    "mult_imp.mean().plot(kind='hist', bins=20, ec='w', density=True);"
   ]
  },
  {
   "cell_type": "markdown",
   "id": "dddf9dab",
   "metadata": {
    "slideshow": {
     "slide_type": "slide"
    }
   },
   "source": [
    "## Summary"
   ]
  },
  {
   "cell_type": "markdown",
   "id": "95f24f59",
   "metadata": {
    "slideshow": {
     "slide_type": "slide"
    }
   },
   "source": [
    "### Summary of imputation techniques\n",
    "\n",
    "* Listwise deletion.\n",
    "* Mean imputation.\n",
    "* Group-wise (conditional) mean imputation.\n",
    "* Probabilistic imputation.\n",
    "* Multiple imputation."
   ]
  },
  {
   "cell_type": "markdown",
   "id": "38bd4f8f",
   "metadata": {
    "slideshow": {
     "slide_type": "slide"
    }
   },
   "source": [
    "### Summary: listwise deletion\n",
    "\n",
    "* Procedure: `.dropna()`.\n",
    "* If data are MCAR, listwise deletion doesn't change statistics of the data."
   ]
  },
  {
   "cell_type": "markdown",
   "id": "b6c55e24",
   "metadata": {
    "slideshow": {
     "slide_type": "slide"
    }
   },
   "source": [
    "### Summary: mean imputation \n",
    "\n",
    "* Procedure: `.fillna(df[col].mean())`.\n",
    "* If data are MCAR, the resulting mean is an unbiased estimate of the true mean, but the variance is too low.\n",
    "* Analogue for categorical data: imputation with the mode."
   ]
  },
  {
   "cell_type": "markdown",
   "id": "0ac452fc",
   "metadata": {
    "slideshow": {
     "slide_type": "slide"
    }
   },
   "source": [
    "### Summary: conditional mean imputation\n",
    "\n",
    "* Procedure: for a column `c1`, conditional on a second column `c2`:\n",
    "```\n",
    "means = df.groupby('c2').mean().to_dict()\n",
    "imputed = df['c1'].apply(lambda x: means[x] if pd.isna(x) else x)\n",
    "```\n",
    "* If data MAR, the resulting mean is an unbiased estimate of the true mean, but the variance is too low.\n",
    "* This increases correlations between the columns.\n",
    "* If the column with missing values were dependent on *more than one* column, we can use linear regression to predict the missing value.\n",
    "    - Will see this again in a few weeks."
   ]
  },
  {
   "cell_type": "markdown",
   "id": "22a04f6d",
   "metadata": {
    "slideshow": {
     "slide_type": "slide"
    }
   },
   "source": [
    "### Summary: probabilistic imputation\n",
    "\n",
    "* Procedure: draw from the distribution of **observed data** to fill in missing values.\n",
    "* If data are MCAR, the resulting mean and variance are unbiased estimates of the true mean and variance.\n",
    "* Extending to the MAR case: draw from **conditional empirical distributions**.\n",
    "    - If data are conditional on a single categorical column `c2`, apply the MCAR procedure to the groups of `df.groupby(c2)`."
   ]
  },
  {
   "cell_type": "markdown",
   "id": "208ecb18",
   "metadata": {
    "slideshow": {
     "slide_type": "slide"
    }
   },
   "source": [
    "### Summary: multiple imputation\n",
    "\n",
    "* Procedure:\n",
    "    - Apply probabilistic imputation multiple times, resulting in $N$ imputed datasets.\n",
    "    - Compute statistics separately on the $N$ imputed datasets (e.g. compute mean or correlation coefficient).\n",
    "    - Plot the distribution of these statistics and create confidence intervals.\n",
    "* If a column is missing conditional on multiple columns, your \"multiple imputations\" should include probabilistic imputations for each!"
   ]
  },
  {
   "cell_type": "markdown",
   "id": "c8d84d32",
   "metadata": {
    "slideshow": {
     "slide_type": "slide"
    }
   },
   "source": [
    "## Next time in DSC 80...\n",
    "\n",
    "- Getting data from the internet."
   ]
  }
 ],
 "metadata": {
  "celltoolbar": "Slideshow",
  "kernelspec": {
   "display_name": "Python 3 (ipykernel)",
   "language": "python",
   "name": "python3"
  },
  "language_info": {
   "codemirror_mode": {
    "name": "ipython",
    "version": 3
   },
   "file_extension": ".py",
   "mimetype": "text/x-python",
   "name": "python",
   "nbconvert_exporter": "python",
   "pygments_lexer": "ipython3",
   "version": "3.9.6"
  },
  "rise": {
   "transition": "none"
  }
 },
 "nbformat": 4,
 "nbformat_minor": 5
}
