{
 "cells": [
  {
   "cell_type": "code",
   "execution_count": null,
   "id": "953a75e7",
   "metadata": {},
   "outputs": [],
   "source": [
    "import pandas as pd\n",
    "import numpy as np\n",
    "\n",
    "import matplotlib.pyplot as plt\n",
    "plt.rcParams['figure.figsize'] = (10, 5)\n"
   ]
  },
  {
   "cell_type": "markdown",
   "id": "ce9e66d9",
   "metadata": {},
   "source": [
    "# Lecture 04 - Hypothesis Testing 💭\n",
    "\n",
    "## DSC 80, Fall 2022"
   ]
  },
  {
   "cell_type": "markdown",
   "id": "6ae2dd05",
   "metadata": {
    "slideshow": {
     "slide_type": "slide"
    }
   },
   "source": [
    "## Today, in DSC 80...\n",
    "\n",
    "- The theory of hypothesis testing.\n",
    "- Total variation distance.\n",
    "- Another example – penguin bill lengths 🐧.\n",
    "\n",
    "Throughout this lecture, we will look at how to \"speed up\" our hypothesis tests by avoiding `for`-loops entirely."
   ]
  },
  {
   "cell_type": "markdown",
   "id": "6b40592b",
   "metadata": {
    "slideshow": {
     "slide_type": "slide"
    }
   },
   "source": [
    "## Announcements 📣\n",
    "\n",
    "- "
   ]
  },
  {
   "cell_type": "markdown",
   "id": "3652b355",
   "metadata": {
    "slideshow": {
     "slide_type": "slide"
    }
   },
   "source": [
    "## Hypothesis testing"
   ]
  },
  {
   "cell_type": "markdown",
   "id": "7e78e374",
   "metadata": {},
   "source": [
    "### Hypothesis testing\n",
    "\n",
    "- There are many competing ways of viewing how the world works.\n",
    "    - That is, competing **models** for how the data were **generated**.\n",
    "- How do we decide which models are unlikely to be true, and which are reasonable?\n",
    "- **Hypothesis testing**."
   ]
  },
  {
   "cell_type": "markdown",
   "id": "de301393",
   "metadata": {
    "slideshow": {
     "slide_type": "slide"
    }
   },
   "source": [
    "### Example: coin flipping\n",
    "\n",
    "Below, we create a DataFrame of coin flips."
   ]
  },
  {
   "cell_type": "code",
   "execution_count": 5,
   "id": "817ed4c2",
   "metadata": {},
   "outputs": [
    {
     "data": {
      "text/html": [
       "<div>\n",
       "<style scoped>\n",
       "    .dataframe tbody tr th:only-of-type {\n",
       "        vertical-align: middle;\n",
       "    }\n",
       "\n",
       "    .dataframe tbody tr th {\n",
       "        vertical-align: top;\n",
       "    }\n",
       "\n",
       "    .dataframe thead th {\n",
       "        text-align: right;\n",
       "    }\n",
       "</style>\n",
       "<table border=\"1\" class=\"dataframe\">\n",
       "  <thead>\n",
       "    <tr style=\"text-align: right;\">\n",
       "      <th></th>\n",
       "      <th>result</th>\n",
       "    </tr>\n",
       "  </thead>\n",
       "  <tbody>\n",
       "    <tr>\n",
       "      <th>0</th>\n",
       "      <td>H</td>\n",
       "    </tr>\n",
       "    <tr>\n",
       "      <th>1</th>\n",
       "      <td>T</td>\n",
       "    </tr>\n",
       "    <tr>\n",
       "      <th>2</th>\n",
       "      <td>T</td>\n",
       "    </tr>\n",
       "    <tr>\n",
       "      <th>3</th>\n",
       "      <td>T</td>\n",
       "    </tr>\n",
       "    <tr>\n",
       "      <th>4</th>\n",
       "      <td>H</td>\n",
       "    </tr>\n",
       "  </tbody>\n",
       "</table>\n",
       "</div>"
      ],
      "text/plain": [
       "  result\n",
       "0      H\n",
       "1      T\n",
       "2      T\n",
       "3      T\n",
       "4      H"
      ]
     },
     "execution_count": 5,
     "metadata": {},
     "output_type": "execute_result"
    }
   ],
   "source": [
    "np.random.seed(42)\n",
    "\n",
    "flips = pd.DataFrame(np.random.choice(['H', 'T'], p=[0.55, 0.45], size=(114, 1)), columns=['result'])\n",
    "flips.head()"
   ]
  },
  {
   "cell_type": "code",
   "execution_count": 6,
   "id": "db76b178",
   "metadata": {
    "scrolled": true
   },
   "outputs": [
    {
     "data": {
      "text/plain": [
       "(114, 1)"
      ]
     },
     "execution_count": 6,
     "metadata": {},
     "output_type": "execute_result"
    }
   ],
   "source": [
    "flips.shape"
   ]
  },
  {
   "cell_type": "code",
   "execution_count": 8,
   "id": "28a7eb63",
   "metadata": {},
   "outputs": [
    {
     "data": {
      "text/plain": [
       "H    0.596491\n",
       "T    0.403509\n",
       "Name: result, dtype: float64"
      ]
     },
     "execution_count": 8,
     "metadata": {},
     "output_type": "execute_result"
    }
   ],
   "source": [
    "flips['result'].value_counts(normalize=True)"
   ]
  },
  {
   "cell_type": "markdown",
   "id": "8b492729",
   "metadata": {},
   "source": [
    "There were 114 flips, 68 of which were heads (or ~59%)."
   ]
  },
  {
   "cell_type": "markdown",
   "id": "b7bb0503",
   "metadata": {
    "slideshow": {
     "slide_type": "slide"
    }
   },
   "source": [
    "### Example: coin flips\n",
    "\n",
    "- There are two competing views:\n",
    "    - the coin is fair\n",
    "    - the coin is unfair (biased towards heads)\n",
    "- \"The coin is fair\" is making a probabilistic claim that we can test.\n",
    "- How likely is it that this data could have been generated from a fair coin?"
   ]
  },
  {
   "cell_type": "markdown",
   "id": "a380023d",
   "metadata": {
    "slideshow": {
     "slide_type": "slide"
    }
   },
   "source": [
    "### Null hypothesis\n",
    "\n",
    "- Recall, a **null hypothesis** is an initial or default belief as to how data were generated.\n",
    "    - The null hypothesis must be a **probability model**, i.e. something that we can simulate under.\n",
    "\n",
    "- Often, but not always, the null hypothesis states there is no association or difference between variables or subpopulations, and that any observed differences were due to random chance. \n",
    "- Examples:\n",
    "    * The coin was fair.\n",
    "    * The music preferences of Americans and Canadians are the same.\n",
    "    * The median number of Instagram followers of DSC majors is equal to the median number of Instagram followers of all students at UCSD."
   ]
  },
  {
   "cell_type": "markdown",
   "id": "a3e13396",
   "metadata": {
    "slideshow": {
     "slide_type": "slide"
    }
   },
   "source": [
    "### Alternative hypothesis\n",
    "\n",
    "- An **alternative hypothesis** is a different viewpoint as to how data were generated.\n",
    "- The alternative hypothesis typically states that the difference between variables or subpopulations exists and is not due to random chance.\n",
    "- Examples:\n",
    "    - The coin is biased towards heads.\n",
    "    - The coin is biased.\n",
    "    - The music preferences of Americans and Canadians are different.\n",
    "    - The median number of Instagram followers of DSC majors is greater than the median number of Instagram followers of all students at UCSD."
   ]
  },
  {
   "cell_type": "markdown",
   "id": "1a532d3a",
   "metadata": {
    "slideshow": {
     "slide_type": "slide"
    }
   },
   "source": [
    "### Test statistics\n",
    "\n",
    "- A **test statistic** is a number that we compute in each repetition of an experiment, to help us make a decision.\n",
    "- We'd like to choose a test statistic such that large values of the test statistic correspond to one hypothesis, and small values correspond to the other. **In other words, we'll try to avoid \"two-tailed tests\".**\n",
    "- For example, suppose we flipped a coin $N$ times and we saw $N_H$ heads."
   ]
  },
  {
   "cell_type": "markdown",
   "id": "d1680921",
   "metadata": {
    "slideshow": {
     "slide_type": "slide"
    }
   },
   "source": [
    "For the alternative hypothesis \"the coin was biased towards heads\", we could use:\n",
    "* $N_H$ (number of heads).\n",
    "* $\\frac{N_H}{N}$ (proportion of heads).\n",
    "* $N_H - \\frac{N}{2}$ (difference from expected number of heads).\n",
    "\n",
    "**If these test statistics are large, it means there were many heads. If they are small, it means there were few heads.**"
   ]
  },
  {
   "cell_type": "markdown",
   "id": "9392fb86",
   "metadata": {
    "slideshow": {
     "slide_type": "slide"
    }
   },
   "source": [
    "For the alternative hypothesis \"the coin was biased\", we could use:\n",
    "- $|N_H - \\frac{N}{2}|$ (absolute difference from expected number of heads).\n",
    "\n",
    "**If this test statistic is large, it means that there were many more heads than expected, or many fewer heads than expected. If this test statistic is small, it means that the number of heads was close to expected.**\n",
    "\n",
    "- For instance, suppose we flip 100 coins, and I tell you the absolute difference from the expected number of heads is 20.\n",
    "- Then, either we flipped 70 heads or 30 heads. \n",
    "- If our alternative hypothesis is that the coin was biased, then it doesn't matter in which direction it was biased, and this test statistic works.\n",
    "- But our alternative hypothesis is that the coin was biased towards heads, then this is not helpful, because we don't know whether or not there were 70 heads (evidence for the alternative) or 30 heads (not evidence for the alternative).  "
   ]
  },
  {
   "cell_type": "markdown",
   "id": "81c90b86",
   "metadata": {
    "slideshow": {
     "slide_type": "slide"
    }
   },
   "source": [
    "### Generating the null distribution\n",
    "\n",
    "After choosing a test statistic, we need to compute the **distribution of the test statistic, under the assumption that the null hypothesis is true** (\"under the null\").\n",
    "- In DSC 10 and 80, we do this through simulation, which means our null distributions are **empirical** and our calculations are approximate.\n",
    "- In other courses, you may do this by-hand (e.g. in a coin flipping example, you could use the binomial distribution)."
   ]
  },
  {
   "cell_type": "markdown",
   "id": "300a9720",
   "metadata": {
    "slideshow": {
     "slide_type": "slide"
    }
   },
   "source": [
    "### Example: coin flipping\n",
    "\n",
    "Recall our dataframe of 100 coin flips:"
   ]
  },
  {
   "cell_type": "code",
   "execution_count": 11,
   "id": "28c02116",
   "metadata": {},
   "outputs": [
    {
     "data": {
      "text/html": [
       "<div>\n",
       "<style scoped>\n",
       "    .dataframe tbody tr th:only-of-type {\n",
       "        vertical-align: middle;\n",
       "    }\n",
       "\n",
       "    .dataframe tbody tr th {\n",
       "        vertical-align: top;\n",
       "    }\n",
       "\n",
       "    .dataframe thead th {\n",
       "        text-align: right;\n",
       "    }\n",
       "</style>\n",
       "<table border=\"1\" class=\"dataframe\">\n",
       "  <thead>\n",
       "    <tr style=\"text-align: right;\">\n",
       "      <th></th>\n",
       "      <th>result</th>\n",
       "    </tr>\n",
       "  </thead>\n",
       "  <tbody>\n",
       "    <tr>\n",
       "      <th>0</th>\n",
       "      <td>H</td>\n",
       "    </tr>\n",
       "    <tr>\n",
       "      <th>1</th>\n",
       "      <td>T</td>\n",
       "    </tr>\n",
       "    <tr>\n",
       "      <th>2</th>\n",
       "      <td>T</td>\n",
       "    </tr>\n",
       "    <tr>\n",
       "      <th>3</th>\n",
       "      <td>T</td>\n",
       "    </tr>\n",
       "    <tr>\n",
       "      <th>4</th>\n",
       "      <td>H</td>\n",
       "    </tr>\n",
       "    <tr>\n",
       "      <th>...</th>\n",
       "      <td>...</td>\n",
       "    </tr>\n",
       "    <tr>\n",
       "      <th>109</th>\n",
       "      <td>H</td>\n",
       "    </tr>\n",
       "    <tr>\n",
       "      <th>110</th>\n",
       "      <td>H</td>\n",
       "    </tr>\n",
       "    <tr>\n",
       "      <th>111</th>\n",
       "      <td>H</td>\n",
       "    </tr>\n",
       "    <tr>\n",
       "      <th>112</th>\n",
       "      <td>T</td>\n",
       "    </tr>\n",
       "    <tr>\n",
       "      <th>113</th>\n",
       "      <td>T</td>\n",
       "    </tr>\n",
       "  </tbody>\n",
       "</table>\n",
       "<p>114 rows × 1 columns</p>\n",
       "</div>"
      ],
      "text/plain": [
       "    result\n",
       "0        H\n",
       "1        T\n",
       "2        T\n",
       "3        T\n",
       "4        H\n",
       "..     ...\n",
       "109      H\n",
       "110      H\n",
       "111      H\n",
       "112      T\n",
       "113      T\n",
       "\n",
       "[114 rows x 1 columns]"
      ]
     },
     "execution_count": 11,
     "metadata": {},
     "output_type": "execute_result"
    }
   ],
   "source": [
    "flips"
   ]
  },
  {
   "cell_type": "code",
   "execution_count": 12,
   "id": "89dcb8f3",
   "metadata": {},
   "outputs": [
    {
     "data": {
      "text/plain": [
       "result\n",
       "H         68\n",
       "T         46\n",
       "dtype: int64"
      ]
     },
     "execution_count": 12,
     "metadata": {},
     "output_type": "execute_result"
    }
   ],
   "source": [
    "flips.value_counts()"
   ]
  },
  {
   "cell_type": "markdown",
   "id": "4355f51a",
   "metadata": {},
   "source": [
    "Is the coin fair?"
   ]
  },
  {
   "cell_type": "markdown",
   "id": "9225d20d",
   "metadata": {
    "slideshow": {
     "slide_type": "slide"
    }
   },
   "source": [
    "### Setup\n",
    "\n",
    "- **Null hypothesis:** The coin was fair, and any deviations were due to random chance.\n",
    "- **Alternative hypothesis:** The coin was biased towards heads.\n",
    "- **Test statistic:** Number of heads ($N_H$)."
   ]
  },
  {
   "cell_type": "markdown",
   "id": "0b5f39d6",
   "metadata": {
    "slideshow": {
     "slide_type": "-"
    }
   },
   "source": [
    "Steps:\n",
    "1. Compute the **observed value** of the test statistic, i.e. the observed number of heads. (We already know this to be 68.)\n",
    "2. Calculate the probability of seeing a test statistic this extreme under the null.\n",
    "    - Can do this with *math* (MATH 183)\n",
    "    - Or, can estimate probabilities via simulation (flip a bunch of fair coins)\n",
    "3. Use the resulting distribution to calculate the (approximate) probability of seeing 68 or more heads in 114 coin flips, under the assumption the coin was fair."
   ]
  },
  {
   "cell_type": "markdown",
   "id": "21581299",
   "metadata": {
    "slideshow": {
     "slide_type": "slide"
    }
   },
   "source": [
    "### Simulation"
   ]
  },
  {
   "cell_type": "code",
   "execution_count": null,
   "id": "786eb9c4",
   "metadata": {},
   "outputs": [],
   "source": [
    "# 100,000 times, we want to flip a coin 114 times\n",
    "results = []\n",
    "\n",
    "for _ in range(100000):\n",
    "    simulation = np.random.choice(['H', 'T'], size=114)\n",
    "    sim_heads = (simulation == 'H').sum()  # Test statistic\n",
    "    results.append(sim_heads)"
   ]
  },
  {
   "cell_type": "markdown",
   "id": "c5c93762",
   "metadata": {},
   "source": [
    "Each entry in `results` is the number of heads in 114 simulated coin flips."
   ]
  },
  {
   "cell_type": "code",
   "execution_count": null,
   "id": "448cd603",
   "metadata": {},
   "outputs": [],
   "source": [
    "results[:10]"
   ]
  },
  {
   "cell_type": "markdown",
   "id": "71ca400c",
   "metadata": {
    "slideshow": {
     "slide_type": "slide"
    }
   },
   "source": [
    "### Plotting the empirical distribution of the test statistic"
   ]
  },
  {
   "cell_type": "code",
   "execution_count": null,
   "id": "ea1e06d0",
   "metadata": {},
   "outputs": [],
   "source": [
    "pd.Series(results).plot(kind='hist', \n",
    "                        density=True,\n",
    "                        bins=np.arange(35, 76, 1),\n",
    "                        ec='w',\n",
    "                        title='Number of Heads in 114 Flips of a Fair Coin');\n",
    "obs = (flips['result'] == 'H').sum()\n",
    "plt.axvline(x=obs, color='red', linewidth=2);"
   ]
  },
  {
   "cell_type": "markdown",
   "id": "1853b657",
   "metadata": {
    "slideshow": {
     "slide_type": "fragment"
    }
   },
   "source": [
    "**Question:** Do you think the coin was fair?"
   ]
  },
  {
   "cell_type": "code",
   "execution_count": null,
   "id": "4837a7e4",
   "metadata": {},
   "outputs": [],
   "source": [
    "(np.array(results) >= obs).mean()"
   ]
  },
  {
   "cell_type": "markdown",
   "id": "52a8f021",
   "metadata": {},
   "source": [
    "- Under the assumption the coin is fair, the probability of seeing 68 or more heads is ~2.5%.\n",
    "    - This is called a **p-value**.\n",
    "- So either:\n",
    "    - The coin is fair and we saw a really rare event, or\n",
    "    - The coin is not fair.\n",
    "- We need a **cutoff** to determine whether to reject the null hypothesis, given this probability."
   ]
  },
  {
   "cell_type": "markdown",
   "id": "7e6d4b0c",
   "metadata": {
    "slideshow": {
     "slide_type": "slide"
    }
   },
   "source": [
    "### P-values and cutoffs\n",
    "\n",
    "- The **p-value**, or **observed significance level**, is the probability, under the null hypothesis, that the test statistic is equal to the value that was observed in the data or is even further in the direction of the alternative.\n",
    "- If the p-value is below a pre-determined **cutoff**, or **significance level**, we say that our observation is inconsistent with the null hypothesis and we **reject the null**.\n",
    "    - 0.05 (significant) and 0.01 (highly significant) are common cutoffs.\n",
    "    - If the p-value is above the cutoff, we **fail to reject the null**.\n",
    "- Note that the cutoff is an **error probability**.\n",
    "    - If your cutoff is 0.05, then 5% of the time, you will incorrectly reject the null hypothesis."
   ]
  },
  {
   "cell_type": "markdown",
   "id": "1156f118",
   "metadata": {
    "slideshow": {
     "slide_type": "slide"
    }
   },
   "source": [
    "### ⚠️ We can't \"prove\" the null!\n",
    "\n",
    "- Note that we are very careful in saying that we either **reject the null** or **fail to reject the null**.\n",
    "- If our observed data is close to what we'd expect under the null, we fail to reject the null, but we still don't know whether or not it is true!\n",
    "- The null hypothesis is very, very specific, e.g. the coin was exactly fair.\n",
    "- Example:\n",
    "    - Suppose there is a coin that is truly biased towards heads, with probability 0.55.\n",
    "    - We flip it 10 times and see 5 heads and 5 tails.\n",
    "    - If we conduct a hypothesis test where the null is that the coin is fair, we will fail to reject the null.\n",
    "    - But the null isn't true."
   ]
  },
  {
   "cell_type": "markdown",
   "id": "aff11504",
   "metadata": {
    "slideshow": {
     "slide_type": "slide"
    }
   },
   "source": [
    "### Fun fact\n",
    "\n",
    "- One researcher found that coin flips aren't 50/50, but rather are closer to 51/49, biased towards whichever side started facing up.\n",
    "- [Read this](https://www.smithsonianmag.com/science-nature/gamblers-take-note-the-odds-in-a-coin-flip-arent-quite-5050-145465423) for more details."
   ]
  },
  {
   "cell_type": "markdown",
   "id": "7edfbfef",
   "metadata": {
    "slideshow": {
     "slide_type": "slide"
    }
   },
   "source": [
    "## Efficiency"
   ]
  },
  {
   "cell_type": "markdown",
   "id": "086d0a1d",
   "metadata": {
    "slideshow": {
     "slide_type": "slide"
    }
   },
   "source": [
    "### Speeding things up 🏃\n",
    "\n",
    "- To estimate the null distribution, we flipped a coin 114 times, 100,000 times. This involved 100,000 iterations of a `for`-loop.\n",
    "- We can avoid a `for`-loop entirely by using the `size` argument in `np.random.choice` (and in other `np` random functions).\n",
    "    - Idea: Generate a 2D array of coin flips with 114 columns and 100,000 rows. Each row corresponds to one run of our previous `for`-loop.\n",
    "    - This will work if each trial (e.g. coin flip) is independent.\n",
    "    - We can then sum each row of the resulting array to get our distribution. However, this requires the entries in the array to be numbers – let's replace `'H'` with 1 and `'T'` with 0. "
   ]
  },
  {
   "cell_type": "code",
   "execution_count": 3,
   "id": "abb55b9c",
   "metadata": {},
   "outputs": [
    {
     "data": {
      "text/html": [
       "<div>\n",
       "<style scoped>\n",
       "    .dataframe tbody tr th:only-of-type {\n",
       "        vertical-align: middle;\n",
       "    }\n",
       "\n",
       "    .dataframe tbody tr th {\n",
       "        vertical-align: top;\n",
       "    }\n",
       "\n",
       "    .dataframe thead th {\n",
       "        text-align: right;\n",
       "    }\n",
       "</style>\n",
       "<table border=\"1\" class=\"dataframe\">\n",
       "  <thead>\n",
       "    <tr style=\"text-align: right;\">\n",
       "      <th></th>\n",
       "      <th>result</th>\n",
       "    </tr>\n",
       "  </thead>\n",
       "  <tbody>\n",
       "    <tr>\n",
       "      <th>0</th>\n",
       "      <td>H</td>\n",
       "    </tr>\n",
       "    <tr>\n",
       "      <th>1</th>\n",
       "      <td>T</td>\n",
       "    </tr>\n",
       "    <tr>\n",
       "      <th>2</th>\n",
       "      <td>T</td>\n",
       "    </tr>\n",
       "    <tr>\n",
       "      <th>3</th>\n",
       "      <td>T</td>\n",
       "    </tr>\n",
       "    <tr>\n",
       "      <th>4</th>\n",
       "      <td>H</td>\n",
       "    </tr>\n",
       "  </tbody>\n",
       "</table>\n",
       "</div>"
      ],
      "text/plain": [
       "  result\n",
       "0      H\n",
       "1      T\n",
       "2      T\n",
       "3      T\n",
       "4      H"
      ]
     },
     "execution_count": 3,
     "metadata": {},
     "output_type": "execute_result"
    }
   ],
   "source": [
    "np.random.seed(42)\n",
    "\n",
    "flips = pd.DataFrame(np.random.choice(['H', 'T'], p=[0.55, 0.45], size=(114, 1)), columns=['result'])\n",
    "flips.head()"
   ]
  },
  {
   "cell_type": "code",
   "execution_count": 4,
   "id": "f11898bf",
   "metadata": {
    "slideshow": {
     "slide_type": "slide"
    }
   },
   "outputs": [
    {
     "data": {
      "text/html": [
       "<div>\n",
       "<style scoped>\n",
       "    .dataframe tbody tr th:only-of-type {\n",
       "        vertical-align: middle;\n",
       "    }\n",
       "\n",
       "    .dataframe tbody tr th {\n",
       "        vertical-align: top;\n",
       "    }\n",
       "\n",
       "    .dataframe thead th {\n",
       "        text-align: right;\n",
       "    }\n",
       "</style>\n",
       "<table border=\"1\" class=\"dataframe\">\n",
       "  <thead>\n",
       "    <tr style=\"text-align: right;\">\n",
       "      <th></th>\n",
       "      <th>result</th>\n",
       "    </tr>\n",
       "  </thead>\n",
       "  <tbody>\n",
       "    <tr>\n",
       "      <th>0</th>\n",
       "      <td>H</td>\n",
       "    </tr>\n",
       "    <tr>\n",
       "      <th>1</th>\n",
       "      <td>T</td>\n",
       "    </tr>\n",
       "    <tr>\n",
       "      <th>2</th>\n",
       "      <td>T</td>\n",
       "    </tr>\n",
       "    <tr>\n",
       "      <th>3</th>\n",
       "      <td>T</td>\n",
       "    </tr>\n",
       "    <tr>\n",
       "      <th>4</th>\n",
       "      <td>H</td>\n",
       "    </tr>\n",
       "  </tbody>\n",
       "</table>\n",
       "</div>"
      ],
      "text/plain": [
       "  result\n",
       "0      H\n",
       "1      T\n",
       "2      T\n",
       "3      T\n",
       "4      H"
      ]
     },
     "execution_count": 4,
     "metadata": {},
     "output_type": "execute_result"
    }
   ],
   "source": [
    "flips.head()"
   ]
  },
  {
   "cell_type": "code",
   "execution_count": 5,
   "id": "2b91dcb8",
   "metadata": {},
   "outputs": [
    {
     "data": {
      "text/html": [
       "<div>\n",
       "<style scoped>\n",
       "    .dataframe tbody tr th:only-of-type {\n",
       "        vertical-align: middle;\n",
       "    }\n",
       "\n",
       "    .dataframe tbody tr th {\n",
       "        vertical-align: top;\n",
       "    }\n",
       "\n",
       "    .dataframe thead th {\n",
       "        text-align: right;\n",
       "    }\n",
       "</style>\n",
       "<table border=\"1\" class=\"dataframe\">\n",
       "  <thead>\n",
       "    <tr style=\"text-align: right;\">\n",
       "      <th></th>\n",
       "      <th>result</th>\n",
       "    </tr>\n",
       "  </thead>\n",
       "  <tbody>\n",
       "    <tr>\n",
       "      <th>0</th>\n",
       "      <td>1</td>\n",
       "    </tr>\n",
       "    <tr>\n",
       "      <th>1</th>\n",
       "      <td>0</td>\n",
       "    </tr>\n",
       "    <tr>\n",
       "      <th>2</th>\n",
       "      <td>0</td>\n",
       "    </tr>\n",
       "    <tr>\n",
       "      <th>3</th>\n",
       "      <td>0</td>\n",
       "    </tr>\n",
       "    <tr>\n",
       "      <th>4</th>\n",
       "      <td>1</td>\n",
       "    </tr>\n",
       "  </tbody>\n",
       "</table>\n",
       "</div>"
      ],
      "text/plain": [
       "   result\n",
       "0       1\n",
       "1       0\n",
       "2       0\n",
       "3       0\n",
       "4       1"
      ]
     },
     "execution_count": 5,
     "metadata": {},
     "output_type": "execute_result"
    }
   ],
   "source": [
    "flips_fast = flips.replace({'H': 1, 'T': 0})\n",
    "flips_fast.head()"
   ]
  },
  {
   "cell_type": "markdown",
   "id": "81af203c",
   "metadata": {},
   "source": [
    "The following function takes in a value of `N` and flips a fair coin `N * 114` times."
   ]
  },
  {
   "cell_type": "code",
   "execution_count": 6,
   "id": "671b5e69",
   "metadata": {},
   "outputs": [],
   "source": [
    "def flip_114(N):\n",
    "    return np.random.choice([1, 0], size=(N, 114))"
   ]
  },
  {
   "cell_type": "code",
   "execution_count": 7,
   "id": "d0c78bd8",
   "metadata": {},
   "outputs": [
    {
     "data": {
      "text/plain": [
       "array([[1, 1, 0, ..., 0, 1, 0],\n",
       "       [1, 0, 1, ..., 0, 1, 1],\n",
       "       [0, 0, 1, ..., 0, 1, 1],\n",
       "       ...,\n",
       "       [1, 1, 1, ..., 1, 1, 0],\n",
       "       [0, 1, 0, ..., 1, 0, 0],\n",
       "       [1, 1, 0, ..., 0, 0, 1]])"
      ]
     },
     "execution_count": 7,
     "metadata": {},
     "output_type": "execute_result"
    }
   ],
   "source": [
    "flip_114(50)"
   ]
  },
  {
   "cell_type": "code",
   "execution_count": 8,
   "id": "23d39254",
   "metadata": {},
   "outputs": [
    {
     "data": {
      "text/plain": [
       "(50, 114)"
      ]
     },
     "execution_count": 8,
     "metadata": {},
     "output_type": "execute_result"
    }
   ],
   "source": [
    "flip_114(50).shape"
   ]
  },
  {
   "cell_type": "markdown",
   "id": "be7796d0",
   "metadata": {
    "slideshow": {
     "slide_type": "slide"
    }
   },
   "source": [
    "### Timing the faster simulation"
   ]
  },
  {
   "cell_type": "code",
   "execution_count": 9,
   "id": "45ce545d",
   "metadata": {},
   "outputs": [
    {
     "name": "stdout",
     "output_type": "stream",
     "text": [
      "CPU times: user 96.6 ms, sys: 29.2 ms, total: 126 ms\n",
      "Wall time: 133 ms\n"
     ]
    }
   ],
   "source": [
    "%%time\n",
    "\n",
    "# Flips a fair coin 100,000 * 114 times\n",
    "simulations = pd.DataFrame(flip_114(100000))\n",
    "\n",
    "# Compute test statistics\n",
    "# Note that axis=1 will take the sum of each row of 114, which is what we want\n",
    "results_fast = simulations.sum(axis=1)"
   ]
  },
  {
   "cell_type": "code",
   "execution_count": 10,
   "id": "fee2ca50",
   "metadata": {},
   "outputs": [
    {
     "ename": "NameError",
     "evalue": "name 'plt' is not defined",
     "output_type": "error",
     "traceback": [
      "\u001b[0;31m---------------------------------------------------------------------------\u001b[0m",
      "\u001b[0;31mNameError\u001b[0m                                 Traceback (most recent call last)",
      "\u001b[0;32m/var/folders/4h/d0jgk4h54fs3gtml10tb7q840000gn/T/nix-shell.Ux8Lpy/ipykernel_30220/2794090618.py\u001b[0m in \u001b[0;36m<module>\u001b[0;34m\u001b[0m\n\u001b[1;32m      4\u001b[0m                         \u001b[0mec\u001b[0m\u001b[0;34m=\u001b[0m\u001b[0;34m'w'\u001b[0m\u001b[0;34m,\u001b[0m\u001b[0;34m\u001b[0m\u001b[0;34m\u001b[0m\u001b[0m\n\u001b[1;32m      5\u001b[0m                         title='Number of Heads in 114 Flips of a Fair Coin');\n\u001b[0;32m----> 6\u001b[0;31m \u001b[0mplt\u001b[0m\u001b[0;34m.\u001b[0m\u001b[0maxvline\u001b[0m\u001b[0;34m(\u001b[0m\u001b[0mx\u001b[0m\u001b[0;34m=\u001b[0m\u001b[0mobs\u001b[0m\u001b[0;34m,\u001b[0m \u001b[0mcolor\u001b[0m\u001b[0;34m=\u001b[0m\u001b[0;34m'red'\u001b[0m\u001b[0;34m,\u001b[0m \u001b[0mlinewidth\u001b[0m\u001b[0;34m=\u001b[0m\u001b[0;36m2\u001b[0m\u001b[0;34m)\u001b[0m\u001b[0;34m;\u001b[0m\u001b[0;34m\u001b[0m\u001b[0;34m\u001b[0m\u001b[0m\n\u001b[0m",
      "\u001b[0;31mNameError\u001b[0m: name 'plt' is not defined"
     ]
    },
    {
     "data": {
      "image/png": "[encoded data removed]",
      "text/plain": [
       "<Figure size 432x288 with 1 Axes>"
      ]
     },
     "metadata": {
      "needs_background": "light"
     },
     "output_type": "display_data"
    }
   ],
   "source": [
    "pd.Series(results_fast).plot(kind='hist', \n",
    "                        density=True,\n",
    "                        bins=np.arange(35, 76, 1),\n",
    "                        ec='w',\n",
    "                        title='Number of Heads in 114 Flips of a Fair Coin');\n",
    "plt.axvline(x=obs, color='red', linewidth=2);"
   ]
  },
  {
   "cell_type": "markdown",
   "id": "008ac358",
   "metadata": {
    "slideshow": {
     "slide_type": "slide"
    }
   },
   "source": [
    "## Total variation distance"
   ]
  },
  {
   "cell_type": "markdown",
   "id": "882e7f67",
   "metadata": {
    "slideshow": {
     "slide_type": "slide"
    }
   },
   "source": [
    "### Ethnic distribution of California vs. UCSD\n",
    "\n",
    "- The DataFrame below contains the ethnic breakdown of the state as a whole ([source](https://www.ppic.org/publication/californias-population/)) and UCSD as of 2016 ([source](https://ir.ucsd.edu/_files/stats-data/enrollment/ugethnic.pdf))."
   ]
  },
  {
   "cell_type": "code",
   "execution_count": null,
   "id": "26a84528",
   "metadata": {},
   "outputs": [],
   "source": [
    "eth = pd.DataFrame([['Asian', 0.15, 0.51],\n",
    "                    ['Black', 0.05, 0.02],\n",
    "                    ['Latino', 0.39, 0.16],\n",
    "                    ['White', 0.35, 0.2],\n",
    "                    ['Other', 0.06, 0.11]],\n",
    "                   columns=['Ethnicity', 'California', 'UCSD']).set_index('Ethnicity')\n",
    "\n",
    "eth"
   ]
  },
  {
   "cell_type": "markdown",
   "id": "d440cd5e",
   "metadata": {
    "slideshow": {
     "slide_type": "-"
    }
   },
   "source": [
    "- We want to decide whether UCSD students were drawn at random from the state of California.\n",
    "- The two **categorical distributions** above are clearly different. But how different are they?"
   ]
  },
  {
   "cell_type": "markdown",
   "id": "5eac28c2",
   "metadata": {
    "slideshow": {
     "slide_type": "slide"
    }
   },
   "source": [
    "### Is the difference between the two distributions significant?\n",
    "\n",
    "Let's establish our hypotheses.\n",
    "- **Null hypothesis:** UCSD students **were** selected at random from the population of California residents.\n",
    "- **Alternative hypothesis:** UCSD students **were not** selected at random from the population of California residents.\n",
    "- Our **observation** is the ethnic distribution of UCSD students.\n",
    "- We need a way of quantifying **how different** two categorical distributions are."
   ]
  },
  {
   "cell_type": "code",
   "execution_count": null,
   "id": "58e89c7c",
   "metadata": {
    "slideshow": {
     "slide_type": "slide"
    }
   },
   "outputs": [],
   "source": [
    "eth.plot(kind='barh', title='Ethnic Distribution of California and UCSD');"
   ]
  },
  {
   "cell_type": "markdown",
   "id": "9bda36d4",
   "metadata": {
    "slideshow": {
     "slide_type": "slide"
    }
   },
   "source": [
    "### Total variation distance\n",
    "\n",
    "The total variation distance (TVD) is a test statistic that describes the **distance between two categorical distributions**.\n",
    "\n",
    "If $A = [a_1, a_2, ..., a_k]$ and $B = [b_1, b_2, ..., b_k]$ are both categorical distributions, then the TVD between $A$ and $B$ is\n",
    "\n",
    "$$\\text{TVD}(A, B) = \\frac{1}{2} \\sum_{i = 1}^k |a_i - b_i|$$"
   ]
  },
  {
   "cell_type": "code",
   "execution_count": null,
   "id": "7897cf4a",
   "metadata": {
    "slideshow": {
     "slide_type": "fragment"
    }
   },
   "outputs": [],
   "source": [
    "def total_variation_distance(dist1, dist2):\n",
    "    '''Given two categorical distributions, \n",
    "    both sorted with same categories, calculates the TVD'''\n",
    "    return np.sum(np.abs(dist1 - dist2)) / 2"
   ]
  },
  {
   "cell_type": "markdown",
   "id": "fc8519d8",
   "metadata": {},
   "source": [
    "Below, we can compute the TVD between California's ethnic distribution and UCSD's ethnic distribution."
   ]
  },
  {
   "cell_type": "code",
   "execution_count": null,
   "id": "43bb1a7d",
   "metadata": {},
   "outputs": [],
   "source": [
    "observed_tvd = total_variation_distance(eth['California'], eth['UCSD'])\n",
    "observed_tvd"
   ]
  },
  {
   "cell_type": "markdown",
   "id": "ea6dbd25",
   "metadata": {},
   "source": [
    "The issue is we don't know whether this is a large value or a small value."
   ]
  },
  {
   "cell_type": "markdown",
   "id": "abb823cf",
   "metadata": {
    "slideshow": {
     "slide_type": "slide"
    }
   },
   "source": [
    "### The plan\n",
    "\n",
    "To conduct our hypothesis test:\n",
    "\n",
    "- Repeatedly generate samples of size 30,000 (number of UCSD students) from the ethnic distribution of all of California.\n",
    "- Each time, compute the TVD between the simulated distribution and California's distribution.\n",
    "- **This will generate an empirical distribution of TVDs, under the null.**\n",
    "- Finally, determine whether the observed TVD is consistent with the empirical distribution of TVDs."
   ]
  },
  {
   "cell_type": "markdown",
   "id": "02a25c76",
   "metadata": {
    "slideshow": {
     "slide_type": "slide"
    }
   },
   "source": [
    "### Generating one random sample\n",
    "\n",
    "To sample from a categorical distribution, we use `np.random.multinomial`."
   ]
  },
  {
   "cell_type": "code",
   "execution_count": null,
   "id": "2488a0d5",
   "metadata": {},
   "outputs": [],
   "source": [
    "np.random.multinomial(10, [0.5, 0.5])"
   ]
  },
  {
   "cell_type": "code",
   "execution_count": null,
   "id": "7dc3b337",
   "metadata": {},
   "outputs": [],
   "source": [
    "eth['California']"
   ]
  },
  {
   "cell_type": "code",
   "execution_count": null,
   "id": "c65773ab",
   "metadata": {},
   "outputs": [],
   "source": [
    "N_STUDENTS = 30_000"
   ]
  },
  {
   "cell_type": "code",
   "execution_count": null,
   "id": "7333044a",
   "metadata": {},
   "outputs": [],
   "source": [
    "np.random.multinomial(N_STUDENTS, eth['California'])"
   ]
  },
  {
   "cell_type": "code",
   "execution_count": null,
   "id": "83c91ff8",
   "metadata": {},
   "outputs": [],
   "source": [
    "np.random.multinomial(N_STUDENTS, eth['California']) / N_STUDENTS"
   ]
  },
  {
   "cell_type": "markdown",
   "id": "52314ef9",
   "metadata": {},
   "source": [
    "Now we need to repeat the process of creating samples, many, many times."
   ]
  },
  {
   "cell_type": "markdown",
   "id": "e0700b23",
   "metadata": {
    "slideshow": {
     "slide_type": "slide"
    }
   },
   "source": [
    "### Simulation"
   ]
  },
  {
   "cell_type": "code",
   "execution_count": null,
   "id": "bc97eabc",
   "metadata": {},
   "outputs": [],
   "source": [
    "num_reps = 10000\n",
    "tvds = []\n",
    "\n",
    "for i in np.arange(num_reps):\n",
    "    random_sample = np.random.multinomial(N_STUDENTS, eth['California']) / N_STUDENTS\n",
    "    new_tvd = total_variation_distance(eth['California'], random_sample)\n",
    "    tvds.append(new_tvd)"
   ]
  },
  {
   "cell_type": "code",
   "execution_count": null,
   "id": "b9e561d2",
   "metadata": {
    "scrolled": false
   },
   "outputs": [],
   "source": [
    "pd.Series(tvds).plot(kind='hist', \n",
    "                     density=True,\n",
    "                     ec='w',\n",
    "                     title='Simulated TVDs');\n",
    "# plt.axvline(x=observed_tvd, color='red', linewidth=2);"
   ]
  },
  {
   "cell_type": "markdown",
   "id": "f7e93c25",
   "metadata": {},
   "source": [
    "- The chance that the observed TVD came from the distribution of TVDs under the null is essentially 0.\n",
    "- This matches our intuition from the start – the two distributions looked very different to begin with. But now we're quite sure the difference can't be explained solely due to chance."
   ]
  },
  {
   "cell_type": "markdown",
   "id": "4e8e0981",
   "metadata": {
    "slideshow": {
     "slide_type": "slide"
    }
   },
   "source": [
    "### Speeding things up 🏃\n",
    "\n",
    "Again, we can get rid of the loop by using the `size` argument!"
   ]
  },
  {
   "cell_type": "code",
   "execution_count": null,
   "id": "91102342",
   "metadata": {
    "scrolled": true
   },
   "outputs": [],
   "source": [
    "eth_draws = np.random.multinomial(N_STUDENTS, eth['California'], size=num_reps) / N_STUDENTS\n",
    "eth_draws"
   ]
  },
  {
   "cell_type": "markdown",
   "id": "d4ef3c6a",
   "metadata": {},
   "source": [
    "- Notice that each row of `eth_draws` sums to 1, because each row is a simulated categorical distribution.\n",
    "- `eth_draws` has `num_reps` (10,000) rows."
   ]
  },
  {
   "cell_type": "code",
   "execution_count": null,
   "id": "f9b2d23d",
   "metadata": {},
   "outputs": [],
   "source": [
    "eth_draws.shape"
   ]
  },
  {
   "cell_type": "markdown",
   "id": "a567ea55",
   "metadata": {},
   "source": [
    "Our previous `total_variation_distance` function won't work with our 2D array `eth_draws`."
   ]
  },
  {
   "cell_type": "code",
   "execution_count": null,
   "id": "cb3d1ebe",
   "metadata": {},
   "outputs": [],
   "source": [
    "tvds_fast = np.sum(np.abs(eth_draws - eth['California'].to_numpy()), axis=1) / 2\n",
    "tvds_fast"
   ]
  },
  {
   "cell_type": "code",
   "execution_count": null,
   "id": "303b4b59",
   "metadata": {},
   "outputs": [],
   "source": [
    "pd.Series(tvds_fast).plot(kind='hist', \n",
    "                     density=True,\n",
    "                     ec='w',\n",
    "                     title='Simulated TVDs (without using a loop)');\n",
    "# plt.axvline(x=observed_tvd, color='red', linewidth=2);"
   ]
  },
  {
   "cell_type": "markdown",
   "id": "672005fb",
   "metadata": {
    "slideshow": {
     "slide_type": "slide"
    }
   },
   "source": [
    "### Summary of the method\n",
    "\n",
    "To assess whether an \"observed sample\" was drawn randomly from a known categorical distribution:\n",
    "* Use the TVD as the test statistic because it measures the distance between two categorical distributions.\n",
    "* Sample at random from the population. Compute the TVD between each random sample and the known distribution to get an idea for what reasonable deviations from the eligible pool look like. Repeat this process many, many times.\n",
    "* Compare:\n",
    "    - the empirical distribution of TVDs, with\n",
    "    - the observed TVD from the sample."
   ]
  },
  {
   "cell_type": "markdown",
   "id": "ed872a9b",
   "metadata": {
    "slideshow": {
     "slide_type": "slide"
    }
   },
   "source": [
    "### Aside\n",
    "\n",
    "- It was probably obvious that the difference is significant even before running a hypothesis test.\n",
    "- Why? There are 30,000 students. Such a difference in proportion is unlikely to be due to random chance (something more systematic at play).\n",
    "- But what if `N_STUDENTS = 3_000` or `N_STUDENTS = 300`?"
   ]
  },
  {
   "cell_type": "markdown",
   "id": "d292d109",
   "metadata": {
    "slideshow": {
     "slide_type": "slide"
    }
   },
   "source": [
    "### Discussion Question\n",
    "\n",
    "- At what value of `N_STUDENTS` do you think our hypothesis test would fail to reject the null?"
   ]
  },
  {
   "cell_type": "code",
   "execution_count": null,
   "id": "3f6e5879",
   "metadata": {},
   "outputs": [],
   "source": [
    "N_STUDENTS = 3_000"
   ]
  },
  {
   "cell_type": "code",
   "execution_count": null,
   "id": "2369d982",
   "metadata": {
    "scrolled": true
   },
   "outputs": [],
   "source": [
    "eth_draws = np.random.multinomial(N_STUDENTS, eth['California'], size=num_reps) / N_STUDENTS\n",
    "eth_draws"
   ]
  },
  {
   "cell_type": "code",
   "execution_count": null,
   "id": "fbb1418e",
   "metadata": {},
   "outputs": [],
   "source": [
    "tvds_fast = np.sum(np.abs(eth_draws - eth['California'].to_numpy()), axis=1) / 2\n",
    "tvds_fast"
   ]
  },
  {
   "cell_type": "code",
   "execution_count": null,
   "id": "1cce4640",
   "metadata": {},
   "outputs": [],
   "source": [
    "pd.Series(tvds_fast).plot(kind='hist', \n",
    "                     density=True,\n",
    "                     ec='w',\n",
    "                     title='Simulated TVDs (without using a loop)');\n",
    "plt.axvline(x=observed_tvd, color='red', linewidth=2);"
   ]
  },
  {
   "cell_type": "markdown",
   "id": "079e1bad",
   "metadata": {
    "slideshow": {
     "slide_type": "slide"
    }
   },
   "source": [
    "## Another example\n",
    "\n",
    "<center><img src='imgs/lter_penguins.png' width=60%></center>\n",
    "\n",
    "([source](https://allisonhorst.github.io/palmerpenguins/articles/intro.html))"
   ]
  },
  {
   "cell_type": "markdown",
   "id": "ef724e98",
   "metadata": {
    "slideshow": {
     "slide_type": "slide"
    }
   },
   "source": [
    "### Aside: loading data from `seaborn`\n",
    "\n",
    "- `seaborn` is a visualization library for Python that works well with `pandas`.\n",
    "- `seaborn` has a `load_dataset` function that reads in datasets from [this repo](https://github.com/mwaskom/seaborn-data)."
   ]
  },
  {
   "cell_type": "code",
   "execution_count": 14,
   "id": "6e3f44bc",
   "metadata": {},
   "outputs": [],
   "source": [
    "import seaborn as sns"
   ]
  },
  {
   "cell_type": "code",
   "execution_count": 15,
   "id": "0c34f214",
   "metadata": {},
   "outputs": [
    {
     "data": {
      "text/html": [
       "<div>\n",
       "<style scoped>\n",
       "    .dataframe tbody tr th:only-of-type {\n",
       "        vertical-align: middle;\n",
       "    }\n",
       "\n",
       "    .dataframe tbody tr th {\n",
       "        vertical-align: top;\n",
       "    }\n",
       "\n",
       "    .dataframe thead th {\n",
       "        text-align: right;\n",
       "    }\n",
       "</style>\n",
       "<table border=\"1\" class=\"dataframe\">\n",
       "  <thead>\n",
       "    <tr style=\"text-align: right;\">\n",
       "      <th></th>\n",
       "      <th>species</th>\n",
       "      <th>island</th>\n",
       "      <th>bill_length_mm</th>\n",
       "      <th>bill_depth_mm</th>\n",
       "      <th>flipper_length_mm</th>\n",
       "      <th>body_mass_g</th>\n",
       "      <th>sex</th>\n",
       "    </tr>\n",
       "  </thead>\n",
       "  <tbody>\n",
       "    <tr>\n",
       "      <th>0</th>\n",
       "      <td>Adelie</td>\n",
       "      <td>Torgersen</td>\n",
       "      <td>39.1</td>\n",
       "      <td>18.7</td>\n",
       "      <td>181.0</td>\n",
       "      <td>3750.0</td>\n",
       "      <td>Male</td>\n",
       "    </tr>\n",
       "    <tr>\n",
       "      <th>1</th>\n",
       "      <td>Adelie</td>\n",
       "      <td>Torgersen</td>\n",
       "      <td>39.5</td>\n",
       "      <td>17.4</td>\n",
       "      <td>186.0</td>\n",
       "      <td>3800.0</td>\n",
       "      <td>Female</td>\n",
       "    </tr>\n",
       "    <tr>\n",
       "      <th>2</th>\n",
       "      <td>Adelie</td>\n",
       "      <td>Torgersen</td>\n",
       "      <td>40.3</td>\n",
       "      <td>18.0</td>\n",
       "      <td>195.0</td>\n",
       "      <td>3250.0</td>\n",
       "      <td>Female</td>\n",
       "    </tr>\n",
       "    <tr>\n",
       "      <th>4</th>\n",
       "      <td>Adelie</td>\n",
       "      <td>Torgersen</td>\n",
       "      <td>36.7</td>\n",
       "      <td>19.3</td>\n",
       "      <td>193.0</td>\n",
       "      <td>3450.0</td>\n",
       "      <td>Female</td>\n",
       "    </tr>\n",
       "    <tr>\n",
       "      <th>5</th>\n",
       "      <td>Adelie</td>\n",
       "      <td>Torgersen</td>\n",
       "      <td>39.3</td>\n",
       "      <td>20.6</td>\n",
       "      <td>190.0</td>\n",
       "      <td>3650.0</td>\n",
       "      <td>Male</td>\n",
       "    </tr>\n",
       "  </tbody>\n",
       "</table>\n",
       "</div>"
      ],
      "text/plain": [
       "  species     island  bill_length_mm  bill_depth_mm  flipper_length_mm  \\\n",
       "0  Adelie  Torgersen            39.1           18.7              181.0   \n",
       "1  Adelie  Torgersen            39.5           17.4              186.0   \n",
       "2  Adelie  Torgersen            40.3           18.0              195.0   \n",
       "4  Adelie  Torgersen            36.7           19.3              193.0   \n",
       "5  Adelie  Torgersen            39.3           20.6              190.0   \n",
       "\n",
       "   body_mass_g     sex  \n",
       "0       3750.0    Male  \n",
       "1       3800.0  Female  \n",
       "2       3250.0  Female  \n",
       "4       3450.0  Female  \n",
       "5       3650.0    Male  "
      ]
     },
     "execution_count": 15,
     "metadata": {},
     "output_type": "execute_result"
    }
   ],
   "source": [
    "penguins = sns.load_dataset('penguins').dropna()\n",
    "penguins.head()"
   ]
  },
  {
   "cell_type": "markdown",
   "id": "f3c714d4",
   "metadata": {
    "slideshow": {
     "slide_type": "slide"
    }
   },
   "source": [
    "<center><img src='imgs/culmen_depth.png' width=60%></center>"
   ]
  },
  {
   "cell_type": "markdown",
   "id": "196c97d2",
   "metadata": {
    "slideshow": {
     "slide_type": "slide"
    }
   },
   "source": [
    "### Average bill length by island\n",
    "\n",
    "We will learn about the `groupby` method next week."
   ]
  },
  {
   "cell_type": "code",
   "execution_count": 16,
   "id": "2e3e3fee",
   "metadata": {},
   "outputs": [
    {
     "data": {
      "text/html": [
       "<div>\n",
       "<style scoped>\n",
       "    .dataframe tbody tr th:only-of-type {\n",
       "        vertical-align: middle;\n",
       "    }\n",
       "\n",
       "    .dataframe tbody tr th {\n",
       "        vertical-align: top;\n",
       "    }\n",
       "\n",
       "    .dataframe thead th {\n",
       "        text-align: right;\n",
       "    }\n",
       "</style>\n",
       "<table border=\"1\" class=\"dataframe\">\n",
       "  <thead>\n",
       "    <tr style=\"text-align: right;\">\n",
       "      <th></th>\n",
       "      <th>mean</th>\n",
       "      <th>count</th>\n",
       "    </tr>\n",
       "    <tr>\n",
       "      <th>island</th>\n",
       "      <th></th>\n",
       "      <th></th>\n",
       "    </tr>\n",
       "  </thead>\n",
       "  <tbody>\n",
       "    <tr>\n",
       "      <th>Biscoe</th>\n",
       "      <td>45.248466</td>\n",
       "      <td>163</td>\n",
       "    </tr>\n",
       "    <tr>\n",
       "      <th>Dream</th>\n",
       "      <td>44.221951</td>\n",
       "      <td>123</td>\n",
       "    </tr>\n",
       "    <tr>\n",
       "      <th>Torgersen</th>\n",
       "      <td>39.038298</td>\n",
       "      <td>47</td>\n",
       "    </tr>\n",
       "  </tbody>\n",
       "</table>\n",
       "</div>"
      ],
      "text/plain": [
       "                mean  count\n",
       "island                     \n",
       "Biscoe     45.248466    163\n",
       "Dream      44.221951    123\n",
       "Torgersen  39.038298     47"
      ]
     },
     "execution_count": 16,
     "metadata": {},
     "output_type": "execute_result"
    }
   ],
   "source": [
    "penguins.groupby('island')['bill_length_mm'].agg(['mean', 'count'])"
   ]
  },
  {
   "cell_type": "markdown",
   "id": "4af7cefa",
   "metadata": {},
   "source": [
    "It appears that penguins on Torgersen Island have shorter bills on average than penguins on other islands. Could this have happened due to random chance?"
   ]
  },
  {
   "cell_type": "markdown",
   "id": "f9854bf9",
   "metadata": {
    "slideshow": {
     "slide_type": "slide"
    }
   },
   "source": [
    "### Setup\n",
    "\n",
    "- **Null hypothesis:** Island and bill length **are not** related – the low average bill length of Torgersen Island penguins is due to chance alone.\n",
    "    - In other words, if we picked 47 penguins randomly from the population of 333 penguins, it is reasonable to see an average this low.\n",
    "- **Alternative hypothesis:** Island and bill length **are** related – the low average bill length of Torgersen Island penguins is not due to chance alone."
   ]
  },
  {
   "cell_type": "markdown",
   "id": "7362da0e",
   "metadata": {
    "slideshow": {
     "slide_type": "slide"
    }
   },
   "source": [
    "### The plan\n",
    "\n",
    "- The null hypothesis states that the 47 bill lengths of Torgersen Island penguins were drawn uniformly at random from the 333 bill lengths in the population.\n",
    "- That is, if we repeatedly sampled groups of 47 penguins from the population and computed their average bill length, it would not be uncommon to see an average bill length this low.\n",
    "- **Plan:** Repeatedly sample (without replacement) 47 penguins from the population and **compute their average bill length**, and see where the Torgersen Island average bill length lies in this distribution.\n",
    "    - Average bill length is our **test statistic**.\n",
    "    - This is not a test statistic we've used in this lecture yet (and this is what separates this example from previous examples)."
   ]
  },
  {
   "cell_type": "markdown",
   "id": "77e03652",
   "metadata": {
    "slideshow": {
     "slide_type": "slide"
    }
   },
   "source": [
    "### Simulation"
   ]
  },
  {
   "cell_type": "code",
   "execution_count": 17,
   "id": "975e8dd0",
   "metadata": {},
   "outputs": [],
   "source": [
    "num_reps = 1_000"
   ]
  },
  {
   "cell_type": "code",
   "execution_count": 18,
   "id": "f5bd8009",
   "metadata": {},
   "outputs": [],
   "source": [
    "averages = []\n",
    "\n",
    "for i in np.arange(num_reps):\n",
    "    random_sample = penguins.sample(47)\n",
    "    new_average = random_sample['bill_length_mm'].mean()\n",
    "    averages.append(new_average)"
   ]
  },
  {
   "cell_type": "code",
   "execution_count": 19,
   "id": "449eba09",
   "metadata": {
    "scrolled": true
   },
   "outputs": [
    {
     "data": {
      "image/png": "[encoded data removed]",
      "text/plain": [
       "<Figure size 432x288 with 1 Axes>"
      ]
     },
     "metadata": {
      "needs_background": "light"
     },
     "output_type": "display_data"
    }
   ],
   "source": [
    "pd.Series(averages).plot(kind='hist', \n",
    "                         density=True,\n",
    "                         bins=30,\n",
    "                         ec='w',\n",
    "                         title='Average Bill Lengths in Samples of Size 47');\n",
    "\n",
    "observed_average = penguins.groupby('island').mean().loc['Torgersen', 'bill_length_mm']\n",
    "plt.axvline(x=observed_average, color='red', linewidth=2);"
   ]
  },
  {
   "cell_type": "markdown",
   "id": "548ccbe8",
   "metadata": {},
   "source": [
    "It doesn't look like the average bill length of Torgersen Island penguins came from the null distribution of average bill lengths."
   ]
  },
  {
   "cell_type": "markdown",
   "id": "d1ac5a7c",
   "metadata": {
    "slideshow": {
     "slide_type": "slide"
    }
   },
   "source": [
    "### Speeding things up 🏃\n",
    "\n",
    "Again (again), we can get rid of the loop by using the `size` argument!"
   ]
  },
  {
   "cell_type": "code",
   "execution_count": 20,
   "id": "ebb9361d",
   "metadata": {},
   "outputs": [
    {
     "data": {
      "text/plain": [
       "array([[45.2, 42.6, 58. , 49.8, 47.4, 43.2, 50.7, 48.5, 40.8, 52.2, 36.5,\n",
       "        47. , 45.8, 59.6, 39.5, 45.7, 42. , 46. , 46.4, 37.5, 41.5, 38.2,\n",
       "        45.2, 51.5, 43.4, 49.1, 49.5, 45.6, 33.1, 51.5, 47.8, 45.5, 40.6,\n",
       "        52.2, 43.4, 41.8, 34.6, 50.8, 42.2, 53.5, 39.6, 39. , 43.2, 47.6,\n",
       "        36. , 50.5, 51.1],\n",
       "       [39.7, 42.5, 44.9, 40.5, 49.6, 36.6, 49.3, 45.7, 47.5, 46.8, 43.2,\n",
       "        42.5, 35. , 39. , 41.1, 39.8, 45.2, 45.2, 40.3, 51.5, 40.9, 48.5,\n",
       "        47.3, 33.5, 49.1, 37.2, 48.7, 41.1, 43.2, 49.8, 41.1, 46.9, 40.2,\n",
       "        45. , 39.5, 41.1, 45.4, 49.3, 40.6, 35.1, 35. , 36.4, 39.7, 46.4,\n",
       "        40.2, 37.6, 45.2],\n",
       "       [37.6, 42.4, 51.1, 45.8, 50.8, 48.1, 53.5, 44.9, 37.7, 39.6, 35.7,\n",
       "        40.9, 49.2, 46.5, 40.9, 51.3, 41.3, 37.9, 49.5, 35.7, 49.5, 35.1,\n",
       "        45.7, 43.2, 35.9, 45.8, 44.4, 41.1, 50.9, 45.1, 45.5, 50. , 46.2,\n",
       "        36.2, 45.9, 50.4, 35.7, 40.6, 38.6, 36.2, 33.5, 51.3, 59.6, 38.8,\n",
       "        45.4, 43.6, 50. ],\n",
       "       [53.5, 37.8, 35.6, 35. , 37. , 37.2, 51.3, 51.4, 43.4, 45.7, 49.6,\n",
       "        35.7, 35.9, 34.6, 50.2, 47.5, 40.9, 46.1, 47.5, 37.8, 59.6, 36.2,\n",
       "        36.2, 39.6, 43.5, 50.1, 46. , 39.6, 34.6, 45.2, 52.2, 35.7, 39. ,\n",
       "        35. , 47.5, 39. , 37. , 39.1, 38.9, 38.8, 50. , 50.5, 39.8, 44.9,\n",
       "        52.5, 49.1, 40.6],\n",
       "       [41.1, 40.8, 45.2, 49.6, 45.6, 37. , 35.6, 45.6, 38.9, 45.2, 39.7,\n",
       "        47.2, 50. , 39.6, 36.9, 40.9, 49. , 42.9, 41.5, 41.1, 37.7, 52.2,\n",
       "        40.6, 41.1, 45.2, 48.8, 41.5, 50.1, 35.3, 48.8, 50.9, 38.1, 48.1,\n",
       "        47.5, 43.3, 49.1, 35.1, 36.3, 50. , 52.7, 42.9, 37.2, 39.6, 46.2,\n",
       "        38.9, 50.1, 38.9]])"
      ]
     },
     "execution_count": 20,
     "metadata": {},
     "output_type": "execute_result"
    }
   ],
   "source": [
    "np.random.choice(penguins['bill_length_mm'], size=(5, 47))"
   ]
  },
  {
   "cell_type": "code",
   "execution_count": 21,
   "id": "d0fd9cee",
   "metadata": {},
   "outputs": [
    {
     "data": {
      "text/plain": [
       "array([43.91489362, 44.31914894, 45.57659574, 42.80851064, 45.05744681,\n",
       "       43.81702128, 44.03617021, 43.98510638, 43.62553191, 43.22553191,\n",
       "       43.9212766 , 43.3212766 , 44.15744681, 44.        , 44.33617021,\n",
       "       44.78510638, 43.9787234 , 45.05319149, 42.22765957, 44.03191489,\n",
       "       43.04468085, 44.62765957, 43.93829787, 43.76595745, 44.40851064,\n",
       "       42.15319149, 41.96382979, 45.05531915, 43.83191489, 43.26382979,\n",
       "       42.25106383, 44.41489362, 41.71276596, 43.59574468, 43.09148936,\n",
       "       43.86170213, 44.58085106, 45.01489362, 43.09574468, 42.08297872,\n",
       "       44.92978723, 43.51702128, 43.78297872, 43.70212766, 43.13191489,\n",
       "       44.06808511, 43.66170213, 44.15531915, 43.15957447, 43.0212766 ,\n",
       "       44.21914894, 44.61914894, 43.96808511, 44.02340426, 42.48085106,\n",
       "       44.68297872, 44.99148936, 43.96595745, 43.84468085, 43.7212766 ,\n",
       "       43.76170213, 43.36382979, 43.61914894, 43.49361702, 44.59787234,\n",
       "       43.85319149, 44.52553191, 44.49148936, 45.49361702, 43.44255319,\n",
       "       43.06170213, 44.20212766, 44.7106383 , 44.21702128, 45.10638298,\n",
       "       45.48297872, 44.73617021, 43.98297872, 44.1212766 , 45.09787234,\n",
       "       43.12978723, 42.94255319, 42.68723404, 45.16808511, 42.04255319,\n",
       "       44.68723404, 44.15106383, 43.04468085, 43.96382979, 44.03404255,\n",
       "       44.24893617, 43.98085106, 44.47234043, 44.1787234 , 44.15957447,\n",
       "       44.1787234 , 43.77659574, 44.88297872, 43.56595745, 44.6       ,\n",
       "       44.10851064, 43.20851064, 44.55106383, 44.5212766 , 44.19361702,\n",
       "       44.25957447, 43.42340426, 43.17234043, 43.87021277, 44.73404255,\n",
       "       44.55319149, 43.56595745, 44.4787234 , 42.49361702, 45.76170213,\n",
       "       43.7893617 , 44.60638298, 44.65957447, 44.41489362, 42.45531915,\n",
       "       45.35957447, 44.48723404, 43.40425532, 44.20851064, 44.65106383,\n",
       "       43.42765957, 43.88510638, 42.5106383 , 44.86170213, 44.48297872,\n",
       "       43.61276596, 42.82978723, 44.15957447, 44.23191489, 44.5893617 ,\n",
       "       43.74042553, 43.17659574, 42.49148936, 43.3212766 , 42.81489362,\n",
       "       43.99787234, 43.69148936, 43.79787234, 43.16382979, 43.83829787,\n",
       "       43.73829787, 42.95319149, 43.77021277, 43.84893617, 43.64042553,\n",
       "       44.2       , 43.18723404, 44.19787234, 42.85106383, 44.07234043,\n",
       "       43.82340426, 43.77659574, 43.18085106, 43.52340426, 43.96170213,\n",
       "       42.89574468, 45.30425532, 44.50851064, 44.10425532, 44.3106383 ,\n",
       "       43.77659574, 42.        , 43.63191489, 44.18297872, 44.62340426,\n",
       "       43.90638298, 43.91914894, 42.97446809, 44.05531915, 43.14042553,\n",
       "       45.15319149, 44.95106383, 44.4893617 , 42.51914894, 43.07234043,\n",
       "       43.95531915, 44.2787234 , 42.68085106, 45.32553191, 43.95744681,\n",
       "       44.89361702, 44.05531915, 43.42340426, 43.57021277, 43.12553191,\n",
       "       43.98085106, 43.82978723, 43.57021277, 44.28297872, 43.54893617,\n",
       "       44.10638298, 44.34042553, 43.1893617 , 43.87659574, 43.77659574,\n",
       "       44.15957447, 44.51914894, 45.09787234, 44.80851064, 44.65744681,\n",
       "       43.21702128, 44.10212766, 44.43191489, 45.10425532, 43.29361702,\n",
       "       43.70212766, 44.67446809, 43.07659574, 44.32765957, 43.37234043,\n",
       "       44.15319149, 44.31914894, 44.43191489, 44.76808511, 43.8212766 ,\n",
       "       44.3106383 , 44.53191489, 45.03829787, 42.59148936, 45.18723404,\n",
       "       43.16595745, 43.36382979, 44.80851064, 44.35106383, 45.29787234,\n",
       "       45.19361702, 43.23404255, 42.35319149, 43.77021277, 45.3106383 ,\n",
       "       44.55531915, 43.0106383 , 43.30212766, 44.96170213, 44.62340426,\n",
       "       45.10638298, 43.77021277, 42.17021277, 44.87234043, 44.94680851,\n",
       "       42.52340426, 43.54680851, 42.16808511, 43.54680851, 44.62340426,\n",
       "       43.1106383 , 43.02340426, 42.76595745, 44.21276596, 44.5106383 ,\n",
       "       44.58085106, 44.22765957, 44.45106383, 43.74680851, 43.04042553,\n",
       "       42.93829787, 44.64893617, 43.39361702, 44.91489362, 44.75744681,\n",
       "       44.35957447, 44.82340426, 43.55957447, 43.05531915, 44.56382979,\n",
       "       42.55531915, 42.90638298, 43.36382979, 44.4       , 45.25319149,\n",
       "       45.38723404, 43.67659574, 43.69787234, 43.61914894, 43.74468085,\n",
       "       44.62765957, 43.35106383, 44.2893617 , 42.81489362, 44.54255319,\n",
       "       44.25319149, 44.67659574, 44.7106383 , 43.80425532, 43.3106383 ,\n",
       "       44.27659574, 43.50851064, 43.30425532, 44.84255319, 43.66170213,\n",
       "       44.20851064, 43.83617021, 44.53829787, 43.85957447, 45.61276596,\n",
       "       43.71489362, 45.10212766, 44.19787234, 43.78085106, 42.8106383 ,\n",
       "       44.16595745, 43.8893617 , 44.30425532, 44.3       , 43.60638298,\n",
       "       43.53829787, 45.02340426, 44.49361702, 42.89787234, 46.03191489,\n",
       "       42.58297872, 44.3106383 , 44.06808511, 44.89148936, 43.88723404,\n",
       "       44.17021277, 44.57234043, 44.30425532, 44.55319149, 42.84042553,\n",
       "       43.91702128, 43.98723404, 43.85957447, 42.86808511, 44.4106383 ,\n",
       "       42.54468085, 41.86170213, 43.51276596, 44.73191489, 44.25319149,\n",
       "       44.43617021, 43.3106383 , 44.00425532, 43.7893617 , 43.75319149,\n",
       "       43.11702128, 44.43617021, 44.39361702, 42.9787234 , 43.54893617,\n",
       "       43.3787234 , 44.02765957, 44.99361702, 43.57021277, 44.09361702,\n",
       "       45.51276596, 42.58297872, 43.39574468, 43.96382979, 45.1787234 ,\n",
       "       44.45744681, 44.8212766 , 44.22553191, 43.7212766 , 44.65957447,\n",
       "       44.10212766, 44.1787234 , 44.00425532, 43.22340426, 43.79574468,\n",
       "       44.17659574, 43.98510638, 41.88297872, 45.43404255, 43.65319149,\n",
       "       43.8893617 , 43.34468085, 43.13191489, 44.5106383 , 44.99148936,\n",
       "       44.5893617 , 44.07234043, 45.85744681, 45.29361702, 43.91276596,\n",
       "       43.45319149, 43.59574468, 43.10212766, 44.16808511, 45.6787234 ,\n",
       "       44.56170213, 43.0893617 , 43.18723404, 43.76170213, 43.50638298,\n",
       "       44.58510638, 43.26170213, 43.1787234 , 45.69361702, 43.5       ,\n",
       "       44.42553191, 43.52340426, 44.52553191, 43.53191489, 44.08723404,\n",
       "       42.32553191, 44.27659574, 42.71489362, 44.05531915, 42.85319149,\n",
       "       46.29574468, 43.69361702, 43.97021277, 44.80212766, 41.94468085,\n",
       "       42.84893617, 44.23404255, 44.87659574, 43.3787234 , 44.68085106,\n",
       "       44.99361702, 45.07234043, 44.1787234 , 43.82553191, 44.05531915,\n",
       "       44.09574468, 44.67021277, 44.66808511, 43.94468085, 44.90638298,\n",
       "       44.18297872, 44.55106383, 43.98297872, 42.3893617 , 44.69787234,\n",
       "       44.49574468, 42.63617021, 44.30425532, 44.50425532, 45.00851064,\n",
       "       44.16382979, 43.96170213, 44.3106383 , 43.26170213, 45.20425532,\n",
       "       43.70212766, 44.14042553, 43.86382979, 42.92340426, 43.05106383,\n",
       "       45.06808511, 44.27234043, 42.30638298, 43.58085106, 44.31276596,\n",
       "       44.39148936, 43.66808511, 44.38510638, 45.52978723, 43.23617021,\n",
       "       43.19148936, 43.69361702, 43.76382979, 42.66595745, 44.34680851,\n",
       "       42.80212766, 43.99787234, 43.74042553, 42.81276596, 43.79574468,\n",
       "       44.5787234 , 43.94893617, 44.93191489, 44.27446809, 44.91489362,\n",
       "       42.3893617 , 44.55531915, 43.22978723, 45.3212766 , 43.44255319,\n",
       "       44.4787234 , 43.52553191, 43.85319149, 45.09361702, 43.9106383 ,\n",
       "       43.62340426, 44.43829787, 44.40425532, 41.66595745, 44.3787234 ,\n",
       "       44.66382979, 45.51702128, 44.52978723, 42.52340426, 45.27234043,\n",
       "       44.8106383 , 43.93191489, 44.49361702, 44.24468085, 43.94255319,\n",
       "       42.83191489, 43.29574468, 42.31914894, 44.2787234 , 43.47234043,\n",
       "       43.28085106, 43.99574468, 43.84468085, 44.20638298, 44.51489362,\n",
       "       44.33617021, 43.64468085, 44.17021277, 45.84893617, 44.75106383,\n",
       "       44.42340426, 44.58085106, 44.10638298, 42.82340426, 44.4787234 ,\n",
       "       42.25744681, 43.18510638, 44.14893617, 43.45106383, 44.06382979,\n",
       "       45.1       , 44.37234043, 44.59574468, 43.61489362, 43.65106383,\n",
       "       42.89574468, 44.54042553, 44.31702128, 43.95319149, 43.73191489,\n",
       "       43.04468085, 43.45531915, 44.14893617, 43.2787234 , 44.47234043,\n",
       "       44.30638298, 43.64893617, 43.68085106, 43.54680851, 43.73191489,\n",
       "       45.17659574, 42.35106383, 43.71702128, 45.12765957, 44.45106383,\n",
       "       43.05319149, 43.49574468, 43.38085106, 44.35744681, 44.5787234 ,\n",
       "       45.01489362, 43.96808511, 43.92978723, 42.18510638, 43.90638298,\n",
       "       44.49148936, 44.32553191, 44.78510638, 45.71702128, 43.38723404,\n",
       "       43.03191489, 43.17234043, 42.93617021, 44.87234043, 44.68297872,\n",
       "       44.61276596, 43.67021277, 44.39361702, 43.47446809, 44.80425532,\n",
       "       44.09787234, 43.12978723, 44.41489362, 44.24042553, 44.40212766,\n",
       "       45.88085106, 42.80638298, 44.21276596, 44.50425532, 45.31914894,\n",
       "       43.81914894, 43.13191489, 43.63829787, 43.93829787, 44.16595745,\n",
       "       43.26170213, 43.44042553, 43.16808511, 44.98085106, 43.33617021,\n",
       "       43.53829787, 42.96808511, 43.74255319, 44.68085106, 44.35957447,\n",
       "       43.13829787, 45.0893617 , 45.05319149, 43.8212766 , 44.82553191,\n",
       "       43.51489362, 44.89148936, 44.33191489, 42.86595745, 44.2212766 ,\n",
       "       43.04042553, 44.40851064, 43.18297872, 44.5       , 43.92553191,\n",
       "       42.8787234 , 44.49787234, 42.47021277, 43.39787234, 43.20638298,\n",
       "       44.14680851, 43.61489362, 42.5212766 , 44.80212766, 44.16382979,\n",
       "       45.33191489, 44.2787234 , 43.14893617, 44.8       , 43.25531915,\n",
       "       45.20425532, 43.46382979, 43.73404255, 43.26808511, 44.35531915,\n",
       "       44.66170213, 42.8787234 , 44.7787234 , 41.87234043, 44.80851064,\n",
       "       42.32765957, 42.44042553, 44.24680851, 42.21702128, 44.05744681,\n",
       "       42.59148936, 44.77234043, 43.7787234 , 45.08510638, 43.86808511,\n",
       "       43.90212766, 44.37234043, 45.        , 45.24042553, 45.15744681,\n",
       "       45.93191489, 44.88297872, 44.85319149, 45.21276596, 43.38297872,\n",
       "       44.39148936, 42.70425532, 44.88510638, 44.35531915, 44.69361702,\n",
       "       43.13617021, 43.34042553, 43.55744681, 44.        , 44.03191489,\n",
       "       44.75957447, 44.1106383 , 43.39574468, 43.98085106, 43.0212766 ,\n",
       "       45.39574468, 43.73829787, 44.95957447, 44.24680851, 43.86808511,\n",
       "       45.32553191, 42.86170213, 43.75957447, 42.9893617 , 44.42978723,\n",
       "       42.77446809, 44.15744681, 44.79361702, 43.78297872, 43.73617021,\n",
       "       44.03404255, 42.83617021, 42.47659574, 43.25957447, 43.20425532,\n",
       "       45.10851064, 44.60851064, 45.48085106, 45.23191489, 43.7893617 ,\n",
       "       44.69574468, 44.34680851, 44.4787234 , 43.76382979, 42.79361702,\n",
       "       43.35319149, 44.43191489, 44.4       , 43.25531915, 43.44893617,\n",
       "       44.37446809, 43.73829787, 43.35106383, 43.13191489, 43.9787234 ,\n",
       "       44.64255319, 44.54042553, 43.63829787, 44.12978723, 42.42340426,\n",
       "       44.02978723, 42.33617021, 43.25319149, 43.75744681, 44.51489362,\n",
       "       43.79787234, 43.05957447, 44.6106383 , 45.23829787, 43.60425532,\n",
       "       44.5212766 , 45.28510638, 44.01489362, 43.85531915, 43.55319149,\n",
       "       43.15319149, 44.39787234, 41.70851064, 44.54255319, 43.68085106,\n",
       "       43.18510638, 42.98297872, 42.95957447, 43.86808511, 44.37446809,\n",
       "       44.8106383 , 44.05319149, 44.88510638, 44.89361702, 42.87659574,\n",
       "       44.58297872, 43.59148936, 43.79787234, 44.04255319, 43.93191489,\n",
       "       44.98297872, 43.83617021, 45.58723404, 43.86170213, 44.03404255,\n",
       "       44.31914894, 43.34042553, 44.17446809, 44.50638298, 46.24042553,\n",
       "       44.34893617, 42.79148936, 44.48085106, 45.51276596, 43.6212766 ,\n",
       "       44.78510638, 43.80638298, 44.41702128, 43.15744681, 44.89148936,\n",
       "       44.36808511, 43.04468085, 44.65531915, 44.7787234 , 44.14680851,\n",
       "       43.10851064, 44.44042553, 44.81914894, 43.16382979, 42.73404255,\n",
       "       43.62978723, 44.48723404, 44.31914894, 43.76808511, 44.3787234 ,\n",
       "       45.19361702, 43.65319149, 43.97021277, 43.81914894, 43.28297872,\n",
       "       43.75744681, 44.59148936, 43.63617021, 44.66382979, 43.30638298,\n",
       "       43.61276596, 44.38723404, 44.54893617, 42.42978723, 43.2212766 ,\n",
       "       42.57446809, 44.78723404, 43.28085106, 44.50425532, 44.44893617,\n",
       "       44.88297872, 44.12553191, 45.01489362, 44.17021277, 44.30638298,\n",
       "       43.44255319, 43.27021277, 43.74042553, 43.23617021, 43.75106383,\n",
       "       42.82340426, 43.99148936, 45.33829787, 43.03191489, 43.10425532,\n",
       "       43.86595745, 43.81914894, 44.45744681, 44.28510638, 43.4787234 ,\n",
       "       44.10851064, 44.56808511, 43.29361702, 44.91914894, 43.55319149,\n",
       "       43.20425532, 44.21914894, 43.6212766 , 44.62978723, 44.34255319,\n",
       "       43.96170213, 44.16595745, 43.30638298, 44.92553191, 43.28297872,\n",
       "       43.8787234 , 42.57021277, 43.54893617, 44.39148936, 42.73617021,\n",
       "       43.13829787, 44.31276596, 43.45531915, 46.01702128, 43.44042553,\n",
       "       44.13404255, 43.77446809, 44.01276596, 45.53829787, 43.41489362,\n",
       "       42.56808511, 45.07021277, 44.17021277, 44.78723404, 43.95319149,\n",
       "       43.84042553, 44.31702128, 44.05106383, 44.07659574, 44.23829787,\n",
       "       44.33617021, 43.68723404, 42.46595745, 43.32765957, 44.28297872,\n",
       "       45.18510638, 43.41914894, 44.42553191, 44.1893617 , 44.56595745,\n",
       "       43.47021277, 44.3787234 , 43.89361702, 43.92765957, 42.59148936,\n",
       "       43.67021277, 43.92340426, 44.82553191, 43.58510638, 43.76170213,\n",
       "       44.29148936, 43.15319149, 46.49787234, 43.64680851, 43.03191489,\n",
       "       43.04680851, 43.14468085, 43.53404255, 43.03191489, 44.40425532,\n",
       "       44.19361702, 44.15106383, 44.09361702, 43.89574468, 43.94893617,\n",
       "       44.50638298, 43.56170213, 45.65531915, 44.59148936, 44.86595745,\n",
       "       45.39574468, 42.49787234, 45.5       , 43.38297872, 44.46595745,\n",
       "       43.28085106, 44.88723404, 43.96595745, 44.51914894, 43.58085106,\n",
       "       43.54680851, 44.31702128, 44.14255319, 42.38085106, 43.92340426,\n",
       "       44.21702128, 43.61489362, 43.64042553, 44.65319149, 44.7893617 ,\n",
       "       43.19574468, 43.8893617 , 43.92978723, 44.69361702, 44.24680851,\n",
       "       42.59361702, 43.14893617, 44.21702128, 44.29787234, 44.73404255,\n",
       "       44.71489362, 44.4       , 43.6       , 42.84680851, 44.40638298,\n",
       "       43.58297872, 44.20638298, 44.48723404, 43.52340426, 43.8       ,\n",
       "       43.46170213, 44.55106383, 42.63617021, 43.90638298, 43.14468085,\n",
       "       42.88297872, 43.45744681, 43.41489362, 44.24468085, 45.16170213,\n",
       "       43.38297872, 43.15106383, 43.83191489, 43.63404255, 43.1106383 ,\n",
       "       42.72340426, 44.52765957, 44.50425532, 44.22978723, 44.41276596,\n",
       "       44.30851064, 43.21489362, 43.19361702, 45.7106383 , 43.9893617 ,\n",
       "       44.37021277, 44.97234043, 44.54468085, 42.92553191, 43.84893617,\n",
       "       42.45957447, 45.83404255, 43.2       , 43.81276596, 43.62765957,\n",
       "       44.15106383, 42.7212766 , 43.65957447, 43.50851064, 43.75744681,\n",
       "       42.59148936, 42.93191489, 45.08297872, 43.4893617 , 44.05744681,\n",
       "       44.06170213, 45.17659574, 43.31276596, 43.54255319, 44.7       ,\n",
       "       43.96382979, 44.50425532, 44.81276596, 44.31489362, 44.64680851])"
      ]
     },
     "execution_count": 21,
     "metadata": {},
     "output_type": "execute_result"
    }
   ],
   "source": [
    "averages_fast = np.random.choice(penguins['bill_length_mm'], size=(num_reps, 47)).mean(axis=1)\n",
    "averages_fast"
   ]
  },
  {
   "cell_type": "code",
   "execution_count": 22,
   "id": "03a1425f",
   "metadata": {},
   "outputs": [
    {
     "data": {
      "image/png": "[encoded data removed]",
      "text/plain": [
       "<Figure size 432x288 with 1 Axes>"
      ]
     },
     "metadata": {
      "needs_background": "light"
     },
     "output_type": "display_data"
    }
   ],
   "source": [
    "pd.Series(averages_fast).plot(kind='hist', \n",
    "                              density=True,\n",
    "                              bins=30,\n",
    "                              ec='w',\n",
    "                              title='Average Bill Lengths in Samples of Size 47 (without using a loop)');\n",
    "\n",
    "observed_average = penguins.groupby('island').mean().loc['Torgersen', 'bill_length_mm']\n",
    "plt.axvline(x=observed_average, color='red', linewidth=2);"
   ]
  },
  {
   "cell_type": "markdown",
   "id": "4190b697",
   "metadata": {},
   "source": [
    "We get the same result, but much quicker!"
   ]
  },
  {
   "cell_type": "markdown",
   "id": "0e7f3766",
   "metadata": {
    "slideshow": {
     "slide_type": "slide"
    }
   },
   "source": [
    "## Summary"
   ]
  },
  {
   "cell_type": "markdown",
   "id": "3561e489",
   "metadata": {
    "slideshow": {
     "slide_type": "slide"
    }
   },
   "source": [
    "### The hypothesis testing \"recipe\"\n",
    "\n",
    "Faced with a question about the data raised by an observation...\n",
    "1. Carefully pose the question as a testable \"yes or no\" hypothesis.\n",
    "2. Decide on a **test statistic** that helps differentiate between instances that would affirm or reject the hypothesis.\n",
    "3. Create a probability model for the data generating process that reflects the \"known behavior\" of the process.\n",
    "4. Simulate the data generating process using this probability model (the \"**null hypothesis**\").\n",
    "5. Assess if the observation is consistent with the simulations by computing a **p-value**.\n",
    "\n",
    "We looked at three key examples:\n",
    "- Coin flipping.\n",
    "- Comparing categorical distributions.\n",
    "- Comparing a subgroup statistic to a population parameter."
   ]
  },
  {
   "cell_type": "markdown",
   "id": "c8d84d32",
   "metadata": {
    "slideshow": {
     "slide_type": "slide"
    }
   },
   "source": [
    "## Next time in DSC 80...\n",
    "\n",
    "- Guest lecture by Eric Colson of Netflix/Stitchfix."
   ]
  }
 ],
 "metadata": {
  "celltoolbar": "Slideshow",
  "kernelspec": {
   "display_name": "Python 3 (ipykernel)",
   "language": "python",
   "name": "python3"
  },
  "language_info": {
   "codemirror_mode": {
    "name": "ipython",
    "version": 3
   },
   "file_extension": ".py",
   "mimetype": "text/x-python",
   "name": "python",
   "nbconvert_exporter": "python",
   "pygments_lexer": "ipython3",
   "version": "3.9.6"
  },
  "rise": {
   "transition": "none"
  }
 },
 "nbformat": 4,
 "nbformat_minor": 5
}
