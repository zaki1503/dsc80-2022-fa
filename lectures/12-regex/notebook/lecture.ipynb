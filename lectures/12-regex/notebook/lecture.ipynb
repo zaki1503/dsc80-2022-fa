{
 "cells": [
  {
   "cell_type": "code",
   "execution_count": null,
   "id": "a3891864",
   "metadata": {},
   "outputs": [],
   "source": [
    "import pandas as pd\n",
    "import numpy as np\n",
    "\n",
    "import matplotlib.pyplot as plt\n",
    "plt.rcParams['figure.figsize'] = (10, 5)\n"
   ]
  },
  {
   "cell_type": "markdown",
   "id": "ce9e66d9",
   "metadata": {
    "slideshow": {
     "slide_type": "slide"
    }
   },
   "source": [
    "# Lecture 11 - Working with Text\n",
    "\n",
    "## DSC 80, Fall 2022"
   ]
  },
  {
   "cell_type": "markdown",
   "id": "6ae2dd05",
   "metadata": {
    "slideshow": {
     "slide_type": "slide"
    }
   },
   "source": [
    "## Today, in DSC 80...\n",
    "\n",
    "- Much of the data we get comes in the form of *text*.\n",
    "- We'll review Python's string methods and see their limitations\n",
    "- We'll learn a powerful (but arcane) method for pattern-matching: **regular expressions** "
   ]
  },
  {
   "cell_type": "markdown",
   "id": "b8900547",
   "metadata": {
    "slideshow": {
     "slide_type": "slide"
    }
   },
   "source": [
    "## Basic string methods"
   ]
  },
  {
   "cell_type": "markdown",
   "id": "7a466123",
   "metadata": {
    "slideshow": {
     "slide_type": "slide"
    }
   },
   "source": [
    "### String methods\n",
    "\n",
    "- Python's `str` type comes with a bunch of useful methods attached:"
   ]
  },
  {
   "cell_type": "code",
   "execution_count": null,
   "id": "94cff52f",
   "metadata": {},
   "outputs": [],
   "source": [
    "def print_methods(cls):\n",
    "    print('\\n'.join(m for m in dir(cls) if not m.startswith('_')))"
   ]
  },
  {
   "cell_type": "code",
   "execution_count": null,
   "id": "0a4825ad",
   "metadata": {},
   "outputs": [],
   "source": [
    "print_methods(str)"
   ]
  },
  {
   "cell_type": "markdown",
   "id": "f6b469a1",
   "metadata": {},
   "source": [
    "### Most used string methods\n",
    "\n",
    "- Some of the most commonly-used string methods are:\n",
    "    - `.split()`\n",
    "    - `.strip()` (along with `.lstrip()` and `.rstrip()`)\n",
    "    - `.startswith` and `.endswith`\n",
    "    - `.replace`\n",
    "    - `.lower()` and `.upper()`\n",
    "    - `.join()`"
   ]
  },
  {
   "cell_type": "code",
   "execution_count": null,
   "id": "eb30932f",
   "metadata": {},
   "outputs": [],
   "source": [
    "'break this into words, pls'.split()"
   ]
  },
  {
   "cell_type": "code",
   "execution_count": null,
   "id": "ca8015db",
   "metadata": {},
   "outputs": [],
   "source": [
    "'break\\nthis\\ninto\\nlines and words'.split()"
   ]
  },
  {
   "cell_type": "code",
   "execution_count": null,
   "id": "13739bbf",
   "metadata": {},
   "outputs": [],
   "source": [
    "'     this is surrounded by spaces, and I do not like that    '.strip()"
   ]
  },
  {
   "cell_type": "code",
   "execution_count": null,
   "id": "0576bcd5",
   "metadata": {},
   "outputs": [],
   "source": [
    "'WHY AM I SHOUTING?'.lower()"
   ]
  },
  {
   "cell_type": "code",
   "execution_count": null,
   "id": "11e8bd5f",
   "metadata": {},
   "outputs": [],
   "source": [
    "'-- this starts with double dashes'.startswith('--')"
   ]
  },
  {
   "cell_type": "code",
   "execution_count": null,
   "id": "c693e4cb",
   "metadata": {},
   "outputs": [],
   "source": [
    "'the answer to everything is 42'.replace('42', '(REDACTED)')"
   ]
  },
  {
   "cell_type": "code",
   "execution_count": null,
   "id": "1fe14daa",
   "metadata": {},
   "outputs": [],
   "source": [
    "' '.join(['these', 'are', 'words', 'in', 'a', 'sentence'])"
   ]
  },
  {
   "cell_type": "code",
   "execution_count": null,
   "id": "128a64dd",
   "metadata": {},
   "outputs": [],
   "source": [
    "print('\\n'.join(['this', 'is', 'how', 'to', 'print', 'lines']))"
   ]
  },
  {
   "cell_type": "code",
   "execution_count": null,
   "id": "442bd5fa",
   "metadata": {},
   "outputs": [],
   "source": [
    "import itertools\n",
    "s = 'this is the spongebob meme'\n",
    "memify = itertools.cycle([str.upper, str.lower])\n",
    "''.join(f(l) for l, f in zip(s, memify))"
   ]
  },
  {
   "cell_type": "markdown",
   "id": "56e645d2",
   "metadata": {
    "slideshow": {
     "slide_type": "slide"
    }
   },
   "source": [
    "### `pd.Series` string methods\n",
    "\n",
    "- pandas' `Series` provides many of the same string methods as Python's `str` class.\n",
    "- Work elementwise."
   ]
  },
  {
   "cell_type": "code",
   "execution_count": null,
   "id": "62ef534a",
   "metadata": {},
   "outputs": [],
   "source": [
    "print_methods(pd.Series.str)"
   ]
  },
  {
   "cell_type": "markdown",
   "id": "195fa861",
   "metadata": {
    "slideshow": {
     "slide_type": "slide"
    }
   },
   "source": [
    "### String methods are pretty powerful\n",
    "\n",
    "- We can do *much* of our string processing with Python's string methods"
   ]
  },
  {
   "cell_type": "markdown",
   "id": "d5927e79",
   "metadata": {
    "slideshow": {
     "slide_type": "slide"
    }
   },
   "source": [
    "### Example 1: Cleaning up text files\n",
    "\n",
    "- **Goal**: get a set containing all of the words in the text file (without attached punctuation)"
   ]
  },
  {
   "cell_type": "code",
   "execution_count": null,
   "id": "fe5336fa",
   "metadata": {},
   "outputs": [],
   "source": [
    "!head ./data/lorem.txt -n 3"
   ]
  },
  {
   "cell_type": "code",
   "execution_count": null,
   "id": "2ca62aba",
   "metadata": {},
   "outputs": [],
   "source": [
    "with open('./data/lorem.txt') as fh:\n",
    "    words = set(w.lower().strip('.,?') for w in fh.read().split())"
   ]
  },
  {
   "cell_type": "code",
   "execution_count": null,
   "id": "a9b5bc3f",
   "metadata": {},
   "outputs": [],
   "source": [
    "words"
   ]
  },
  {
   "cell_type": "markdown",
   "id": "2445e1d9",
   "metadata": {
    "slideshow": {
     "slide_type": "slide"
    }
   },
   "source": [
    "### Example 2: *Canonicalization*\n",
    "\n",
    "Consider the following two DataFrames (see [this presentation](https://docs.google.com/presentation/d/1xQsqa7e3xDZ9nBiekbSBOecwvQm8pSVGa-FBoV6aJ7E/edit#slide=id.g11197671c7e_0_813)) for inspiration)."
   ]
  },
  {
   "cell_type": "code",
   "execution_count": 1,
   "id": "b5a26be1",
   "metadata": {},
   "outputs": [
    {
     "ename": "NameError",
     "evalue": "name 'pd' is not defined",
     "output_type": "error",
     "traceback": [
      "\u001b[0;31m---------------------------------------------------------------------------\u001b[0m",
      "\u001b[0;31mNameError\u001b[0m                                 Traceback (most recent call last)",
      "\u001b[0;32m/var/folders/4h/d0jgk4h54fs3gtml10tb7q840000gn/T/nix-shell.sa9MK3/ipykernel_1835/2653765734.py\u001b[0m in \u001b[0;36m<module>\u001b[0;34m\u001b[0m\n\u001b[1;32m      1\u001b[0m \u001b[0;32mimport\u001b[0m \u001b[0mos\u001b[0m\u001b[0;34m\u001b[0m\u001b[0;34m\u001b[0m\u001b[0m\n\u001b[0;32m----> 2\u001b[0;31m \u001b[0mcodes\u001b[0m \u001b[0;34m=\u001b[0m \u001b[0mpd\u001b[0m\u001b[0;34m.\u001b[0m\u001b[0mread_csv\u001b[0m\u001b[0;34m(\u001b[0m\u001b[0mos\u001b[0m\u001b[0;34m.\u001b[0m\u001b[0mpath\u001b[0m\u001b[0;34m.\u001b[0m\u001b[0mjoin\u001b[0m\u001b[0;34m(\u001b[0m\u001b[0;34m'data'\u001b[0m\u001b[0;34m,\u001b[0m \u001b[0;34m'codes.csv'\u001b[0m\u001b[0;34m)\u001b[0m\u001b[0;34m)\u001b[0m\u001b[0;34m\u001b[0m\u001b[0;34m\u001b[0m\u001b[0m\n\u001b[0m\u001b[1;32m      3\u001b[0m \u001b[0mprograms\u001b[0m \u001b[0;34m=\u001b[0m \u001b[0mpd\u001b[0m\u001b[0;34m.\u001b[0m\u001b[0mread_csv\u001b[0m\u001b[0;34m(\u001b[0m\u001b[0mos\u001b[0m\u001b[0;34m.\u001b[0m\u001b[0mpath\u001b[0m\u001b[0;34m.\u001b[0m\u001b[0mjoin\u001b[0m\u001b[0;34m(\u001b[0m\u001b[0;34m'data'\u001b[0m\u001b[0;34m,\u001b[0m \u001b[0;34m'programs.csv'\u001b[0m\u001b[0;34m)\u001b[0m\u001b[0;34m)\u001b[0m\u001b[0;34m\u001b[0m\u001b[0;34m\u001b[0m\u001b[0m\n\u001b[1;32m      4\u001b[0m \u001b[0;34m\u001b[0m\u001b[0m\n\u001b[1;32m      5\u001b[0m \u001b[0mdisplay\u001b[0m\u001b[0;34m(\u001b[0m\u001b[0mcodes\u001b[0m\u001b[0;34m)\u001b[0m\u001b[0;34m\u001b[0m\u001b[0;34m\u001b[0m\u001b[0m\n",
      "\u001b[0;31mNameError\u001b[0m: name 'pd' is not defined"
     ]
    }
   ],
   "source": [
    "import os\n",
    "codes = pd.read_csv(os.path.join('data', 'codes.csv'))\n",
    "programs = pd.read_csv(os.path.join('data', 'programs.csv'))\n",
    "\n",
    "display(codes)\n",
    "display(programs)"
   ]
  },
  {
   "cell_type": "markdown",
   "id": "27c02ace",
   "metadata": {},
   "source": [
    "What would happen if we try to merge the two DataFrames on `'department'`?"
   ]
  },
  {
   "cell_type": "code",
   "execution_count": null,
   "id": "3e565ca6",
   "metadata": {},
   "outputs": [],
   "source": [
    "codes.merge(programs, on='department')"
   ]
  },
  {
   "cell_type": "markdown",
   "id": "5ae6b2b4",
   "metadata": {
    "slideshow": {
     "slide_type": "slide"
    }
   },
   "source": [
    "### String canonicalization"
   ]
  },
  {
   "cell_type": "markdown",
   "id": "bc9ca8b0",
   "metadata": {},
   "source": [
    "- One solution is to **canonicalize** both `'department'` columns, so that there is just a single way to format each department's name **in both DataFrames**. \n",
    "- We can do this by implementing a `canonicalize_department` function, which takes in a department's name as a string and reformats it.\n",
    "- `canonicalize_department` should:\n",
    "    - Fix cases (upper vs. lower).\n",
    "    - Standardize variants of words – e.g. `'eng.'` vs `'engineering'`.\n",
    "    - Fix punctuation – e.g. `'&'` vs. `'and'`."
   ]
  },
  {
   "cell_type": "code",
   "execution_count": null,
   "id": "7497fa73",
   "metadata": {},
   "outputs": [],
   "source": [
    "display(codes)\n",
    "display(programs)"
   ]
  },
  {
   "cell_type": "code",
   "execution_count": null,
   "id": "f55b8364",
   "metadata": {
    "slideshow": {
     "slide_type": "fragment"
    }
   },
   "outputs": [],
   "source": [
    "def canonicalize_department(d):\n",
    "    return (d\n",
    "           .lower()\n",
    "           .replace('sci.', 'science')\n",
    "           .replace('stud.', 'studies')\n",
    "           .replace('eng.', 'engineering')\n",
    "           .replace('&', 'and')\n",
    "           .replace('(', '- ')\n",
    "           .replace(')', '')\n",
    "           )"
   ]
  },
  {
   "cell_type": "code",
   "execution_count": null,
   "id": "ce9e1fab",
   "metadata": {},
   "outputs": [],
   "source": [
    "codes['department_clean'] = codes['department'].apply(canonicalize_department)\n",
    "programs['department_clean'] = programs['department'].apply(canonicalize_department)\n",
    "\n",
    "display(codes)\n",
    "display(programs)"
   ]
  },
  {
   "cell_type": "markdown",
   "id": "7db2f099",
   "metadata": {},
   "source": [
    "Now, we can join `codes` with `programs` on `'department_clean'`."
   ]
  },
  {
   "cell_type": "code",
   "execution_count": null,
   "id": "48e82d1c",
   "metadata": {},
   "outputs": [],
   "source": [
    "codes.merge(programs, on='department_clean')"
   ]
  },
  {
   "cell_type": "markdown",
   "id": "9548f790",
   "metadata": {
    "slideshow": {
     "slide_type": "slide"
    }
   },
   "source": [
    "### Reflection\n",
    "\n",
    "The process of **string canonicalization** is very brittle. \n",
    "- `canonicalize_department` was hyper-specific to the four department names we had access to. \n",
    "- We don't know if it'll work for other departments."
   ]
  },
  {
   "cell_type": "markdown",
   "id": "2bec32c1",
   "metadata": {
    "slideshow": {
     "slide_type": "slide"
    }
   },
   "source": [
    "### Example 3: Get all the phone numbers\n",
    "\n",
    "- **Goal**: extract all phone numbers from a piece of text\n",
    "- Assume they are of the form `(###) ###-####`\n",
    "- How do we do this with string methods?\n",
    "- Strategy:\n",
    "    - Split by spaces.\n",
    "    - Find \"words\" that look like area codes: `(330)`.\n",
    "    - Check if the following \"word\" looks like `867-5309` "
   ]
  },
  {
   "cell_type": "code",
   "execution_count": null,
   "id": "d955042f",
   "metadata": {},
   "outputs": [],
   "source": [
    "contact = '''\n",
    "Thank you for buying our expensive product!\n",
    "\n",
    "If you have a complaint, please send it to complaints@compuserve.com or call (800) 867-5309.\n",
    "\n",
    "If you are happy with your purchase, please call us at (800) 123-4567; we'd love to hear from you!\n",
    "\n",
    "Due to high demand, please allow one-hundred (100) business days for a response.\n",
    "'''"
   ]
  },
  {
   "cell_type": "code",
   "execution_count": null,
   "id": "b119405e",
   "metadata": {},
   "outputs": [],
   "source": [
    "def is_possibly_area_code(s):\n",
    "    return (\n",
    "        len(s) == 5\n",
    "        and\n",
    "        s.startswith('(') and s.endswith(')')\n",
    "        and\n",
    "        s[1:4].isnumeric()\n",
    "    )"
   ]
  },
  {
   "cell_type": "code",
   "execution_count": null,
   "id": "3f136a36",
   "metadata": {},
   "outputs": [],
   "source": [
    "is_possibly_area_code('(123)')"
   ]
  },
  {
   "cell_type": "code",
   "execution_count": null,
   "id": "fce29010",
   "metadata": {},
   "outputs": [],
   "source": [
    "is_possibly_area_code('(99)')"
   ]
  },
  {
   "cell_type": "code",
   "execution_count": null,
   "id": "e3ace085",
   "metadata": {},
   "outputs": [],
   "source": [
    "def is_phone_number(s):\n",
    "    \"\"\"T/F: does `s` look like 867-5309?\"\"\"\n",
    "    return (\n",
    "        len(s) == 8\n",
    "        and\n",
    "        s[0:3].isnumeric()\n",
    "        and\n",
    "        s[3] == '-'\n",
    "        and\n",
    "        s[4:].isnumeric()\n",
    "    )"
   ]
  },
  {
   "cell_type": "code",
   "execution_count": null,
   "id": "11c96fd1",
   "metadata": {},
   "outputs": [],
   "source": [
    "is_phone_number('867-5309')"
   ]
  },
  {
   "cell_type": "code",
   "execution_count": null,
   "id": "2c893f48",
   "metadata": {},
   "outputs": [],
   "source": [
    "# remove punctuation\n",
    "pieces = [s.rstrip('.,?;\"\\'') for s in contact.split()]\n",
    "\n",
    "for i, piece in enumerate(pieces):\n",
    "    if is_possibly_area_code(piece):\n",
    "        if is_phone_number(pieces[i+1]):\n",
    "            print(piece, pieces[i+1])"
   ]
  },
  {
   "cell_type": "markdown",
   "id": "39542d74",
   "metadata": {
    "slideshow": {
     "slide_type": "fragment"
    }
   },
   "source": [
    "- The above could result in an `IndexError`.\n",
    "- This is better (`itertools.pairwise` only exists in Python 3.10+):\n",
    "\n",
    "```python\n",
    "for first, second in itertools.pairwise(pieces):\n",
    "    if is_phone_number(second):\n",
    "        print(first, second)\n",
    "```"
   ]
  },
  {
   "cell_type": "markdown",
   "id": "6b35a012",
   "metadata": {
    "slideshow": {
     "slide_type": "slide"
    }
   },
   "source": [
    "### Is there a better way?\n",
    "\n",
    "- This was an example of **pattern matching**.\n",
    "- It can be done with string methods...\n",
    "- ...but there is often a better approach: **regular expressions**."
   ]
  },
  {
   "cell_type": "code",
   "execution_count": null,
   "id": "cd62fdbb",
   "metadata": {},
   "outputs": [],
   "source": [
    "contact = '''\n",
    "Thank you for buying our expensive product!\n",
    "\n",
    "If you have a complaint, please send it to complaints@compuserve.com or call (800) 867-5309.\n",
    "\n",
    "If you are happy with your purchase, please call us at (800) 123-4567; we'd love to hear from you!\n",
    "\n",
    "Due to high demand, please allow one-hundred (100) business days for a response.\n",
    "'''"
   ]
  },
  {
   "cell_type": "code",
   "execution_count": null,
   "id": "fbe9affc",
   "metadata": {},
   "outputs": [],
   "source": [
    "import re\n",
    "re.findall(r'\\(\\d{3}\\) \\d{3}-\\d{4}', contact)"
   ]
  },
  {
   "cell_type": "markdown",
   "id": "709c50ea",
   "metadata": {
    "slideshow": {
     "slide_type": "slide"
    }
   },
   "source": [
    "## Basic regular expressions"
   ]
  },
  {
   "cell_type": "markdown",
   "id": "8522c2f6",
   "metadata": {
    "slideshow": {
     "slide_type": "slide"
    }
   },
   "source": [
    "### Regular expressions\n",
    "\n",
    "- A regular expression, or **regex** for short, is a sequence of characters used to **match patterns in strings**.\n",
    "    - For example, `\\d{3} \\d{3}-\\d{4}` describes a **pattern** that matches US phone numbers of the form `'XXX XXX-XXXX'`.\n",
    "    - Think of regex as a \"mini-language\" (formally: they are a grammar for describing a language)\n",
    "- **Pros**:\n",
    "    - They are very powerful.\n",
    "    - Widely used (virtually every programming language, text editor, etc.)\n",
    "- **Cons**:\n",
    "    - Hard to read\n",
    "    - Lots of different \"dialects\""
   ]
  },
  {
   "cell_type": "markdown",
   "id": "fa987587",
   "metadata": {
    "slideshow": {
     "slide_type": "slide"
    }
   },
   "source": [
    "### Regular expressions in Python\n",
    "\n",
    "- Python comes with the `re` module\n",
    "- We'll explore it later.\n",
    "- For now, meet `re.fullmatch(pattern, text_to_match)`:\n",
    "    - if the `pattern` matches *all* of `text_to_match`, a `re.Match` object is returned\n",
    "    - else `None` is returned"
   ]
  },
  {
   "cell_type": "code",
   "execution_count": null,
   "id": "ffa0925b",
   "metadata": {
    "scrolled": false
   },
   "outputs": [],
   "source": [
    "import re"
   ]
  },
  {
   "cell_type": "code",
   "execution_count": null,
   "id": "d4d721e0",
   "metadata": {
    "scrolled": false
   },
   "outputs": [],
   "source": [
    "re.fullmatch(pattern='foo', string='foo')"
   ]
  },
  {
   "cell_type": "code",
   "execution_count": null,
   "id": "5baae052",
   "metadata": {
    "scrolled": false
   },
   "outputs": [],
   "source": [
    "# not matched!\n",
    "re.fullmatch(pattern='foo', string='bar')"
   ]
  },
  {
   "cell_type": "code",
   "execution_count": null,
   "id": "ff72cd16",
   "metadata": {
    "scrolled": false
   },
   "outputs": [],
   "source": [
    "# also doesn't match!\n",
    "re.fullmatch(pattern='foo', string='foo bar')"
   ]
  },
  {
   "cell_type": "markdown",
   "id": "e24ff06a",
   "metadata": {
    "slideshow": {
     "slide_type": "slide"
    }
   },
   "source": [
    "### Literal patterns\n",
    "\n",
    "- The most basic pattern consists only of literal characters.\n",
    "    - i.e., characters that have no special meaning\n",
    "- Not very useful *by itself*\n",
    "    - `==` checks for a \"full\" match\n",
    "    - `str.find` searches for a literal pattern"
   ]
  },
  {
   "cell_type": "code",
   "execution_count": null,
   "id": "a8df463d",
   "metadata": {
    "scrolled": false
   },
   "outputs": [],
   "source": [
    "re.fullmatch('foo', 'foo')"
   ]
  },
  {
   "cell_type": "code",
   "execution_count": null,
   "id": "18913487",
   "metadata": {
    "scrolled": false
   },
   "outputs": [],
   "source": [
    "re.fullmatch('foo', 'bar')"
   ]
  },
  {
   "cell_type": "markdown",
   "id": "695c8733",
   "metadata": {
    "slideshow": {
     "slide_type": "slide"
    }
   },
   "source": [
    "### Regex's special characters\n",
    "\n",
    "- The power of regexes comes from **special characters**\n",
    "    - i.e., characters that have a special meaning\n",
    "- There are many.\n",
    "- To start with, we'll look at\n",
    "    - `*`: the \"closure\" operator (repeat 0 or more times)\n",
    "    - `|`: the \"or\" operator\n",
    "    - `()`: grouping"
   ]
  },
  {
   "cell_type": "markdown",
   "id": "92aa972d",
   "metadata": {
    "slideshow": {
     "slide_type": "slide"
    }
   },
   "source": [
    "### The `*` operator: *zero or more*\n",
    "\n",
    "- `*` means: match the previous zero or more times\n",
    "- **Note**: applies only to immediately preceding character (or group)\n",
    "    - \"High precedence\""
   ]
  },
  {
   "cell_type": "code",
   "execution_count": null,
   "id": "f18380b6",
   "metadata": {
    "scrolled": false
   },
   "outputs": [],
   "source": [
    "re.fullmatch('woo*', 'wo')"
   ]
  },
  {
   "cell_type": "code",
   "execution_count": null,
   "id": "5f5d1335",
   "metadata": {
    "scrolled": false
   },
   "outputs": [],
   "source": [
    "re.fullmatch('woo*', 'wo')"
   ]
  },
  {
   "cell_type": "code",
   "execution_count": null,
   "id": "a63c6407",
   "metadata": {
    "scrolled": false
   },
   "outputs": [],
   "source": [
    "re.fullmatch('woo*', 'woo')"
   ]
  },
  {
   "cell_type": "code",
   "execution_count": null,
   "id": "40135cf4",
   "metadata": {
    "scrolled": false
   },
   "outputs": [],
   "source": [
    "re.fullmatch('woo*', 'woooooooooo')"
   ]
  },
  {
   "cell_type": "code",
   "execution_count": null,
   "id": "3ce33dd4",
   "metadata": {
    "scrolled": false
   },
   "outputs": [],
   "source": [
    "re.fullmatch('whoaa*h', 'whoaaaaaah')"
   ]
  },
  {
   "cell_type": "code",
   "execution_count": null,
   "id": "2ffd58c1",
   "metadata": {
    "scrolled": false
   },
   "outputs": [],
   "source": [
    "# matches *zero* or more times!\n",
    "re.fullmatch('z*oo', 'oo')"
   ]
  },
  {
   "cell_type": "markdown",
   "id": "af2dcb1f",
   "metadata": {},
   "source": [
    "### The `|` operator: *or*\n",
    "\n",
    "- `|` means: match if the previous pattern matches or the next pattern matches\n",
    "- **Note**: unlike `*`, has very low precedence"
   ]
  },
  {
   "cell_type": "code",
   "execution_count": 315,
   "id": "119c4dde",
   "metadata": {
    "scrolled": false
   },
   "outputs": [
    {
     "data": {
      "text/plain": [
       "<re.Match object; span=(0, 4), match='this'>"
      ]
     },
     "execution_count": 315,
     "metadata": {},
     "output_type": "execute_result"
    }
   ],
   "source": [
    "re.fullmatch('this|that', 'this')"
   ]
  },
  {
   "cell_type": "code",
   "execution_count": 316,
   "id": "3aa94c19",
   "metadata": {
    "scrolled": false
   },
   "outputs": [
    {
     "data": {
      "text/plain": [
       "<re.Match object; span=(0, 4), match='that'>"
      ]
     },
     "execution_count": 316,
     "metadata": {},
     "output_type": "execute_result"
    }
   ],
   "source": [
    "re.fullmatch('this|that', 'that')"
   ]
  },
  {
   "cell_type": "code",
   "execution_count": 317,
   "id": "a9bcc403",
   "metadata": {
    "scrolled": false
   },
   "outputs": [
    {
     "data": {
      "text/plain": [
       "<re.Match object; span=(0, 7), match='dsc 40b'>"
      ]
     },
     "execution_count": 317,
     "metadata": {},
     "output_type": "execute_result"
    }
   ],
   "source": [
    "re.fullmatch('dsc 40b|80', 'dsc 40b')"
   ]
  },
  {
   "cell_type": "code",
   "execution_count": 318,
   "id": "b97efe2d",
   "metadata": {
    "scrolled": false
   },
   "outputs": [],
   "source": [
    "# was this what you expected? this is the low precedence!\n",
    "re.fullmatch('dsc 40b|80', 'dsc 80')"
   ]
  },
  {
   "cell_type": "markdown",
   "id": "d7e4cda0",
   "metadata": {
    "slideshow": {
     "slide_type": "slide"
    }
   },
   "source": [
    "### Grouping `()`\n",
    "\n",
    "- Parens can be used to make **groups**"
   ]
  },
  {
   "cell_type": "code",
   "execution_count": 319,
   "id": "e51ea7a2",
   "metadata": {
    "scrolled": false
   },
   "outputs": [],
   "source": [
    "re.fullmatch('dsc 40b|80', 'dsc 80')"
   ]
  },
  {
   "cell_type": "code",
   "execution_count": 320,
   "id": "550ba037",
   "metadata": {
    "scrolled": false
   },
   "outputs": [
    {
     "data": {
      "text/plain": [
       "<re.Match object; span=(0, 6), match='dsc 80'>"
      ]
     },
     "execution_count": 320,
     "metadata": {},
     "output_type": "execute_result"
    }
   ],
   "source": [
    "re.fullmatch('dsc (40b|80)', 'dsc 80')"
   ]
  },
  {
   "cell_type": "code",
   "execution_count": null,
   "id": "c233b362",
   "metadata": {
    "scrolled": false
   },
   "outputs": [],
   "source": [
    "re.fullmatch('blah*', 'blahblahblah')"
   ]
  },
  {
   "cell_type": "code",
   "execution_count": null,
   "id": "aa3147ad",
   "metadata": {
    "scrolled": false
   },
   "outputs": [],
   "source": [
    "re.fullmatch('(blah)*', 'blahblahblah')"
   ]
  },
  {
   "cell_type": "markdown",
   "id": "693ce1e8",
   "metadata": {},
   "source": [
    "### Bulding regular expressions\n",
    "\n",
    "- These operators can be used in combination."
   ]
  },
  {
   "cell_type": "code",
   "execution_count": 312,
   "id": "21d8e079",
   "metadata": {},
   "outputs": [
    {
     "data": {
      "text/plain": [
       "<re.Match object; span=(0, 6), match='ababab'>"
      ]
     },
     "execution_count": 312,
     "metadata": {},
     "output_type": "execute_result"
    }
   ],
   "source": [
    "# match strings like ababab... or cdcdcd...\n",
    "pattern = '(ab)*|(cd)*'\n",
    "\n",
    "re.fullmatch(pattern, 'ababab')"
   ]
  },
  {
   "cell_type": "code",
   "execution_count": 313,
   "id": "7ba0801a",
   "metadata": {},
   "outputs": [
    {
     "data": {
      "text/plain": [
       "<re.Match object; span=(0, 6), match='cdcdcd'>"
      ]
     },
     "execution_count": 313,
     "metadata": {},
     "output_type": "execute_result"
    }
   ],
   "source": [
    "re.fullmatch(pattern, 'cdcdcd')"
   ]
  },
  {
   "cell_type": "code",
   "execution_count": 314,
   "id": "a7f69201",
   "metadata": {},
   "outputs": [],
   "source": [
    "re.fullmatch(pattern, 'abcdab')"
   ]
  },
  {
   "cell_type": "markdown",
   "id": "ccd24144",
   "metadata": {
    "slideshow": {
     "slide_type": "slide"
    }
   },
   "source": [
    "### Regex building blocks 🧱\n",
    "\n",
    "The four main building blocks for all regexes are shown below ([table source](https://www.cs.princeton.edu/courses/archive/spring17/cos226/lectures/54RegularExpressions.pdf), [inspiration](https://docs.google.com/presentation/d/1xQsqa7e3xDZ9nBiekbSBOecwvQm8pSVGa-FBoV6aJ7E/edit#slide=id.g11197671c7e_0_919)).\n",
    "\n",
    "| operation | order of op. | example | matches ✅ | does not match ❌ |\n",
    "|:--- |:---|:---|:---|:---|\n",
    "| <span style='color:purple'><b>concatenation</b></span> | 3 | `AABAAB` | `'AABAAB'` | every other string |\n",
    "| <span style='color:purple'><b>or</b></span> | 4 | `AA\\|BAAB` | `'AA'`, `'BAAB'` | every other string |\n",
    "| <span style='color:purple'><b>closure</b><br>(zero or more)</span> | 2 | `AB*A` | `'AA'`, `'ABBBBBBA'` | `'AB'`, `'ABABA'` |\n",
    "| <span style='color:purple'><b>parentheses</b></span> | 1 | `A(A\\|B)AAB` <hr style=\"height:1px\"> `(AB)*A` | `'AAAAB'`, `'ABAAB'`<hr style=\"height:1px\">`'A'`, `'ABABABABA'` | every other string<hr style=\"height:1px\">`'AA'`, `'ABBA'` |\n",
    "\n",
    "Note that `|`, `(`, `)`, and `*` are **special characters**, not literals. They manipulate the characters around them."
   ]
  },
  {
   "cell_type": "markdown",
   "id": "89dd46a1",
   "metadata": {
    "slideshow": {
     "slide_type": "fragment"
    }
   },
   "source": [
    "***Example:*** `AB*A` matches strings with an `'A'`, followed by zero or more `'B'`s, and then an `'A'`. \n",
    "\n",
    "✅ `'AA'`, `'ABA'`, `'ABBBBBBBBBBBBBBA'`<br>\n",
    "❌ `'AB'`, `'ABAB'`"
   ]
  },
  {
   "cell_type": "markdown",
   "id": "da6b2222",
   "metadata": {
    "slideshow": {
     "slide_type": "fragment"
    }
   },
   "source": [
    "***Example:*** `(AB)*A` matches strings with zero or more `'AB'`s, followed by an `'A'`.\n",
    "\n",
    "✅ `'A'`, `'ABA'`, `'ABABABABA'`<br>\n",
    "❌ `'AA'`, `'ABBBBBBBA'`, `'ABAB'`"
   ]
  },
  {
   "cell_type": "markdown",
   "id": "f78aa136",
   "metadata": {
    "slideshow": {
     "slide_type": "slide"
    }
   },
   "source": [
    "### Exercise\n",
    "\n",
    "Write a regular expression that matches `'billy'`, `'billlly'`, `'billlllly'`, etc.\n",
    "- First, think about how to match strings with any even number of `'l'`s, including zero `'l'`s (i.e. `'biy'`).\n",
    "- Then, think about how to match only strings with a **positive even** number of `'l'`s.\n",
    "\n",
    "<br><br>\n",
    "\n",
    "<details>\n",
    "<summary>\n",
    "    ✅ Click here to see the answer <b>after</b> you've tried it yourself at <a href='https://regex101.com'>regex101.com</a>.\n",
    "</summary>\n",
    "<code>bi(ll)*y</code> will match any even number of <code>'l'</code>s, including 0.\n",
    "    \n",
    "To match only a positive even number of <code>'l'</code>s, we'd need to first \"fix into place\" two <code>'l'</code>s, and then follow that up with zero or more pairs of <code>'l'</code>s. This specifies the regular expression <code>bill(ll)*y</code>.\n",
    "    </details>"
   ]
  },
  {
   "cell_type": "markdown",
   "id": "1d11162f",
   "metadata": {
    "slideshow": {
     "slide_type": "slide"
    }
   },
   "source": [
    "### Exercise\n",
    "\n",
    "Write a regular expression that matches `'billy'`, `'billlly'`, `'biggy'`, `'biggggy'`, etc.\n",
    "\n",
    "Specifically, it should match any string with a **positive even** number of `'l'`s in the middle, or a **positive even** number of `'g'`s in the middle.\n",
    "\n",
    "<br>\n",
    "\n",
    "<details>\n",
    "<summary>\n",
    "    ✅ Click here to see the answer <b>after</b> you've tried it yourself at <a href='https://regex101.com'>regex101.com</a>.\n",
    "</summary>\n",
    "\n",
    "Possible answers: <code>bi(ll(ll)\\*|gg(gg)\\*)y</code> or <code>bill(ll)\\*y|bigg(gg)\\*y</code>.\n",
    " \n",
    "<br>\n",
    "\n",
    "Note, <code>bill(ll)\\*|gg(gg)\\*y</code> is <b>not</b> a valid answer! This is because \"concatenation\" comes before \"or\" in the order of operations. This regular expression would match strings that match <code>bill(ll)\\*</code>, like <code>'billll'</code>, OR strings that match <code>gg(gg)\\*y</code>, like <code>'ggy'</code>.\n",
    "\n",
    "    \n",
    "</details>"
   ]
  },
  {
   "cell_type": "markdown",
   "id": "8dcd574c",
   "metadata": {
    "slideshow": {
     "slide_type": "slide"
    }
   },
   "source": [
    "## Intermediate regex"
   ]
  },
  {
   "cell_type": "markdown",
   "id": "7a9543a0",
   "metadata": {
    "slideshow": {
     "slide_type": "slide"
    }
   },
   "source": [
    "### More operators\n",
    "\n",
    "- There's (much) more!\n",
    "- Let's look at:\n",
    "    - `+`: repeat one or more times\n",
    "    - `{i,j}`: between i and j times\n",
    "    - `.`: wildcard\n",
    "    - `[A-z]`: character classes"
   ]
  },
  {
   "cell_type": "markdown",
   "id": "fe9ffcfa",
   "metadata": {
    "slideshow": {
     "slide_type": "slide"
    }
   },
   "source": [
    "### The `.` operator: *wildcard*\n",
    "\n",
    "- `.` matches any single character"
   ]
  },
  {
   "cell_type": "code",
   "execution_count": null,
   "id": "be8ea79a",
   "metadata": {
    "scrolled": false
   },
   "outputs": [],
   "source": [
    "re.fullmatch('.', 'a')"
   ]
  },
  {
   "cell_type": "code",
   "execution_count": null,
   "id": "6d440834",
   "metadata": {
    "scrolled": false
   },
   "outputs": [],
   "source": [
    "re.fullmatch('.', '7')"
   ]
  },
  {
   "cell_type": "code",
   "execution_count": null,
   "id": "6dd620fe",
   "metadata": {
    "scrolled": false
   },
   "outputs": [],
   "source": [
    "re.fullmatch('.', '!')"
   ]
  },
  {
   "cell_type": "code",
   "execution_count": null,
   "id": "6867c8e6",
   "metadata": {
    "scrolled": false
   },
   "outputs": [],
   "source": [
    "re.fullmatch('.', 'aa')"
   ]
  },
  {
   "cell_type": "code",
   "execution_count": null,
   "id": "af619175",
   "metadata": {
    "scrolled": false
   },
   "outputs": [],
   "source": [
    "re.fullmatch('..', 'a4')"
   ]
  },
  {
   "cell_type": "markdown",
   "id": "59a1c2e8",
   "metadata": {
    "slideshow": {
     "slide_type": "slide"
    }
   },
   "source": [
    "### The `+` operator: one or more times\n",
    "\n",
    "- `+` matches one or more repetitions of the previous pattern\n",
    "- Precedence like `*`"
   ]
  },
  {
   "cell_type": "code",
   "execution_count": null,
   "id": "cedf6f97",
   "metadata": {
    "scrolled": false
   },
   "outputs": [],
   "source": [
    "re.fullmatch('123+', '12')"
   ]
  },
  {
   "cell_type": "code",
   "execution_count": null,
   "id": "8d794266",
   "metadata": {
    "scrolled": false
   },
   "outputs": [],
   "source": [
    "re.fullmatch('123+', '123')"
   ]
  },
  {
   "cell_type": "code",
   "execution_count": null,
   "id": "6dfa073d",
   "metadata": {
    "scrolled": false
   },
   "outputs": [],
   "source": [
    "re.fullmatch('123+', '1233')"
   ]
  },
  {
   "cell_type": "code",
   "execution_count": null,
   "id": "54ab75d1",
   "metadata": {
    "scrolled": false
   },
   "outputs": [],
   "source": [
    "# equivalently\n",
    "re.fullmatch('1233*', '1233')"
   ]
  },
  {
   "cell_type": "markdown",
   "id": "dbc190ed",
   "metadata": {
    "slideshow": {
     "slide_type": "slide"
    }
   },
   "source": [
    "### `{i,j}`: repeat between i and j times\n",
    "\n",
    "- `{i,j}` matches between i and j repetitions of the previous pattern"
   ]
  },
  {
   "cell_type": "code",
   "execution_count": null,
   "id": "a064551e",
   "metadata": {
    "scrolled": false
   },
   "outputs": [],
   "source": [
    "re.fullmatch('wo{2,4}', 'wo')"
   ]
  },
  {
   "cell_type": "code",
   "execution_count": null,
   "id": "aacd33a7",
   "metadata": {
    "scrolled": false
   },
   "outputs": [],
   "source": [
    "re.fullmatch('wo{2,4}', 'woo')"
   ]
  },
  {
   "cell_type": "code",
   "execution_count": null,
   "id": "685ba3b6",
   "metadata": {
    "scrolled": false
   },
   "outputs": [],
   "source": [
    "re.fullmatch('wo{2,4}', 'wooo')"
   ]
  },
  {
   "cell_type": "code",
   "execution_count": null,
   "id": "4b67ccd0",
   "metadata": {
    "scrolled": false
   },
   "outputs": [],
   "source": [
    "re.fullmatch('wo{2,4}', 'woooo')"
   ]
  },
  {
   "cell_type": "code",
   "execution_count": null,
   "id": "ce8b6a38",
   "metadata": {
    "scrolled": false
   },
   "outputs": [],
   "source": [
    "re.fullmatch('wo{2,4}', 'wooooo')"
   ]
  },
  {
   "cell_type": "markdown",
   "id": "bf4a7077",
   "metadata": {
    "slideshow": {
     "slide_type": "slide"
    }
   },
   "source": [
    "### Character classes: `[A-z]`, etc.\n",
    "\n",
    "- Square brackets like `[]` can be used to make **character classes**\n",
    "- A character class matches anything inside the class\n",
    "- Ranges can be specified"
   ]
  },
  {
   "cell_type": "code",
   "execution_count": null,
   "id": "6e10f3e6",
   "metadata": {
    "scrolled": false
   },
   "outputs": [],
   "source": [
    "# match 0, 1, and 2\n",
    "re.fullmatch('[012]', '2')"
   ]
  },
  {
   "cell_type": "code",
   "execution_count": null,
   "id": "e88a8158",
   "metadata": {
    "scrolled": false
   },
   "outputs": [],
   "source": [
    "# match 0, 1, and 2\n",
    "re.fullmatch('[012]', '3')"
   ]
  },
  {
   "cell_type": "code",
   "execution_count": null,
   "id": "bbaf93fb",
   "metadata": {
    "scrolled": false
   },
   "outputs": [],
   "source": [
    "# match 0 through 8, but not 9 (sorry 9)\n",
    "re.fullmatch('[0-8]', '7')"
   ]
  },
  {
   "cell_type": "code",
   "execution_count": null,
   "id": "1d9c585d",
   "metadata": {
    "scrolled": false
   },
   "outputs": [],
   "source": [
    "re.fullmatch('[0-8]', '9')"
   ]
  },
  {
   "cell_type": "code",
   "execution_count": null,
   "id": "96f09b0a",
   "metadata": {
    "scrolled": false
   },
   "outputs": [],
   "source": [
    "# works for letters, too.\n",
    "# this matches all uppercase letters\n",
    "re.fullmatch('[A-Z]', 'Q')"
   ]
  },
  {
   "cell_type": "code",
   "execution_count": null,
   "id": "1c7e14ff",
   "metadata": {
    "scrolled": false
   },
   "outputs": [],
   "source": [
    "# this matches all letters\n",
    "re.fullmatch('[A-z]', 'q')"
   ]
  },
  {
   "cell_type": "code",
   "execution_count": null,
   "id": "279fafd2",
   "metadata": {
    "scrolled": false
   },
   "outputs": [],
   "source": [
    "# this matches all letters and numbers\n",
    "re.fullmatch('[A-z0-9]', '3')"
   ]
  },
  {
   "cell_type": "markdown",
   "id": "fbaafcca",
   "metadata": {
    "slideshow": {
     "slide_type": "slide"
    }
   },
   "source": [
    "### More regex syntax\n",
    "\n",
    "| operation | example | matches ✅ | does not match ❌ |\n",
    "|:--- |:---|:---|:---|\n",
    "| <span style='color:purple'><b>wildcard</b></span> | `.U.U.U.` | `'CUMULUS'`<br>`'JUGULUM'` | `'SUCCUBUS'`<br>`'TUMULTUOUS'` |\n",
    "| <span style='color:purple'><b>character class</b></span>  | `[A-Za-z][a-z]*` | `'word'`<br>`'Capitalized'` | `'camelCase'`<br>`'4illegal'` |\n",
    "| <span style='color:purple'><b>at least one</b></span> | `bi(ll)+y` | `'billy'`<br>`'billlllly'` | `'biy'`<br>`'bily'` |\n",
    "| <span style='color:purple'><b>between a and b occurrences</b></span> | `m[aeiou]{1,2}m` | `'mem'`<br>`'maam'`<br>`'miem'` | `'mm'`<br>`'mooom'`<br>`'meme'` |\n",
    "\n",
    "`.`, `[`, `]`, `+`, `{`, and `}` are also special characters, in addition to `|`, `(`, `)`, and `*`."
   ]
  },
  {
   "cell_type": "markdown",
   "id": "446dbeb8",
   "metadata": {
    "slideshow": {
     "slide_type": "fragment"
    }
   },
   "source": [
    "***Example:*** `[A-E]+` is just shortform for `(A|B|C|D|E)(A|B|C|D|E)*`."
   ]
  },
  {
   "cell_type": "markdown",
   "id": "af56ce8c",
   "metadata": {
    "slideshow": {
     "slide_type": "slide"
    }
   },
   "source": [
    "### Exercise\n",
    "\n",
    "Write a regular expression that matches any lowercase string has a repeated vowel, such as `'noon'`, `'peel'`, `'festoon'`, or `'zeebraa'`.\n",
    "\n",
    "<br>\n",
    "\n",
    "<details>\n",
    "<summary>\n",
    "    ✅ Click here to see the answer <b>after</b> you've tried it yourself at <a href='https://regex101.com'>regex101.com</a>.\n",
    "</summary>\n",
    "\n",
    "One answer: <code>[a-z]\\*(aa|ee|ii|oo|uu)[a-z]\\*</code>\n",
    " \n",
    "<br>\n",
    "\n",
    "This regular expression matches strings of lowercase characters that have <code>'aa'</code>, <code>'ee'</code>, <code>'ii'</code>, <code>'oo'</code>, or <code>'uu'</code> in them anywhere. <code>[a-z]\\*</code> means \"zero or more of any lowercase characters\"; essentially we are saying it doesn't matter what letters come before or after the double vowels, as long as the double vowels exist somewhere.\n",
    "\n",
    "    \n",
    "</details>"
   ]
  },
  {
   "cell_type": "markdown",
   "id": "afd9f8f5",
   "metadata": {
    "slideshow": {
     "slide_type": "slide"
    }
   },
   "source": [
    "### Exercise\n",
    "\n",
    "Write a regular expression that matches any string that contains **both** a lowercase letter and a number, in any order. Examples include `'billy80'`, `'80!!billy'`, and `'bil8ly0'`.\n",
    "\n",
    "<br>\n",
    "\n",
    "<details>\n",
    "<summary>\n",
    "    ✅ Click here to see the answer <b>after</b> you've tried it yourself at <a href='https://regex101.com'>regex101.com</a>.\n",
    "</summary>\n",
    "\n",
    "One answer: <code>(.\\*[a-z].\\*[0-9].\\*)|(.\\*[0-9].\\*[a-z].\\*)</code>\n",
    " \n",
    "<br>\n",
    "\n",
    "We can break the above regex into two parts – everything before the `|`, and everything after the `|`.\n",
    "\n",
    "The first part, <code>.\\*[a-z].\\*[0-9].\\*</code>, matches strings in which there is at least one lowercase character and at least one digit, with the lowercase character coming first.\n",
    "\n",
    "The second part, <code>.\\*[0-9].\\*[a-z].\\*</code>, matches strings in which there is at least one lowercase character and at least one digit, with the digit coming first.\n",
    "    \n",
    "Note, the <code>.\\*</code> between the digit and letter classes is needed in the event the string has non-digit and non-letter characters.\n",
    "\n",
    "    \n",
    "</details>"
   ]
  },
  {
   "cell_type": "markdown",
   "id": "43fc06d9",
   "metadata": {
    "slideshow": {
     "slide_type": "slide"
    }
   },
   "source": [
    "### Escaping special characters\n",
    "\n",
    "- `.`, `+`, `?`, etc. are **special characters**. But what if we want a literal `.`?\n",
    "- To match a special character (e.g. `.` or `*`) as a literal, place a `\\` right before it to **escape** it."
   ]
  },
  {
   "cell_type": "code",
   "execution_count": null,
   "id": "63e2eebb",
   "metadata": {
    "scrolled": false
   },
   "outputs": [],
   "source": [
    "re.fullmatch('.', '.')"
   ]
  },
  {
   "cell_type": "code",
   "execution_count": null,
   "id": "47b2d4c7",
   "metadata": {
    "scrolled": false
   },
   "outputs": [],
   "source": [
    "re.fullmatch('.', 'a')"
   ]
  },
  {
   "cell_type": "code",
   "execution_count": null,
   "id": "90dcdff2",
   "metadata": {
    "scrolled": false
   },
   "outputs": [],
   "source": [
    "re.fullmatch('\\.', '.')"
   ]
  },
  {
   "cell_type": "code",
   "execution_count": null,
   "id": "3c232148",
   "metadata": {
    "scrolled": false
   },
   "outputs": [],
   "source": [
    "re.fullmatch('\\.', 'a')"
   ]
  },
  {
   "cell_type": "markdown",
   "id": "14fd61c9",
   "metadata": {
    "slideshow": {
     "slide_type": "slide"
    }
   },
   "source": [
    "### Anchors ⚓️\n",
    "\n",
    "- Place `^` at the start of a regex to require that the match string is **at the start** of the line.\n",
    "- Place `$` at the end of a regex to require that the match string is **at the end** of the line.\n",
    "- `re.fullmatch` implicitly adds a `^` to start of the pattern, and a `$` to the end"
   ]
  },
  {
   "cell_type": "markdown",
   "id": "8711e7fd",
   "metadata": {
    "slideshow": {
     "slide_type": "slide"
    }
   },
   "source": [
    "### Builtin character classes\n",
    "\n",
    "- Python's `re` comes with some builtin character classes:\n",
    "    - `\\d`: digits\n",
    "    - `\\s`: whitespace\n",
    "    - `\\w`: alphanumeric \"word\" characters (`[A-Z][a-z][0-9]_`)\n",
    "    - `\\b`: word boundary\n",
    "- When using these, it is a good idea to use \"raw strings\" (`r\"this is a raw string\"`) for the pattern string!"
   ]
  },
  {
   "cell_type": "code",
   "execution_count": 321,
   "id": "77d21a35",
   "metadata": {
    "scrolled": false
   },
   "outputs": [
    {
     "data": {
      "text/plain": [
       "<re.Match object; span=(0, 12), match='123 456-7890'>"
      ]
     },
     "execution_count": 321,
     "metadata": {},
     "output_type": "execute_result"
    }
   ],
   "source": [
    "re.fullmatch('\\d{3} \\d{3}-\\d{4}', '123 456-7890')"
   ]
  },
  {
   "cell_type": "code",
   "execution_count": 322,
   "id": "946bd7da",
   "metadata": {
    "scrolled": false
   },
   "outputs": [
    {
     "data": {
      "text/plain": [
       "['cat', 'cat']"
      ]
     },
     "execution_count": 322,
     "metadata": {},
     "output_type": "execute_result"
    }
   ],
   "source": [
    "re.findall('cat', 'my cat is catatonic : (')"
   ]
  },
  {
   "cell_type": "code",
   "execution_count": 323,
   "id": "e3007229",
   "metadata": {
    "scrolled": false
   },
   "outputs": [
    {
     "data": {
      "text/plain": [
       "[]"
      ]
     },
     "execution_count": 323,
     "metadata": {},
     "output_type": "execute_result"
    }
   ],
   "source": [
    "re.findall('\\bcat\\b', 'my cat is catatonic : (')"
   ]
  },
  {
   "cell_type": "code",
   "execution_count": 324,
   "id": "746e0653",
   "metadata": {
    "scrolled": false
   },
   "outputs": [
    {
     "data": {
      "text/plain": [
       "['cat']"
      ]
     },
     "execution_count": 324,
     "metadata": {},
     "output_type": "execute_result"
    }
   ],
   "source": [
    "re.findall(r'\\bcat\\b', 'my cat is catatonic : (')"
   ]
  },
  {
   "cell_type": "markdown",
   "id": "913b91f1",
   "metadata": {
    "slideshow": {
     "slide_type": "slide"
    }
   },
   "source": [
    "### Even more regex syntax\n",
    "\n",
    "| operation | example | matches ✅ | does not match ❌ |\n",
    "|:--- |:---|:---|:---|\n",
    "| <span style='color:purple'><b>escape character</b></span> | `ucsd\\.edu` | `'ucsd.edu'` | `'ucsd!edu'` |\n",
    "| <span style='color:purple'><b>beginning of line</b></span> | `^ark` | `'ark two'`<br>`'ark o ark'` | `'dark'` |\n",
    "| <span style='color:purple'><b>end of line</b></span>  | `ark$` | `'dark'`<br>`'ark o ark'` | `'ark two'` |\n",
    "| <span style='color:purple'><b>zero or one</b></span> | `cat?` | `'ca'`<br>`'cat'` | `'cart'` (matches `'ca'` only) |\n",
    "| <span style='color:purple'><b>built-in character classes*</b></span> | `\\w+` <br> `\\d+` | `'billy'`<br>`'231231'` | `'this person'`<br>`'858 people'` |\n",
    "| <span style='color:purple'><b>character class negation</b></span> | `[^a-z]+` | `'KINGTRITON551'`<br>`'1721$$'` | `'porch'`<br>`'billy.edu'` |\n",
    "\n",
    "***Note:*** \n",
    "- `\\d` refers to digits\n",
    "- `\\w` refers to alphanumeric characters (`[A-Z][a-z][0-9]_`)\n",
    "- `\\s` refers to whitespace\n",
    "- `\\b` is a word boundary"
   ]
  },
  {
   "cell_type": "markdown",
   "id": "341188f4",
   "metadata": {
    "slideshow": {
     "slide_type": "slide"
    }
   },
   "source": [
    "### Exercise\n",
    "\n",
    "Write a regular expression that matches any string that:\n",
    "- is between 5 and 10 characters long, and\n",
    "- is made up of only vowels (either uppercase or lowercase, including `'Y'` and `'y'`), periods, and spaces.\n",
    "\n",
    "Examples include `'yoo.ee.IOU'` and `'AI.I oey'`.\n",
    "\n",
    "<br>\n",
    "\n",
    "<details>\n",
    "<summary>\n",
    "    ✅ Click here to see the answer <b>after</b> you've tried it yourself at <a href='https://regex101.com'>regex101.com</a>.\n",
    "</summary>\n",
    "\n",
    "One answer: <code>^[aeiouyAEIOUY. ]{5,10}$</code>\n",
    " \n",
    "<br>\n",
    "\n",
    "<b>Key idea:</b> Within a character class (i.e. <code>[...]</code>), special characters do not generally need to be escaped.\n",
    "\n",
    "\n",
    "    \n",
    "</details>"
   ]
  },
  {
   "cell_type": "markdown",
   "id": "8ff80c91",
   "metadata": {
    "slideshow": {
     "slide_type": "slide"
    }
   },
   "source": [
    "## Regex in Python"
   ]
  },
  {
   "cell_type": "markdown",
   "id": "cca5c69e",
   "metadata": {
    "slideshow": {
     "slide_type": "slide"
    }
   },
   "source": [
    "### `re` in Python\n",
    "\n",
    "The `re` package is built into Python. It allows us to use regular expressions to find, extract, and replace strings."
   ]
  },
  {
   "cell_type": "code",
   "execution_count": 325,
   "id": "d7975276",
   "metadata": {
    "scrolled": false
   },
   "outputs": [],
   "source": [
    "import re"
   ]
  },
  {
   "cell_type": "markdown",
   "id": "0b163e6d",
   "metadata": {
    "slideshow": {
     "slide_type": "fragment"
    }
   },
   "source": [
    "`re.search` takes in a string `regex` and a string `text` and returns the location and substring corresponding to the **first** match of `regex` in `text`."
   ]
  },
  {
   "cell_type": "code",
   "execution_count": 326,
   "id": "cb7fa5a1",
   "metadata": {
    "scrolled": false
   },
   "outputs": [
    {
     "data": {
      "text/plain": [
       "<re.Match object; span=(26, 31), match='ABBBA'>"
      ]
     },
     "execution_count": 326,
     "metadata": {},
     "output_type": "execute_result"
    }
   ],
   "source": [
    "re.search('AB*A', 'here is a string for you: ABBBA. here is another: ABBBBBBBA')"
   ]
  },
  {
   "cell_type": "markdown",
   "id": "33f97af5",
   "metadata": {
    "slideshow": {
     "slide_type": "fragment"
    }
   },
   "source": [
    "`re.findall` takes in a string `regex` and a string `text` and returns a list of all matches of `regex` in `text`."
   ]
  },
  {
   "cell_type": "code",
   "execution_count": 327,
   "id": "7b844ea2",
   "metadata": {
    "scrolled": false
   },
   "outputs": [
    {
     "data": {
      "text/plain": [
       "['ABBBA', 'ABBBBBBBA']"
      ]
     },
     "execution_count": 327,
     "metadata": {},
     "output_type": "execute_result"
    }
   ],
   "source": [
    "re.findall('AB*A', 'here is a string for you: ABBBA. here is another: ABBBBBBBA')"
   ]
  },
  {
   "cell_type": "markdown",
   "id": "2fb64933",
   "metadata": {
    "slideshow": {
     "slide_type": "fragment"
    }
   },
   "source": [
    "`re.sub` takes in a string `regex`, a string `repl`, and a string `text`, and replaces all matches of `regex` in `text` with `repl`."
   ]
  },
  {
   "cell_type": "code",
   "execution_count": 328,
   "id": "60d5f0ef",
   "metadata": {
    "scrolled": false
   },
   "outputs": [
    {
     "data": {
      "text/plain": [
       "'here is a string for you: billy. here is another: billy'"
      ]
     },
     "execution_count": 328,
     "metadata": {},
     "output_type": "execute_result"
    }
   ],
   "source": [
    "re.sub('AB*A', 'billy', 'here is a string for you: ABBBA. here is another: ABBBBBBBA')"
   ]
  },
  {
   "cell_type": "markdown",
   "id": "26835235",
   "metadata": {
    "slideshow": {
     "slide_type": "slide"
    }
   },
   "source": [
    "### Capture groups\n",
    "* Surround a regex with `(` and `)` to define a **capture group** within a pattern.\n",
    "- Capture groups are useful for extracting relevant parts of a string."
   ]
  },
  {
   "cell_type": "code",
   "execution_count": 329,
   "id": "d9d1c6f6",
   "metadata": {
    "scrolled": false
   },
   "outputs": [
    {
     "data": {
      "text/plain": [
       "['notucsd', 'ucsd']"
      ]
     },
     "execution_count": 329,
     "metadata": {},
     "output_type": "execute_result"
    }
   ],
   "source": [
    "re.findall(r'\\w+@(\\w+)\\.edu', 'my old email was billy@notucsd.edu, my new email is notbilly@ucsd.edu')"
   ]
  },
  {
   "cell_type": "markdown",
   "id": "b69c9a08",
   "metadata": {},
   "source": [
    "- Notice what happens if we remove the `(` and `)`!"
   ]
  },
  {
   "cell_type": "code",
   "execution_count": 330,
   "id": "804ad476",
   "metadata": {
    "scrolled": false
   },
   "outputs": [
    {
     "data": {
      "text/plain": [
       "['billy@notucsd.edu', 'notbilly@ucsd.edu']"
      ]
     },
     "execution_count": 330,
     "metadata": {},
     "output_type": "execute_result"
    }
   ],
   "source": [
    "re.findall(r'\\w+@\\w+\\.edu', 'my old email was billy@notucsd.edu, my new email is notbilly@ucsd.edu')"
   ]
  },
  {
   "cell_type": "markdown",
   "id": "b0bf2ddf",
   "metadata": {},
   "source": [
    "- Earlier, we also saw that parentheses can be used to group parts of a regex together. When using `re.findall`, all groups are treated as capturing groups."
   ]
  },
  {
   "cell_type": "code",
   "execution_count": 331,
   "id": "52166d62",
   "metadata": {
    "scrolled": false
   },
   "outputs": [
    {
     "data": {
      "text/plain": [
       "[('oo', '124')]"
      ]
     },
     "execution_count": 331,
     "metadata": {},
     "output_type": "execute_result"
    }
   ],
   "source": [
    "# A regex that matches strings with two of the same vowel followed by 3 digits\n",
    "# We only want to capture the digits, but...\n",
    "re.findall(r'(aa|ee|ii|oo|uu)(\\d{3})', 'eeoo124')"
   ]
  },
  {
   "cell_type": "markdown",
   "id": "7adaa878",
   "metadata": {
    "slideshow": {
     "slide_type": "slide"
    }
   },
   "source": [
    "## Example: Log parsing"
   ]
  },
  {
   "cell_type": "markdown",
   "id": "5ada4a83",
   "metadata": {
    "slideshow": {
     "slide_type": "slide"
    }
   },
   "source": [
    "Web servers typically record every request made of them in the \"logs\"."
   ]
  },
  {
   "cell_type": "code",
   "execution_count": 333,
   "id": "ee71e85e",
   "metadata": {
    "scrolled": false,
    "slideshow": {
     "slide_type": "-"
    }
   },
   "outputs": [],
   "source": [
    "s = '''132.249.20.188 - - [05/May/2022:14:26:15 -0800] \"GET /my/home/ HTTP/1.1\" 200 2585'''"
   ]
  },
  {
   "cell_type": "markdown",
   "id": "b1edd1f0",
   "metadata": {},
   "source": [
    "Let's use our new regex syntax (including capturing groups) to extract the day, month, year, and time from the log string `s`."
   ]
  },
  {
   "cell_type": "code",
   "execution_count": 334,
   "id": "05ef4b26",
   "metadata": {
    "scrolled": false
   },
   "outputs": [
    {
     "data": {
      "text/plain": [
       "[('05', 'May', '2022', '14', '26', '15')]"
      ]
     },
     "execution_count": 334,
     "metadata": {},
     "output_type": "execute_result"
    }
   ],
   "source": [
    "exp = '\\[(.+)\\/(.+)\\/(.+):(.+):(.+):(.+) .+\\]'\n",
    "re.findall(exp, s)"
   ]
  },
  {
   "cell_type": "markdown",
   "id": "3e603b67",
   "metadata": {
    "slideshow": {
     "slide_type": "fragment"
    }
   },
   "source": [
    "While above regex works, it is not very **specific**. It _works_ on incorrectly formatted log strings."
   ]
  },
  {
   "cell_type": "code",
   "execution_count": 335,
   "id": "d8f01fdb",
   "metadata": {
    "scrolled": false
   },
   "outputs": [
    {
     "data": {
      "text/plain": [
       "[('adr', 'jduy', 'wffsdffs', 'r4s4', '4wsgdfd', 'asdf')]"
      ]
     },
     "execution_count": 335,
     "metadata": {},
     "output_type": "execute_result"
    }
   ],
   "source": [
    "other_s = '[adr/jduy/wffsdffs:r4s4:4wsgdfd:asdf 7]'\n",
    "re.findall(exp, other_s)"
   ]
  },
  {
   "cell_type": "markdown",
   "id": "1852bb2d",
   "metadata": {
    "slideshow": {
     "slide_type": "slide"
    }
   },
   "source": [
    "### The more specific, the better!\n",
    "* Be as specific in your pattern matching as possible – you don't want to match and extract strings that don't fit the pattern you care about.\n",
    "    - `.*` matches every possible string, but we don't use it very often.\n",
    "    \n",
    "* A better date extraction regex:\n",
    "```\n",
    "\\[(\\d{2})\\/([A-Z]{1}[a-z]{2})\\/(\\d{4}):(\\d{2}):(\\d{2}):(\\d{2}) -\\d{4}\\]\n",
    "```\n",
    "\n",
    "    * `\\d{2}` matches any 2-digit number.\n",
    "    * `[A-Z]{1}` matches any single occurrence of any uppercase letter.\n",
    "    * `[a-z]{2}` matches any 2 consecutive occurrences of lowercase letters.\n",
    "    * Remember, special characters (`[`, `]`, `/`) need to be escaped with `\\`."
   ]
  },
  {
   "cell_type": "code",
   "execution_count": 336,
   "id": "fb303867",
   "metadata": {
    "scrolled": false
   },
   "outputs": [
    {
     "data": {
      "text/plain": [
       "'132.249.20.188 - - [05/May/2022:14:26:15 -0800] \"GET /my/home/ HTTP/1.1\" 200 2585'"
      ]
     },
     "execution_count": 336,
     "metadata": {},
     "output_type": "execute_result"
    }
   ],
   "source": [
    "s"
   ]
  },
  {
   "cell_type": "code",
   "execution_count": 337,
   "id": "44d58a0a",
   "metadata": {
    "scrolled": false
   },
   "outputs": [
    {
     "data": {
      "text/plain": [
       "[('05', 'May', '2022', '14', '26', '15')]"
      ]
     },
     "execution_count": 337,
     "metadata": {},
     "output_type": "execute_result"
    }
   ],
   "source": [
    "new_exp = '\\[(\\d{2})\\/([A-Z]{1}[a-z]{2})\\/(\\d{4}):(\\d{2}):(\\d{2}):(\\d{2}) -\\d{4}\\]'\n",
    "re.findall(new_exp, s)"
   ]
  },
  {
   "cell_type": "markdown",
   "id": "4509136f",
   "metadata": {},
   "source": [
    "A benefit of `new_exp` over `exp` is that it doesn't capture anything when the string doesn't follow the format we specified."
   ]
  },
  {
   "cell_type": "code",
   "execution_count": 338,
   "id": "2913ebe5",
   "metadata": {
    "scrolled": false
   },
   "outputs": [
    {
     "data": {
      "text/plain": [
       "'[adr/jduy/wffsdffs:r4s4:4wsgdfd:asdf 7]'"
      ]
     },
     "execution_count": 338,
     "metadata": {},
     "output_type": "execute_result"
    }
   ],
   "source": [
    "other_s"
   ]
  },
  {
   "cell_type": "code",
   "execution_count": 339,
   "id": "5119c1c7",
   "metadata": {
    "scrolled": false
   },
   "outputs": [
    {
     "data": {
      "text/plain": [
       "[]"
      ]
     },
     "execution_count": 339,
     "metadata": {},
     "output_type": "execute_result"
    }
   ],
   "source": [
    "re.findall(new_exp, other_s)"
   ]
  },
  {
   "cell_type": "markdown",
   "id": "3baa15b9",
   "metadata": {
    "slideshow": {
     "slide_type": "slide"
    }
   },
   "source": [
    "## Limitations"
   ]
  },
  {
   "cell_type": "markdown",
   "id": "fdb4dfe4",
   "metadata": {
    "slideshow": {
     "slide_type": "slide"
    }
   },
   "source": [
    "### Limitations of regexes\n",
    "\n",
    "Writing a regular expression is like writing a program.\n",
    "* You need to know the syntax well.\n",
    "* They can be easier to write than to read.\n",
    "* They can be difficult to debug.\n",
    "\n",
    "Regular expressions are terrible at certain types of problems. Examples:\n",
    "* Anything involving counting (same number of instances of a and b).\n",
    "* Anything involving complex structure (palindromes).\n",
    "* Parsing highly complex text structure ([HTML](https://stackoverflow.com/questions/1732348/regex-match-open-tags-except-xhtml-self-contained-tags), for instance)."
   ]
  },
  {
   "cell_type": "markdown",
   "id": "33d56917",
   "metadata": {
    "slideshow": {
     "slide_type": "slide"
    }
   },
   "source": [
    "Below is a regular expression that validates email addresses in Perl. See [this article](http://www.ex-parrot.com/~pdw/Mail-RFC822-Address.html) for more details.\n",
    "\n",
    "\n",
    "\n",
    "<center><img src=\"imgs/image_8.png\" width=700></center>"
   ]
  },
  {
   "cell_type": "markdown",
   "id": "e73f878e",
   "metadata": {
    "slideshow": {
     "slide_type": "slide"
    }
   },
   "source": [
    "StackOverflow crashed due to regex! See [this article](https://stackstatus.net/post/147710624694/outage-postmortem-july-20-2016) for the details.\n",
    "\n",
    "<center><img src='imgs/so_regex.png' width=60%></center>"
   ]
  },
  {
   "cell_type": "markdown",
   "id": "00c7b4a9",
   "metadata": {
    "slideshow": {
     "slide_type": "slide"
    }
   },
   "source": [
    "### Summary\n",
    "\n",
    "- Regular expressions are used to match and extract patterns from text.\n",
    "- You don't need to force yourself to \"memorize\" regex syntax – refer to the resources in the [Agenda](#Agenda) section of the lecture and on the [Resources](https://dsc80.com/resources#regular-expressions) tab of the course website.\n",
    "- Also refer to the three tables of syntax in the lecture:\n",
    "    - [Regex building blocks](#Regex-building-blocks-🧱).\n",
    "    - [More regex syntax](#More-regex-syntax).\n",
    "    - [Even more regex syntax](#Even-more-regex-syntax).\n",
    "- **Note:** You don't always have to use regular expressions! If Python/`pandas` string methods work for your task, you can still use those.\n",
    "- **Play [Regex Golf](https://alf.nu/RegexGolf?world=regex&level=r00) to practice!** 🏌️\n",
    "- **Next time:** Using regular expressions in `pandas` (through `.str`). Describing text data quantitatively."
   ]
  },
  {
   "cell_type": "markdown",
   "id": "8905a89f",
   "metadata": {
    "slideshow": {
     "slide_type": "slide"
    }
   },
   "source": [
    "### Resources\n",
    "\n",
    "Lots and lots of regular expressions! Good resources:\n",
    "- [regex101.com](https://regex101.com), a helpful site to have open while writing regular expressions.\n",
    "- Python [`re` library documentation](https://docs.python.org/3/library/re.html) and [how-to](https://docs.python.org/3/howto/regex.html).\n",
    "    - The \"how-to\" is great, read it!\n",
    "- [regex \"cheat sheet\"](https://dsc80.com/resources/other/berkeley-regex-reference.pdf) (taken from [here](https://ds100.org/sp22/resources/)).\n",
    "\n",
    "See [dsc80.com/resources/#regular-expressions](https://dsc80.com/resources/#regular-expressions)."
   ]
  }
 ],
 "metadata": {
  "celltoolbar": "Slideshow",
  "kernelspec": {
   "display_name": "Python 3 (ipykernel)",
   "language": "python",
   "name": "python3"
  },
  "language_info": {
   "codemirror_mode": {
    "name": "ipython",
    "version": 3
   },
   "file_extension": ".py",
   "mimetype": "text/x-python",
   "name": "python",
   "nbconvert_exporter": "python",
   "pygments_lexer": "ipython3",
   "version": "3.9.6"
  },
  "rise": {
   "transition": "none"
  }
 },
 "nbformat": 4,
 "nbformat_minor": 5
}
