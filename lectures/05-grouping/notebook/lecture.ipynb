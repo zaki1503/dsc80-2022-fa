{
 "cells": [
  {
   "cell_type": "code",
   "execution_count": null,
   "id": "5464d3aa",
   "metadata": {},
   "outputs": [],
   "source": [
    "import pandas as pd\n",
    "import numpy as np\n",
    "\n",
    "import matplotlib.pyplot as plt\n",
    "plt.rcParams['figure.figsize'] = (10, 5)\n"
   ]
  },
  {
   "cell_type": "markdown",
   "id": "ce9e66d9",
   "metadata": {},
   "source": [
    "# Lecture 05 - Grouping\n",
    "\n",
    "## DSC 80, Fall 2022"
   ]
  },
  {
   "cell_type": "markdown",
   "id": "6ae2dd05",
   "metadata": {
    "slideshow": {
     "slide_type": "slide"
    }
   },
   "source": [
    "## Today, in DSC 80...\n",
    "\n",
    "- Data comes in varying levels of detail (**granularity**)\n",
    "- How do we go from very fine granularity to **aggregated** data?"
   ]
  },
  {
   "cell_type": "markdown",
   "id": "6b40592b",
   "metadata": {
    "slideshow": {
     "slide_type": "slide"
    }
   },
   "source": [
    "## Announcements 📣\n",
    "\n",
    "- "
   ]
  },
  {
   "cell_type": "markdown",
   "id": "cc6f59c1",
   "metadata": {
    "slideshow": {
     "slide_type": "slide"
    }
   },
   "source": [
    "## Data granularity"
   ]
  },
  {
   "cell_type": "markdown",
   "id": "50cb0159",
   "metadata": {
    "slideshow": {
     "slide_type": "slide"
    }
   },
   "source": [
    "### Granularity\n",
    "\n",
    "- **Granularity** refers to the level of detail present in data.\n",
    "    - Fine: small details.\n",
    "    - Coarse: bigger picture.\n",
    "- Typically, rows in a DataFrame correspond to individuals, and columns correspond to attributes.\n",
    "- In the following example, what is an individual?"
   ]
  },
  {
   "cell_type": "markdown",
   "id": "87cde7d8",
   "metadata": {
    "slideshow": {
     "slide_type": "fragment"
    }
   },
   "source": [
    "| Name | Assignment | Score |\n",
    "| --- | --- | --- |\n",
    "| Billy | Homework 1 | 94 |\n",
    "| Sally | Homework 1 | 98 |\n",
    "| Molly | Homework 1 | 82 |\n",
    "| Sally | Homework 2 | 47 |"
   ]
  },
  {
   "cell_type": "markdown",
   "id": "41164adc",
   "metadata": {
    "slideshow": {
     "slide_type": "slide"
    }
   },
   "source": [
    "### Levels of granularity\n",
    "\n",
    "<center><img src='imgs/caper.png' width=30%></center>\n",
    "\n",
    "Each student submits CAPEs once for each course they are in."
   ]
  },
  {
   "cell_type": "markdown",
   "id": "2219c66f",
   "metadata": {
    "slideshow": {
     "slide_type": "fragment"
    }
   },
   "source": [
    "| Student Name | Quarter | Course | Instructor | Recommend? | Expected Grade | Hours Per Week | Comments |\n",
    "| --- | --- | --- | --- | --- | --- | --- | --- |\n",
    "| Billy | SP22 | DSC 80 | Suraj Rampure | No | A- | 14 | I hate this class |\n",
    "| Billy | SP22 | DSC 40B | Arya Mazumdar | Yes | B+ | 9 | go big O |\n",
    "| Sally | SP22 | DSC 10 | Janine Tiefenbruck | Yes | A | 11 | babypandas are so cute |\n",
    "| Molly | SP22 | DSC 80 | Suraj Rampure | Yes | A+ | 2 | I wish there was music in class |\n",
    "| Billy | SP22 | DSC 190 | Justin Eldridge | No | B+ | 7 | Wears too much flannel |"
   ]
  },
  {
   "cell_type": "markdown",
   "id": "c5535331",
   "metadata": {
    "slideshow": {
     "slide_type": "fragment"
    }
   },
   "source": [
    "Only instructors can see individual responses. At [cape.ucsd.edu](https://cape.ucsd.edu), only overall class statistics are visible."
   ]
  },
  {
   "cell_type": "markdown",
   "id": "db184218",
   "metadata": {
    "slideshow": {
     "slide_type": "fragment"
    }
   },
   "source": [
    "| Quarter | Course | Instructor | Recommend (%) | Expected Grade | Hours Per Week |\n",
    "| --- | --- | --- | --- | --- | --- |\n",
    "| SP22 | DSC 80 | Suraj Rampure | 23% | 3.15 (B) | 13.32 |\n",
    "| SP22 | DSC 40B | Arya Mazumdar | 89% | 3.35 (B+) | 8.54 |\n",
    "| SP22 | DSC 10 | Janine Tiefenbruck | 94% | 3.45 (B+) | 11.49 |\n",
    "| SP22 | DSC 190 | Justin Eldridge | 24% | 3.5 (B+) | 9.21"
   ]
  },
  {
   "cell_type": "markdown",
   "id": "fda8ae78",
   "metadata": {
    "slideshow": {
     "slide_type": "fragment"
    }
   },
   "source": [
    "The university may be interested in looking at CAPEs results by department."
   ]
  },
  {
   "cell_type": "markdown",
   "id": "c7cea408",
   "metadata": {
    "slideshow": {
     "slide_type": "fragment"
    }
   },
   "source": [
    "| Quarter | Department | Recommend (%) | Expected Grade | Hours Per Week |\n",
    "| --- | --- | --- | --- | --- |\n",
    "| SP22 | DSC | 91% | 3.01 (B) | 12.29 |\n",
    "| SP22 | BILD | 85% | 2.78 (C+) | 13.21 |"
   ]
  },
  {
   "cell_type": "markdown",
   "id": "a0d1fef8",
   "metadata": {
    "slideshow": {
     "slide_type": "fragment"
    }
   },
   "source": [
    "Prospective students may be interested in comparing course evaluations across different universities."
   ]
  },
  {
   "cell_type": "markdown",
   "id": "25b59160",
   "metadata": {
    "slideshow": {
     "slide_type": "fragment"
    }
   },
   "source": [
    "| University | Recommend (%) | Average GPA | Hours Per Week |\n",
    "| --- | --- | --- | --- |\n",
    "| UC San Diego | 94% | 3.12 (B) | 42.19 |\n",
    "| UC Irvine | 89% | 3.15 (B) | 38.44 |\n",
    "| SDSU | 88% | 2.99 (B-) | 36.89 |"
   ]
  },
  {
   "cell_type": "markdown",
   "id": "73f75b24",
   "metadata": {
    "slideshow": {
     "slide_type": "slide"
    }
   },
   "source": [
    "### Collecting data\n",
    "\n",
    "- If you can control how your dataset is created then you should opt for **finer granularity** (more detail).\n",
    "- You can always remove detail, but you cannot add detail if it is not already present in the dataset.\n",
    "- However, obtaining fine-grained data can take more time and space."
   ]
  },
  {
   "cell_type": "markdown",
   "id": "c35de597",
   "metadata": {
    "slideshow": {
     "slide_type": "slide"
    }
   },
   "source": [
    "### Manipulating granularity\n",
    "\n",
    "- In the CAPEs example, we looked at the same information (course evaluations) at varying levels of detail.\n",
    "- We'll now explore how to change the level of granularity present in our dataset.\n",
    "    - While it may seem like we are \"losing information,\" removing detail can help us understand bigger-picture trends in our data (reduces **noise**)."
   ]
  },
  {
   "cell_type": "markdown",
   "id": "13c8185e",
   "metadata": {
    "slideshow": {
     "slide_type": "slide"
    }
   },
   "source": [
    "### Discussion Question\n",
    "\n",
    "What is the average number of `'Years'` for each `'Degree'`? Write code that finds the answer as a **Series** indexed by `'Degree'`."
   ]
  },
  {
   "cell_type": "code",
   "execution_count": null,
   "id": "4fbf96ad",
   "metadata": {},
   "outputs": [],
   "source": [
    "profs = pd.DataFrame(\n",
    "[['Brad', 'UCB', 8, 'Neuro', 'Orange'],\n",
    " ['Janine', 'UCSD', 7, 'Math', 'Purple'],\n",
    " ['Marina', 'UIC', 6, 'CS', 'Yellow'],\n",
    " ['Justin', 'OSU', 7, 'CS', 'Yellow'],\n",
    " ['Aaron', 'UCB', 4, 'Math', 'Purple'],\n",
    " ['Soohyun', 'UCSD', 1, 'CS', 'Orange'],\n",
    " ['Suraj', 'UCB', 1, 'CS', 'Purple']],\n",
    "    columns=['Name', 'School', 'Years', 'Degree', 'Color']\n",
    ")\n",
    "\n",
    "profs"
   ]
  },
  {
   "cell_type": "markdown",
   "id": "ac5975ff",
   "metadata": {
    "slideshow": {
     "slide_type": "slide"
    }
   },
   "source": [
    "### Approach 1: Looping through unique values"
   ]
  },
  {
   "cell_type": "code",
   "execution_count": null,
   "id": "23b6751f",
   "metadata": {},
   "outputs": [],
   "source": [
    "year_map = {}\n",
    "for degree in profs['Degree'].unique():\n",
    "    degree_only = profs.loc[profs['Degree'] == degree]\n",
    "    year_map[degree] = degree_only['Years'].mean()\n",
    "    \n",
    "pd.Series(year_map)"
   ]
  },
  {
   "cell_type": "markdown",
   "id": "da7b6844",
   "metadata": {},
   "source": [
    "- For each unique `'Degree'`, we make a pass through the entire dataset.\n",
    "- For 40B people: $\\Theta(nd)$"
   ]
  },
  {
   "cell_type": "markdown",
   "id": "fd7536a8",
   "metadata": {
    "slideshow": {
     "slide_type": "slide"
    }
   },
   "source": [
    "### Approach 2: Single pass\n",
    "\n",
    "Let's try and avoid passing over the dataset repeatedly."
   ]
  },
  {
   "cell_type": "code",
   "execution_count": null,
   "id": "903539b7",
   "metadata": {},
   "outputs": [],
   "source": [
    "profs"
   ]
  },
  {
   "cell_type": "markdown",
   "id": "6320b3ca",
   "metadata": {},
   "source": [
    "You can iterate over the rows of a DataFrame using the `iterrows` method (though you should rarely need to do this):"
   ]
  },
  {
   "cell_type": "code",
   "execution_count": null,
   "id": "89b8cfd9",
   "metadata": {},
   "outputs": [],
   "source": [
    "for idx, row in profs.iterrows():\n",
    "    print(row, '\\n')"
   ]
  },
  {
   "cell_type": "code",
   "execution_count": null,
   "id": "e8d55178",
   "metadata": {},
   "outputs": [],
   "source": [
    "year_map = {}\n",
    "for idx, row in profs.iterrows():                            \n",
    "    degree = row['Degree']\n",
    "    person_years = row['Years']\n",
    "    if degree in year_map:\n",
    "        year_map[degree] += np.array([1, person_years])\n",
    "    else:\n",
    "        year_map[degree] = np.array([1, person_years])\n",
    "        \n",
    "year_map"
   ]
  },
  {
   "cell_type": "code",
   "execution_count": null,
   "id": "8b4e6a99",
   "metadata": {},
   "outputs": [],
   "source": [
    "df = pd.DataFrame(year_map, index=['total', 'years'])\n",
    "df.loc['years'] / df.loc['total']"
   ]
  },
  {
   "cell_type": "markdown",
   "id": "cd28dc8f",
   "metadata": {
    "slideshow": {
     "slide_type": "slide"
    }
   },
   "source": [
    "### Issues with the previous solutions\n",
    "\n",
    "- These solutions were \"ad-hoc\", and depended on the specific problem we had.\n",
    "    - What if we wanted the **median** `'Years'` for each `'Degree'`?\n",
    "- Loops in Python are slow (though the **algorithmic reasoning** is still relevant)."
   ]
  },
  {
   "cell_type": "markdown",
   "id": "13c46d5c",
   "metadata": {
    "slideshow": {
     "slide_type": "slide"
    }
   },
   "source": [
    "## GroupBy"
   ]
  },
  {
   "cell_type": "markdown",
   "id": "82c3df80",
   "metadata": {
    "slideshow": {
     "slide_type": "slide"
    }
   },
   "source": [
    "### 🤔"
   ]
  },
  {
   "cell_type": "code",
   "execution_count": null,
   "id": "3fad02ec",
   "metadata": {},
   "outputs": [],
   "source": [
    "profs"
   ]
  },
  {
   "cell_type": "code",
   "execution_count": null,
   "id": "c8bfd1e4",
   "metadata": {},
   "outputs": [],
   "source": [
    "profs.groupby('Degree').mean()"
   ]
  },
  {
   "cell_type": "markdown",
   "id": "3c75f6d6",
   "metadata": {
    "slideshow": {
     "slide_type": "slide"
    }
   },
   "source": [
    "### Aside: Pandas Tutor\n",
    "\n",
    "- [pandastutor.com](https://pandastutor.com) is a new tool that allows you to visualize DataFrame operations.\n",
    "    - It works similarly to [pythontutor.com](https://pythontutor.com), which you may have seen in DSC 20.\n",
    "    - Slight issue: can't upload `.csv` files.\n",
    "- Follow along with our current example [here](https://pandastutor.com/vis.html#code=import%20pandas%20as%20pd%0A%0Aprofs%20%3D%20pd.DataFrame%28%0A%5B%5B'Brad',%20'UCB',%208,%20'Neuro',%20'Orange'%5D,%0A%20%5B'Janine',%20'UCSD',%207,%20'Math',%20'Purple'%5D,%0A%20%5B'Marina',%20'UIC',%206,%20'CS',%20'Yellow'%5D,%0A%20%5B'Justin',%20'OSU',%204,%20'CS',%20'Yellow'%5D,%0A%20%5B'Aaron',%20'UCB',%204,%20'Math',%20'Purple'%5D,%0A%20%5B'Soohyun',%20'UCSD',%201,%20'CS',%20'Orange'%5D,%0A%20%5B'Suraj',%20'UCB',%201,%20'CS',%20'Purple'%5D%5D,%0A%20%20%20%20columns%3D%5B'Name',%20'School',%20'Years',%20'Degree',%20'Color'%5D%0A%29%0A%0Aprofs.groupby%28'Degree'%29.mean%28%29&d=2022-04-11&lang=py&v=v1)."
   ]
  },
  {
   "cell_type": "markdown",
   "id": "f855fd5f",
   "metadata": {
    "slideshow": {
     "slide_type": "slide"
    }
   },
   "source": [
    "### Split-apply-combine\n",
    "\n",
    "- The `groupby` method involves three steps: **split**, **apply**, and **combine**.\n",
    "\n",
    "<center><img src=\"imgs/image_0.png\" width=40%></center>\n",
    "\n",
    "- **Split** breaks up and \"groups\" the rows of a DataFrame according to the specified key. There is one \"group\" for every unique value of the key.\n",
    "- **Apply** uses a function (e.g. aggregation, transformation, filtering) within the individual groups.\n",
    "- **Combine** stitches the results of these operations into an output DataFrame."
   ]
  },
  {
   "cell_type": "markdown",
   "id": "75e12e41",
   "metadata": {
    "slideshow": {
     "slide_type": "slide"
    }
   },
   "source": [
    "### Runtime considerations\n",
    "\n",
    "* The `groupby` method can often produce results using just a **single pass** over the data, updating the sum, mean, count, min, or other aggregate for each group along the way.\n",
    "\n",
    "* `groupby` is a **declarative** operation – the user just specifies **what** computation needs to be done, and `pandas` figures out **how** to do it under the hood.\n",
    "\n",
    "* The split-apply-combine pattern can be parallelized to work on multiple computers or threads, by sending computations for each group to different processors."
   ]
  },
  {
   "cell_type": "markdown",
   "id": "9a069bf0",
   "metadata": {
    "slideshow": {
     "slide_type": "slide"
    }
   },
   "source": [
    "### Example: Penguins 🐧"
   ]
  },
  {
   "cell_type": "code",
   "execution_count": null,
   "id": "24d36226",
   "metadata": {},
   "outputs": [],
   "source": [
    "import seaborn as sns\n",
    "penguins = sns.load_dataset('penguins').dropna()\n",
    "penguins.head()"
   ]
  },
  {
   "cell_type": "code",
   "execution_count": null,
   "id": "5eaa5135",
   "metadata": {},
   "outputs": [],
   "source": [
    "penguins['species'].value_counts()"
   ]
  },
  {
   "cell_type": "code",
   "execution_count": null,
   "id": "3bc413fa",
   "metadata": {},
   "outputs": [],
   "source": [
    "penguins['island'].value_counts()"
   ]
  },
  {
   "cell_type": "markdown",
   "id": "5a199041",
   "metadata": {
    "slideshow": {
     "slide_type": "slide"
    }
   },
   "source": [
    "### For each species..."
   ]
  },
  {
   "cell_type": "markdown",
   "id": "e321bd23",
   "metadata": {},
   "source": [
    "What is the median bill length?"
   ]
  },
  {
   "cell_type": "code",
   "execution_count": null,
   "id": "29ea2e9c",
   "metadata": {},
   "outputs": [],
   "source": [
    "penguins.groupby('species').median()"
   ]
  },
  {
   "cell_type": "markdown",
   "id": "f91e26a7",
   "metadata": {},
   "source": [
    "What proportion live on Dream Island?"
   ]
  },
  {
   "cell_type": "code",
   "execution_count": null,
   "id": "9b589c19",
   "metadata": {},
   "outputs": [],
   "source": [
    "(\n",
    "    penguins.assign(on_Dream = penguins['island'] == 'Dream')\n",
    "            .groupby('species')\n",
    "            .mean()\n",
    ")"
   ]
  },
  {
   "cell_type": "markdown",
   "id": "f14bf8be",
   "metadata": {},
   "source": [
    "Now that we understand how to use `groupby`, let's dive deeper into **how** it works."
   ]
  },
  {
   "cell_type": "markdown",
   "id": "5161d7f5",
   "metadata": {
    "slideshow": {
     "slide_type": "slide"
    }
   },
   "source": [
    "### Accessing groups\n",
    "\n",
    "- If `df` is a DataFrame, then `df.groupby(key)` returns a `DataFrameGroupBy` object.\n",
    "    - This object represents the \"split\" in \"split-apply-combine\".\n",
    "- Methods and attributes of `DataFrameGroupBy` objects:\n",
    "    - `.groups`: a dictionary in which the keys are group names and the values are lists of row labels.\n",
    "    - `.get_group(key)`: a DataFrame with only the values for the given key\n",
    "    - We usually don't use these directly, but they're useful in understanding how `groupby` works."
   ]
  },
  {
   "cell_type": "code",
   "execution_count": null,
   "id": "52349b11",
   "metadata": {},
   "outputs": [],
   "source": [
    "# Creates one group for each unique value in the species column\n",
    "penguin_groups = penguins.groupby('species')\n",
    "penguin_groups"
   ]
  },
  {
   "cell_type": "code",
   "execution_count": null,
   "id": "ef348aa1",
   "metadata": {},
   "outputs": [],
   "source": [
    "penguin_groups.groups"
   ]
  },
  {
   "cell_type": "code",
   "execution_count": null,
   "id": "2fe73e09",
   "metadata": {},
   "outputs": [],
   "source": [
    "penguin_groups.get_group('Chinstrap')"
   ]
  },
  {
   "cell_type": "code",
   "execution_count": null,
   "id": "2d975304",
   "metadata": {},
   "outputs": [],
   "source": [
    "# Same as the above\n",
    "penguins[penguins['species'] == 'Chinstrap']"
   ]
  },
  {
   "cell_type": "code",
   "execution_count": null,
   "id": "10090c0b",
   "metadata": {},
   "outputs": [],
   "source": [
    "for key, df in penguin_groups:\n",
    "    display(df)"
   ]
  },
  {
   "cell_type": "markdown",
   "id": "684b7500",
   "metadata": {
    "slideshow": {
     "slide_type": "slide"
    }
   },
   "source": [
    "### Aggregation\n",
    "\n",
    "- Once we create a `DataFrameGroupBy` object, we need to **apply** some function to each group, and **combine** the results.\n",
    "- The most common operation applied to each group is an **aggregation**.\n",
    "    - Aggregation refers to the process of reducing many values to one.\n",
    "- To perform an aggregation, use an aggregator method on the `DataFrameGroupBy` object, e.g. `.mean()`, `.max()`, `.median()`, etc."
   ]
  },
  {
   "cell_type": "code",
   "execution_count": null,
   "id": "991a649c",
   "metadata": {},
   "outputs": [],
   "source": [
    "penguins"
   ]
  },
  {
   "cell_type": "code",
   "execution_count": null,
   "id": "651fff20",
   "metadata": {},
   "outputs": [],
   "source": [
    "penguin_groups"
   ]
  },
  {
   "cell_type": "code",
   "execution_count": null,
   "id": "8144e73a",
   "metadata": {},
   "outputs": [],
   "source": [
    "penguin_groups.mean()"
   ]
  },
  {
   "cell_type": "code",
   "execution_count": null,
   "id": "14cece38",
   "metadata": {},
   "outputs": [],
   "source": [
    "penguin_groups.sum()"
   ]
  },
  {
   "cell_type": "code",
   "execution_count": null,
   "id": "9240023c",
   "metadata": {
    "scrolled": true
   },
   "outputs": [],
   "source": [
    "penguin_groups.max()"
   ]
  },
  {
   "cell_type": "markdown",
   "id": "a4877b72",
   "metadata": {
    "slideshow": {
     "slide_type": "slide"
    }
   },
   "source": [
    "### Column selection\n",
    "\n",
    "- By default, the aggregator will be applied to **all** columns that it can be applied to.\n",
    "    - `max` and `min` are defined on strings, while `median` and `mean` are not.\n",
    "- If we only care about one column, we can select that column before aggregating to save time.\n",
    "- `DataFrameGroupBy` objects support `[]` notation."
   ]
  },
  {
   "cell_type": "code",
   "execution_count": null,
   "id": "c35c37a3",
   "metadata": {},
   "outputs": [],
   "source": [
    "penguins.groupby('species').median()"
   ]
  },
  {
   "cell_type": "code",
   "execution_count": null,
   "id": "81755fbf",
   "metadata": {},
   "outputs": [],
   "source": [
    "penguins.groupby('species')['bill_length_mm'].median()"
   ]
  },
  {
   "cell_type": "code",
   "execution_count": null,
   "id": "3a26a963",
   "metadata": {},
   "outputs": [],
   "source": [
    "# Gives the same result, but involves wasted effort\n",
    "# since the other columns had to be aggregated for no reason\n",
    "penguins.groupby('species').median()['bill_length_mm']"
   ]
  },
  {
   "cell_type": "code",
   "execution_count": null,
   "id": "06d0497f",
   "metadata": {},
   "outputs": [],
   "source": [
    "# Note that this is a SeriesGroupBy object, not a DataFrameGroupBy object!\n",
    "penguins.groupby('species')['bill_length_mm']"
   ]
  },
  {
   "cell_type": "markdown",
   "id": "b06ff5bc",
   "metadata": {
    "slideshow": {
     "slide_type": "slide"
    }
   },
   "source": [
    "## Additional `GroupBy` methods"
   ]
  },
  {
   "cell_type": "markdown",
   "id": "ef27bdec",
   "metadata": {
    "slideshow": {
     "slide_type": "slide"
    }
   },
   "source": [
    "### Aggregation methods\n",
    "\n",
    "- There are many built-in aggregation methods.\n",
    "- What if you want to apply different aggregation methods to different columns?\n",
    "- What if the aggregation method you want to use doesn't already exist in `pandas`?"
   ]
  },
  {
   "cell_type": "markdown",
   "id": "e040d1cb",
   "metadata": {
    "slideshow": {
     "slide_type": "slide"
    }
   },
   "source": [
    "### The `aggregate` method\n",
    "\n",
    "- The `DataFrameGroupBy` object has a general `aggregate` method, which aggregates using one or more operations.\n",
    "    - Remember, aggregation refers to the process of reducing many values to one.\n",
    "- There are many ways of using `aggregate`; refer to [the documentation](https://pandas.pydata.org/pandas-docs/stable/reference/api/pandas.core.groupby.DataFrameGroupBy.aggregate.html) for a comprehensive list.\n",
    "- Example arguments:\n",
    "    - A single function.\n",
    "    - A list of functions.\n",
    "    - A dictionary mapping column names to functions.\n",
    "- Per [the documentation](https://pandas.pydata.org/pandas-docs/stable/reference/api/pandas.DataFrame.agg.html), `agg` is an alias for `aggregate`."
   ]
  },
  {
   "cell_type": "markdown",
   "id": "549794a1",
   "metadata": {
    "slideshow": {
     "slide_type": "slide"
    }
   },
   "source": [
    "### Example\n",
    "\n",
    "How many penguins are there of each species, and what is the mean body mass of each species?"
   ]
  },
  {
   "cell_type": "code",
   "execution_count": null,
   "id": "a3f31f83",
   "metadata": {},
   "outputs": [],
   "source": [
    "penguins.groupby('species')['body_mass_g'].aggregate(['count', 'mean'])"
   ]
  },
  {
   "cell_type": "markdown",
   "id": "1a3105d0",
   "metadata": {},
   "source": [
    "Note what happens when we don't select a column before aggregating."
   ]
  },
  {
   "cell_type": "code",
   "execution_count": null,
   "id": "58a2e1e7",
   "metadata": {},
   "outputs": [],
   "source": [
    "# penguins.drop(columns=['island', 'sex']).groupby('species').aggregate(['count', 'mean'])\n",
    "penguins.groupby('species').aggregate(['count', 'mean'])"
   ]
  },
  {
   "cell_type": "markdown",
   "id": "8a9ebbde",
   "metadata": {
    "slideshow": {
     "slide_type": "slide"
    }
   },
   "source": [
    "### Example\n",
    "\n",
    "What is the max bill length of each species, and how many islands is each species found on?"
   ]
  },
  {
   "cell_type": "code",
   "execution_count": null,
   "id": "fe44de07",
   "metadata": {},
   "outputs": [],
   "source": [
    "penguins.groupby('species').aggregate({'bill_length_mm': 'max', 'island': 'nunique'})"
   ]
  },
  {
   "cell_type": "markdown",
   "id": "ccfb8bab",
   "metadata": {
    "slideshow": {
     "slide_type": "slide"
    }
   },
   "source": [
    "### Example\n",
    "\n",
    "What is the **interquartile range** of the body mass of each species?"
   ]
  },
  {
   "cell_type": "code",
   "execution_count": null,
   "id": "97aa2ff7",
   "metadata": {},
   "outputs": [],
   "source": [
    "def IQR(col):\n",
    "    return np.percentile(col, 75) - np.percentile(col, 25)"
   ]
  },
  {
   "cell_type": "code",
   "execution_count": null,
   "id": "9411717c",
   "metadata": {},
   "outputs": [],
   "source": [
    "penguins.groupby('species')['body_mass_g'].aggregate(IQR)"
   ]
  },
  {
   "cell_type": "markdown",
   "id": "6c2fd1fd",
   "metadata": {
    "slideshow": {
     "slide_type": "slide"
    }
   },
   "source": [
    "### The `transform` method\n",
    "\n",
    "- Let's say we want to subtract the mean within each group.\n",
    "- This is not an **aggregation**, it is a **transformation**.\n",
    "- A transformation returns a DataFrame or Series of the same size."
   ]
  },
  {
   "cell_type": "code",
   "execution_count": null,
   "id": "c057a562",
   "metadata": {},
   "outputs": [],
   "source": [
    "penguins"
   ]
  },
  {
   "cell_type": "code",
   "execution_count": null,
   "id": "2202bec6",
   "metadata": {},
   "outputs": [],
   "source": [
    "penguins.groupby('species')['body_mass_g'].transform(lambda ser: ser - ser.mean())"
   ]
  },
  {
   "cell_type": "markdown",
   "id": "5987cea3",
   "metadata": {
    "slideshow": {
     "slide_type": "slide"
    }
   },
   "source": [
    "### The `filter` method\n",
    "\n",
    "- Suppose we want to keep only the groups that satisfy a particular condition.\n",
    "- To do this, we use the `filter` method, which takes in a function.\n",
    "- That function should accept a DataFrame/Series and return a Boolean.\n",
    "- The result is a new DataFrame/Series with only the groups for which the filter function returned `True`.\n",
    "- For example, suppose we want only the species whose mean bill length is above 39 mm."
   ]
  },
  {
   "cell_type": "code",
   "execution_count": null,
   "id": "c8e3d57b",
   "metadata": {},
   "outputs": [],
   "source": [
    "penguins"
   ]
  },
  {
   "cell_type": "code",
   "execution_count": null,
   "id": "bda13527",
   "metadata": {},
   "outputs": [],
   "source": [
    "penguins.groupby('species').filter(lambda df: df['bill_length_mm'].mean() > 39)"
   ]
  },
  {
   "cell_type": "markdown",
   "id": "8c18a3af",
   "metadata": {},
   "source": [
    "No more Adelies!"
   ]
  },
  {
   "cell_type": "markdown",
   "id": "4330e86d",
   "metadata": {
    "slideshow": {
     "slide_type": "slide"
    }
   },
   "source": [
    "### The `apply` method\n",
    "\n",
    "- The `apply` method is a generalization of `aggregate`, `transform`, and `filter`.\n",
    "- It accepts a group as a DataFrame/Series, and can return a DataFrame, Series, or scalar.\n",
    "- Per [the documentation](https://pandas.pydata.org/pandas-docs/stable/reference/api/pandas.core.groupby.GroupBy.apply.html), it is slower than other aggregation and transformation methods, so use those instead whenever possible, and **avoid `apply`**."
   ]
  },
  {
   "cell_type": "code",
   "execution_count": null,
   "id": "d2898f15",
   "metadata": {},
   "outputs": [],
   "source": [
    "penguins.groupby('species').apply(lambda s: s * 2)"
   ]
  },
  {
   "cell_type": "code",
   "execution_count": null,
   "id": "2d53ad7d",
   "metadata": {},
   "outputs": [],
   "source": [
    "penguins.groupby('species').apply(lambda s: s.mean().mean())"
   ]
  },
  {
   "cell_type": "markdown",
   "id": "5520aca9",
   "metadata": {
    "slideshow": {
     "slide_type": "slide"
    }
   },
   "source": [
    "### Discussion Question\n",
    "\n",
    "For each species, find the island on which the heaviest penguin of that species lives."
   ]
  },
  {
   "cell_type": "code",
   "execution_count": null,
   "id": "79514c92",
   "metadata": {},
   "outputs": [],
   "source": [
    "# Why doesn't this work?\n",
    "penguins.groupby('species').max()"
   ]
  },
  {
   "cell_type": "code",
   "execution_count": null,
   "id": "d91d21d0",
   "metadata": {},
   "outputs": [],
   "source": [
    "penguins.sort_values('body_mass_g', ascending=False).groupby('species').first()"
   ]
  },
  {
   "cell_type": "markdown",
   "id": "d6f0ff8a",
   "metadata": {
    "slideshow": {
     "slide_type": "slide"
    }
   },
   "source": [
    "### Grouping with multiple columns\n",
    "\n",
    "When we group with multiple columns, one group is created for **every unique combination** of elements in the specified columns."
   ]
  },
  {
   "cell_type": "code",
   "execution_count": null,
   "id": "d7ef07b1",
   "metadata": {},
   "outputs": [],
   "source": [
    "double_group = penguins.groupby(['species', 'island'])\n",
    "double_group"
   ]
  },
  {
   "cell_type": "code",
   "execution_count": null,
   "id": "446493c0",
   "metadata": {},
   "outputs": [],
   "source": [
    "double_group.groups"
   ]
  },
  {
   "cell_type": "code",
   "execution_count": null,
   "id": "faf05c17",
   "metadata": {},
   "outputs": [],
   "source": [
    "for key, df in double_group:\n",
    "    display(df.head())"
   ]
  },
  {
   "cell_type": "code",
   "execution_count": null,
   "id": "b960c3f9",
   "metadata": {},
   "outputs": [],
   "source": [
    "penguins.groupby(['species', 'island']).mean()"
   ]
  },
  {
   "cell_type": "markdown",
   "id": "9fcc7d07",
   "metadata": {
    "slideshow": {
     "slide_type": "slide"
    }
   },
   "source": [
    "### Grouping and indexes\n",
    "\n",
    "- The `groupby` method creates an index based on the specified columns.\n",
    "- When grouping by multiple columns, the resulting DataFrame has a `MultiIndex`.\n",
    "- Advice: When working with a `MultiIndex`, use `reset_index` or set `as_index=False` in `groupby`."
   ]
  },
  {
   "cell_type": "code",
   "execution_count": null,
   "id": "202bd042",
   "metadata": {},
   "outputs": [],
   "source": [
    "weird = penguins.groupby(['species', 'island']).mean()\n",
    "weird"
   ]
  },
  {
   "cell_type": "code",
   "execution_count": null,
   "id": "c2c06031",
   "metadata": {},
   "outputs": [],
   "source": [
    "weird['body_mass_g']"
   ]
  },
  {
   "cell_type": "code",
   "execution_count": null,
   "id": "9e535b0e",
   "metadata": {},
   "outputs": [],
   "source": [
    "weird.loc['Adelie']"
   ]
  },
  {
   "cell_type": "code",
   "execution_count": null,
   "id": "59f23a8c",
   "metadata": {},
   "outputs": [],
   "source": [
    "weird.loc[('Adelie', 'Torgersen')]"
   ]
  },
  {
   "cell_type": "code",
   "execution_count": null,
   "id": "1285c879",
   "metadata": {},
   "outputs": [],
   "source": [
    "weird.reset_index()"
   ]
  },
  {
   "cell_type": "code",
   "execution_count": null,
   "id": "fca89f8a",
   "metadata": {},
   "outputs": [],
   "source": [
    "penguins.groupby(['species', 'island'], as_index=False).mean()"
   ]
  },
  {
   "cell_type": "markdown",
   "id": "2945a480",
   "metadata": {
    "slideshow": {
     "slide_type": "slide"
    }
   },
   "source": [
    "### Summary\n",
    "\n",
    "- Grouping allows us to change the level of granularity in a DataFrame.\n",
    "- Grouping involves three steps – split, apply, and combine.\n",
    "- The `groupby` method returns a `DataFrameGroupBy` method, which creates one group for every unique combination of values in the column(s) being grouped on.\n",
    "- Most often, we will use an aggregation method on a `DataFrameGroupBy` object, but we can also use `transform`, `filter`, or the more general `apply` methods. Each one of these methods acts on each group individually.\n",
    "- **Next time:** More on `pivot` and `pivot_table`. Simpson's paradox. Combining DataFrames."
   ]
  },
  {
   "cell_type": "markdown",
   "id": "8039eefb",
   "metadata": {
    "slideshow": {
     "slide_type": "slide"
    }
   },
   "source": [
    "## Pivoting"
   ]
  },
  {
   "cell_type": "markdown",
   "id": "d81b2869",
   "metadata": {
    "slideshow": {
     "slide_type": "slide"
    }
   },
   "source": [
    "### Average body mass for every combination of species and island\n",
    "\n",
    "To find the above information, we can group by both `'species'` and `'island'`."
   ]
  },
  {
   "cell_type": "code",
   "execution_count": null,
   "id": "5e52b08f",
   "metadata": {},
   "outputs": [],
   "source": [
    "penguins.groupby(['species', 'island'])['body_mass_g'].mean()"
   ]
  },
  {
   "cell_type": "markdown",
   "id": "13bcb044",
   "metadata": {},
   "source": [
    "But we can also create a **pivot table**."
   ]
  },
  {
   "cell_type": "code",
   "execution_count": null,
   "id": "349625bc",
   "metadata": {},
   "outputs": [],
   "source": [
    "penguins.pivot_table(index='species', \n",
    "                     columns='island', \n",
    "                     values='body_mass_g', \n",
    "                     aggfunc='mean')"
   ]
  },
  {
   "cell_type": "markdown",
   "id": "852d1eea",
   "metadata": {},
   "source": [
    "Note that the DataFrame above shows the same information as the Series above it, just in a different arrangement."
   ]
  },
  {
   "cell_type": "markdown",
   "id": "bcb59a07",
   "metadata": {
    "slideshow": {
     "slide_type": "slide"
    }
   },
   "source": [
    "### `pivot_table`\n",
    "\n",
    "- The `pivot_table` DataFrame method aggregates a DataFrame using two columns. To use it:\n",
    "\n",
    "```py\n",
    "df.pivot_table(index=index_col,\n",
    "               columns=columns_col,\n",
    "               values=values_col,\n",
    "               aggfunc=func)\n",
    "```\n",
    "- The resulting DataFrame will have:\n",
    "    - One row for every unique value in `index_col`.\n",
    "    - One column for every unique value in `columns_col`.\n",
    "    - Values determined by applying `func` on values in `values_col`."
   ]
  },
  {
   "cell_type": "markdown",
   "id": "5668bc16",
   "metadata": {
    "slideshow": {
     "slide_type": "slide"
    }
   },
   "source": [
    "### Example\n",
    "\n",
    "Find the number of penguins per island and species."
   ]
  },
  {
   "cell_type": "code",
   "execution_count": null,
   "id": "099f7869",
   "metadata": {},
   "outputs": [],
   "source": [
    "penguins.pivot_table(index='island', \n",
    "                     columns='species', \n",
    "                     values='bill_length_mm', \n",
    "                     aggfunc='count')"
   ]
  },
  {
   "cell_type": "markdown",
   "id": "b3f69a47",
   "metadata": {},
   "source": [
    "Note that there is a `NaN` at the intersection of `'Biscoe'` and `'Chinstrap'`, because there were no Chinstrap penguins on Biscoe Island.\n",
    "\n",
    "We can either use the `fillna` method afterwards or the `fill_values` argument to fill in `NaN`s."
   ]
  },
  {
   "cell_type": "code",
   "execution_count": null,
   "id": "215c89fb",
   "metadata": {},
   "outputs": [],
   "source": [
    "penguins.pivot_table(index='island', \n",
    "                     columns='species', \n",
    "                     values='bill_length_mm', \n",
    "                     aggfunc='count').fillna(0)"
   ]
  },
  {
   "cell_type": "code",
   "execution_count": null,
   "id": "0867a074",
   "metadata": {},
   "outputs": [],
   "source": [
    "penguins.pivot_table(index='island', \n",
    "                     columns='species', \n",
    "                     values='bill_length_mm', \n",
    "                     aggfunc='count', \n",
    "                     fill_value=0)"
   ]
  },
  {
   "cell_type": "markdown",
   "id": "c10673ea",
   "metadata": {
    "slideshow": {
     "slide_type": "slide"
    }
   },
   "source": [
    "### Example\n",
    "\n",
    "Find the mean body mass per species and sex."
   ]
  },
  {
   "cell_type": "code",
   "execution_count": null,
   "id": "39cf9def",
   "metadata": {},
   "outputs": [],
   "source": [
    "penguins.pivot_table(index='species', columns='sex', values='body_mass_g', aggfunc='mean')"
   ]
  },
  {
   "cell_type": "markdown",
   "id": "7264e53b",
   "metadata": {
    "slideshow": {
     "slide_type": "-"
    }
   },
   "source": [
    "**Important:** In `penguins`, each row corresponds to an individual/observation. In the pivot table above, that is no longer true."
   ]
  },
  {
   "cell_type": "markdown",
   "id": "244a4c6f",
   "metadata": {
    "slideshow": {
     "slide_type": "slide"
    }
   },
   "source": [
    "### Joint and conditional distributions\n",
    "\n",
    "When using `aggfunc='count'`, a pivot table describes the joint distribution of two categorical variables."
   ]
  },
  {
   "cell_type": "code",
   "execution_count": null,
   "id": "657cb701",
   "metadata": {},
   "outputs": [],
   "source": [
    "counts = penguins.pivot_table(index='species', \n",
    "                              columns='sex', \n",
    "                              values='body_mass_g', \n",
    "                              aggfunc='count', \n",
    "                              fill_value=0)\n",
    "\n",
    "counts"
   ]
  },
  {
   "cell_type": "markdown",
   "id": "125b3d37",
   "metadata": {},
   "source": [
    "We can normalize the DataFrame by dividing by the total number of penguins. The resulting numbers can be interpreted as **probabilities** that a randomly selected penguin from the dataset belongs to a given combination of species and sex."
   ]
  },
  {
   "cell_type": "code",
   "execution_count": null,
   "id": "ef27fe23",
   "metadata": {},
   "outputs": [],
   "source": [
    "joint = counts / counts.sum().sum()\n",
    "joint"
   ]
  },
  {
   "cell_type": "markdown",
   "id": "6bf70932",
   "metadata": {
    "slideshow": {
     "slide_type": "slide"
    }
   },
   "source": [
    "If we sum over one of the axes, we can compute **marginal probabilities**."
   ]
  },
  {
   "cell_type": "code",
   "execution_count": null,
   "id": "3ae4e508",
   "metadata": {},
   "outputs": [],
   "source": [
    "joint"
   ]
  },
  {
   "cell_type": "code",
   "execution_count": null,
   "id": "87101fa3",
   "metadata": {},
   "outputs": [],
   "source": [
    "joint.sum(axis=1)"
   ]
  },
  {
   "cell_type": "code",
   "execution_count": null,
   "id": "8539e9a6",
   "metadata": {},
   "outputs": [],
   "source": [
    "joint.sum(axis=0)"
   ]
  },
  {
   "cell_type": "markdown",
   "id": "3abcbba0",
   "metadata": {},
   "source": [
    "For instance, the first Series tells us that a randomly selected penguin has a 0.357357 chance of being of species `'Gentoo'`."
   ]
  },
  {
   "cell_type": "markdown",
   "id": "1fb270de",
   "metadata": {
    "slideshow": {
     "slide_type": "slide"
    }
   },
   "source": [
    "If we divide `counts` by row or column sums, we can compute **conditional probabilities**."
   ]
  },
  {
   "cell_type": "code",
   "execution_count": null,
   "id": "13c67c6c",
   "metadata": {},
   "outputs": [],
   "source": [
    "counts"
   ]
  },
  {
   "cell_type": "code",
   "execution_count": null,
   "id": "7e995c56",
   "metadata": {},
   "outputs": [],
   "source": [
    "counts.sum(axis=0)"
   ]
  },
  {
   "cell_type": "markdown",
   "id": "08bae3f5",
   "metadata": {},
   "source": [
    "The conditional distribution of species **given** sex is below."
   ]
  },
  {
   "cell_type": "code",
   "execution_count": null,
   "id": "ac092c84",
   "metadata": {},
   "outputs": [],
   "source": [
    "counts / counts.sum(axis=0)"
   ]
  },
  {
   "cell_type": "markdown",
   "id": "82ff00a4",
   "metadata": {},
   "source": [
    "For instance, the above DataFrame tells us that the probability that a randomly selected penguin is of species `'Adelie'` **given** that they are of sex `'Female'` is 0.442424.\n",
    "\n",
    "The conditional distribution of sex given species is below."
   ]
  },
  {
   "cell_type": "code",
   "execution_count": null,
   "id": "a4667e92",
   "metadata": {},
   "outputs": [],
   "source": [
    "counts.T / counts.sum(axis=1)"
   ]
  },
  {
   "cell_type": "markdown",
   "id": "3875616e",
   "metadata": {
    "slideshow": {
     "slide_type": "slide"
    }
   },
   "source": [
    "### `pivot_table` aggregates and reshapes\n",
    "\n",
    "- The `pivot_table` method does two things. It:\n",
    "    - Aggregates based on two columns.\n",
    "    - Reshapes the data from \"long\" to \"wide\".\n",
    "        - Rows no longer correspond to observations.\n",
    "- At times, we may only want to do the second step – reshape the data."
   ]
  },
  {
   "cell_type": "markdown",
   "id": "287e5154",
   "metadata": {
    "slideshow": {
     "slide_type": "slide"
    }
   },
   "source": [
    "### Example: Tic-tac-toe\n",
    "\n",
    "<center><img src='imgs/tic-tac-toe.png' width=20%></center>"
   ]
  },
  {
   "cell_type": "code",
   "execution_count": null,
   "id": "deba0f7d",
   "metadata": {
    "scrolled": true
   },
   "outputs": [],
   "source": [
    "moves = pd.DataFrame([\n",
    "    [1, 1, 'O'],\n",
    "    [2, 1, 'X'],\n",
    "    [2, 2, 'X'],\n",
    "    [2, 3, 'O'],\n",
    "    [3, 1, 'O'],\n",
    "    [3, 3, 'X']\n",
    "], columns=['i', 'j', 'move'])\n",
    "moves"
   ]
  },
  {
   "cell_type": "code",
   "execution_count": null,
   "id": "ba53752c",
   "metadata": {},
   "outputs": [],
   "source": [
    "moves.pivot(index='i', columns='j', values='move').fillna('')"
   ]
  },
  {
   "cell_type": "markdown",
   "id": "4f95375a",
   "metadata": {},
   "source": [
    "The `pivot` method **only** reshapes a DataFrame. It does not change any of the values in it (i.e. `aggfunc` doesn't work with `pivot`)."
   ]
  },
  {
   "cell_type": "markdown",
   "id": "c5cacf4e",
   "metadata": {
    "slideshow": {
     "slide_type": "slide"
    }
   },
   "source": [
    "### `pivot_table` = `groupby` + `pivot`\n",
    "\n",
    "- `pivot_table` is a shortcut for using `groupby` and then using `pivot`.\n",
    "- For example, both of the following code cells find the mean body mass per species and sex."
   ]
  },
  {
   "cell_type": "code",
   "execution_count": null,
   "id": "16fda67b",
   "metadata": {},
   "outputs": [],
   "source": [
    "(\n",
    "    penguins.groupby(['species', 'sex'])[['body_mass_g']]\n",
    "            .mean()\n",
    "            .reset_index()\n",
    "            .pivot(index='species', columns='sex', values='body_mass_g')\n",
    ")"
   ]
  },
  {
   "cell_type": "code",
   "execution_count": null,
   "id": "70e33dc6",
   "metadata": {},
   "outputs": [],
   "source": [
    "penguins.pivot_table(index='species', columns='sex', values='body_mass_g', aggfunc='mean')"
   ]
  },
  {
   "cell_type": "markdown",
   "id": "8e12383d",
   "metadata": {},
   "source": [
    "`aggfunc='mean'` plays the same role that `.mean()` does."
   ]
  },
  {
   "cell_type": "markdown",
   "id": "1a55ac4a",
   "metadata": {
    "slideshow": {
     "slide_type": "slide"
    }
   },
   "source": [
    "### Reshaping\n",
    "\n",
    "- `pivot_table` and `pivot` reshape DataFrames from \"long\" to \"wide\".\n",
    "- Other DataFrame reshaping methods:\n",
    "    - `melt`: un-pivots a DataFrame.\n",
    "    - `stack`: pivots multi-level columns to multi-indices.\n",
    "    - `unstack`: pivots multi-indices to columns.\n",
    "    - Google and the documentation are your friends!"
   ]
  },
  {
   "cell_type": "markdown",
   "id": "be6c9d8d",
   "metadata": {
    "slideshow": {
     "slide_type": "slide"
    }
   },
   "source": [
    "### Simpson's paradox\n",
    "\n",
    "<center><img src=\"imgs/image_2.png\" width=50%></center>"
   ]
  },
  {
   "cell_type": "markdown",
   "id": "3835ec0b",
   "metadata": {
    "slideshow": {
     "slide_type": "slide"
    }
   },
   "source": [
    "### Example: Grades\n",
    "\n",
    "- Two students, Lisa and Bart, just finished freshman year. They both took a different number of classes in Fall, Winter, and Spring."
   ]
  },
  {
   "cell_type": "markdown",
   "id": "1dcc2e7d",
   "metadata": {
    "slideshow": {
     "slide_type": "fragment"
    }
   },
   "source": [
    "- Within each quarter, Lisa had a higher GPA than Bart."
   ]
  },
  {
   "cell_type": "markdown",
   "id": "813ef6e5",
   "metadata": {
    "slideshow": {
     "slide_type": "fragment"
    }
   },
   "source": [
    "- But Bart has a higher overall GPA."
   ]
  },
  {
   "cell_type": "markdown",
   "id": "5d5eacc6",
   "metadata": {
    "slideshow": {
     "slide_type": "fragment"
    }
   },
   "source": [
    "- How is this possible? 🤔"
   ]
  },
  {
   "cell_type": "markdown",
   "id": "48cb478e",
   "metadata": {
    "slideshow": {
     "slide_type": "slide"
    }
   },
   "source": [
    "**Note:** The number of \"grade points\" you earn for a course is\n",
    "\n",
    "$$\\text{number of units} \\cdot \\text{grade (out of 4)}$$\n",
    "\n",
    "So an A- in a 4 unit course earns $3.7 \\cdot 4 = 14.8$ grade points."
   ]
  },
  {
   "cell_type": "code",
   "execution_count": null,
   "id": "7d641a0d",
   "metadata": {},
   "outputs": [],
   "source": [
    "lisa = pd.DataFrame([\n",
    "        [20, 46],\n",
    "        [18, 54],\n",
    "        [5, 20]\n",
    "    ],\n",
    "    columns=['Units', 'Grade Points Earned'], \n",
    "    index=['Fall', 'Winter', 'Spring'])\n",
    "\n",
    "lisa"
   ]
  },
  {
   "cell_type": "code",
   "execution_count": null,
   "id": "451dfe6e",
   "metadata": {},
   "outputs": [],
   "source": [
    "bart = pd.DataFrame([\n",
    "        [5, 10],\n",
    "        [5, 13.5],\n",
    "        [22, 81.4]\n",
    "    ],\n",
    "    columns=['Units', 'Grade Points Earned'], \n",
    "    index=['Fall', 'Winter', 'Spring'])\n",
    "\n",
    "bart"
   ]
  },
  {
   "cell_type": "markdown",
   "id": "6a7e3d67",
   "metadata": {},
   "source": [
    "The following DataFrame shows that Lisa had a higher GPA in all three quarters."
   ]
  },
  {
   "cell_type": "code",
   "execution_count": null,
   "id": "9bfc185f",
   "metadata": {},
   "outputs": [],
   "source": [
    "quarterly_gpas = pd.DataFrame(\n",
    "    {\n",
    "        \"Lisa's Quarter GPA\": lisa['Grade Points Earned'] / lisa['Units'],\n",
    "        \"Bart's Quarter GPA\": bart['Grade Points Earned'] / bart['Units']\n",
    "    }\n",
    ")\n",
    "\n",
    "quarterly_gpas"
   ]
  },
  {
   "cell_type": "markdown",
   "id": "130f433f",
   "metadata": {},
   "source": [
    "But Lisa's overall GPA is less than Bart's overall GPA."
   ]
  },
  {
   "cell_type": "code",
   "execution_count": null,
   "id": "3e21dae0",
   "metadata": {},
   "outputs": [],
   "source": [
    "tot = lisa.sum()\n",
    "tot['Grade Points Earned'] / tot['Units']"
   ]
  },
  {
   "cell_type": "code",
   "execution_count": null,
   "id": "8160116d",
   "metadata": {},
   "outputs": [],
   "source": [
    "tot = bart.sum()\n",
    "tot['Grade Points Earned'] / tot['Units']"
   ]
  },
  {
   "cell_type": "markdown",
   "id": "873fa839",
   "metadata": {
    "slideshow": {
     "slide_type": "slide"
    }
   },
   "source": [
    "### What happened?\n",
    "\n",
    "- When Lisa and Bart both performed poorly, Lisa took more units than Bart.\n",
    "    - This brings down Lisa's overall average.\n",
    "- When Lisa and Bart both performed well, Bart took more units than Annie.\n",
    "    - This brings up Bart's overall average."
   ]
  },
  {
   "cell_type": "code",
   "execution_count": null,
   "id": "04f4f958",
   "metadata": {},
   "outputs": [],
   "source": [
    "quarterly_gpas.assign(Lisa_units=lisa['Units']) \\\n",
    "              .assign(Bart_units=bart['Units']) \\\n",
    "              .iloc[:, [0, 2, 1, 3]]"
   ]
  },
  {
   "cell_type": "markdown",
   "id": "81e01377",
   "metadata": {
    "slideshow": {
     "slide_type": "slide"
    }
   },
   "source": [
    "### Simpson's paradox\n",
    "\n",
    "- Simpson's paradox occurs when **grouped data and ungrouped data show opposing trends**.\n",
    "    - It is named after Edward H. Simpson, not Lisa or Bart Simpson.\n",
    "    \n",
    "- It is **purely arithmetic** – it is a consequence of weighted averages.\n",
    "\n",
    "- It often happens because there is a hidden factor (i.e. a **confounder**) within the data that influences results.\n",
    "\n",
    "- **Question:** What is the \"correct\" way to summarize your data? What if you had to act on these results?"
   ]
  },
  {
   "cell_type": "markdown",
   "id": "dec30379",
   "metadata": {
    "slideshow": {
     "slide_type": "slide"
    }
   },
   "source": [
    "### Example: How Berkeley was sued for gender discrimination (1973)"
   ]
  },
  {
   "cell_type": "markdown",
   "id": "ca796479",
   "metadata": {
    "slideshow": {
     "slide_type": "slide"
    }
   },
   "source": [
    "### What do you notice?\n",
    "\n",
    "<center><img src='imgs/berkeley.png' width=70%></center>"
   ]
  },
  {
   "cell_type": "code",
   "execution_count": null,
   "id": "fa8e941a",
   "metadata": {
    "scrolled": false,
    "slideshow": {
     "slide_type": "slide"
    }
   },
   "outputs": [],
   "source": [
    "from IPython.display import display, IFrame\n",
    "\n",
    "def show_paradox_slides():\n",
    "    src = 'https://docs.google.com/presentation/d/e/2PACX-1vSbFSaxaYZ0NcgrgqZLvjhkjX-5MQzAITWAsEFZHnix3j1c0qN8Vd1rogTAQP7F7Nf5r-JWExnGey7h/embed?start=false'\n",
    "    width = 960\n",
    "    height = 569\n",
    "    display(IFrame(src, width, height))\n",
    "\n",
    "show_paradox_slides()"
   ]
  },
  {
   "cell_type": "markdown",
   "id": "a0184f0a",
   "metadata": {
    "slideshow": {
     "slide_type": "slide"
    }
   },
   "source": [
    "### What happened?\n",
    "\n",
    "- The overall acceptance rate for women (30%) was lower than it was for men (45%).\n",
    "- However, most departments (A, B, D, F) had a higher acceptance rate for women.\n",
    "- Department A had a 62% acceptance rate for men and an 82% acceptance rate for women!\n",
    "    - 31% of men applied to Department A.\n",
    "    - 6% of women applied to Department A.\n",
    "- Department F had a 6% acceptance rate for men and a 7% acceptance rate for women!\n",
    "    - 14% of men applied to Department F.\n",
    "    - 19% of women applied to Department F.\n",
    "- **Conclusion:** Women tended to apply to departments with a lower acceptance rate."
   ]
  },
  {
   "cell_type": "markdown",
   "id": "93d27522",
   "metadata": {
    "slideshow": {
     "slide_type": "slide"
    }
   },
   "source": [
    "### Caution!\n",
    "\n",
    "This doesn't mean that admissions are free from gender discrimination! \n",
    "\n",
    "From [Moss-Racusin et al., 2012, PNAS](https://www.pnas.org/doi/10.1073/pnas.1211286109) (cited 2600+ times):\n",
    "\n",
    "> In a randomized double-blind study (n = 127), **science faculty** from research-intensive universities **rated the application materials of a student—who was randomly assigned either a male or female** name—for a laboratory manager position. Faculty **participants rated the male applicant as significantly more competent and hireable than the (identical) female applicant**. These participants also selected a higher starting salary and offered more career mentoring to the male applicant. The gender of the faculty participants did not affect responses, such that female and male faculty were equally likely to exhibit bias against the female student."
   ]
  },
  {
   "cell_type": "markdown",
   "id": "9da0c6c3",
   "metadata": {
    "slideshow": {
     "slide_type": "slide"
    }
   },
   "source": [
    "### But then...\n",
    "\n",
    "From [Williams and Ceci, 2015, PNAS](https://www.pnas.org/doi/10.1073/pnas.1418878112):\n",
    "\n",
    "> Here we report five hiring experiments in which faculty evaluated hypothetical female and male applicants, using systematically varied profiles disguising identical scholarship, for assistant professorships in biology, engineering, economics, and psychology. Contrary to prevailing assumptions, **men and women faculty members from all four fields preferred female applicants 2:1 over identically qualified males** with matching lifestyles (single, married, divorced), with the exception of male economists, who showed no gender preference."
   ]
  },
  {
   "cell_type": "markdown",
   "id": "39bf7991",
   "metadata": {
    "slideshow": {
     "slide_type": "slide"
    }
   },
   "source": [
    "### Do these conflict?\n",
    "\n",
    "Not necessarily. One explanation, from William and Ceci:\n",
    "\n",
    "> Instead, past studies have used ratings of students’ hirability for a range of posts that do not include tenure-track jobs, such as managing laboratories or performing math assignments for a company. However, hiring tenure-track faculty differs from hiring lower-level staff: it entails selecting among highly accomplished candidates, all of whom have completed Ph.D.s and amassed publications and strong letters of support. **Hiring bias may occur when applicants’ records are ambiguous, as was true in studies of hiring bias for lower-level staff posts, but such bias may not occur when records are clearly strong**, as is the case with tenure-track hiring."
   ]
  },
  {
   "cell_type": "markdown",
   "id": "26270d5b",
   "metadata": {
    "slideshow": {
     "slide_type": "slide"
    }
   },
   "source": [
    "### Do these conflict?\n",
    "\n",
    "From Witteman, et al, 2019, in *The Lancet*:\n",
    "\n",
    "> Thus, evidence of scientists favouring women comes exclusively from hypothetical scenarios, whereas evidence of scientists favouring men comes from hypothetical scenarios and real behaviour. This **might reflect academics' growing awareness of the social desirability of achieving gender balance, while real academic behaviour might not yet put such ideals into action**."
   ]
  },
  {
   "cell_type": "markdown",
   "id": "067f4a3a",
   "metadata": {
    "slideshow": {
     "slide_type": "slide"
    }
   },
   "source": [
    "### Example: Restaurant reviews and phone types\n",
    "\n",
    "* You are deciding whether to eat at Dirty Birds or The Loft.\n",
    "* Suppose Yelp shows ratings aggregated by phone type (Android vs. iPhone).\n",
    "* Should you choose Dirty Birds or The Loft? \n",
    "\n",
    "|Phone Type|Stars for Dirty Birds|Stars for The Loft|\n",
    "|---|---|---|\n",
    "|Android|4.24|4.0|\n",
    "|iPhone|2.99|2.79|\n",
    "|**All**|**3.32**|**3.37**|\n",
    "\n"
   ]
  },
  {
   "cell_type": "markdown",
   "id": "9354ef3b",
   "metadata": {
    "slideshow": {
     "slide_type": "slide"
    }
   },
   "source": [
    "### Restaurant reviews and phone types\n",
    "\n",
    "* It's doubtful that your phone type will **cause** you to prefer one restaurant over another.\n",
    "* Again, Simpson's paradox is merely a property of weighted averages!"
   ]
  },
  {
   "cell_type": "markdown",
   "id": "39e8e26e",
   "metadata": {
    "slideshow": {
     "slide_type": "slide"
    }
   },
   "source": [
    "### Verifying Simpson's paradox"
   ]
  },
  {
   "cell_type": "code",
   "execution_count": null,
   "id": "8dbd6f5c",
   "metadata": {
    "slideshow": {
     "slide_type": "-"
    }
   },
   "outputs": [],
   "source": [
    "ratings = pd.read_csv('data/ratings.csv')\n",
    "ratings.sample(5).head()"
   ]
  },
  {
   "cell_type": "markdown",
   "id": "f2e3fc51",
   "metadata": {},
   "source": [
    "Aggregated means:"
   ]
  },
  {
   "cell_type": "code",
   "execution_count": null,
   "id": "24362269",
   "metadata": {},
   "outputs": [],
   "source": [
    "ratings.pivot_table(index='phone', columns='restaurant', values='rating', aggfunc='mean')"
   ]
  },
  {
   "cell_type": "markdown",
   "id": "ec94164f",
   "metadata": {},
   "source": [
    "Disaggregated means:"
   ]
  },
  {
   "cell_type": "code",
   "execution_count": null,
   "id": "5f44b989",
   "metadata": {},
   "outputs": [],
   "source": [
    "ratings.groupby('restaurant').mean()"
   ]
  },
  {
   "cell_type": "markdown",
   "id": "9d8d224b",
   "metadata": {
    "slideshow": {
     "slide_type": "slide"
    }
   },
   "source": [
    "### Takeaways\n",
    "\n",
    "Be skeptical of...\n",
    "- Aggregate statistics.\n",
    "- People misusing statistics to \"prove\" that discrimination doesn't exist.\n",
    "- Drawing conclusions from individual publications (p-hacking, publication bias, narrow focus, etc.).\n",
    "- Everything!"
   ]
  },
  {
   "cell_type": "markdown",
   "id": "f37645fb",
   "metadata": {
    "slideshow": {
     "slide_type": "slide"
    }
   },
   "source": [
    "### Further reading\n",
    "\n",
    "- [Gender Bias in Admission Statistics?](https://www.cantorsparadise.com/gender-bias-in-admission-statistics-eaabca650810)\n",
    "    - Contains a **great** visualization.\n",
    "- [Simpson's paradox](https://en.wikipedia.org/wiki/Simpson%27s_paradox#UC_Berkeley_gender_bias) on Wikipedia."
   ]
  },
  {
   "cell_type": "markdown",
   "id": "c8d84d32",
   "metadata": {
    "slideshow": {
     "slide_type": "slide"
    }
   },
   "source": [
    "## Next time in DSC 80...\n",
    "\n",
    "- Combining data from different sources."
   ]
  }
 ],
 "metadata": {
  "celltoolbar": "Slideshow",
  "kernelspec": {
   "display_name": "Python 3 (ipykernel)",
   "language": "python",
   "name": "python3"
  },
  "language_info": {
   "codemirror_mode": {
    "name": "ipython",
    "version": 3
   },
   "file_extension": ".py",
   "mimetype": "text/x-python",
   "name": "python",
   "nbconvert_exporter": "python",
   "pygments_lexer": "ipython3",
   "version": "3.9.6"
  },
  "rise": {
   "transition": "none"
  }
 },
 "nbformat": 4,
 "nbformat_minor": 5
}
