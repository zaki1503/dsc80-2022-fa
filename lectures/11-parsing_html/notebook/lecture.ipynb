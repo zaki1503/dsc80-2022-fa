{
 "cells": [
  {
   "cell_type": "code",
   "execution_count": null,
   "id": "ffb9d4f3",
   "metadata": {},
   "outputs": [],
   "source": [
    "import pandas as pd\n",
    "import numpy as np\n",
    "\n",
    "import matplotlib.pyplot as plt\n",
    "plt.rcParams['figure.figsize'] = (10, 5)\n"
   ]
  },
  {
   "cell_type": "markdown",
   "id": "ce9e66d9",
   "metadata": {
    "slideshow": {
     "slide_type": "slide"
    }
   },
   "source": [
    "# Lecture 11 - Parsing HTML\n",
    "\n",
    "## DSC 80, Fall 2022"
   ]
  },
  {
   "cell_type": "markdown",
   "id": "6ae2dd05",
   "metadata": {
    "slideshow": {
     "slide_type": "slide"
    }
   },
   "source": [
    "## Today, in DSC 80...\n",
    "\n",
    "- We can *scrape* data from the internet.\n",
    "- What we get back is a mess of HTML.\n",
    "- How do we extract information from this HTML?"
   ]
  },
  {
   "cell_type": "markdown",
   "id": "520fe224",
   "metadata": {
    "slideshow": {
     "slide_type": "slide"
    }
   },
   "source": [
    "## Recall: APIs vs. Scraping"
   ]
  },
  {
   "cell_type": "markdown",
   "id": "4ecd5650",
   "metadata": {
    "slideshow": {
     "slide_type": "slide"
    }
   },
   "source": [
    "### Programmatic requests\n",
    "\n",
    "* We learned how to use the Python `requests` package to exchange data via HTTP.\n",
    "    - `GET` requests are used to request data **from** a server.\n",
    "    - `POST` requests are used to **send** data to a server. \n",
    "* There are two ways of collecting data via requests:\n",
    "    * By using a published API (application programming interface).\n",
    "    * By scraping a webpage to collect its HTML source code."
   ]
  },
  {
   "cell_type": "markdown",
   "id": "e58b5483",
   "metadata": {
    "slideshow": {
     "slide_type": "slide"
    }
   },
   "source": [
    "### APIs\n",
    "\n",
    "* An API is a service that makes data directly available to the user in a convenient fashion."
   ]
  },
  {
   "cell_type": "markdown",
   "id": "fb2b753f",
   "metadata": {
    "slideshow": {
     "slide_type": "fragment"
    }
   },
   "source": [
    "* Advantages:\n",
    "    - The data are usually clean, up-to-date, and ready to use.\n",
    "    - The presence of a API signals that the data provider is okay with you using their data.\n",
    "    - The data provider can plan and regulate data usage.\n",
    "        - Some APIs require you to create an API \"key\", which is like an account for using the API.\n",
    "        - APIs can also give you access to data that isn't publicly available on a webpage."
   ]
  },
  {
   "cell_type": "markdown",
   "id": "0a27588c",
   "metadata": {
    "slideshow": {
     "slide_type": "fragment"
    }
   },
   "source": [
    "* Disadvantages:\n",
    "    - APIs don't always exist for the data you want!"
   ]
  },
  {
   "cell_type": "markdown",
   "id": "598f8dc1",
   "metadata": {
    "slideshow": {
     "slide_type": "slide"
    }
   },
   "source": [
    "### Scraping\n",
    "\n",
    "* Scraping is the act of programmatically \"browsing\" the web, downloading the source code (HTML) of pages that you're interested in extracting data from."
   ]
  },
  {
   "cell_type": "markdown",
   "id": "b93655d9",
   "metadata": {
    "slideshow": {
     "slide_type": "fragment"
    }
   },
   "source": [
    "* Advantages:\n",
    "    * You can always do it!\n",
    "        - e.g. Google scrapes webpages in order to make them searchable."
   ]
  },
  {
   "cell_type": "markdown",
   "id": "452efeda",
   "metadata": {
    "slideshow": {
     "slide_type": "fragment"
    }
   },
   "source": [
    "* Disadvantages:\n",
    "    - It is often difficult to parse and clean scraped data.\n",
    "        - Source code often includes a lot of content unrelated to the data you're trying to find (e.g. formatting, advertisements, other text).\n",
    "    - Websites can change often, so scraping code can get outdated quickly.\n",
    "    - Websites may not want you to scrape their data!"
   ]
  },
  {
   "cell_type": "markdown",
   "id": "c3c1ee8a",
   "metadata": {
    "slideshow": {
     "slide_type": "fragment"
    }
   },
   "source": [
    "- In general, we prefer APIs."
   ]
  },
  {
   "cell_type": "markdown",
   "id": "d8daf337",
   "metadata": {
    "slideshow": {
     "slide_type": "slide"
    }
   },
   "source": [
    "### Accessing HTML\n",
    "\n",
    "Let's make a `GET` request to the HDSI Faculty page and see what the resulting HTML looks like. "
   ]
  },
  {
   "cell_type": "code",
   "execution_count": null,
   "id": "411927dd",
   "metadata": {},
   "outputs": [],
   "source": [
    "url = 'https://datascience.ucsd.edu/about/faculty/faculty/'\n",
    "r = requests.get(url)\n",
    "r"
   ]
  },
  {
   "cell_type": "code",
   "execution_count": null,
   "id": "68c8ee92",
   "metadata": {},
   "outputs": [],
   "source": [
    "urlText = r.text\n",
    "len(urlText)"
   ]
  },
  {
   "cell_type": "code",
   "execution_count": null,
   "id": "995d6264",
   "metadata": {},
   "outputs": [],
   "source": [
    "print(urlText[:1000])"
   ]
  },
  {
   "cell_type": "markdown",
   "id": "b8515ea8",
   "metadata": {
    "slideshow": {
     "slide_type": "slide"
    }
   },
   "source": [
    "Wow, that is gross looking! 😰 \n",
    "\n",
    "- It is **raw** HTML, which web browsers use to display websites.\n",
    "- The information we are looking for – faculty information – is in there somewhere, but we have to search for it and extract it, which we wouldn't have to do if we had an API."
   ]
  },
  {
   "cell_type": "markdown",
   "id": "81b67332",
   "metadata": {
    "slideshow": {
     "slide_type": "slide"
    }
   },
   "source": [
    "## The anatomy of HTML documents"
   ]
  },
  {
   "cell_type": "markdown",
   "id": "ccb2004e",
   "metadata": {
    "slideshow": {
     "slide_type": "slide"
    }
   },
   "source": [
    "### What is HTML?\n",
    "\n",
    "* HTML (HyperText Markup Language) is **the** basic building block of the internet. \n",
    "* It defines the content and layout of a webpage, and as such, it is what you get back when you scrape a webpage.\n",
    "* See [this tutorial](http://fab.academany.org/2018/labs/fablaboshanghai/students/bob-wu/Fabclass/week2_project_management/HTML.html) for more details."
   ]
  },
  {
   "cell_type": "code",
   "execution_count": null,
   "id": "30977193",
   "metadata": {
    "slideshow": {
     "slide_type": "slide"
    }
   },
   "outputs": [],
   "source": [
    "!cat data/lec15_ex1.html"
   ]
  },
  {
   "cell_type": "markdown",
   "id": "8cd34b6c",
   "metadata": {
    "slideshow": {
     "slide_type": "slide"
    }
   },
   "source": [
    "### The anatomy of HTML documents\n",
    "\n",
    "* **HTML document**: The totality of markup that makes up a webpage.\n",
    "\n",
    "* **Document Object Model (DOM)**: The internal representation of a HTML document as a hierarchical **tree** structure.\n",
    "\n",
    "* **HTML element**: An object in the DOM, such as a paragraph, header, or title.\n",
    "* **HTML tags**: Markers that denote the **start** and **end** of an element, such as `<p>` and `</p>`.\n",
    "\n",
    "<center><img src='imgs/dom.jpg'></center>\n",
    "\n",
    "<center><a href='https://simplesnippets.tech/what-is-document-object-modeldom-how-js-interacts-with-dom/'>(source)</a></center>"
   ]
  },
  {
   "cell_type": "markdown",
   "id": "e6c7e451",
   "metadata": {
    "slideshow": {
     "slide_type": "slide"
    }
   },
   "source": [
    "### Useful tags to know\n",
    "\n",
    "\n",
    "|Element|Description|\n",
    "|:---|:---|\n",
    "|`<html>`|the document|\n",
    "|`<head>`|the header|\n",
    "|`<body>`|the body|\n",
    "|`<div>` |a logical division of the document|\n",
    "|`<span>`|an *in-line* logical division|\n",
    "|`<p>`|a paragraph|\n",
    "| `<a>`| an anchor (hyper-link)|\n",
    "|`<h1>, <h2>, ...`| header(s) |\n",
    "|`<img>`| an image |\n",
    "\n",
    "There are many, many more. See [this article](https://en.wikipedia.org/wiki/HTML_element) for examples."
   ]
  },
  {
   "cell_type": "markdown",
   "id": "b0bff9d4",
   "metadata": {
    "slideshow": {
     "slide_type": "slide"
    }
   },
   "source": [
    "### Example: images and hyperlinks\n",
    "\n",
    "Tags can have **attributes**, which further specify how to display information on a webpage."
   ]
  },
  {
   "cell_type": "markdown",
   "id": "f1d9e9b0",
   "metadata": {
    "slideshow": {
     "slide_type": "fragment"
    }
   },
   "source": [
    "For instance, `<img>` tags have `src` and `alt` attributes (among others):\n",
    "\n",
    "```html\n",
    "<img src=\"billy-selfie.png\" alt=\"A photograph of Billy.\" width=500>\n",
    "```"
   ]
  },
  {
   "cell_type": "markdown",
   "id": "5dae5287",
   "metadata": {
    "slideshow": {
     "slide_type": "fragment"
    }
   },
   "source": [
    "Hyperlinks have `href` attributes: \n",
    "\n",
    "```html\n",
    "Click <a href=\"https://dsc80.com/project3\">this link</a> to access Project 3.\n",
    "```"
   ]
  },
  {
   "cell_type": "markdown",
   "id": "c11bd386",
   "metadata": {
    "slideshow": {
     "slide_type": "slide"
    }
   },
   "source": [
    "What do you think this webpage looks like?"
   ]
  },
  {
   "cell_type": "code",
   "execution_count": null,
   "id": "616977b4",
   "metadata": {},
   "outputs": [],
   "source": [
    "!cat data/lec15_ex2.html"
   ]
  },
  {
   "cell_type": "markdown",
   "id": "4e57996b",
   "metadata": {
    "slideshow": {
     "slide_type": "slide"
    }
   },
   "source": [
    "### The `<div>` tag\n",
    "\n",
    "```html\n",
    "<div style=\"background-color:lightblue\">\n",
    "  <h3>This is a heading</h3>\n",
    "  <p>This is a paragraph.</p>\n",
    "</div>\n",
    "```\n",
    "\n",
    "* The `<div>` tag defines a division or a \"section\" of an HTML document.\n",
    "    * Think of a `<div>` as a \"cell\" in a Jupyter Notebook.\n",
    "\n",
    "* The `<div>` element is often used as a container for other HTML elements to style them with CSS or to perform operations involving them using JavaScript.\n",
    "\n",
    "* `<div>` elements often have attributes, which are important when scraping!"
   ]
  },
  {
   "cell_type": "markdown",
   "id": "1dac8cfc",
   "metadata": {
    "slideshow": {
     "slide_type": "slide"
    }
   },
   "source": [
    "### Document trees"
   ]
  },
  {
   "cell_type": "code",
   "execution_count": null,
   "id": "5820c75c",
   "metadata": {},
   "outputs": [],
   "source": [
    "!cat data/lec15_ex1.html"
   ]
  },
  {
   "cell_type": "markdown",
   "id": "7dc41ef8",
   "metadata": {
    "slideshow": {
     "slide_type": "fragment"
    }
   },
   "source": [
    "Under the document object model (DOM), HTML documents are trees. In DOM trees, child nodes are **ordered**.\n",
    "\n",
    "<center>\n",
    "\n",
    "<img src=\"imgs/webpage_anatomy.png\" width=\"50%\">\n",
    "\n",
    "</center>    \n",
    "\n",
    "What does the DOM tree look like for this document?"
   ]
  },
  {
   "cell_type": "markdown",
   "id": "cc01fcc8",
   "metadata": {
    "slideshow": {
     "slide_type": "fragment"
    }
   },
   "source": [
    "<center><img src=\"imgs/dom_tree.png\" width=\"50%\"></center>"
   ]
  },
  {
   "cell_type": "markdown",
   "id": "b3a457df",
   "metadata": {
    "slideshow": {
     "slide_type": "slide"
    }
   },
   "source": [
    "### Example: Quote scraping\n",
    "\n",
    "Consider the following webpage.\n",
    "\n",
    "<center><img src=\"imgs/quotes2scrape.png\" width=60%></center>\n",
    "\n",
    "- What do you think the DOM tree looks like?\n",
    "- If you had to store the data on this page in a DataFrame, what would the rows and columns represent?"
   ]
  },
  {
   "cell_type": "markdown",
   "id": "ba63056b",
   "metadata": {
    "slideshow": {
     "slide_type": "fragment"
    }
   },
   "source": [
    "<center><img src=\"imgs/quote_dom.png\" width=\"50%\"></center>"
   ]
  },
  {
   "cell_type": "markdown",
   "id": "779f1432",
   "metadata": {
    "slideshow": {
     "slide_type": "slide"
    }
   },
   "source": [
    "## Parsing HTML via Beautiful Soup"
   ]
  },
  {
   "cell_type": "markdown",
   "id": "aa188a0b",
   "metadata": {
    "slideshow": {
     "slide_type": "slide"
    }
   },
   "source": [
    "### Beautiful Soup 🍜\n",
    "\n",
    "* [Beautiful Soup 4](https://www.crummy.com/software/BeautifulSoup/bs4/doc/) is a Python HTML parser.\n",
    "    - To \"parse\" means to \"extract meaning from a sequence of symbols\".\n",
    "* **Warning:** Beautiful Soup 4 and Beautiful Soup 3 work differently, so make sure you are using and looking at documentation for Beautiful Soup 4."
   ]
  },
  {
   "cell_type": "markdown",
   "id": "3ec342a8",
   "metadata": {
    "slideshow": {
     "slide_type": "slide"
    }
   },
   "source": [
    "### Example HTML document\n",
    "\n",
    "To start, let's instantiate a `BeautifulSoup` object, using the source code for an HTML page with the DOM tree shown below:\n",
    "\n",
    "<center><img src=\"imgs/dom_tree_1.png\" width=\"60%\"></center>"
   ]
  },
  {
   "cell_type": "markdown",
   "id": "07126709",
   "metadata": {
    "slideshow": {
     "slide_type": "fragment"
    }
   },
   "source": [
    "The string `html_string` contains an HTML \"document\"."
   ]
  },
  {
   "cell_type": "code",
   "execution_count": null,
   "id": "03ddc1d2",
   "metadata": {
    "slideshow": {
     "slide_type": "-"
    }
   },
   "outputs": [],
   "source": [
    "html_string = '''\n",
    "<html>\n",
    "    <body>\n",
    "      <div id=\"content\">\n",
    "        <h1>Heading here</h1>\n",
    "        <p>My First paragraph</p>\n",
    "        <p>My <em>second</em> paragraph</p>\n",
    "        <hr>\n",
    "      </div>\n",
    "      <div id=\"nav\">\n",
    "        <ul>\n",
    "          <li>item 1</li>\n",
    "          <li>item 2</li>\n",
    "          <li>item 3</li>\n",
    "        </ul>\n",
    "      </div>\n",
    "    </body>\n",
    "</html>\n",
    "'''.strip()"
   ]
  },
  {
   "cell_type": "markdown",
   "id": "25301e69",
   "metadata": {},
   "source": [
    "Using the `HTML` function in the `IPython.display` module, we can render an HTML document from within our Jupyter Notebook:"
   ]
  },
  {
   "cell_type": "code",
   "execution_count": null,
   "id": "e5e13840",
   "metadata": {},
   "outputs": [],
   "source": [
    "HTML(html_string)"
   ]
  },
  {
   "cell_type": "markdown",
   "id": "1066b364",
   "metadata": {
    "slideshow": {
     "slide_type": "slide"
    }
   },
   "source": [
    "### `BeautifulSoup` objects\n",
    "\n",
    "`bs4.BeautifulSoup` takes in a string or file-like object representing HTML (`markup`) and returns a **parsed** document."
   ]
  },
  {
   "cell_type": "code",
   "execution_count": null,
   "id": "85125874",
   "metadata": {},
   "outputs": [],
   "source": [
    "import bs4"
   ]
  },
  {
   "cell_type": "code",
   "execution_count": null,
   "id": "41464e87",
   "metadata": {},
   "outputs": [],
   "source": [
    "bs4.BeautifulSoup?"
   ]
  },
  {
   "cell_type": "markdown",
   "id": "1ff5a0df",
   "metadata": {},
   "source": [
    "Normally, we pass the result of a `GET` request to `bs4.BeautifulSoup`, but here we will pass our hand-crafted `html_string`."
   ]
  },
  {
   "cell_type": "code",
   "execution_count": null,
   "id": "3482855a",
   "metadata": {},
   "outputs": [],
   "source": [
    "soup = bs4.BeautifulSoup(html_string)\n",
    "soup"
   ]
  },
  {
   "cell_type": "code",
   "execution_count": null,
   "id": "a1196b8f",
   "metadata": {},
   "outputs": [],
   "source": [
    "type(soup)"
   ]
  },
  {
   "cell_type": "markdown",
   "id": "a8ba06f2",
   "metadata": {},
   "source": [
    "`BeautifulSoup` objects have several useful attributes, e.g. `text`:"
   ]
  },
  {
   "cell_type": "code",
   "execution_count": null,
   "id": "dab85ebb",
   "metadata": {},
   "outputs": [],
   "source": [
    "print(soup.text)"
   ]
  },
  {
   "cell_type": "markdown",
   "id": "eadf39f8",
   "metadata": {
    "slideshow": {
     "slide_type": "slide"
    }
   },
   "source": [
    "### Child nodes\n",
    "\n",
    "- Recall, HTML documents are represented as trees.\n",
    "    - Each page element becomes a node in this tree.\n",
    "- A `BeautifulSoup` object represents a **node** in the tree.\n",
    "    - Each `BeautifulSoup` object has 0 or more child nodes.\n",
    "    - To access the children of a node, use the `children` attribute."
   ]
  },
  {
   "cell_type": "code",
   "execution_count": null,
   "id": "b9583d78",
   "metadata": {},
   "outputs": [],
   "source": [
    "soup"
   ]
  },
  {
   "cell_type": "code",
   "execution_count": null,
   "id": "e4dbfeb7",
   "metadata": {},
   "outputs": [],
   "source": [
    "soup.children"
   ]
  },
  {
   "cell_type": "markdown",
   "id": "2aa3815c",
   "metadata": {
    "slideshow": {
     "slide_type": "slide"
    }
   },
   "source": [
    "### Aside: iterators\n",
    "\n",
    "On the previous slide, we saw that that `soup.children` isn't another `BeautifulSoup` object, but rather something of the form `<list_iterator at 0x7f7b0ab8c370>`.\n",
    "\n",
    "What are [iterators](https://www.w3schools.com/python/python_iterators.asp), again?"
   ]
  },
  {
   "cell_type": "code",
   "execution_count": null,
   "id": "8626c4c8",
   "metadata": {},
   "outputs": [],
   "source": [
    "nums = [1, 2, 3, 4]\n",
    "double = map(lambda x: x ** 2, nums)\n",
    "double"
   ]
  },
  {
   "cell_type": "code",
   "execution_count": null,
   "id": "202e7c27",
   "metadata": {},
   "outputs": [],
   "source": [
    "next(double)"
   ]
  },
  {
   "cell_type": "code",
   "execution_count": null,
   "id": "2299a9d9",
   "metadata": {},
   "outputs": [],
   "source": [
    "list(double)"
   ]
  },
  {
   "cell_type": "markdown",
   "id": "0e22f006",
   "metadata": {
    "slideshow": {
     "slide_type": "slide"
    }
   },
   "source": [
    "### Child nodes\n",
    "\n",
    "The `children` attribute returns an iterator so that it doesn't have to load the entire DOM tree in memory."
   ]
  },
  {
   "cell_type": "code",
   "execution_count": null,
   "id": "ee16ff55",
   "metadata": {},
   "outputs": [],
   "source": [
    "soup"
   ]
  },
  {
   "cell_type": "code",
   "execution_count": null,
   "id": "c35ce777",
   "metadata": {},
   "outputs": [],
   "source": [
    "soup.children"
   ]
  },
  {
   "cell_type": "code",
   "execution_count": null,
   "id": "b2aa7e45",
   "metadata": {},
   "outputs": [],
   "source": [
    "len(list(soup.children))"
   ]
  },
  {
   "cell_type": "code",
   "execution_count": null,
   "id": "428921b9",
   "metadata": {},
   "outputs": [],
   "source": [
    "root = next(soup.children)\n",
    "root"
   ]
  },
  {
   "cell_type": "code",
   "execution_count": null,
   "id": "ab7f67d2",
   "metadata": {},
   "outputs": [],
   "source": [
    "list(root.children)"
   ]
  },
  {
   "cell_type": "code",
   "execution_count": null,
   "id": "62f7fcd3",
   "metadata": {},
   "outputs": [],
   "source": [
    "list(list(root.children)[1].children)"
   ]
  },
  {
   "cell_type": "code",
   "execution_count": null,
   "id": "be1848b6",
   "metadata": {},
   "outputs": [],
   "source": [
    "list(list(list(root.children)[1].children)[3].children)"
   ]
  },
  {
   "cell_type": "markdown",
   "id": "52b4d058",
   "metadata": {
    "slideshow": {
     "slide_type": "slide"
    }
   },
   "source": [
    "### Depth-first traversal through `descendants`\n",
    "\n",
    "- While we could use the `children` attribute to navigate to any node in a `BeautifulSoup` tree, there are easier ways of navigating the tree.\n",
    "\n",
    "- The `descendants` attribute traverses a `BeautifulSoup` tree using **depth-first traversal**.\n",
    "    - Why depth-first? Elements closer to one another on a page are more likely to be related than elements further away.\n",
    "    - Question: What type of depth-first traversal does this use – preorder, inorder, or postorder traversal?\n",
    "\n",
    "<center><img src=\"imgs/dom_tree_1.png\" width=\"60%\"></center>"
   ]
  },
  {
   "cell_type": "code",
   "execution_count": null,
   "id": "ad0a6291",
   "metadata": {},
   "outputs": [],
   "source": [
    "for child in soup.descendants:\n",
    "    # print(child) # What would happen if we ran this instead?\n",
    "    if isinstance(child, str):\n",
    "        continue\n",
    "    print(child.name)"
   ]
  },
  {
   "cell_type": "markdown",
   "id": "fa0ea875",
   "metadata": {
    "slideshow": {
     "slide_type": "slide"
    }
   },
   "source": [
    "### Finding elements in a tree\n",
    "\n",
    "Practically speaking, you will not use the `children` or `descendants` attributes directly very often. Instead, you will use the following methods:\n",
    "\n",
    "- `soup.find(tag)`, which finds the **first** instance of a tag (the first one on the page, i.e. the first one that DFS sees).\n",
    "    - More general: `soup.find(name=None, attrs={}, recursive=True, text=None, **kwargs)`.\n",
    "- `soup.find_all(tag)` will find **all** instances of a tag.\n"
   ]
  },
  {
   "cell_type": "markdown",
   "id": "84fc9e46",
   "metadata": {
    "slideshow": {
     "slide_type": "slide"
    }
   },
   "source": [
    "### Using `find`\n",
    "\n",
    "Let's try and extract the first `<div>` subtree.\n",
    "\n",
    "<center><img src=\"imgs/dom_tree_1.png\" width=\"60%\"></center>  "
   ]
  },
  {
   "cell_type": "code",
   "execution_count": null,
   "id": "6a3036fe",
   "metadata": {},
   "outputs": [],
   "source": [
    "soup"
   ]
  },
  {
   "cell_type": "code",
   "execution_count": null,
   "id": "43836172",
   "metadata": {},
   "outputs": [],
   "source": [
    "div = soup.find('div')\n",
    "div"
   ]
  },
  {
   "cell_type": "markdown",
   "id": "e99ca90e",
   "metadata": {},
   "source": [
    "<center><img src=\"imgs/dom_subtree_1.png\" width=\"30%\"></center>  "
   ]
  },
  {
   "cell_type": "markdown",
   "id": "0c3a2aae",
   "metadata": {},
   "source": [
    "Let's try and find the `<div>` element that has an `id` attribute equal to `'nav'`."
   ]
  },
  {
   "cell_type": "code",
   "execution_count": null,
   "id": "e42ac8e5",
   "metadata": {},
   "outputs": [],
   "source": [
    "soup.find('div', attrs={'id': 'nav'})"
   ]
  },
  {
   "cell_type": "markdown",
   "id": "26e9e91c",
   "metadata": {},
   "source": [
    "`find` will return the first occurrence of a tag, regardless of what depth it is in the tree."
   ]
  },
  {
   "cell_type": "code",
   "execution_count": null,
   "id": "697fe1c8",
   "metadata": {},
   "outputs": [],
   "source": [
    "soup.find('ul')"
   ]
  },
  {
   "cell_type": "code",
   "execution_count": null,
   "id": "5505454d",
   "metadata": {},
   "outputs": [],
   "source": [
    "soup.find('li')"
   ]
  },
  {
   "cell_type": "markdown",
   "id": "203a2394",
   "metadata": {
    "slideshow": {
     "slide_type": "slide"
    }
   },
   "source": [
    "### Using `find_all`\n",
    "\n",
    "`find_all` returns a list of all matches."
   ]
  },
  {
   "cell_type": "code",
   "execution_count": null,
   "id": "d579015f",
   "metadata": {},
   "outputs": [],
   "source": [
    "soup.find_all('div')"
   ]
  },
  {
   "cell_type": "code",
   "execution_count": null,
   "id": "6c8cc752",
   "metadata": {},
   "outputs": [],
   "source": [
    "soup.find_all('li')"
   ]
  },
  {
   "cell_type": "code",
   "execution_count": null,
   "id": "19df43f7",
   "metadata": {},
   "outputs": [],
   "source": [
    "[x.text for x in soup.find_all('li')]"
   ]
  },
  {
   "cell_type": "markdown",
   "id": "84e44c96",
   "metadata": {},
   "source": [
    "`text` is a node attribute."
   ]
  },
  {
   "cell_type": "markdown",
   "id": "25bf0322",
   "metadata": {
    "slideshow": {
     "slide_type": "slide"
    }
   },
   "source": [
    "### Node attributes\n",
    "* The `text` attribute of a tag element gets the text between the opening and closing tags.\n",
    "* The `attrs` attribute lists all attributes of a tag.\n",
    "* The `get(key)` method gets the value of a tag attribute."
   ]
  },
  {
   "cell_type": "code",
   "execution_count": null,
   "id": "ffc89c02",
   "metadata": {},
   "outputs": [],
   "source": [
    "soup.find('p')"
   ]
  },
  {
   "cell_type": "code",
   "execution_count": null,
   "id": "4b3c0357",
   "metadata": {},
   "outputs": [],
   "source": [
    "soup.find('p').text"
   ]
  },
  {
   "cell_type": "code",
   "execution_count": null,
   "id": "1885d93d",
   "metadata": {},
   "outputs": [],
   "source": [
    "soup.find('div')"
   ]
  },
  {
   "cell_type": "code",
   "execution_count": null,
   "id": "bdd075cb",
   "metadata": {},
   "outputs": [],
   "source": [
    "soup.find('div').attrs"
   ]
  },
  {
   "cell_type": "code",
   "execution_count": null,
   "id": "871ea9c5",
   "metadata": {},
   "outputs": [],
   "source": [
    "soup.find('div').get('id')"
   ]
  },
  {
   "cell_type": "markdown",
   "id": "2d426408",
   "metadata": {
    "slideshow": {
     "slide_type": "slide"
    }
   },
   "source": [
    "You can access tags using attribute notation, too."
   ]
  },
  {
   "cell_type": "code",
   "execution_count": null,
   "id": "d4726c79",
   "metadata": {
    "scrolled": false
   },
   "outputs": [],
   "source": [
    "soup"
   ]
  },
  {
   "cell_type": "code",
   "execution_count": null,
   "id": "b911acfa",
   "metadata": {},
   "outputs": [],
   "source": [
    "soup.html.div.h1"
   ]
  },
  {
   "cell_type": "code",
   "execution_count": null,
   "id": "e2af7b0d",
   "metadata": {},
   "outputs": [],
   "source": [
    "soup.html.div.h1.text"
   ]
  },
  {
   "cell_type": "code",
   "execution_count": null,
   "id": "0ac522d9",
   "metadata": {},
   "outputs": [],
   "source": [
    "soup.html.div.next_sibling.next_sibling.attrs"
   ]
  },
  {
   "cell_type": "markdown",
   "id": "88412f31",
   "metadata": {
    "slideshow": {
     "slide_type": "slide"
    }
   },
   "source": [
    "## Example: Scraping the HDSI Faculty page"
   ]
  },
  {
   "cell_type": "markdown",
   "id": "1d2c1fa9",
   "metadata": {
    "slideshow": {
     "slide_type": "slide"
    }
   },
   "source": [
    "### Example\n",
    "\n",
    "Let's try and extract a list of HDSI Faculty from https://datascience.ucsd.edu/about/faculty/faculty/.\n",
    "\n",
    "A good first step is to use the \"inspect element\" tool in our web browser."
   ]
  },
  {
   "cell_type": "code",
   "execution_count": null,
   "id": "719696a7",
   "metadata": {},
   "outputs": [],
   "source": [
    "fac_response = requests.get('https://datascience.ucsd.edu/about/faculty/faculty/')\n",
    "fac_response"
   ]
  },
  {
   "cell_type": "code",
   "execution_count": null,
   "id": "92e45caf",
   "metadata": {},
   "outputs": [],
   "source": [
    "soup = bs4.BeautifulSoup(fac_response.text)"
   ]
  },
  {
   "cell_type": "markdown",
   "id": "a148d195",
   "metadata": {
    "slideshow": {
     "slide_type": "slide"
    }
   },
   "source": [
    "It seems like the relevant `<div>`s for faculty are the ones where the `data-entry-type` attribute is equal to `'individual'`. Let's find all of those."
   ]
  },
  {
   "cell_type": "code",
   "execution_count": null,
   "id": "283f50f8",
   "metadata": {
    "slideshow": {
     "slide_type": "-"
    }
   },
   "outputs": [],
   "source": [
    "divs = soup.find_all('div', attrs={'data-entry-type': 'individual'})"
   ]
  },
  {
   "cell_type": "code",
   "execution_count": null,
   "id": "4c4e0c51",
   "metadata": {},
   "outputs": [],
   "source": [
    "divs[0]"
   ]
  },
  {
   "cell_type": "markdown",
   "id": "6491b6ef",
   "metadata": {},
   "source": [
    "Within here, we need to extract each faculty member's name. It seems like names are stored in the `title` attribute within an `<a>` tag."
   ]
  },
  {
   "cell_type": "code",
   "execution_count": null,
   "id": "b7048ac1",
   "metadata": {},
   "outputs": [],
   "source": [
    "divs[0].find('a').get('title')"
   ]
  },
  {
   "cell_type": "markdown",
   "id": "578155b5",
   "metadata": {},
   "source": [
    "We can also extract job titles:"
   ]
  },
  {
   "cell_type": "code",
   "execution_count": null,
   "id": "fa93d7d7",
   "metadata": {},
   "outputs": [],
   "source": [
    "divs[0].find('h4').text"
   ]
  },
  {
   "cell_type": "markdown",
   "id": "f16e6b8c",
   "metadata": {},
   "source": [
    "And bios:"
   ]
  },
  {
   "cell_type": "code",
   "execution_count": null,
   "id": "db71384f",
   "metadata": {},
   "outputs": [],
   "source": [
    "divs[0].find('div', attrs={'class': 'cn-bio'}).text.strip()"
   ]
  },
  {
   "cell_type": "markdown",
   "id": "6bc9a49f",
   "metadata": {
    "slideshow": {
     "slide_type": "slide"
    }
   },
   "source": [
    "Let's create a DataFrame consisting of names and bios for each faculty member."
   ]
  },
  {
   "cell_type": "code",
   "execution_count": null,
   "id": "706aecd0",
   "metadata": {
    "scrolled": true
   },
   "outputs": [],
   "source": [
    "names = [div.find('a').get('title') for div in divs]\n",
    "names[:5]"
   ]
  },
  {
   "cell_type": "code",
   "execution_count": null,
   "id": "9534487e",
   "metadata": {},
   "outputs": [],
   "source": [
    "titles = [div.find('h4').text if div.find('h4') else '' for div in divs]"
   ]
  },
  {
   "cell_type": "code",
   "execution_count": null,
   "id": "8089720d",
   "metadata": {},
   "outputs": [],
   "source": [
    "bios = [div.find('div', attrs={'class': 'cn-bio'}).text.strip() for div in divs]"
   ]
  },
  {
   "cell_type": "code",
   "execution_count": null,
   "id": "49e636ab",
   "metadata": {},
   "outputs": [],
   "source": [
    "faculty = pd.DataFrame().assign(name=names, title=titles, bio=bios)\n",
    "faculty.head()"
   ]
  },
  {
   "cell_type": "markdown",
   "id": "2d183970",
   "metadata": {},
   "source": [
    "Now we have a DataFrame!"
   ]
  },
  {
   "cell_type": "code",
   "execution_count": null,
   "id": "66ecca81",
   "metadata": {},
   "outputs": [],
   "source": [
    "faculty[faculty['title'] == 'Lecturer']"
   ]
  },
  {
   "cell_type": "markdown",
   "id": "ecdaf602",
   "metadata": {
    "slideshow": {
     "slide_type": "slide"
    }
   },
   "source": [
    "What if we want to get faculty members' pictures? It seems like we should look at the attributes of an `<img>` tag."
   ]
  },
  {
   "cell_type": "code",
   "execution_count": null,
   "id": "fa7f288a",
   "metadata": {},
   "outputs": [],
   "source": [
    "divs[0].find('img')"
   ]
  },
  {
   "cell_type": "code",
   "execution_count": null,
   "id": "d53deae2",
   "metadata": {},
   "outputs": [],
   "source": [
    "def show_picture(name):\n",
    "    idx = names.index(name)\n",
    "    url = divs[idx].find('img').get('srcset')\n",
    "    url = 'https://' + url.strip('/').strip(' 1x')\n",
    "    display(Image(url))"
   ]
  },
  {
   "cell_type": "code",
   "execution_count": null,
   "id": "5c5c2b29",
   "metadata": {},
   "outputs": [],
   "source": [
    "# no longer works : (\n",
    "# (the webpage has changed)\n",
    "# this is a downside of scraping!\n",
    "show_picture('Suraj Rampure')"
   ]
  },
  {
   "cell_type": "code",
   "execution_count": null,
   "id": "d0df88b2",
   "metadata": {},
   "outputs": [],
   "source": [
    "display(Image(url))"
   ]
  },
  {
   "cell_type": "markdown",
   "id": "805600ca",
   "metadata": {
    "slideshow": {
     "slide_type": "slide"
    }
   },
   "source": [
    "## Example: Scraping quotes"
   ]
  },
  {
   "cell_type": "markdown",
   "id": "96504cbf",
   "metadata": {
    "slideshow": {
     "slide_type": "slide"
    }
   },
   "source": [
    "### Example: Scraping quotes\n",
    "\n",
    "Let's scrape quotes from https://quotes.toscrape.com/.\n",
    "\n",
    "<center><img src=\"imgs/quotes2scrape.png\" width=60%></center>"
   ]
  },
  {
   "cell_type": "markdown",
   "id": "c943a630",
   "metadata": {
    "slideshow": {
     "slide_type": "fragment"
    }
   },
   "source": [
    "Specifically, let's try to make a DataFrame that looks like the one below:\n",
    "\n",
    "<table border=\"1\" class=\"dataframe\">\n",
    "  <thead>\n",
    "    <tr style=\"text-align: right;\">\n",
    "      <th></th>\n",
    "      <th>quote</th>\n",
    "      <th>author</th>\n",
    "      <th>author_url</th>\n",
    "      <th>tags</th>\n",
    "    </tr>\n",
    "  </thead>\n",
    "  <tbody>\n",
    "    <tr>\n",
    "      <th>0</th>\n",
    "      <td>“The world as we have created it is a process of our thinking. It cannot be changed without changing our thinking.”</td>\n",
    "      <td>Albert Einstein</td>\n",
    "      <td>https://quotes.toscrape.com/author/Albert-Einstein</td>\n",
    "      <td>change,deep-thoughts,thinking,world</td>\n",
    "    </tr>\n",
    "    <tr>\n",
    "      <th>1</th>\n",
    "      <td>“It is our choices, Harry, that show what we truly are, far more than our abilities.”</td>\n",
    "      <td>J.K. Rowling</td>\n",
    "      <td>https://quotes.toscrape.com/author/J-K-Rowling</td>\n",
    "      <td>abilities,choices</td>\n",
    "    </tr>\n",
    "    <tr>\n",
    "      <th>2</th>\n",
    "      <td>“There are only two ways to live your life. One is as though nothing is a miracle. The other is as though everything is a miracle.”</td>\n",
    "      <td>Albert Einstein</td>\n",
    "      <td>https://quotes.toscrape.com/author/Albert-Einstein</td>\n",
    "      <td>inspirational,life,live,miracle,miracles</td>\n",
    "    </tr>\n",
    "  </tbody>\n",
    "</table>"
   ]
  },
  {
   "cell_type": "markdown",
   "id": "b4ccef8f",
   "metadata": {
    "slideshow": {
     "slide_type": "slide"
    }
   },
   "source": [
    "### The plan\n",
    "\n",
    "Eventually, we will create a single function – `quote_df` – which takes in an integer `n` and returns a **DataFrame** with the quotes on the **first `n` pages** of https://quotes.toscrape.com/.\n",
    "\n",
    "To do this, we will define several helper functions:\n",
    "- `download_page(i)`, which downloads a **single page** (page `i`) and returns a `BeautifulSoup` object of the response.\n",
    "- `process_quote(div)`, which takes in a `<div>` tree corresponding to a **single quote** and returns a Series containing all of the relevant information for that quote.\n",
    "- `process_page(divs)`, which takes in a list of `<div>` trees corresponding to a **single page** and returns a DataFrame containing all of the relevant information for all quotes on that page.\n",
    "\n",
    "Key principle: some of our helper functions will make **requests**, and others will **parse**, but none will do both! \n",
    "- Easier to debug and catch errors.\n",
    "- Avoids unnecessary requests."
   ]
  },
  {
   "cell_type": "markdown",
   "id": "361d8c8a",
   "metadata": {
    "slideshow": {
     "slide_type": "slide"
    }
   },
   "source": [
    "### Aside: f-strings in Python\n",
    "\n",
    "- f-strings in Python provide a convenient way to format strings.\n",
    "- To create an f-string, create a string with the character `f` **right before** the opening quote. Then, anything in the subsequent string that is inside `{curly brackets}` will be evaluated. "
   ]
  },
  {
   "cell_type": "code",
   "execution_count": 2,
   "id": "4440d8bf",
   "metadata": {},
   "outputs": [
    {
     "data": {
      "text/plain": [
       "'2 + 3 = 5'"
      ]
     },
     "execution_count": 2,
     "metadata": {},
     "output_type": "execute_result"
    }
   ],
   "source": [
    "f'2 + 3 = {2 + 3}'"
   ]
  },
  {
   "cell_type": "code",
   "execution_count": 3,
   "id": "244f6411",
   "metadata": {},
   "outputs": [],
   "source": [
    "def make_greeting(name):\n",
    "    return f\"Hi {name}! 👋 Your name has {len(name)} characters, the first of which is {name[0]}.\""
   ]
  },
  {
   "cell_type": "code",
   "execution_count": 4,
   "id": "f1378168",
   "metadata": {
    "scrolled": true
   },
   "outputs": [
    {
     "data": {
      "text/plain": [
       "'Hi Billy! 👋 Your name has 5 characters, the first of which is B.'"
      ]
     },
     "execution_count": 4,
     "metadata": {},
     "output_type": "execute_result"
    }
   ],
   "source": [
    "make_greeting('Billy')"
   ]
  },
  {
   "cell_type": "markdown",
   "id": "ca3650f0",
   "metadata": {
    "slideshow": {
     "slide_type": "slide"
    }
   },
   "source": [
    "### Downloading a single page"
   ]
  },
  {
   "cell_type": "code",
   "execution_count": 5,
   "id": "c3844c22",
   "metadata": {
    "slideshow": {
     "slide_type": "-"
    }
   },
   "outputs": [],
   "source": [
    "def download_page(i):\n",
    "    url = f'https://quotes.toscrape.com/page/{i}'\n",
    "    request = requests.get(url)\n",
    "    return bs4.BeautifulSoup(request.text)"
   ]
  },
  {
   "cell_type": "markdown",
   "id": "3011f994",
   "metadata": {},
   "source": [
    "In `quote_df`, we will call `download_page` repeatedly – once for `i=1`, once for `i=2`, ..., `i = n`. For now, we will work with just page 5 (chosen arbitrarily)."
   ]
  },
  {
   "cell_type": "code",
   "execution_count": 6,
   "id": "2b056b35",
   "metadata": {},
   "outputs": [],
   "source": [
    "soup = download_page(5)"
   ]
  },
  {
   "cell_type": "markdown",
   "id": "58a94098",
   "metadata": {
    "slideshow": {
     "slide_type": "slide"
    }
   },
   "source": [
    "### Parsing a single page\n",
    "\n",
    "Let's look at the page's source code (via \"inspect element\") to find where the quotes in the page are located."
   ]
  },
  {
   "cell_type": "code",
   "execution_count": 7,
   "id": "aa044711",
   "metadata": {},
   "outputs": [],
   "source": [
    "divs = soup.find_all('div', attrs={'class': 'quote'})"
   ]
  },
  {
   "cell_type": "code",
   "execution_count": 8,
   "id": "a4039397",
   "metadata": {},
   "outputs": [
    {
     "data": {
      "text/plain": [
       "<div class=\"quote\" itemscope=\"\" itemtype=\"http://schema.org/CreativeWork\">\n",
       "<span class=\"text\" itemprop=\"text\">“A reader lives a thousand lives before he dies, said Jojen. The man who never reads lives only one.”</span>\n",
       "<span>by <small class=\"author\" itemprop=\"author\">George R.R. Martin</small>\n",
       "<a href=\"/author/George-R-R-Martin\">(about)</a>\n",
       "</span>\n",
       "<div class=\"tags\">\n",
       "            Tags:\n",
       "            <meta class=\"keywords\" content=\"read,readers,reading,reading-books\" itemprop=\"keywords\"/>\n",
       "<a class=\"tag\" href=\"/tag/read/page/1/\">read</a>\n",
       "<a class=\"tag\" href=\"/tag/readers/page/1/\">readers</a>\n",
       "<a class=\"tag\" href=\"/tag/reading/page/1/\">reading</a>\n",
       "<a class=\"tag\" href=\"/tag/reading-books/page/1/\">reading-books</a>\n",
       "</div>\n",
       "</div>"
      ]
     },
     "execution_count": 8,
     "metadata": {},
     "output_type": "execute_result"
    }
   ],
   "source": [
    "divs[0]"
   ]
  },
  {
   "cell_type": "markdown",
   "id": "7689c25e",
   "metadata": {},
   "source": [
    "From this `<div>`, we can extract the quote, author name, author's URL, and tags."
   ]
  },
  {
   "cell_type": "code",
   "execution_count": 9,
   "id": "eed6b0cd",
   "metadata": {},
   "outputs": [
    {
     "data": {
      "text/plain": [
       "'“A reader lives a thousand lives before he dies, said Jojen. The man who never reads lives only one.”'"
      ]
     },
     "execution_count": 9,
     "metadata": {},
     "output_type": "execute_result"
    }
   ],
   "source": [
    "divs[0].find('span', attrs={'class': 'text'}).text"
   ]
  },
  {
   "cell_type": "code",
   "execution_count": 10,
   "id": "66995cf4",
   "metadata": {},
   "outputs": [
    {
     "data": {
      "text/plain": [
       "'George R.R. Martin'"
      ]
     },
     "execution_count": 10,
     "metadata": {},
     "output_type": "execute_result"
    }
   ],
   "source": [
    "divs[0].find('small', attrs={'class': 'author'}).text"
   ]
  },
  {
   "cell_type": "code",
   "execution_count": 11,
   "id": "bc518e5e",
   "metadata": {},
   "outputs": [
    {
     "data": {
      "text/plain": [
       "'/author/George-R-R-Martin'"
      ]
     },
     "execution_count": 11,
     "metadata": {},
     "output_type": "execute_result"
    }
   ],
   "source": [
    "divs[0].find('a').get('href')"
   ]
  },
  {
   "cell_type": "code",
   "execution_count": 12,
   "id": "f9699726",
   "metadata": {},
   "outputs": [
    {
     "data": {
      "text/plain": [
       "'read,readers,reading,reading-books'"
      ]
     },
     "execution_count": 12,
     "metadata": {},
     "output_type": "execute_result"
    }
   ],
   "source": [
    "divs[0].find('meta', attrs={'class': 'keywords'}).get('content')"
   ]
  },
  {
   "cell_type": "markdown",
   "id": "e4f1dbde",
   "metadata": {
    "slideshow": {
     "slide_type": "slide"
    }
   },
   "source": [
    "Let's write an intermediate function, `process_quote`, which takes in a `<div>` corresponding to a single quote and returns a **Series** containing the quote's information.\n",
    "\n",
    "Note that this approach is different than the approach taken in the HDSI Faculty page example – there, we created each column of our final DataFrame separately, while here we are creating one **row** of our final DataFrame at a time."
   ]
  },
  {
   "cell_type": "code",
   "execution_count": 13,
   "id": "6c7059c8",
   "metadata": {},
   "outputs": [],
   "source": [
    "def process_quote(div):\n",
    "    quote = div.find('span', attrs={'class': 'text'}).text\n",
    "    author = div.find('small', attrs={'class': 'author'}).text\n",
    "    author_url = 'https://quotes.toscrape.com' + div.find('a').get('href')\n",
    "    tags = div.find('meta', attrs={'class': 'keywords'}).get('content')\n",
    "    \n",
    "    return pd.Series({'quote': quote, 'author': author, 'author_url': author_url, 'tags': tags})"
   ]
  },
  {
   "cell_type": "code",
   "execution_count": 14,
   "id": "9fbcfee4",
   "metadata": {},
   "outputs": [
    {
     "data": {
      "text/plain": [
       "quote         “If you can make a woman laugh, you can make h...\n",
       "author                                           Marilyn Monroe\n",
       "author_url    https://quotes.toscrape.com/author/Marilyn-Monroe\n",
       "tags                                                 girls,love\n",
       "dtype: object"
      ]
     },
     "execution_count": 14,
     "metadata": {},
     "output_type": "execute_result"
    }
   ],
   "source": [
    "process_quote(divs[3])"
   ]
  },
  {
   "cell_type": "markdown",
   "id": "8ea72cae",
   "metadata": {},
   "source": [
    "Next, we can write a function that takes in a list of `<div>`s, calls the above function on each `<div>` in the list, and returns a **DataFrame**."
   ]
  },
  {
   "cell_type": "code",
   "execution_count": 15,
   "id": "56562f1b",
   "metadata": {},
   "outputs": [],
   "source": [
    "def process_page(divs):\n",
    "    return pd.DataFrame([process_quote(div) for div in divs])"
   ]
  },
  {
   "cell_type": "code",
   "execution_count": 16,
   "id": "6accdbd5",
   "metadata": {},
   "outputs": [
    {
     "data": {
      "text/html": [
       "<div>\n",
       "<style scoped>\n",
       "    .dataframe tbody tr th:only-of-type {\n",
       "        vertical-align: middle;\n",
       "    }\n",
       "\n",
       "    .dataframe tbody tr th {\n",
       "        vertical-align: top;\n",
       "    }\n",
       "\n",
       "    .dataframe thead th {\n",
       "        text-align: right;\n",
       "    }\n",
       "</style>\n",
       "<table border=\"1\" class=\"dataframe\">\n",
       "  <thead>\n",
       "    <tr style=\"text-align: right;\">\n",
       "      <th></th>\n",
       "      <th>quote</th>\n",
       "      <th>author</th>\n",
       "      <th>author_url</th>\n",
       "      <th>tags</th>\n",
       "    </tr>\n",
       "  </thead>\n",
       "  <tbody>\n",
       "    <tr>\n",
       "      <th>0</th>\n",
       "      <td>“A reader lives a thousand lives before he die...</td>\n",
       "      <td>George R.R. Martin</td>\n",
       "      <td>https://quotes.toscrape.com/author/George-R-R-...</td>\n",
       "      <td>read,readers,reading,reading-books</td>\n",
       "    </tr>\n",
       "    <tr>\n",
       "      <th>1</th>\n",
       "      <td>“You can never get a cup of tea large enough o...</td>\n",
       "      <td>C.S. Lewis</td>\n",
       "      <td>https://quotes.toscrape.com/author/C-S-Lewis</td>\n",
       "      <td>books,inspirational,reading,tea</td>\n",
       "    </tr>\n",
       "    <tr>\n",
       "      <th>2</th>\n",
       "      <td>“You believe lies so you eventually learn to t...</td>\n",
       "      <td>Marilyn Monroe</td>\n",
       "      <td>https://quotes.toscrape.com/author/Marilyn-Monroe</td>\n",
       "      <td></td>\n",
       "    </tr>\n",
       "    <tr>\n",
       "      <th>3</th>\n",
       "      <td>“If you can make a woman laugh, you can make h...</td>\n",
       "      <td>Marilyn Monroe</td>\n",
       "      <td>https://quotes.toscrape.com/author/Marilyn-Monroe</td>\n",
       "      <td>girls,love</td>\n",
       "    </tr>\n",
       "    <tr>\n",
       "      <th>4</th>\n",
       "      <td>“Life is like riding a bicycle. To keep your b...</td>\n",
       "      <td>Albert Einstein</td>\n",
       "      <td>https://quotes.toscrape.com/author/Albert-Eins...</td>\n",
       "      <td>life,simile</td>\n",
       "    </tr>\n",
       "    <tr>\n",
       "      <th>5</th>\n",
       "      <td>“The real lover is the man who can thrill you ...</td>\n",
       "      <td>Marilyn Monroe</td>\n",
       "      <td>https://quotes.toscrape.com/author/Marilyn-Monroe</td>\n",
       "      <td>love</td>\n",
       "    </tr>\n",
       "    <tr>\n",
       "      <th>6</th>\n",
       "      <td>“A wise girl kisses but doesn't love, listens ...</td>\n",
       "      <td>Marilyn Monroe</td>\n",
       "      <td>https://quotes.toscrape.com/author/Marilyn-Monroe</td>\n",
       "      <td>attributed-no-source</td>\n",
       "    </tr>\n",
       "    <tr>\n",
       "      <th>7</th>\n",
       "      <td>“Only in the darkness can you see the stars.”</td>\n",
       "      <td>Martin Luther King Jr.</td>\n",
       "      <td>https://quotes.toscrape.com/author/Martin-Luth...</td>\n",
       "      <td>hope,inspirational</td>\n",
       "    </tr>\n",
       "    <tr>\n",
       "      <th>8</th>\n",
       "      <td>“It matters not what someone is born, but what...</td>\n",
       "      <td>J.K. Rowling</td>\n",
       "      <td>https://quotes.toscrape.com/author/J-K-Rowling</td>\n",
       "      <td>dumbledore</td>\n",
       "    </tr>\n",
       "    <tr>\n",
       "      <th>9</th>\n",
       "      <td>“Love does not begin and end the way we seem t...</td>\n",
       "      <td>James Baldwin</td>\n",
       "      <td>https://quotes.toscrape.com/author/James-Baldwin</td>\n",
       "      <td>love</td>\n",
       "    </tr>\n",
       "  </tbody>\n",
       "</table>\n",
       "</div>"
      ],
      "text/plain": [
       "                                               quote                  author  \\\n",
       "0  “A reader lives a thousand lives before he die...      George R.R. Martin   \n",
       "1  “You can never get a cup of tea large enough o...              C.S. Lewis   \n",
       "2  “You believe lies so you eventually learn to t...          Marilyn Monroe   \n",
       "3  “If you can make a woman laugh, you can make h...          Marilyn Monroe   \n",
       "4  “Life is like riding a bicycle. To keep your b...         Albert Einstein   \n",
       "5  “The real lover is the man who can thrill you ...          Marilyn Monroe   \n",
       "6  “A wise girl kisses but doesn't love, listens ...          Marilyn Monroe   \n",
       "7      “Only in the darkness can you see the stars.”  Martin Luther King Jr.   \n",
       "8  “It matters not what someone is born, but what...            J.K. Rowling   \n",
       "9  “Love does not begin and end the way we seem t...           James Baldwin   \n",
       "\n",
       "                                          author_url  \\\n",
       "0  https://quotes.toscrape.com/author/George-R-R-...   \n",
       "1       https://quotes.toscrape.com/author/C-S-Lewis   \n",
       "2  https://quotes.toscrape.com/author/Marilyn-Monroe   \n",
       "3  https://quotes.toscrape.com/author/Marilyn-Monroe   \n",
       "4  https://quotes.toscrape.com/author/Albert-Eins...   \n",
       "5  https://quotes.toscrape.com/author/Marilyn-Monroe   \n",
       "6  https://quotes.toscrape.com/author/Marilyn-Monroe   \n",
       "7  https://quotes.toscrape.com/author/Martin-Luth...   \n",
       "8     https://quotes.toscrape.com/author/J-K-Rowling   \n",
       "9   https://quotes.toscrape.com/author/James-Baldwin   \n",
       "\n",
       "                                 tags  \n",
       "0  read,readers,reading,reading-books  \n",
       "1     books,inspirational,reading,tea  \n",
       "2                                      \n",
       "3                          girls,love  \n",
       "4                         life,simile  \n",
       "5                                love  \n",
       "6                attributed-no-source  \n",
       "7                  hope,inspirational  \n",
       "8                          dumbledore  \n",
       "9                                love  "
      ]
     },
     "execution_count": 16,
     "metadata": {},
     "output_type": "execute_result"
    }
   ],
   "source": [
    "process_page(divs)"
   ]
  },
  {
   "cell_type": "markdown",
   "id": "11809b24",
   "metadata": {
    "slideshow": {
     "slide_type": "slide"
    }
   },
   "source": [
    "### Putting it all together"
   ]
  },
  {
   "cell_type": "code",
   "execution_count": 17,
   "id": "aec9cc52",
   "metadata": {},
   "outputs": [],
   "source": [
    "def quote_df(n):\n",
    "    '''Returns a DataFrame containing the quotes on the first n pages of https://quotes.toscrape.com/.'''\n",
    "    dfs = []\n",
    "    for i in range(1, n + 1):\n",
    "        # Download page n and create a BeautifulSoup object\n",
    "        soup = download_page(i)\n",
    "        \n",
    "        # Create DataFrame using the information in that page\n",
    "        divs = soup.find_all('div', attrs={'class': 'quote'})\n",
    "        df = process_page(divs)\n",
    "        \n",
    "        # Append DataFrame to dfs\n",
    "        dfs.append(df)\n",
    "        \n",
    "    # Stitch all DataFrames together\n",
    "    return pd.concat(dfs).reset_index(drop=True)"
   ]
  },
  {
   "cell_type": "code",
   "execution_count": 18,
   "id": "d485704e",
   "metadata": {
    "scrolled": true
   },
   "outputs": [
    {
     "data": {
      "text/html": [
       "<div>\n",
       "<style scoped>\n",
       "    .dataframe tbody tr th:only-of-type {\n",
       "        vertical-align: middle;\n",
       "    }\n",
       "\n",
       "    .dataframe tbody tr th {\n",
       "        vertical-align: top;\n",
       "    }\n",
       "\n",
       "    .dataframe thead th {\n",
       "        text-align: right;\n",
       "    }\n",
       "</style>\n",
       "<table border=\"1\" class=\"dataframe\">\n",
       "  <thead>\n",
       "    <tr style=\"text-align: right;\">\n",
       "      <th></th>\n",
       "      <th>quote</th>\n",
       "      <th>author</th>\n",
       "      <th>author_url</th>\n",
       "      <th>tags</th>\n",
       "    </tr>\n",
       "  </thead>\n",
       "  <tbody>\n",
       "    <tr>\n",
       "      <th>0</th>\n",
       "      <td>“The world as we have created it is a process ...</td>\n",
       "      <td>Albert Einstein</td>\n",
       "      <td>https://quotes.toscrape.com/author/Albert-Eins...</td>\n",
       "      <td>change,deep-thoughts,thinking,world</td>\n",
       "    </tr>\n",
       "    <tr>\n",
       "      <th>1</th>\n",
       "      <td>“It is our choices, Harry, that show what we t...</td>\n",
       "      <td>J.K. Rowling</td>\n",
       "      <td>https://quotes.toscrape.com/author/J-K-Rowling</td>\n",
       "      <td>abilities,choices</td>\n",
       "    </tr>\n",
       "    <tr>\n",
       "      <th>2</th>\n",
       "      <td>“There are only two ways to live your life. On...</td>\n",
       "      <td>Albert Einstein</td>\n",
       "      <td>https://quotes.toscrape.com/author/Albert-Eins...</td>\n",
       "      <td>inspirational,life,live,miracle,miracles</td>\n",
       "    </tr>\n",
       "    <tr>\n",
       "      <th>3</th>\n",
       "      <td>“The person, be it gentleman or lady, who has ...</td>\n",
       "      <td>Jane Austen</td>\n",
       "      <td>https://quotes.toscrape.com/author/Jane-Austen</td>\n",
       "      <td>aliteracy,books,classic,humor</td>\n",
       "    </tr>\n",
       "    <tr>\n",
       "      <th>4</th>\n",
       "      <td>“Imperfection is beauty, madness is genius and...</td>\n",
       "      <td>Marilyn Monroe</td>\n",
       "      <td>https://quotes.toscrape.com/author/Marilyn-Monroe</td>\n",
       "      <td>be-yourself,inspirational</td>\n",
       "    </tr>\n",
       "  </tbody>\n",
       "</table>\n",
       "</div>"
      ],
      "text/plain": [
       "                                               quote           author  \\\n",
       "0  “The world as we have created it is a process ...  Albert Einstein   \n",
       "1  “It is our choices, Harry, that show what we t...     J.K. Rowling   \n",
       "2  “There are only two ways to live your life. On...  Albert Einstein   \n",
       "3  “The person, be it gentleman or lady, who has ...      Jane Austen   \n",
       "4  “Imperfection is beauty, madness is genius and...   Marilyn Monroe   \n",
       "\n",
       "                                          author_url  \\\n",
       "0  https://quotes.toscrape.com/author/Albert-Eins...   \n",
       "1     https://quotes.toscrape.com/author/J-K-Rowling   \n",
       "2  https://quotes.toscrape.com/author/Albert-Eins...   \n",
       "3     https://quotes.toscrape.com/author/Jane-Austen   \n",
       "4  https://quotes.toscrape.com/author/Marilyn-Monroe   \n",
       "\n",
       "                                       tags  \n",
       "0       change,deep-thoughts,thinking,world  \n",
       "1                         abilities,choices  \n",
       "2  inspirational,life,live,miracle,miracles  \n",
       "3             aliteracy,books,classic,humor  \n",
       "4                 be-yourself,inspirational  "
      ]
     },
     "execution_count": 18,
     "metadata": {},
     "output_type": "execute_result"
    }
   ],
   "source": [
    "first_three_pages = quote_df(3)\n",
    "first_three_pages.head()"
   ]
  },
  {
   "cell_type": "markdown",
   "id": "d4f7a8da",
   "metadata": {},
   "source": [
    "The elements in the `'tags'` column are all strings, but they look like lists. This is not ideal, as we will see shortly."
   ]
  },
  {
   "cell_type": "markdown",
   "id": "7c581ee4",
   "metadata": {
    "slideshow": {
     "slide_type": "slide"
    }
   },
   "source": [
    "### An extension\n",
    "\n",
    "We could:\n",
    "- Request information about each of the **authors** in the DataFrame.\n",
    "    - See https://quotes.toscrape.com/author/Albert-Einstein/ for an example.\n",
    "- Create a DataFrame of author information.\n",
    "- Merge that DataFrame with `first_three_pages`."
   ]
  },
  {
   "cell_type": "code",
   "execution_count": 19,
   "id": "cf915bb6",
   "metadata": {},
   "outputs": [
    {
     "data": {
      "text/plain": [
       "array(['https://quotes.toscrape.com/author/Albert-Einstein',\n",
       "       'https://quotes.toscrape.com/author/Allen-Saunders',\n",
       "       'https://quotes.toscrape.com/author/Andre-Gide',\n",
       "       'https://quotes.toscrape.com/author/Bob-Marley',\n",
       "       'https://quotes.toscrape.com/author/Douglas-Adams',\n",
       "       'https://quotes.toscrape.com/author/Dr-Seuss',\n",
       "       'https://quotes.toscrape.com/author/Eleanor-Roosevelt',\n",
       "       'https://quotes.toscrape.com/author/Elie-Wiesel',\n",
       "       'https://quotes.toscrape.com/author/Friedrich-Nietzsche',\n",
       "       'https://quotes.toscrape.com/author/Garrison-Keillor',\n",
       "       'https://quotes.toscrape.com/author/J-K-Rowling',\n",
       "       'https://quotes.toscrape.com/author/Jane-Austen',\n",
       "       'https://quotes.toscrape.com/author/Jim-Henson',\n",
       "       'https://quotes.toscrape.com/author/Marilyn-Monroe',\n",
       "       'https://quotes.toscrape.com/author/Mark-Twain',\n",
       "       'https://quotes.toscrape.com/author/Mother-Teresa',\n",
       "       'https://quotes.toscrape.com/author/Pablo-Neruda',\n",
       "       'https://quotes.toscrape.com/author/Ralph-Waldo-Emerson',\n",
       "       'https://quotes.toscrape.com/author/Steve-Martin',\n",
       "       'https://quotes.toscrape.com/author/Thomas-A-Edison'], dtype=object)"
      ]
     },
     "execution_count": 19,
     "metadata": {},
     "output_type": "execute_result"
    }
   ],
   "source": [
    "np.unique(first_three_pages['author_url'])"
   ]
  },
  {
   "cell_type": "code",
   "execution_count": 20,
   "id": "51abc371",
   "metadata": {},
   "outputs": [],
   "source": [
    "einstein = bs4.BeautifulSoup(requests.get('https://quotes.toscrape.com/author/Albert-Einstein').text)"
   ]
  },
  {
   "cell_type": "code",
   "execution_count": 21,
   "id": "906a9c39",
   "metadata": {},
   "outputs": [
    {
     "data": {
      "text/plain": [
       "'\\n        In 1879, Albert Einstein was born in Ulm, Germany. He completed his Ph.D. at the University of Zurich by 1909. His 1905 paper explaining the photoelectric effect, the basis of electronics, earned him the Nobel Prize in 1921. His first paper on Special Relativity Theory, also published in 1905, changed the world. After the rise of the Nazi party, Einstein made Princeton his permanent home, becoming a U.S. citizen in 1940. Einstein, a pacifist during World War I, stayed a firm proponent of social justice and responsibility. He chaired the Emergency Committee of Atomic Scientists, which organized to alert the public to the dangers of atomic warfare.At a symposium, he advised: \"In their struggle for the ethical good, teachers of religion must have the stature to give up the doctrine of a personal God, that is, give up that source of fear and hope which in the past placed such vast power in the hands of priests. In their labors they will have to avail themselves of those forces whi'"
      ]
     },
     "execution_count": 21,
     "metadata": {},
     "output_type": "execute_result"
    }
   ],
   "source": [
    "einstein.find('div', attrs={'class': 'author-description'}).text[:1000]"
   ]
  },
  {
   "cell_type": "markdown",
   "id": "2a7df9f1",
   "metadata": {
    "slideshow": {
     "slide_type": "slide"
    }
   },
   "source": [
    "### Key takeaways\n",
    "\n",
    "* Make as few requests as possible.\n",
    "* Create a request and parsing plan **beforehand**.\n",
    "* Create your output schema **beforehand**.\n",
    "* Make requests and parse in **separate functions**!\n",
    "* See Lab 6, Question 2 for a related example."
   ]
  },
  {
   "cell_type": "markdown",
   "id": "a976a583",
   "metadata": {
    "slideshow": {
     "slide_type": "slide"
    }
   },
   "source": [
    "## Nested vs. flat data formats"
   ]
  },
  {
   "cell_type": "markdown",
   "id": "0cf0ba3e",
   "metadata": {
    "slideshow": {
     "slide_type": "slide"
    }
   },
   "source": [
    "### Nested vs. flat data formats\n",
    "\n",
    "- **Nested** data formats, like HTML, JSON, and XML, allow us to represent hierarchical relationships between variables.\n",
    "\n",
    "* **Flat** (i.e. tabular) data formats, like CSV, do not.\n",
    "\n",
    "<center><img src=\"imgs/hierarchy.png\" width=40%></center>"
   ]
  },
  {
   "cell_type": "markdown",
   "id": "cb90c5f7",
   "metadata": {
    "slideshow": {
     "slide_type": "slide"
    }
   },
   "source": [
    "### Example: Scraping quotes, again\n",
    "\n",
    "- Suppose we obtained the quotes data via an API and saved it to the file `data/quotes2scrape.json`.\n",
    "- `quotes2scrape.json` is a **JSON records** file; each line is a valid JSON object, **but the entire document is not**."
   ]
  },
  {
   "cell_type": "code",
   "execution_count": null,
   "id": "efd6d2e7",
   "metadata": {},
   "outputs": [],
   "source": [
    "f = open(os.path.join('data', 'quotes2scrape.json'))"
   ]
  },
  {
   "cell_type": "code",
   "execution_count": null,
   "id": "674d6be9",
   "metadata": {},
   "outputs": [],
   "source": [
    "json.loads(f.readline())"
   ]
  },
  {
   "cell_type": "markdown",
   "id": "1638d5dc",
   "metadata": {},
   "source": [
    "Note that for a single quote, we have keys for `'auth_url'`, `'quote_auth'`, `'quote_text'`, `'bio'`, `'dob'`, and `'tags'`."
   ]
  },
  {
   "cell_type": "markdown",
   "id": "e8ae99c1",
   "metadata": {
    "slideshow": {
     "slide_type": "slide"
    }
   },
   "source": [
    "Since each line is a separate JSON object, let's read in each line one at a time."
   ]
  },
  {
   "cell_type": "code",
   "execution_count": null,
   "id": "77e703ae",
   "metadata": {},
   "outputs": [],
   "source": [
    "L = [json.loads(x) for x in open(os.path.join('data', 'quotes2scrape.json'))]"
   ]
  },
  {
   "cell_type": "markdown",
   "id": "51d17e8a",
   "metadata": {},
   "source": [
    "Let's convert the result to a DataFrame."
   ]
  },
  {
   "cell_type": "code",
   "execution_count": null,
   "id": "d892a834",
   "metadata": {},
   "outputs": [],
   "source": [
    "df = pd.DataFrame(L)\n",
    "df.head()"
   ]
  },
  {
   "cell_type": "markdown",
   "id": "6837a6d6",
   "metadata": {},
   "source": [
    "What data type is the `'tags'` column?"
   ]
  },
  {
   "cell_type": "code",
   "execution_count": null,
   "id": "67d3a103",
   "metadata": {},
   "outputs": [],
   "source": [
    "df['tags'].iloc[0]"
   ]
  },
  {
   "cell_type": "markdown",
   "id": "e1558e39",
   "metadata": {},
   "source": [
    "Let's save `df` to a CSV and read it back in."
   ]
  },
  {
   "cell_type": "code",
   "execution_count": null,
   "id": "7596565b",
   "metadata": {},
   "outputs": [],
   "source": [
    "df.to_csv('out.csv')"
   ]
  },
  {
   "cell_type": "code",
   "execution_count": null,
   "id": "59bc0184",
   "metadata": {},
   "outputs": [],
   "source": [
    "df_again = pd.read_csv('out.csv')\n",
    "df_again.head()"
   ]
  },
  {
   "cell_type": "markdown",
   "id": "84d4795f",
   "metadata": {},
   "source": [
    "What data type is the `'tags'` column now?"
   ]
  },
  {
   "cell_type": "code",
   "execution_count": null,
   "id": "a45cc5f1",
   "metadata": {},
   "outputs": [],
   "source": [
    "df_again['tags'].iloc[0]"
   ]
  },
  {
   "cell_type": "markdown",
   "id": "dea5b1e7",
   "metadata": {
    "slideshow": {
     "slide_type": "slide"
    }
   },
   "source": [
    "### One-hot encoding\n",
    "\n",
    "- So that we don't have to deal with lists within Series, we can **flatten** lists of tags so that there is **one column per tag**.\n",
    "    - For example, consider the tag `'inspirational'`.\n",
    "    - If a quote has a 1 in the `'inspirational'` column, it **was** tagged `'inspirational'`.\n",
    "    - If a quote has a 0 in the `'inspirational'` column, it **was not** tagged `'inspirational'`.\n",
    "- This process – of converting categorical variables into columns of 1s and 0s – is called **one-hot encoding**. We will revisit it in a few weeks."
   ]
  },
  {
   "cell_type": "code",
   "execution_count": null,
   "id": "2310a947",
   "metadata": {},
   "outputs": [],
   "source": [
    "distinct_tags = np.unique(df['tags'].sum())\n",
    "distinct_tags"
   ]
  },
  {
   "cell_type": "markdown",
   "id": "57c7d350",
   "metadata": {},
   "source": [
    "Let's write a function that takes in the list of tags (`taglist`) for a given quote and returns the one-hot-encoded sequence of 1s and 0s for that quote."
   ]
  },
  {
   "cell_type": "code",
   "execution_count": null,
   "id": "e2ee8d5c",
   "metadata": {},
   "outputs": [],
   "source": [
    "def flatten_tags(taglist):\n",
    "    return pd.Series({k:1 for k in taglist}, dtype=float)\n",
    "\n",
    "tags = df['tags'].apply(flatten_tags).fillna(0).astype(int)\n",
    "tags.head()"
   ]
  },
  {
   "cell_type": "markdown",
   "id": "7f5ed85d",
   "metadata": {
    "slideshow": {
     "slide_type": "slide"
    }
   },
   "source": [
    "Let's combine this one-hot-encoded DataFrame with `df`."
   ]
  },
  {
   "cell_type": "code",
   "execution_count": null,
   "id": "de44a476",
   "metadata": {},
   "outputs": [],
   "source": [
    "df_full = pd.concat([df, tags], axis=1).drop(columns='tags')\n",
    "df_full.head()"
   ]
  },
  {
   "cell_type": "markdown",
   "id": "dd0f1f55",
   "metadata": {},
   "source": [
    "If we want all quotes tagged `'inspiration'`, we can simply query:"
   ]
  },
  {
   "cell_type": "code",
   "execution_count": null,
   "id": "488e7dd9",
   "metadata": {},
   "outputs": [],
   "source": [
    "df_full[df_full['inspirational'] == 1].head()"
   ]
  },
  {
   "cell_type": "markdown",
   "id": "b19a7206",
   "metadata": {},
   "source": [
    "Note that this DataFrame representation of the response JSON takes up much more space than the original JSON. Why is that?"
   ]
  }
 ],
 "metadata": {
  "celltoolbar": "Slideshow",
  "kernelspec": {
   "display_name": "Python 3 (ipykernel)",
   "language": "python",
   "name": "python3"
  },
  "language_info": {
   "codemirror_mode": {
    "name": "ipython",
    "version": 3
   },
   "file_extension": ".py",
   "mimetype": "text/x-python",
   "name": "python",
   "nbconvert_exporter": "python",
   "pygments_lexer": "ipython3",
   "version": "3.9.6"
  },
  "rise": {
   "transition": "none"
  }
 },
 "nbformat": 4,
 "nbformat_minor": 5
}
