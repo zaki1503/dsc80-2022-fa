{
 "cells": [
  {
   "cell_type": "code",
   "execution_count": null,
   "id": "8c817349",
   "metadata": {
    "deletable": false,
    "editable": false
   },
   "outputs": [],
   "source": [
    "# Initialize Otter\n",
    "import otter\n",
    "grader = otter.Notebook(\"lab.ipynb\")"
   ]
  },
  {
   "cell_type": "markdown",
   "id": "9deff4f5",
   "metadata": {},
   "source": [
    "# Lab 7 – Regular Expressions\n",
    "\n",
    "## DSC 80, Fall 2022\n",
    "\n",
    "### Due Date: Monday, November 14th at 11:59 PM"
   ]
  },
  {
   "cell_type": "markdown",
   "id": "e7f338b3",
   "metadata": {},
   "source": [
    "## Instructions\n",
    "Much like in DSC 10, this Jupyter Notebook contains the statements of the problems and provides code and Markdown cells to display your answers to the problems. Unlike DSC 10, the notebook is *only* for displaying a readable version of your final answers. The coding will be done in an accompanying `lab.py` file that is imported into the current notebook.\n",
    "\n",
    "Labs and programming assignments will be graded in (at most) two ways:\n",
    "1. The functions and classes in the accompanying `lab.py` file will be tested (a la DSC 20),\n",
    "2. The notebook may be graded (if it contains free response questions or asks you to draw plots).\n",
    "\n",
    "**Do not change the function names in the `lab.py` file!**\n",
    "- The functions in the `lab.py` file are how your assignment is graded, and they are graded by their name.\n",
    "- If you changed something you weren't supposed to, just use git to revert! Ask us if you need help with this, or google around for `git revert`.\n",
    "\n",
    "**Tips for working in the notebook**:\n",
    "- The notebooks serve to present the questions and give you a place to present your results for later review.\n",
    "- The notebooks in *lab assignments* are not graded (only the `lab.py` file is submitted and graded).\n",
    "- The notebook serves as a nice environment for 'pre-development' and experimentation before designing your function in your `lab.py` file. You can write code here, but make sure that all of your real work is in the `lab.py` file.\n",
    "\n",
    "**Tips for developing in the `lab.py` file**:\n",
    "- Do not change the function names in the starter code; grading is done using these function names.\n",
    "- Do not change the docstrings in the functions. These are there to tell you if your work is on the right track!\n",
    "- You are encouraged to write your own additional helper functions to solve the lab! \n",
    "- Always document your code!"
   ]
  },
  {
   "cell_type": "markdown",
   "id": "80096d6c",
   "metadata": {},
   "source": [
    "### Importing code from `lab.py`\n",
    "\n",
    "* We import our `lab.py` file that's contained in the same directory as this notebook.\n",
    "* We use the `autoreload` notebook extension to make changes to our `lab.py` file immediately available in our notebook. Without this extension, we would need to restart the notebook kernel to see any changes to `lab.py` in the notebook.\n",
    "    - `autoreload` is necessary because, upon import, `lab.py` is compiled to bytecode (in the directory `__pycache__`). Subsequent imports of `lab` merely import the existing compiled python."
   ]
  },
  {
   "cell_type": "code",
   "execution_count": 23,
   "id": "7840859e",
   "metadata": {},
   "outputs": [],
   "source": [
    "%load_ext autoreload\n",
    "%autoreload 2"
   ]
  },
  {
   "cell_type": "code",
   "execution_count": 24,
   "id": "8e8d328a",
   "metadata": {},
   "outputs": [],
   "source": [
    "from lab import *"
   ]
  },
  {
   "cell_type": "code",
   "execution_count": 25,
   "id": "39a5fd85",
   "metadata": {},
   "outputs": [],
   "source": [
    "import pandas as pd\n",
    "import numpy as np\n",
    "import os\n",
    "import re"
   ]
  },
  {
   "cell_type": "markdown",
   "id": "23901915",
   "metadata": {},
   "source": [
    "***Note:*** While working on the lab, check the Campuswire post titled \"Lab 7 Released!\" for any clarifications."
   ]
  },
  {
   "cell_type": "markdown",
   "id": "e0f2aadc",
   "metadata": {},
   "source": [
    "## Question 1 – Practice with Regular Expressions 🛠\n",
    "\n",
    "Regular expressions can be tricky, and the best way to gain familiarity with them is through lots of practice. In this question, you will work through ten exercises, each of which requires you to write a regular expression that matches strings that satisfy certain criteria. Make sure to take a close look at the doctests for each function in `lab.py`, as they provide useful guidance for the types of strings you should and shouldn't match.\n",
    "\n",
    "***Notes:*** \n",
    "- We recommend having [regex101.com](https://regex101.com/) open while working.\n",
    "\n",
    "- Each exercise has a star rating, between 1 (⭐️) and 3 (⭐️⭐️⭐️) stars, indicating its difficulty level (1 being the easiest, 3 being the hardest). If you are spending lots of time on 1-star exercises, take a close look at the syntax from lecture, as there is probably an easier way of writing the necessary pattern!\n",
    "\n",
    "<br>\n",
    "\n",
    "### Exercise 1 (⭐️)\n",
    "\n",
    "Write a regular expression that matches strings that have `'['` as the third character and `']'` as the sixth character.\n",
    "\n",
    "<br>\n",
    "\n",
    "### Exercise 2 (⭐️)\n",
    "\n",
    "Write a regular expression that matches strings that are phone numbers that start with `'(858)'` and follow the format `'(xxx) xxx-xxxx'` (`'x'` represents a digit).\n",
    "\n",
    "***Note:*** There is a space between `'(xxx)'` and `'xxx-xxxx'`.\n",
    "\n",
    "<br>\n",
    "\n",
    "### Exercise 3 (⭐️)\n",
    "\n",
    "Write a regular expression that matches strings that:\n",
    "- are between 6 and 10 characters long (inclusive),\n",
    "- contain only alphanumeric characters, whitespace and `'?'`, and\n",
    "- end with `'?'`.\n",
    "\n",
    "<br>\n",
    "\n",
    "### Exercise 4 (⭐️⭐️)\n",
    "\n",
    "Write a regular expression that matches strings with exactly two `'$'`, one of which is at the start of the string, such that:\n",
    "- the characters between the two `'$'` can be anything (including nothing) except the lowercase letters `'a'`, `'b'`, and `'c'`, (and `'$'`), and\n",
    "- the characters after the second `'$'` can only be the **lowercase or uppercase** letters `'a'`/`'A'`, `'b'`/`'B'`, and `'c'`/`'C'`, with every `'a'`/`'A'` before every `'b'`/`'B'`, and every `'b'`/`'B'` before every `'c'`/`'C'`. There must be at least one `'a'` or `'A'`, at least one `'b'` or `'B'`, and at least one `'c'` or `'C'`.\n",
    "    \n",
    "\n",
    "<br>\n",
    "\n",
    "### Exercise 5 (⭐️)\n",
    "Write a regular expression that matches strings that represent valid Python file names, including the extension. \n",
    "\n",
    "***Note:*** For simplicity, assume that file names contains only letters, numbers, and underscores (`'_'`).\n",
    "\n",
    "<br>\n",
    "\n",
    "### Exercise 6 (⭐️)\n",
    "Write a regular expression that matches strings that:\n",
    "- are made up of only lowercase letters and exactly one underscore (`'_'`), and\n",
    "- have at least one lowercase letter on both sides of the underscore.\n",
    "\n",
    "<br>\n",
    "\n",
    "### Exercise 7 (⭐️)\n",
    "Write a regular expression that matches strings that start with and end with an underscore (`'_'`).\n",
    "\n",
    "<br>\n",
    "\n",
    "### Exercise 8 (⭐️)\n",
    "\n",
    "Apple serial numbers are strings of length 1 or more that are made up of any characters, other than\n",
    "- the uppercase letter `'O'`, \n",
    "- the lowercase letter `'i`', and \n",
    "- the number `'1'`.\n",
    "\n",
    "Write a regular expression that matches strings that are valid Apple serial numbers.\n",
    "\n",
    "<br>\n",
    "\n",
    "### Exercise 9 (⭐️⭐️)\n",
    "\n",
    "ID numbers are formatted as `'SC-NN-CCC-NNNN'`, where \n",
    "- SC represents state code in uppercase (e.g. `'CA'`),\n",
    "- NN represents a number with 2 digits (e.g. `'98'`),\n",
    "- CCC represents a three letter city code in uppercase (e.g. `'SAN'`), and\n",
    "- NNNN represents a number with 4 digits (e.g. `'1024'`).\n",
    "\n",
    "Write a regular expression that matches strings that are ID numbers corresponding to the cities of `'SAN'` or `'LAX'`, or the state of `'NY'`. Assume that there is only one city named `'SAN'` and only one city named `'LAX'`.\n",
    "\n",
    "<br>\n",
    "\n",
    "### Exercise 10 (⭐️⭐️⭐️)\n",
    "\n",
    "Write a function named `match_10` that takes in a string and:\n",
    "- converts the string to lowercase,\n",
    "- removes all non-alphanumeric characters (i.e. removes everything that is not in the `\\w` character class), and the letter `'a'`, and\n",
    "- returns a list of every **non-overlapping** three-character substring in the remaining string, starting from the beginning of the string.\n",
    "   \n",
    "For instance, consider the following doctest:\n",
    "\n",
    "```py\n",
    ">>> match_10('Ab..DEF')\n",
    "['bde']\n",
    "```\n",
    "\n",
    "Here's how `match_10` should process `'Ab..DEF'`:\n",
    "\n",
    "1. Convert to lowercase: `'ab..def'`.\n",
    "2. Remove non-alphanumeric characters and the letter `'a'`: `'bdef'`.\n",
    "3. Starting from the beginning of the string, there is only a single non-overlapping three character substring: `'bde'`. Hence, we return `['bde']`.\n",
    "\n",
    "***Note:*** Perform your operations in the exact order described above, otherwise your code may not pass all the tests."
   ]
  },
  {
   "cell_type": "code",
   "execution_count": null,
   "id": "bd61b194",
   "metadata": {},
   "outputs": [],
   "source": []
  },
  {
   "cell_type": "code",
   "execution_count": 6,
   "id": "58451583",
   "metadata": {},
   "outputs": [
    {
     "data": {
      "text/plain": [
       "False"
      ]
     },
     "execution_count": 6,
     "metadata": {},
     "output_type": "execute_result"
    }
   ],
   "source": [
    "import re\n",
    "def match_5(string):\n",
    "    \"\"\"\n",
    "    Write a regular expression that matches strings that represent valid \n",
    "    Python file names, including the extension.\n",
    "    Note: For simplicity, assume that file names contains only letters, numbers, and underscores ('_').\n",
    "    \n",
    "    DO NOT EDIT THE DOCSTRING!\n",
    "    >>> match_5(\"dsc80.py\")\n",
    "    True\n",
    "    >>> match_5(\"dsc80py\")\n",
    "    False\n",
    "    >>> match_5(\"dsc80..py\")\n",
    "    False\n",
    "    >>> match_5(\"dsc80+.py\")\n",
    "    False\n",
    "    \"\"\"\n",
    "    pattern = r'^[a-zA-Z_0-9]+(\\.py)$'\n",
    "\n",
    "    # Do not edit following code\n",
    "    prog = re.compile(pattern)\n",
    "    return prog.search(string) is not None\n",
    "\n",
    "match_5(\"dsc80+.py\")"
   ]
  },
  {
   "cell_type": "code",
   "execution_count": null,
   "id": "65339776",
   "metadata": {
    "deletable": false,
    "editable": false
   },
   "outputs": [],
   "source": [
    "grader.check(\"q1\")"
   ]
  },
  {
   "cell_type": "markdown",
   "id": "4f7f89d8",
   "metadata": {},
   "source": [
    "## Question 2 – Capturing Groups in Regular Expressions 📡\n",
    "\n",
    "The dataset stored in `data/messy.txt` contains personal information from a fictional website that a user scraped from web server logs. Within this dataset, there are four fields that are of interest to you:\n",
    "1. Email Addresses (assume they are alphanumeric usernames and domain names)\n",
    "2. [Social Security Numbers](https://en.wikipedia.org/wiki/Social_Security_number#Structure)\n",
    "3. Bitcoin Addresses (alphanumeric strings of long length)\n",
    "4. Street Addresses\n",
    "\n",
    "Create a function `extract_personal` that takes in a string containing the contents of a server log file (like `open('data/messy.txt').read()`) and returns a **tuple of four separate lists** containing values of the 4 pieces of information listed above (in the order listed above). Do **not** keep empty values.\n",
    "\n",
    "***Note:*** Since this data is messy, your function will be allowed to miss ~5% of the records in each list. Good spot checking using certain useful substrings (e.g. `'@'` for emails) should help assure correctness! Your function will be tested on a sample of the file `messy.txt`.\n",
    "\n",
    "***Hint:*** There are multiple \"delimiters\" in use in the file; there are few enough of them that you can safely determine what they are."
   ]
  },
  {
   "cell_type": "code",
   "execution_count": 28,
   "id": "6d9d2e2e",
   "metadata": {},
   "outputs": [],
   "source": [
    "# experiment with extract_personal using the file s below\n",
    "fp = os.path.join('data', 'messy.txt')\n",
    "s = open(fp, encoding='utf8').read()"
   ]
  },
  {
   "cell_type": "code",
   "execution_count": 21,
   "id": "c95e11af",
   "metadata": {},
   "outputs": [
    {
     "name": "stdout",
     "output_type": "stream",
     "text": [
      "872\n",
      "872\n"
     ]
    }
   ],
   "source": [
    "fp = os.path.join('data', 'messy.txt')\n",
    "s = open(fp, encoding='utf8').read()\n",
    "pre_emails = re.findall(\n",
    "        pattern='[\\t,\\|#]([a-zA-Z0-9]+@[a-zA-Z0-9\\.]+)',\n",
    "        string= s\n",
    "    )\n",
    "print(len(pre_emails))\n",
    "\n",
    "print(len([match for match in pre_emails if match]))"
   ]
  },
  {
   "cell_type": "code",
   "execution_count": 106,
   "id": "83ced15d",
   "metadata": {},
   "outputs": [
    {
     "data": {
      "text/plain": [
       "['530 High Street']"
      ]
     },
     "execution_count": 106,
     "metadata": {},
     "output_type": "execute_result"
    }
   ],
   "source": [
    "def extract_personal(s):\n",
    "    \"\"\"\n",
    "    Extracts email addresses, Social Security Numbers, Bitcoin addresses and street addresses from input file\n",
    "    :param s: file name as a string\n",
    "    :return: a tuple of four separate lists\n",
    "    \n",
    "    :Example:\n",
    "    >>> fp = os.path.join('data', 'messy.test.txt')\n",
    "    >>> s = open(fp, encoding='utf8').read()\n",
    "    >>> emails, ssn, bitcoin, addresses = extract_personal(s)\n",
    "    >>> emails[0] == 'test@test.com'\n",
    "    True\n",
    "    >>> ssn[0] == '423-00-9575'\n",
    "    True\n",
    "    >>> bitcoin[0] == '1BvBMSEYstWetqTFn5Au4m4GFg7xJaNVN2'\n",
    "    True\n",
    "    >>> addresses[0] == '530 High Street'\n",
    "    True\n",
    "    \"\"\"\n",
    "    emails = re.findall(\n",
    "        pattern='[\\t,\\|#]([\\w]+@[\\w\\.]+)[\\t,\\|#]',\n",
    "        string= s\n",
    "    )\n",
    "\n",
    "    ssn = re.findall(\n",
    "        pattern='ssn:([\\d]{3}-[\\d]{2}-[\\d]{4})',\n",
    "        string= s\n",
    "    )\n",
    "\n",
    "    bitcoin = re.findall(\n",
    "        pattern='bitcoin:([\\w]+)[^\\w]',\n",
    "        string= s\n",
    "    )\n",
    "\n",
    "    addresses = re.findall(\n",
    "        pattern='(\\t|,|\\|)([\\d]+ [\\w ]+)\\n',\n",
    "        string= s\n",
    "    )\n",
    "    addresses = [address[1] for address in addresses if address[1]]\n",
    "\n",
    "    return emails, ssn, bitcoin, addresses\n",
    "\n",
    "fp = os.path.join('data', 'messy.test.txt')\n",
    "s = open(fp, encoding='utf8').read()\n",
    "emails, ssn, bitcoin, addresses = extract_personal(s)\n",
    "'(\\t|,|\\|)([0-9]+ [A-Za-z0-9 ]+)\\n'\n",
    "addresses"
   ]
  },
  {
   "cell_type": "code",
   "execution_count": 29,
   "id": "b2d22a92",
   "metadata": {},
   "outputs": [],
   "source": [
    "# don't change this cell, but do run it -- it is needed for the tests\n",
    "test_fp = os.path.join('data', 'messy.test.txt')\n",
    "test_s = open(test_fp, encoding='utf8').read()\n",
    "emails, ssn, bitcoin, addresses = extract_personal(test_s)"
   ]
  },
  {
   "cell_type": "code",
   "execution_count": null,
   "id": "b396315b",
   "metadata": {
    "deletable": false,
    "editable": false
   },
   "outputs": [],
   "source": [
    "grader.check(\"q2\")"
   ]
  },
  {
   "cell_type": "markdown",
   "id": "da4d4943",
   "metadata": {},
   "source": [
    "## Question 3 – TF-IDF 📊\n",
    "\n",
    "The dataset `data/reviews.txt` contains [Amazon reviews](http://jmcauley.ucsd.edu/data/amazon/) for ~200k phones and phone accessories. The dataset has already been \"cleaned\" for you. In this question, you will create a function that takes in the reviews dataset as a Series (with one entry per review) as well as a single review, and returns the word that \"best summarizes the single review\" using TF-IDF.\n",
    "\n",
    "To do so, implement the two functions below.\n",
    "\n",
    "#### `tfidf_data`\n",
    "\n",
    "Create a function `tfidf_data` that takes in the reviews data as a Series (`reviews_ser`) and a single review (`review`) and returns a DataFrame indexed by the words in `review` with four columns:\n",
    "- `'cnt'`: the number of times each word is found in the review \n",
    "- `'tf'`: the term frequency for each word\n",
    "- `'idf'`: the inverse document frequency for each word\n",
    "- `'tfidf'` the TF-IDF for each word\n",
    "\n",
    "You may use a `for`-loop. The words in the outputted DataFrame may appear in any order.\n",
    "\n",
    "***Hint:*** You may need to use the [`'\\b'` character](https://www.regular-expressions.info/wordboundaries.html) somewhere.\n",
    "    \n",
    "<br>\n",
    "\n",
    "#### `relevant_word`\n",
    "\n",
    "Create a function `tfidf_data` that takes in the DataFrame that `tfidf_data` returns and returns the word that \"best summarizes\" the review. If there are multiple \"best\" summary words, return any one of them."
   ]
  },
  {
   "cell_type": "code",
   "execution_count": 26,
   "id": "630e2721",
   "metadata": {},
   "outputs": [],
   "source": [
    "# experiment with tfidf_data using reviews_ser and review below \n",
    "fp = os.path.join('data', 'reviews.txt')\n",
    "reviews_ser = pd.read_csv(fp, header=None).squeeze(\"columns\")\n",
    "review = open(os.path.join('data', 'review.txt'), encoding='utf8').read().strip()"
   ]
  },
  {
   "cell_type": "code",
   "execution_count": 96,
   "id": "e5fcff76",
   "metadata": {},
   "outputs": [],
   "source": [
    "review_len = len(review.split())\n",
    "words = set(review.split())\n",
    "out = pd.DataFrame(columns=['cnt', 'tf', 'idf', 'tfidf'], index=words)\n",
    "\n",
    "\n",
    "for word in words:\n",
    "    pattern = '\\\\b' + str(word) + '\\\\b'\n",
    "    word_ct = len(re.findall(pattern=pattern, string=review))\n",
    "    tf = word_ct / review_len\n",
    "    idf = (\n",
    "        np.log(reviews_ser.size/\n",
    "        np.count_nonzero(reviews_ser.str.contains(pattern)))\n",
    "                )\n",
    "    tfidf= tf*idf\n",
    "    out.loc[word] = [word_ct, tf, idf, tfidf]\n",
    "\n"
   ]
  },
  {
   "cell_type": "code",
   "execution_count": 109,
   "id": "6527145b",
   "metadata": {},
   "outputs": [],
   "source": [
    "out = out.astype(np.float64)\n",
    "out['cnt'] = out['cnt'].astype(np.int64)\n",
    "out['cnt'].sum()\n",
    "\n",
    "'before' in out.index\n",
    "\n",
    "def tfidf_data(reviews_ser, review):\n",
    "    \"\"\"\n",
    "    :Example:\n",
    "    >>> fp = os.path.join('data', 'reviews.txt')\n",
    "    >>> reviews_ser = pd.read_csv(fp, header=None).squeeze(\"columns\")\n",
    "    >>> review = open(os.path.join('data', 'review.txt'), encoding='utf8').read().strip()\n",
    "    >>> out = tfidf_data(reviews_ser, review)\n",
    "    >>> out['cnt'].sum()\n",
    "    85\n",
    "    >>> 'before' in out.index\n",
    "    True\n",
    "    \"\"\"\n",
    "    review_len = len(review.split())\n",
    "    words = set(review.split())\n",
    "    out = pd.DataFrame(columns=['cnt', 'tf', 'idf', 'tfidf'], index=words)\n",
    "\n",
    "\n",
    "    for word in words:\n",
    "        pattern = '\\\\b' + str(word) + '\\\\b'\n",
    "        word_ct = len(re.findall(pattern=pattern, string=review))\n",
    "        tf = word_ct / review_len\n",
    "        idf = (\n",
    "            np.log(reviews_ser.size/\n",
    "            np.count_nonzero(reviews_ser.str.contains(pattern)))\n",
    "                    )\n",
    "        tfidf= tf*idf\n",
    "        out.loc[word] = [word_ct, tf, idf, tfidf]\n",
    "\n",
    "    out = out.astype(np.float64)\n",
    "\n",
    "    out['cnt'] = out['cnt'].astype(np.int64)\n",
    "\n",
    "    return out\n",
    "\n",
    "def relevant_word(out):\n",
    "    \"\"\"\n",
    "    :Example:\n",
    "    >>> fp = os.path.join('data', 'reviews.txt')\n",
    "    >>> reviews_ser = pd.read_csv(fp, header=None).squeeze(\"columns\")\n",
    "    >>> review = open(os.path.join('data', 'review.txt'), encoding='utf8').read().strip()\n",
    "    >>> out = tfidf_data(reviews_ser, review)\n",
    "    >>> relevant_word(out) in out.index\n",
    "    True\n",
    "    \"\"\"\n",
    "    return out['tfidf'].idxmax()"
   ]
  },
  {
   "cell_type": "code",
   "execution_count": 111,
   "id": "904f0647",
   "metadata": {},
   "outputs": [
    {
     "data": {
      "text/html": [
       "<div>\n",
       "<style scoped>\n",
       "    .dataframe tbody tr th:only-of-type {\n",
       "        vertical-align: middle;\n",
       "    }\n",
       "\n",
       "    .dataframe tbody tr th {\n",
       "        vertical-align: top;\n",
       "    }\n",
       "\n",
       "    .dataframe thead th {\n",
       "        text-align: right;\n",
       "    }\n",
       "</style>\n",
       "<table border=\"1\" class=\"dataframe\">\n",
       "  <thead>\n",
       "    <tr style=\"text-align: right;\">\n",
       "      <th></th>\n",
       "      <th>cnt</th>\n",
       "      <th>tf</th>\n",
       "      <th>idf</th>\n",
       "      <th>tfidf</th>\n",
       "    </tr>\n",
       "  </thead>\n",
       "  <tbody>\n",
       "    <tr>\n",
       "      <th>seen</th>\n",
       "      <td>1</td>\n",
       "      <td>0.011765</td>\n",
       "      <td>4.104377</td>\n",
       "      <td>0.048287</td>\n",
       "    </tr>\n",
       "    <tr>\n",
       "      <th>have</th>\n",
       "      <td>1</td>\n",
       "      <td>0.011765</td>\n",
       "      <td>0.975412</td>\n",
       "      <td>0.011475</td>\n",
       "    </tr>\n",
       "    <tr>\n",
       "      <th>than</th>\n",
       "      <td>1</td>\n",
       "      <td>0.011765</td>\n",
       "      <td>1.792995</td>\n",
       "      <td>0.021094</td>\n",
       "    </tr>\n",
       "    <tr>\n",
       "      <th>skin</th>\n",
       "      <td>1</td>\n",
       "      <td>0.011765</td>\n",
       "      <td>4.875317</td>\n",
       "      <td>0.057357</td>\n",
       "    </tr>\n",
       "    <tr>\n",
       "      <th>the</th>\n",
       "      <td>3</td>\n",
       "      <td>0.035294</td>\n",
       "      <td>0.181416</td>\n",
       "      <td>0.006403</td>\n",
       "    </tr>\n",
       "    <tr>\n",
       "      <th>really</th>\n",
       "      <td>1</td>\n",
       "      <td>0.011765</td>\n",
       "      <td>1.896583</td>\n",
       "      <td>0.022313</td>\n",
       "    </tr>\n",
       "    <tr>\n",
       "      <th>chunk</th>\n",
       "      <td>1</td>\n",
       "      <td>0.011765</td>\n",
       "      <td>8.028953</td>\n",
       "      <td>0.094458</td>\n",
       "    </tr>\n",
       "    <tr>\n",
       "      <th>create</th>\n",
       "      <td>1</td>\n",
       "      <td>0.011765</td>\n",
       "      <td>5.814336</td>\n",
       "      <td>0.068404</td>\n",
       "    </tr>\n",
       "    <tr>\n",
       "      <th>and</th>\n",
       "      <td>5</td>\n",
       "      <td>0.058824</td>\n",
       "      <td>0.248188</td>\n",
       "      <td>0.014599</td>\n",
       "    </tr>\n",
       "    <tr>\n",
       "      <th>it</th>\n",
       "      <td>3</td>\n",
       "      <td>0.035294</td>\n",
       "      <td>0.247858</td>\n",
       "      <td>0.008748</td>\n",
       "    </tr>\n",
       "    <tr>\n",
       "      <th>locks</th>\n",
       "      <td>1</td>\n",
       "      <td>0.011765</td>\n",
       "      <td>6.554551</td>\n",
       "      <td>0.077112</td>\n",
       "    </tr>\n",
       "    <tr>\n",
       "      <th>also</th>\n",
       "      <td>2</td>\n",
       "      <td>0.023529</td>\n",
       "      <td>1.924159</td>\n",
       "      <td>0.045274</td>\n",
       "    </tr>\n",
       "    <tr>\n",
       "      <th>new</th>\n",
       "      <td>1</td>\n",
       "      <td>0.011765</td>\n",
       "      <td>2.610749</td>\n",
       "      <td>0.030715</td>\n",
       "    </tr>\n",
       "    <tr>\n",
       "      <th>from</th>\n",
       "      <td>1</td>\n",
       "      <td>0.011765</td>\n",
       "      <td>1.605962</td>\n",
       "      <td>0.018894</td>\n",
       "    </tr>\n",
       "    <tr>\n",
       "      <th>before</th>\n",
       "      <td>1</td>\n",
       "      <td>0.011765</td>\n",
       "      <td>2.820618</td>\n",
       "      <td>0.033184</td>\n",
       "    </tr>\n",
       "    <tr>\n",
       "      <th>interchangeable</th>\n",
       "      <td>1</td>\n",
       "      <td>0.011765</td>\n",
       "      <td>6.603944</td>\n",
       "      <td>0.077693</td>\n",
       "    </tr>\n",
       "    <tr>\n",
       "      <th>i</th>\n",
       "      <td>1</td>\n",
       "      <td>0.011765</td>\n",
       "      <td>0.254672</td>\n",
       "      <td>0.002996</td>\n",
       "    </tr>\n",
       "    <tr>\n",
       "      <th>skins</th>\n",
       "      <td>1</td>\n",
       "      <td>0.011765</td>\n",
       "      <td>6.724896</td>\n",
       "      <td>0.079116</td>\n",
       "    </tr>\n",
       "    <tr>\n",
       "      <th>combinations</th>\n",
       "      <td>1</td>\n",
       "      <td>0.011765</td>\n",
       "      <td>7.259820</td>\n",
       "      <td>0.085410</td>\n",
       "    </tr>\n",
       "    <tr>\n",
       "      <th>a</th>\n",
       "      <td>4</td>\n",
       "      <td>0.047059</td>\n",
       "      <td>0.360392</td>\n",
       "      <td>0.016960</td>\n",
       "    </tr>\n",
       "    <tr>\n",
       "      <th>this</th>\n",
       "      <td>3</td>\n",
       "      <td>0.035294</td>\n",
       "      <td>0.441295</td>\n",
       "      <td>0.015575</td>\n",
       "    </tr>\n",
       "    <tr>\n",
       "      <th>plastic</th>\n",
       "      <td>1</td>\n",
       "      <td>0.011765</td>\n",
       "      <td>2.745482</td>\n",
       "      <td>0.032300</td>\n",
       "    </tr>\n",
       "    <tr>\n",
       "      <th>case</th>\n",
       "      <td>3</td>\n",
       "      <td>0.035294</td>\n",
       "      <td>1.121935</td>\n",
       "      <td>0.039598</td>\n",
       "    </tr>\n",
       "    <tr>\n",
       "      <th>with</th>\n",
       "      <td>1</td>\n",
       "      <td>0.011765</td>\n",
       "      <td>0.843247</td>\n",
       "      <td>0.009921</td>\n",
       "    </tr>\n",
       "    <tr>\n",
       "      <th>phone</th>\n",
       "      <td>2</td>\n",
       "      <td>0.023529</td>\n",
       "      <td>0.820703</td>\n",
       "      <td>0.019311</td>\n",
       "    </tr>\n",
       "    <tr>\n",
       "      <th>is</th>\n",
       "      <td>3</td>\n",
       "      <td>0.035294</td>\n",
       "      <td>0.516393</td>\n",
       "      <td>0.018226</td>\n",
       "    </tr>\n",
       "    <tr>\n",
       "      <th>different</th>\n",
       "      <td>2</td>\n",
       "      <td>0.023529</td>\n",
       "      <td>2.960048</td>\n",
       "      <td>0.069648</td>\n",
       "    </tr>\n",
       "    <tr>\n",
       "      <th>of</th>\n",
       "      <td>2</td>\n",
       "      <td>0.023529</td>\n",
       "      <td>0.741824</td>\n",
       "      <td>0.017455</td>\n",
       "    </tr>\n",
       "    <tr>\n",
       "      <th>covers</th>\n",
       "      <td>1</td>\n",
       "      <td>0.011765</td>\n",
       "      <td>3.747910</td>\n",
       "      <td>0.044093</td>\n",
       "    </tr>\n",
       "    <tr>\n",
       "      <th>against</th>\n",
       "      <td>1</td>\n",
       "      <td>0.011765</td>\n",
       "      <td>4.266529</td>\n",
       "      <td>0.050194</td>\n",
       "    </tr>\n",
       "    <tr>\n",
       "      <th>polycarbonate</th>\n",
       "      <td>1</td>\n",
       "      <td>0.011765</td>\n",
       "      <td>6.430097</td>\n",
       "      <td>0.075648</td>\n",
       "    </tr>\n",
       "    <tr>\n",
       "      <th>innovative</th>\n",
       "      <td>1</td>\n",
       "      <td>0.011765</td>\n",
       "      <td>7.102191</td>\n",
       "      <td>0.083555</td>\n",
       "    </tr>\n",
       "    <tr>\n",
       "      <th>perfectly</th>\n",
       "      <td>1</td>\n",
       "      <td>0.011765</td>\n",
       "      <td>2.757033</td>\n",
       "      <td>0.032436</td>\n",
       "    </tr>\n",
       "    <tr>\n",
       "      <th>design</th>\n",
       "      <td>1</td>\n",
       "      <td>0.011765</td>\n",
       "      <td>3.055127</td>\n",
       "      <td>0.035943</td>\n",
       "    </tr>\n",
       "    <tr>\n",
       "      <th>hard</th>\n",
       "      <td>1</td>\n",
       "      <td>0.011765</td>\n",
       "      <td>2.600993</td>\n",
       "      <td>0.030600</td>\n",
       "    </tr>\n",
       "    <tr>\n",
       "      <th>your</th>\n",
       "      <td>1</td>\n",
       "      <td>0.011765</td>\n",
       "      <td>1.666560</td>\n",
       "      <td>0.019607</td>\n",
       "    </tr>\n",
       "    <tr>\n",
       "      <th>damage</th>\n",
       "      <td>1</td>\n",
       "      <td>0.011765</td>\n",
       "      <td>4.285037</td>\n",
       "      <td>0.050412</td>\n",
       "    </tr>\n",
       "    <tr>\n",
       "      <th>5</th>\n",
       "      <td>1</td>\n",
       "      <td>0.011765</td>\n",
       "      <td>2.271546</td>\n",
       "      <td>0.026724</td>\n",
       "    </tr>\n",
       "    <tr>\n",
       "      <th>such</th>\n",
       "      <td>1</td>\n",
       "      <td>0.011765</td>\n",
       "      <td>3.537954</td>\n",
       "      <td>0.041623</td>\n",
       "    </tr>\n",
       "    <tr>\n",
       "      <th>multiple</th>\n",
       "      <td>1</td>\n",
       "      <td>0.011765</td>\n",
       "      <td>4.232872</td>\n",
       "      <td>0.049798</td>\n",
       "    </tr>\n",
       "    <tr>\n",
       "      <th>cover</th>\n",
       "      <td>2</td>\n",
       "      <td>0.023529</td>\n",
       "      <td>2.682848</td>\n",
       "      <td>0.063126</td>\n",
       "    </tr>\n",
       "    <tr>\n",
       "      <th>spills</th>\n",
       "      <td>1</td>\n",
       "      <td>0.011765</td>\n",
       "      <td>7.606096</td>\n",
       "      <td>0.089483</td>\n",
       "    </tr>\n",
       "    <tr>\n",
       "      <th>usual</th>\n",
       "      <td>1</td>\n",
       "      <td>0.011765</td>\n",
       "      <td>5.405047</td>\n",
       "      <td>0.063589</td>\n",
       "    </tr>\n",
       "    <tr>\n",
       "      <th>color</th>\n",
       "      <td>1</td>\n",
       "      <td>0.011765</td>\n",
       "      <td>2.835119</td>\n",
       "      <td>0.033354</td>\n",
       "    </tr>\n",
       "    <tr>\n",
       "      <th>in</th>\n",
       "      <td>1</td>\n",
       "      <td>0.011765</td>\n",
       "      <td>0.844683</td>\n",
       "      <td>0.009937</td>\n",
       "    </tr>\n",
       "    <tr>\n",
       "      <th>not</th>\n",
       "      <td>1</td>\n",
       "      <td>0.011765</td>\n",
       "      <td>0.961543</td>\n",
       "      <td>0.011312</td>\n",
       "    </tr>\n",
       "    <tr>\n",
       "      <th>shell</th>\n",
       "      <td>1</td>\n",
       "      <td>0.011765</td>\n",
       "      <td>4.479638</td>\n",
       "      <td>0.052702</td>\n",
       "    </tr>\n",
       "    <tr>\n",
       "      <th>great</th>\n",
       "      <td>1</td>\n",
       "      <td>0.011765</td>\n",
       "      <td>1.301647</td>\n",
       "      <td>0.015313</td>\n",
       "    </tr>\n",
       "    <tr>\n",
       "      <th>guard</th>\n",
       "      <td>1</td>\n",
       "      <td>0.011765</td>\n",
       "      <td>6.530740</td>\n",
       "      <td>0.076832</td>\n",
       "    </tr>\n",
       "    <tr>\n",
       "      <th>iphone</th>\n",
       "      <td>1</td>\n",
       "      <td>0.011765</td>\n",
       "      <td>1.871751</td>\n",
       "      <td>0.022021</td>\n",
       "    </tr>\n",
       "    <tr>\n",
       "      <th>slim</th>\n",
       "      <td>1</td>\n",
       "      <td>0.011765</td>\n",
       "      <td>3.639715</td>\n",
       "      <td>0.042820</td>\n",
       "    </tr>\n",
       "    <tr>\n",
       "      <th>silicone</th>\n",
       "      <td>1</td>\n",
       "      <td>0.011765</td>\n",
       "      <td>4.349326</td>\n",
       "      <td>0.051169</td>\n",
       "    </tr>\n",
       "    <tr>\n",
       "      <th>protect</th>\n",
       "      <td>1</td>\n",
       "      <td>0.011765</td>\n",
       "      <td>3.142171</td>\n",
       "      <td>0.036967</td>\n",
       "    </tr>\n",
       "    <tr>\n",
       "      <th>has</th>\n",
       "      <td>1</td>\n",
       "      <td>0.011765</td>\n",
       "      <td>1.682117</td>\n",
       "      <td>0.019790</td>\n",
       "    </tr>\n",
       "    <tr>\n",
       "      <th>to</th>\n",
       "      <td>3</td>\n",
       "      <td>0.035294</td>\n",
       "      <td>0.382649</td>\n",
       "      <td>0.013505</td>\n",
       "    </tr>\n",
       "    <tr>\n",
       "      <th>that</th>\n",
       "      <td>2</td>\n",
       "      <td>0.023529</td>\n",
       "      <td>0.845801</td>\n",
       "      <td>0.019901</td>\n",
       "    </tr>\n",
       "    <tr>\n",
       "      <th>comes</th>\n",
       "      <td>1</td>\n",
       "      <td>0.011765</td>\n",
       "      <td>2.829584</td>\n",
       "      <td>0.033289</td>\n",
       "    </tr>\n",
       "    <tr>\n",
       "      <th>outside</th>\n",
       "      <td>1</td>\n",
       "      <td>0.011765</td>\n",
       "      <td>4.196885</td>\n",
       "      <td>0.049375</td>\n",
       "    </tr>\n",
       "    <tr>\n",
       "      <th>suits</th>\n",
       "      <td>1</td>\n",
       "      <td>0.011765</td>\n",
       "      <td>7.418044</td>\n",
       "      <td>0.087271</td>\n",
       "    </tr>\n",
       "    <tr>\n",
       "      <th>kind</th>\n",
       "      <td>1</td>\n",
       "      <td>0.011765</td>\n",
       "      <td>3.784224</td>\n",
       "      <td>0.044520</td>\n",
       "    </tr>\n",
       "  </tbody>\n",
       "</table>\n",
       "</div>"
      ],
      "text/plain": [
       "                 cnt        tf       idf     tfidf\n",
       "seen               1  0.011765  4.104377  0.048287\n",
       "have               1  0.011765  0.975412  0.011475\n",
       "than               1  0.011765  1.792995  0.021094\n",
       "skin               1  0.011765  4.875317  0.057357\n",
       "the                3  0.035294  0.181416  0.006403\n",
       "really             1  0.011765  1.896583  0.022313\n",
       "chunk              1  0.011765  8.028953  0.094458\n",
       "create             1  0.011765  5.814336  0.068404\n",
       "and                5  0.058824  0.248188  0.014599\n",
       "it                 3  0.035294  0.247858  0.008748\n",
       "locks              1  0.011765  6.554551  0.077112\n",
       "also               2  0.023529  1.924159  0.045274\n",
       "new                1  0.011765  2.610749  0.030715\n",
       "from               1  0.011765  1.605962  0.018894\n",
       "before             1  0.011765  2.820618  0.033184\n",
       "interchangeable    1  0.011765  6.603944  0.077693\n",
       "i                  1  0.011765  0.254672  0.002996\n",
       "skins              1  0.011765  6.724896  0.079116\n",
       "combinations       1  0.011765  7.259820  0.085410\n",
       "a                  4  0.047059  0.360392  0.016960\n",
       "this               3  0.035294  0.441295  0.015575\n",
       "plastic            1  0.011765  2.745482  0.032300\n",
       "case               3  0.035294  1.121935  0.039598\n",
       "with               1  0.011765  0.843247  0.009921\n",
       "phone              2  0.023529  0.820703  0.019311\n",
       "is                 3  0.035294  0.516393  0.018226\n",
       "different          2  0.023529  2.960048  0.069648\n",
       "of                 2  0.023529  0.741824  0.017455\n",
       "covers             1  0.011765  3.747910  0.044093\n",
       "against            1  0.011765  4.266529  0.050194\n",
       "polycarbonate      1  0.011765  6.430097  0.075648\n",
       "innovative         1  0.011765  7.102191  0.083555\n",
       "perfectly          1  0.011765  2.757033  0.032436\n",
       "design             1  0.011765  3.055127  0.035943\n",
       "hard               1  0.011765  2.600993  0.030600\n",
       "your               1  0.011765  1.666560  0.019607\n",
       "damage             1  0.011765  4.285037  0.050412\n",
       "5                  1  0.011765  2.271546  0.026724\n",
       "such               1  0.011765  3.537954  0.041623\n",
       "multiple           1  0.011765  4.232872  0.049798\n",
       "cover              2  0.023529  2.682848  0.063126\n",
       "spills             1  0.011765  7.606096  0.089483\n",
       "usual              1  0.011765  5.405047  0.063589\n",
       "color              1  0.011765  2.835119  0.033354\n",
       "in                 1  0.011765  0.844683  0.009937\n",
       "not                1  0.011765  0.961543  0.011312\n",
       "shell              1  0.011765  4.479638  0.052702\n",
       "great              1  0.011765  1.301647  0.015313\n",
       "guard              1  0.011765  6.530740  0.076832\n",
       "iphone             1  0.011765  1.871751  0.022021\n",
       "slim               1  0.011765  3.639715  0.042820\n",
       "silicone           1  0.011765  4.349326  0.051169\n",
       "protect            1  0.011765  3.142171  0.036967\n",
       "has                1  0.011765  1.682117  0.019790\n",
       "to                 3  0.035294  0.382649  0.013505\n",
       "that               2  0.023529  0.845801  0.019901\n",
       "comes              1  0.011765  2.829584  0.033289\n",
       "outside            1  0.011765  4.196885  0.049375\n",
       "suits              1  0.011765  7.418044  0.087271\n",
       "kind               1  0.011765  3.784224  0.044520"
      ]
     },
     "execution_count": 111,
     "metadata": {},
     "output_type": "execute_result"
    }
   ],
   "source": [
    "# don't change this cell, but do run it -- it is needed for the tests\n",
    "fp = os.path.join('data', 'reviews.txt')\n",
    "reviews_ser = pd.read_csv(fp, header=None).squeeze(\"columns\")\n",
    "review = open(os.path.join('data', 'review.txt'), encoding='utf8').read().strip()\n",
    "q3_tfidf = tfidf_data(reviews_ser, review)\n",
    "\n",
    "try:\n",
    "    q3_rel = relevant_word(q3_tfidf)\n",
    "except:\n",
    "    q3_rel = None\n",
    "\n",
    "q3_tfidf"
   ]
  },
  {
   "cell_type": "code",
   "execution_count": 115,
   "id": "01c51911",
   "metadata": {},
   "outputs": [
    {
     "data": {
      "text/plain": [
       "0.8207030388978666"
      ]
     },
     "execution_count": 115,
     "metadata": {},
     "output_type": "execute_result"
    }
   ],
   "source": [
    "q3_tfidf.loc['phone', 'idf']"
   ]
  },
  {
   "cell_type": "code",
   "execution_count": null,
   "id": "8a09e200",
   "metadata": {
    "deletable": false,
    "editable": false
   },
   "outputs": [],
   "source": [
    "grader.check(\"q3\")"
   ]
  },
  {
   "cell_type": "markdown",
   "id": "7af66c1c",
   "metadata": {},
   "source": [
    "## Questions 4 and 5 – Tweet Analysis 🐥\n",
    "\n",
    "The dataset `data/ira.csv` contains tweets tagged by Twitter as likely being posted by the [Internet Research Agency](https://en.wikipedia.org/wiki/Internet_Research_Agency), the tweet factory facing allegations for attempting to influence US political elections.\n",
    "\n",
    "Questions 4 and 5 will focus on the following:\n",
    "- Question 4: Look at the hashtags present in the text and trends in their makeup.\n",
    "- Question 5: Prepare the dataset for modeling by creating features out of the text fields."
   ]
  },
  {
   "cell_type": "markdown",
   "id": "edef431e",
   "metadata": {},
   "source": [
    "### Question 4 – Hashtags #️⃣\n",
    "\n",
    "You may assume that a hashtag is any string without whitespace that immediately follows a `'#'`.\n",
    "\n",
    "#### `hashtag_list`\n",
    "\n",
    "Create a function `hashtag_list` that takes in a Series of tweet texts and returns a Series containing a list of hashtags present in each tweet's text. If a tweet's text doesn't contain a hashtag, the Series should contain an empty list for that tweet. Don't include the `'#'` symbol in the lists that are returned (see the doctest for an example).\n",
    "\n",
    "<br>\n",
    "\n",
    "#### `most_common_hashtag`\n",
    "\n",
    "Create a function `most_common_hashtag` that takes in a Series of hashtag lists (as is outputted by `hashtag_list`) and returns a Series consisting of a single hashtag per tweet: \n",
    "- If the tweet's text has no hashtags, the entry should in the output Series should be `NaN`.\n",
    "- If the tweet's text has one distinct hashtag, the entry in the output Series should be that hashtag.\n",
    "- If the tweet's text has more than one hashtag, the entry in the output Series should be the most common hashtag in the tweet's text with respect to **the whole input Series**. If there is a tie for the most common, any of the most common can be returned.\n",
    "    - For example, if the input Series was `pd.Series([[2], [2], [3, 2, 3]])`, the output would be `pd.Series([2, 2, 2])`. Even though `3` was more common in the third list than `2`, `2` is the most common among all hashtags in the Series."
   ]
  },
  {
   "cell_type": "code",
   "execution_count": 63,
   "id": "948e801d",
   "metadata": {},
   "outputs": [],
   "source": [
    "# The doctests/public tests don't test your work on the `ira` data,\n",
    "# but the hidden tests do.\n",
    "# So, make sure to thoroughly test your work yourself!\n",
    "fp = os.path.join('data', 'ira.csv')\n",
    "ira = pd.read_csv(fp, names=['id', 'name', 'date', 'text'])"
   ]
  },
  {
   "cell_type": "code",
   "execution_count": 66,
   "id": "641c123b",
   "metadata": {},
   "outputs": [
    {
     "data": {
      "text/plain": [
       "0    [NLP, NLP1, NLP1]\n",
       "Name: text, dtype: object"
      ]
     },
     "execution_count": 66,
     "metadata": {},
     "output_type": "execute_result"
    }
   ],
   "source": [
    "testdata = [['RT @DSC80: Text-cleaning is cool! #NLP https://t.co/xsfdw88d #NLP1 #NLP1']]\n",
    "test = pd.DataFrame(testdata, columns=['text'])['text']\n",
    "tuplist = test.str.findall('#([^\\s]+)($|\\s)')\n",
    "tuplist.apply(lambda x: [tup[0] for tup in x])"
   ]
  },
  {
   "cell_type": "code",
   "execution_count": 71,
   "id": "ee2fb5ca",
   "metadata": {},
   "outputs": [
    {
     "data": {
      "text/plain": [
       "0    [NLP, NLP1, NLP1]\n",
       "Name: text, dtype: object"
      ]
     },
     "execution_count": 71,
     "metadata": {},
     "output_type": "execute_result"
    }
   ],
   "source": [
    "def hashtag_list(tweet_text):\n",
    "    \"\"\"\n",
    "    :Example:\n",
    "    >>> testdata = [['RT @DSC80: Text-cleaning is cool! #NLP https://t.co/xsfdw88d #NLP1 #NLP1']]\n",
    "    >>> test = pd.DataFrame(testdata, columns=['text'])['text']\n",
    "    >>> out = hashtag_list(test)\n",
    "    >>> (out.iloc[0] == ['NLP', 'NLP1', 'NLP1'])\n",
    "    True\n",
    "    \"\"\"\n",
    "    tuplist = tweet_text.str.findall('#([^\\s]+)($|\\s)')\n",
    "    return tuplist.apply(lambda x: [tup[0] for tup in x])\n",
    "\n",
    "\n",
    "\n",
    "testdata = [['RT @DSC80: Text-cleaning is cool! #NLP https://t.co/xsfdw88d #NLP1 #NLP1']]\n",
    "test = hashtag_list(pd.DataFrame(testdata, columns=['text'])['text'])\n",
    "most_common = pd.Series(test.sum()).value_counts().idxmax()\n",
    "most_common\n",
    "\n",
    "test"
   ]
  },
  {
   "cell_type": "code",
   "execution_count": null,
   "id": "dbd3a8aa",
   "metadata": {
    "deletable": false,
    "editable": false
   },
   "outputs": [],
   "source": [
    "grader.check(\"q4\")"
   ]
  },
  {
   "cell_type": "markdown",
   "id": "e38746a5",
   "metadata": {},
   "source": [
    "### Question 5 – Features 📋\n",
    "\n",
    "Now, create a DataFrame of features from the `ira` data.  That is, create a function `create_features` that takes in a DataFrame `ira` that has just a single column, `'text'`, and returns a DataFrame with the same index as `ira` (i.e. the rows correspond to the same tweets) and the following columns:\n",
    "* `'num_hashtags'`, the number of hashtags present in the tweet.\n",
    "* `'mc_hashtags'`, the most common hashtag associated to the tweet (using the result of `most_common_hashtag` from Question 4).\n",
    "* `'num_tags'`, the number of tags the tweet has (look for the presence of `'@'`).\n",
    "* `'num_links'`, the number of hyperlinks present in the tweet.\n",
    "    - A hyperlink is a string starting with `'http://'` or `'https://'`, not followed by whitespaces.\n",
    "* `'is_retweet'`, a Boolean describing whether the tweet is a retweet. A retweet is a tweet that **begins** with `'RT'`.\n",
    "* `'text'`, a version of the tweet's text that is cleaned according to the following steps, **in this exact order**:\n",
    "    1. All meta-information above (retweet info, tags, hyperlinks, and hashtags) should be replaced with a single space.\n",
    "    2. Everything other than letters, numbers, and spaces should be replaced with a single space.\n",
    "    3. All letters should be lowercase.\n",
    "    4. All words should be separated by exactly one space, and leading/trailing whitespace should be removed (stripped).\n",
    "    \n",
    "The columns in the outputted DataFrame must be in the order `['text', 'num_hashtags', 'mc_hashtags', 'num_tags', 'num_links', 'is_retweet']`. (Remember, the DataFrame that `create_features` is called on only has a single column, `'text'`.)\n",
    "\n",
    "***Notes:***\n",
    "- It's a good idea to make helper function for each column.\n",
    "- The `\\w` character class in regex **does not** refer to letters, numbers, and spaces (or even just letters and numbers). As such, you can't use it here!\n",
    "- `create_features` will take a while to run on the entire dataset – test it on a small sample first!"
   ]
  },
  {
   "cell_type": "code",
   "execution_count": 72,
   "id": "fb2862e2",
   "metadata": {},
   "outputs": [],
   "source": [
    "# The doctests/public tests don't test your work on the `ira` data,\n",
    "# but the hidden tests do.\n",
    "# So, make sure to thoroughly test your work yourself!\n",
    "fp = os.path.join('data', 'ira.csv')\n",
    "ira = pd.read_csv(fp, names=['id', 'name', 'date', 'text'])"
   ]
  },
  {
   "cell_type": "code",
   "execution_count": 80,
   "id": "bf9df897",
   "metadata": {},
   "outputs": [
    {
     "data": {
      "text/plain": [
       "False"
      ]
     },
     "execution_count": 80,
     "metadata": {},
     "output_type": "execute_result"
    }
   ],
   "source": [
    "pd.notna(np.NaN)"
   ]
  },
  {
   "cell_type": "code",
   "execution_count": 90,
   "id": "56542e69",
   "metadata": {},
   "outputs": [],
   "source": [
    "def most_common_hashtag(tweet_lists):\n",
    "    \"\"\"\n",
    "    :Example:\n",
    "    >>> testdata = [['RT @DSC80: Text-cleaning is cool! #NLP https://t.co/xsfdw88d #NLP1 #NLP1']]\n",
    "    >>> test = hashtag_list(pd.DataFrame(testdata, columns=['text'])['text'])\n",
    "    >>> most_common_hashtag(test).iloc[0] == 'NLP1'\n",
    "    True\n",
    "    \"\"\"\n",
    "    most_common = pd.Series(tweet_lists.sum()).value_counts().idxmax()\n",
    "    def helper(lst):\n",
    "        if len(lst) == 0:\n",
    "            return np.NaN\n",
    "        elif len(lst) == 1:\n",
    "            return lst[0]\n",
    "        else:\n",
    "            return most_common\n",
    "\n",
    "    return tweet_lists.apply(helper)\n",
    "def create_features(ira):\n",
    "    \"\"\"\n",
    "    Takes in the ira data and returns a DataFrame with the described features.\n",
    "    :param ira: the input DataFrame\n",
    "    :return: a DataFrame with specified features\n",
    "    \n",
    "    :Example:\n",
    "    >>> testdata = [['RT @DSC80: Text-cleaning is cool! #NLP https://t.co/xsfdw88d #NLP1 #NLP1']]\n",
    "    >>> test = pd.DataFrame(testdata, columns=['text'])\n",
    "    >>> out = create_features(test)\n",
    "    >>> anscols = ['text', 'num_hashtags', 'mc_hashtags', 'num_tags', 'num_links', 'is_retweet']\n",
    "    >>> ansdata = [['text cleaning is cool', 3, 'NLP1', 1, 1, True]]\n",
    "    >>> ans = pd.DataFrame(ansdata, columns=anscols)\n",
    "    >>> (out == ans).all().all()\n",
    "    True\n",
    "    \"\"\"\n",
    "    rt = '^RT'\n",
    "    tag = '@([\\w]+)'\n",
    "    hrefs = '(http[s]*://[^\\s]+)'\n",
    "    ht = '#([^\\s]+)'\n",
    "    punc = '[^\\w]'\n",
    "    out = ira.copy()\n",
    "    ht_lst = hashtag_list(ira['text'])\n",
    "    mc_ht = most_common_hashtag(ht_lst)\n",
    "\n",
    "    out['num_hashtags'] = ht_lst.apply(len)\n",
    "    out['mc_hashtags'] = mc_ht\n",
    "    out['num_tags'] = ira['text'].apply(\n",
    "        lambda x: x if pd.isna(x) else len(re.findall(tag, x))\n",
    "    )\n",
    "    out['num_links'] = ira['text'].apply(\n",
    "        lambda x: len(re.findall(hrefs, x) if pd.notna(x) else x)\n",
    "    )\n",
    "    out['is_retweet'] = ira['text'].apply(lambda x: x if pd.isna(x) else(\n",
    "        True if re.match(rt,x) else False\n",
    "    )\n",
    "    )\n",
    "    def cleaning_helper(string):\n",
    "        r = '%s|%s|%s|%s|%s' % (rt, tag, hrefs, ht, punc)\n",
    "        if pd.isnull(string):\n",
    "            return string\n",
    "        else:\n",
    "            return re.sub(r, ' ', string).lower().strip()\n",
    "\n",
    "    out['text'] = ira['text'].apply(cleaning_helper)\n",
    "\n",
    "    return out"
   ]
  },
  {
   "cell_type": "code",
   "execution_count": 94,
   "id": "8a02d5c8",
   "metadata": {},
   "outputs": [
    {
     "data": {
      "text/plain": [
       "True"
      ]
     },
     "execution_count": 94,
     "metadata": {},
     "output_type": "execute_result"
    }
   ],
   "source": [
    "testdata = [['RT @DSC80: Text-cleaning is cool! #NLP https://t.co/xsfdw88d #NLP1 #NLP1']]\n",
    "test = pd.DataFrame(testdata, columns=['text'])\n",
    "out = create_features(test)\n",
    "anscols = ['text', 'num_hashtags', 'mc_hashtags', 'num_tags', 'num_links', 'is_retweet']\n",
    "ansdata = [['text cleaning is cool', 3, 'NLP1', 1, 1, True]]\n",
    "ans = pd.DataFrame(ansdata, columns=anscols)\n",
    "(out==ans).all().all()"
   ]
  },
  {
   "cell_type": "code",
   "execution_count": 82,
   "id": "c3c8a8bf",
   "metadata": {},
   "outputs": [],
   "source": [
    "# don't change this cell, but do run it -- it is needed for the tests\n",
    "# (yes, we know it says \"hidden\" – there are still truly hidden tests in this question)\n",
    "fp_hidden = 'data/ira_test.csv'\n",
    "ira_hidden = pd.read_csv(fp_hidden, header=None)\n",
    "text_hidden = ira_hidden.iloc[:, -1:]\n",
    "text_hidden.columns = ['text']\n",
    "\n",
    "test_hidden = create_features(text_hidden)"
   ]
  },
  {
   "cell_type": "code",
   "execution_count": null,
   "id": "d76e6e5d",
   "metadata": {
    "deletable": false,
    "editable": false
   },
   "outputs": [],
   "source": [
    "grader.check(\"q5\")"
   ]
  },
  {
   "cell_type": "markdown",
   "id": "060e3b96",
   "metadata": {},
   "source": [
    "## Congratulations! You're done! 🏁\n",
    "\n",
    "Submit your `lab.py` file to Gradescope. Note that you only need to submit the `lab.py` file; this notebook should not be uploaded.\n",
    "\n",
    "Before submitting, you should ensure that all of your work is in the `lab.py` file. You can do this by running the doctests below, which will verify that your work passes the public tests **and** that your work is in the `lab.py` file. Run the cell below; you should see no output."
   ]
  },
  {
   "cell_type": "code",
   "execution_count": 85,
   "id": "c0d746db",
   "metadata": {},
   "outputs": [],
   "source": [
    "!python -m doctest lab.py"
   ]
  },
  {
   "cell_type": "markdown",
   "id": "a51fc4fc",
   "metadata": {},
   "source": [
    "In addition, `grader.check_all()` will verify that your work passes the public tests."
   ]
  },
  {
   "cell_type": "markdown",
   "id": "e963af96",
   "metadata": {
    "deletable": false,
    "editable": false
   },
   "source": [
    "---\n",
    "\n",
    "To double-check your work, the cell below will rerun all of the autograder tests."
   ]
  },
  {
   "cell_type": "code",
   "execution_count": null,
   "id": "26c3481b",
   "metadata": {
    "deletable": false,
    "editable": false
   },
   "outputs": [],
   "source": [
    "grader.check_all()"
   ]
  }
 ],
 "metadata": {
  "kernelspec": {
   "display_name": "Python 3.9.2 64-bit",
   "language": "python",
   "name": "python3"
  },
  "language_info": {
   "codemirror_mode": {
    "name": "ipython",
    "version": 3
   },
   "file_extension": ".py",
   "mimetype": "text/x-python",
   "name": "python",
   "nbconvert_exporter": "python",
   "pygments_lexer": "ipython3",
   "version": "3.9.2"
  },
  "otter": {
   "tests": {
    "q1": {
     "name": "q1",
     "points": null,
     "suites": [
      {
       "cases": [
        {
         "code": ">>> import doctest\n>>> doctest.run_docstring_examples(match_1, {'match_1': match_1})\n>>> doctest.run_docstring_examples(match_2, {'match_2': match_2})\n>>> doctest.run_docstring_examples(match_3, {'match_3': match_3})\n>>> doctest.run_docstring_examples(match_4, {'match_4': match_4})\n>>> doctest.run_docstring_examples(match_5, {'match_5': match_5})\n>>> doctest.run_docstring_examples(match_6, {'match_6': match_6})\n>>> doctest.run_docstring_examples(match_7, {'match_7': match_7})\n>>> doctest.run_docstring_examples(match_8, {'match_8': match_8})\n>>> doctest.run_docstring_examples(match_9, {'match_9': match_9})\n>>> doctest.run_docstring_examples(match_10, {'match_10': match_10})\n",
         "failure_message": "doctests",
         "hidden": false,
         "locked": false,
         "points": 10
        }
       ],
       "scored": true,
       "setup": "",
       "teardown": "",
       "type": "doctest"
      }
     ]
    },
    "q2": {
     "name": "q2",
     "points": null,
     "suites": [
      {
       "cases": [
        {
         "code": ">>> emails[0] == 'test@test.com'\nTrue",
         "hidden": false,
         "locked": false,
         "points": 1
        },
        {
         "code": ">>> ssn[0] == '423-00-9575'\nTrue",
         "hidden": false,
         "locked": false,
         "points": 1
        },
        {
         "code": ">>> bitcoin[0] == '1BvBMSEYstWetqTFn5Au4m4GFg7xJaNVN2'\nTrue",
         "hidden": false,
         "locked": false,
         "points": 1
        },
        {
         "code": ">>> addresses[0] == '530 High Street'\nTrue",
         "hidden": false,
         "locked": false,
         "points": 1
        }
       ],
       "scored": true,
       "setup": "",
       "teardown": "",
       "type": "doctest"
      }
     ]
    },
    "q3": {
     "name": "q3",
     "points": null,
     "suites": [
      {
       "cases": [
        {
         "code": ">>> q3_tfidf['cnt'].sum() == 85\nTrue",
         "hidden": false,
         "locked": false,
         "points": 1
        },
        {
         "code": ">>> 'before' in q3_tfidf.index\nTrue",
         "hidden": false,
         "locked": false,
         "points": 1
        },
        {
         "code": ">>> q3_tfidf.loc['a', 'cnt'] == 4\nTrue",
         "hidden": false,
         "locked": false,
         "points": 1
        },
        {
         "code": ">>> np.isclose(q3_tfidf.loc['phone', 'idf'], 0.820703, atol=0.5)\nTrue",
         "hidden": false,
         "locked": false,
         "points": 2
        }
       ],
       "scored": true,
       "setup": "",
       "teardown": "",
       "type": "doctest"
      }
     ]
    },
    "q4": {
     "name": "q4",
     "points": null,
     "suites": [
      {
       "cases": [
        {
         "code": ">>> testdata = [['RT @DSC80: Text-cleaning is cool! #NLP https://t.co/xsfdw88d #NLP1 #NLP1']]\n>>> test = pd.DataFrame(testdata, columns=['text'])['text']\n>>> out = hashtag_list(test)\n>>> out.iloc[0] == ['NLP', 'NLP1', 'NLP1']\nTrue",
         "hidden": false,
         "locked": false,
         "points": 1
        },
        {
         "code": ">>> out = pd.Series([[2], [2], [3, 2, 3]])\n>>> (most_common_hashtag(out) == 2).all()\nTrue",
         "hidden": false,
         "locked": false,
         "points": 1
        }
       ],
       "scored": true,
       "setup": "",
       "teardown": "",
       "type": "doctest"
      }
     ]
    },
    "q5": {
     "name": "q5",
     "points": null,
     "suites": [
      {
       "cases": [
        {
         "code": ">>> testdata = [['RT @DSC80: Text-cleaning is cool! #NLP https://t.co/xsfdw88d #NLP1 #NLP1']]\n>>> test = pd.DataFrame(testdata, columns=['text'])\n>>> out = create_features(test)\n>>> anscols = ['text', 'num_hashtags', 'mc_hashtags', 'num_tags', 'num_links', 'is_retweet']\n>>> ansdata = [['text cleaning is cool', 3, 'NLP1', 1, 1, True]]\n>>> ans = pd.DataFrame(ansdata, columns=anscols)\n>>> (out == ans).all().all()\nTrue",
         "hidden": false,
         "locked": false,
         "points": 1
        },
        {
         "code": ">>> test_hidden.columns.tolist() == ['text', 'num_hashtags', 'mc_hashtags', 'num_tags', 'num_links', 'is_retweet']\nTrue",
         "hidden": false,
         "locked": false,
         "points": 1
        },
        {
         "code": ">>> 400 <= (test_hidden['num_tags'] == 0).sum() <= 450\nTrue",
         "hidden": false,
         "locked": false,
         "points": 2
        },
        {
         "code": ">>> 450 <= (test_hidden['num_links'] == 0).sum() <= 550\nTrue",
         "hidden": false,
         "locked": false,
         "points": 2
        }
       ],
       "scored": true,
       "setup": "",
       "teardown": "",
       "type": "doctest"
      }
     ]
    }
   }
  },
  "vscode": {
   "interpreter": {
    "hash": "19b17eba0dbd5e4b8827ab8a6192fc0dff7c2985f63f4f278d5b971ef380745d"
   }
  }
 },
 "nbformat": 4,
 "nbformat_minor": 5
}
