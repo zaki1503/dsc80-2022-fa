{
 "cells": [
  {
   "cell_type": "code",
   "execution_count": null,
   "id": "14eacc4e",
   "metadata": {
    "deletable": false,
    "editable": false
   },
   "outputs": [],
   "source": [
    "# Initialize Otter\n",
    "import otter\n",
    "grader = otter.Notebook(\"lab.ipynb\")"
   ]
  },
  {
   "cell_type": "markdown",
   "id": "1b1e6d6b",
   "metadata": {},
   "source": [
    "# Lab 5 – Imputation\n",
    "\n",
    "## DSC 80, Fall 2022\n",
    "\n",
    "### Due Date: Monday, October 31st at 11:59 PM"
   ]
  },
  {
   "cell_type": "markdown",
   "id": "adb5a7c5",
   "metadata": {},
   "source": [
    "## Instructions\n",
    "Much like in DSC 10, this Jupyter Notebook contains the statements of the problems and provides code and Markdown cells to display your answers to the problems. Unlike DSC 10, the notebook is *only* for displaying a readable version of your final answers. The coding will be done in an accompanying `lab.py` file that is imported into the current notebook.\n",
    "\n",
    "<span style='color:red'><b>Note: For Lab 5 only, there are no hidden tests!</b></span> The tests you see when you run `grader.check` are the final tests that will determine your grade. In addition, when you submit Lab 5 to Gradescope you will see your final score on the assignment right away. (This is because the lab is due very close to the Midterm Exam.)\n",
    "\n",
    "Labs and programming assignments will be graded in (at most) two ways:\n",
    "1. The functions and classes in the accompanying `lab.py` file will be tested (a la DSC 20),\n",
    "2. The notebook may be graded (if it contains free response questions or asks you to draw plots).\n",
    "\n",
    "**Do not change the function names in the `lab.py` file!**\n",
    "- The functions in the `lab.py` file are how your assignment is graded, and they are graded by their name.\n",
    "- If you changed something you weren't supposed to, just use git to revert! Ask us if you need help with this, or google around for `git revert`.\n",
    "\n",
    "**Tips for working in the notebook**:\n",
    "- The notebooks serve to present the questions and give you a place to present your results for later review.\n",
    "- The notebooks in *lab assignments* are not graded (only the `lab.py` file is submitted and graded).\n",
    "- The notebook serves as a nice environment for 'pre-development' and experimentation before designing your function in your `lab.py` file. You can write code here, but make sure that all of your real work is in the `lab.py` file.\n",
    "\n",
    "**Tips for developing in the `lab.py` file**:\n",
    "- Do not change the function names in the starter code; grading is done using these function names.\n",
    "- Do not change the docstrings in the functions. These are there to tell you if your work is on the right track!\n",
    "- You are encouraged to write your own additional helper functions to solve the lab! \n",
    "- Always document your code!"
   ]
  },
  {
   "cell_type": "markdown",
   "id": "936badfc",
   "metadata": {},
   "source": [
    "### Importing code from `lab.py`\n",
    "\n",
    "* We import our `lab.py` file that's contained in the same directory as this notebook.\n",
    "* We use the `autoreload` notebook extension to make changes to our `lab.py` file immediately available in our notebook. Without this extension, we would need to restart the notebook kernel to see any changes to `lab.py` in the notebook.\n",
    "    - `autoreload` is necessary because, upon import, `lab.py` is compiled to bytecode (in the directory `__pycache__`). Subsequent imports of `lab` merely import the existing compiled python."
   ]
  },
  {
   "cell_type": "code",
   "execution_count": 1,
   "id": "65f9b284",
   "metadata": {},
   "outputs": [],
   "source": [
    "%load_ext autoreload\n",
    "%autoreload 2"
   ]
  },
  {
   "cell_type": "code",
   "execution_count": 2,
   "id": "bd946098",
   "metadata": {},
   "outputs": [],
   "source": [
    "from lab import *"
   ]
  },
  {
   "cell_type": "code",
   "execution_count": 3,
   "id": "c7454f3b",
   "metadata": {},
   "outputs": [],
   "source": [
    "import os\n",
    "import pandas as pd\n",
    "import numpy as np\n",
    "from scipy import stats\n",
    "import matplotlib.pyplot as plt\n",
    "\n",
    "import requests\n",
    "import bs4"
   ]
  },
  {
   "cell_type": "markdown",
   "id": "2c004f3c",
   "metadata": {},
   "source": [
    "***Note:*** While working on the lab, check the Campuswire post titled \"Lab 5 Released!\" for any clarifications."
   ]
  },
  {
   "cell_type": "markdown",
   "id": "c79210ce",
   "metadata": {},
   "source": [
    "## Question 1 – Payment Data 💰\n",
    "\n",
    "In `data/payment.csv`, you are given a dataset of payment information for purchases made on January 1st, 2019. The dataset contains the purchaser's `'Id'`, `'credit_card_type'`, `'credit_card_number'`, and `'date_of_birth'`.\n",
    "\n",
    "Your job is to assess the missingness in the payments data. The question you need to answer is, **is `'credit_card_number'` missing at random dependent on the age of the shopper?**. Let's approach this question in two ways.\n",
    "\n",
    "#### `first_round`\n",
    "\n",
    "Look at distribution of ages by missingness of `'credit_card_number'` and determine if the missingness is dependent on age or not.\n",
    "\n",
    "Use the following steps to approach this problem:\n",
    "\n",
    "- Compute the ages of the purchasers.\n",
    "- Draw the distribution of ages by missingness of `'credit_card_number'`. Specifically, you will draw two histograms or density curves:\n",
    "    - One of ages where `'credit_card_number'` is missing.\n",
    "    - One of ages where `'credit_card_number'` is not missing.\n",
    "- Perform a permutation test for whether or not the two distributions mentioned above are drawn from the same population distribution. Use a 5% significance level. Use the **absolute difference of means** as your test statistic.\n",
    "\n",
    "Write a function `first_round` with no arguments that returns a **list** with two values:\n",
    "* The first value is the p-value from your permutation test. \n",
    "* The second value is either `'R'` if you reject the null hypothesis, or `'NR'` if you fail to reject the null.\n",
    "\n",
    "**Does the result match your guess? If not, what might be a problem?**\n",
    "\n",
    "***Hint:*** \n",
    "- Look at [Lecture 8](https://github.com/dsc-courses/dsc80-2022-fa/tree/main/lectures/08-missingness/notebook/lecture.ipynb).\n",
    "- To find a customer's age, compute the number of years between their birth year and 2022.\n",
    "\n",
    "<br>\n",
    "\n",
    "#### `second_round`\n",
    "\n",
    "Run another permutation test for the empirical distribution of age conditional on `'credit_card_number'` with a 5% significance level. This time, use the **Kolmogorov-Smirnov statistic** as your test statistic.\n",
    "\n",
    "Write a function `second_round` with no arguments that returns a __list__ with three values: \n",
    "* The first value is the p-value from your new permutation test.\n",
    "* The second value is either `'R'` if you reject the null hypothesis, or `'NR'` if you fail to reject the null. \n",
    "* The third value is your final conclusion: `'D'` (the missingness of `'credit_card_number'` is dependent on age) or `'ND'` (the missingness of `'credit_card_number'` is not dependent on age).\n",
    "\n",
    "***Hint:*** \n",
    "- In [Lecture 8](https://github.com/dsc-courses/dsc80-2022-fa/tree/main/lectures/08-missingness/notebook/lecture.ipynb), we ran permutation tests using the Kolmogorov-Smirnov test statistic **without `for`-loops**. You can use this same procedure; we have already imported `stats` from `scipy`."
   ]
  },
  {
   "cell_type": "code",
   "execution_count": 6,
   "id": "82f3c999",
   "metadata": {},
   "outputs": [],
   "source": [
    "# Run your permutation tests in the Jupyter Notebook;\n",
    "# put your final results in lab.py\n",
    "payments_fp = os.path.join('data', 'payment.csv')\n",
    "payments = pd.read_csv(payments_fp)\n",
    "payments.head()"
   ]
  },
  {
   "cell_type": "code",
   "execution_count": null,
   "id": "f285a851",
   "metadata": {},
   "outputs": [],
   "source": []
  },
  {
   "cell_type": "code",
   "execution_count": null,
   "id": "af051784",
   "metadata": {},
   "outputs": [],
   "source": []
  },
  {
   "cell_type": "code",
   "execution_count": 7,
   "id": "36543d86",
   "metadata": {},
   "outputs": [],
   "source": [
    "# don't change this cell, but do run it -- it is needed for the tests to work\n",
    "first_pval, first_result = first_round()\n",
    "second_pval, second_result, second_result1 = second_round()"
   ]
  },
  {
   "cell_type": "code",
   "execution_count": null,
   "id": "cf02a04b",
   "metadata": {
    "deletable": false,
    "editable": false
   },
   "outputs": [],
   "source": [
    "grader.check(\"q1\")"
   ]
  },
  {
   "cell_type": "markdown",
   "id": "c832de91",
   "metadata": {},
   "source": [
    "## Question 2 – Missing Heights 🕵️\n",
    "\n",
    "In the file `data/missing_heights.csv` are the heights of children and their fathers (`'child'` and `'father'`). The `'child_X'` columns are missing values in varying proportions; for each X, `'child_X'` is X\\% not missing (and hence (100-X)\\% missing). The missingness of these `'child_X'` columns were created as MAR dependent on `'father'` height (similar to what was done in Lecture 12). The missingness of these `'child_X'` columns are all equally dependent on father height.\n",
    "\n",
    "You will attempt to **verify** the missingness of the `'child_X'` columns as being dependent on the `'father'` height column by using permutation tests. Your permutation tests should use the Kolmogorov-Smirnov test statistic. You can use `scipy.stats`' built-in K-S function to run your permutation tests and compute your p-values; you don't need to simulate manually using a `for`-loop.\n",
    "\n",
    "#### `verify_child`\n",
    "\n",
    "Write a function `verify_child` that takes in the `heights` DataFrame and returns a Series of p-values from your permutation tests, indexed by the columns `'child_X'`.\n",
    "\n",
    "***Notes:*** \n",
    "\n",
    "- Unlike in Question 1, your permutation tests should run within your `verify_child` function.\n",
    "- You may loop over the **columns** of `heights`.\n",
    "\n",
    "<br>\n",
    "\n",
    "#### `missing_data_amounts`\n",
    "\n",
    "Now, interpret your results. In the function `missing_data_amounts`, return a __list__ of correct statements from the options below:\n",
    "1. The p-value for `'child_50'` is small because the *sampling distribution* of test statistics has low variance.\n",
    "2. MAR is hardest to determine when there are very different proportions of missing and not-missing values.\n",
    "3. The difference between p-values for `'child_5'` and `'child_95'` is due to randomness.\n",
    "4. We should expect the p-value of `'child_X'` and `'child_(100-X)'` to be similar.\n",
    "5. We should only expect the p-value of `'child_X'` and `'child_(100-X)'` to be similar if the columns are MCAR."
   ]
  },
  {
   "cell_type": "code",
   "execution_count": null,
   "id": "61f0d2c9",
   "metadata": {},
   "outputs": [],
   "source": []
  },
  {
   "cell_type": "code",
   "execution_count": null,
   "id": "326886e6",
   "metadata": {},
   "outputs": [],
   "source": []
  },
  {
   "cell_type": "code",
   "execution_count": 22,
   "id": "32ac90f7",
   "metadata": {},
   "outputs": [],
   "source": [
    "# don't change this cell, but do run it -- it is needed for the tests to work\n",
    "heights_fp = os.path.join('data', 'missing_heights.csv')\n",
    "heights = pd.read_csv(heights_fp)\n",
    "out1_q2 = verify_child(heights.copy())\n",
    "out2_q2 = missing_data_amounts()"
   ]
  },
  {
   "cell_type": "code",
   "execution_count": null,
   "id": "c3c172d8",
   "metadata": {
    "deletable": false,
    "editable": false
   },
   "outputs": [],
   "source": [
    "grader.check(\"q2\")"
   ]
  },
  {
   "cell_type": "markdown",
   "id": "a38fa92e",
   "metadata": {},
   "source": [
    "## Question 3 – Imputing Heights 🧍📏\n",
    "\n",
    "In [Lecture 9](https://github.com/dsc-courses/dsc80-2022-fa/tree/main/lectures/09-data_imputation/notebook/lab.ipynb), you learned how to perform single-valued imputation conditionally on a **categorical** column: impute with the mean for each group. That is, for each distinct value of the **categorical** column, there is a single imputed value.\n",
    "\n",
    "Here, you will perform single-valued imputation conditionally on a **quantitative** column. \n",
    "\n",
    "You will work with a version of the `heights` DataFrame, `new_heights`, that has a `'father'` column and a single `'child'` column. The `'child'` column has missing values. To impute the `'child'` column, transform the `'father'` column into a categorical column by binning the values of `'father'` into [quartiles](https://en.wikipedia.org/wiki/Quartile). Once this is done, you can impute `'child'` as in lecture (and described above).\n",
    "\n",
    "<br>\n",
    "\n",
    "#### `cond_single_imputation`\n",
    "\n",
    "Write a function `cond_single_imputation` that takes in a DataFrame with columns `'father'` and `'child'` (where `'child'` has missing values) and performs a single-valued mean imputation of the `'child'` column, conditional on `'father'`. Your function should return a **Series**.\n",
    "\n",
    "***Hints:*** \n",
    "- `pd.qcut` may be helpful!\n",
    "- The `transform` is useful for this question (see [Lecture 5](https://github.com/dsc-courses/dsc80-2022-fa/blob/main/lectures/05-grouping/notebook/lecture.ipynb)), though it's also possible using `aggregate`. \n",
    "- As a reminder, *loops are not allowed*, and functions mentioned in \"Hints\" are not required."
   ]
  },
  {
   "cell_type": "code",
   "execution_count": null,
   "id": "41e1b8b5",
   "metadata": {},
   "outputs": [],
   "source": []
  },
  {
   "cell_type": "code",
   "execution_count": null,
   "id": "f4ffb912",
   "metadata": {},
   "outputs": [],
   "source": []
  },
  {
   "cell_type": "code",
   "execution_count": 37,
   "id": "ba4d5769",
   "metadata": {},
   "outputs": [],
   "source": [
    "# don't change this cell, but do run it -- it is needed for the tests to work\n",
    "heights_fp = os.path.join('data', 'missing_heights.csv')\n",
    "new_heights = pd.read_csv(heights_fp)[['father', 'child_50']]\n",
    "new_heights = new_heights.rename(columns={'child_50': 'child'})\n",
    "out_q3 = cond_single_imputation(new_heights.copy())"
   ]
  },
  {
   "cell_type": "code",
   "execution_count": 38,
   "id": "c6a46bc0",
   "metadata": {},
   "outputs": [],
   "source": [
    "# don't change this cell, but do run it -- it is needed for the tests to work\n",
    "heights_q3 = pd.read_csv('data/missing_heights.csv')\n",
    "heights_q3['child'] = heights_q3['child_50']\n",
    "inp_q3 = heights_q3\n",
    "out_q3 = cond_single_imputation(inp_q3)\n",
    "df_q3 = inp_q3.copy()\n",
    "df_q3['imputed'] = out_q3\n",
    "gp1_q3 = df_q3.groupby('father')['imputed'].mean()\n",
    "gp2_q3 = df_q3.groupby('father')['child'].mean()\n",
    "m_q3 = (pd.concat([gp1_q3, gp2_q3], axis=1)\n",
    "     .dropna().diff(axis=1).abs().iloc[:, -1])"
   ]
  },
  {
   "cell_type": "code",
   "execution_count": null,
   "id": "6e6086af",
   "metadata": {
    "deletable": false,
    "editable": false
   },
   "outputs": [],
   "source": [
    "grader.check(\"q3\")"
   ]
  },
  {
   "cell_type": "markdown",
   "id": "4c50cc8b",
   "metadata": {},
   "source": [
    "## Question 4 – Probabilistic Imputation 🎲\n",
    "\n",
    "In [Lecture 9](https://github.com/dsc-courses/dsc80-2022-fa/tree/main/lectures/09-data_imputation/notebook/lab.ipynb), you learned how to impute a quantitative column by sampling from the observed values. **One problem with this technique is that the imputation will never generate imputed values that weren't already in the dataset.** For example, 57, 57.5, and 59 are values in the `'child'` column of `new_heights` while 58 is not. Thus, any imputation done by sampling from the observed values in the `'child'` column will not be able to generate a height of 58, even though it's clearly a reasonable value to occur in the dataset.\n",
    "\n",
    "To keep things simple, you will impute the `'child'` column **unconditionally** from the distribution of `'child'` heights present in the dataset. This means that you will use the values present in `'child'` to impute missing values, without looking at other columns.\n",
    "\n",
    "An approach to quantitative imputation that overcomes the limitation mentioned above is as follows:\n",
    "- Create a histogram of observed `'child'` heights, using 10 bins.\n",
    "- Use the histogram to generate a number within the observed range of `'child'` heights:\n",
    "    - The likelihood a generated number belongs to a given bin is equal to the area of that bin. (Remember, in histograms, areas are proportions.)\n",
    "    - Any number within a fixed bin is equally likely to occur.\n",
    "    \n",
    "Let's illustrate this approach with an example. Let `demo` be the array of 10 numbers defined below.\n",
    "\n",
    "```py\n",
    "demo = np.array([10, 11, 11, 13, 14, 14, 13.5, 14, 15, 16])\n",
    "```\n",
    "\n",
    "- The first step is creating a histogram of `demo`. Note that with this small dataset, we will use 3 bins, but you will be using 10 bins in your imputation process.\n",
    "\n",
    "<img src='imgs/demo_histogram.png' width=300>\n",
    "\n",
    "- Note that in your process, you don't actually need to draw a histogram – instead, use `np.histogram`.\n",
    "- In the histogram above, we see that $2 \\cdot 0.15 = 0.3 = 30\\%$ of values lie in the [10, 12) bin, $2 \\cdot 0.1 = 0.2 = 20\\%$ of values lie in the [12, 14) bin, and $2 \\cdot 0.25 = 0.5 = 50\\%$ of values lie in the [14, 16] bin.\n",
    "- Next, we need to pick a bin at random. There's a 30\\% chance we pick the [10, 12) bin, a 20\\% chance we pick the [12, 14) bin, and a 50\\% chance we pick the [14, 16] bin. `np.random.choice` will be helpful in picking a bin at random.\n",
    "- Once we pick a bin, we pick a number **uniformly at random** from within the bin. For instance, suppose we randomly chose the [14, 16] bin in the previous step. We then must select a (real) number between 14 and 16 uniformly at random. `np.random.uniform` can help you here.\n",
    "\n",
    "<br>\n",
    "\n",
    "#### `quantitative_distribution`\n",
    "    \n",
    "Create a function `quantitative_distribution` that takes in a Series, `child`, in which some values are missing, and an integer `N > 0`, and returns an **array** of `N` imputed values using the method described above. \n",
    "\n",
    "***Note:*** You may use a `for`-loop.\n",
    "\n",
    "<br>\n",
    "\n",
    "#### `impute_height_quant`\n",
    "\n",
    "Create a function `impute_height_quant` that takes in a Series, `child`, in which some values are missing and imputes them using the scheme above. `impute_height_quant` should return a Series that is the same length of `child` but with no missing values. **You should use `quantitative_distribution` to help you do this.**"
   ]
  },
  {
   "cell_type": "code",
   "execution_count": null,
   "id": "1a8e683c",
   "metadata": {},
   "outputs": [],
   "source": []
  },
  {
   "cell_type": "code",
   "execution_count": null,
   "id": "982fe0e5",
   "metadata": {},
   "outputs": [],
   "source": []
  },
  {
   "cell_type": "code",
   "execution_count": 70,
   "id": "6e57662a",
   "metadata": {},
   "outputs": [],
   "source": [
    "# don't change this cell, but do run it -- it is needed for the tests to work\n",
    "heights_fp = os.path.join('data', 'missing_heights.csv')\n",
    "heights = pd.read_csv(heights_fp)\n",
    "child = heights['child_50']\n",
    "quantitative_distribution_out_q4 = quantitative_distribution(child.copy(), 100)\n",
    "impute_height_quant_out_q4 = impute_height_quant(child.copy())"
   ]
  },
  {
   "cell_type": "code",
   "execution_count": null,
   "id": "7db3250c",
   "metadata": {
    "deletable": false,
    "editable": false
   },
   "outputs": [],
   "source": [
    "grader.check(\"q4\")"
   ]
  },
  {
   "cell_type": "markdown",
   "id": "f75ee643",
   "metadata": {},
   "source": [
    "## Question 5 – The Rules of Web Scraping 🚔\n",
    "\n",
    "In Lecture 14, we will start studying web scraping. This question will give you an introduction to the rules behind it.\n",
    "\n",
    "Many sites have a published policy allowing or disallowing automatic access to their site. Often, this policy is in a text file named `robots.txt`. [Here is a good article](https://moz.com/learn/seo/robotstxt) that explains what these files are, where to find them, and how to use them. **After reading the article**, please answer the following questions.\n",
    "\n",
    "<br>\n",
    "\n",
    "### Multiple-Choice Questions\n",
    "\n",
    "**1. What is the purpose of `robots.txt`?**\n",
    "\n",
    "1. To informs agents which pages to crawl.\n",
    "\n",
    "2. To informs agents that the site is automated.\n",
    "\n",
    "3. To inform agents that robots will chase them down if their info is stolen.\n",
    "\n",
    "\n",
    "**2. Where do you put your `robots.txt` file?**\n",
    "\n",
    "1. In the folder you want to disallow.\n",
    "\n",
    "2. In the root directory of your website.\n",
    "\n",
    "3. In a Google search.\n",
    "\n",
    "**3. Is it illegal to scrape a site if there is no `robots.txt` present?** (***Hint:*** [Read this](https://medium.com/@tjwaterman99/web-scraping-is-now-legal-6bf0e5730a78) if you're not sure. If you aren't able to access the article because Medium says \"You've read all your free member-only stories...\", try opening the article in a new incognito or private browsing window 😅.)\n",
    "\n",
    "1. Yes.\n",
    "\n",
    "2. No.\n",
    "\n",
    "**4. Can each subdomain on a root domain use separate `robots.txt` files?**\n",
    "\n",
    "1. Yes.\n",
    "\n",
    "2. No.\n",
    "\n",
    "\n",
    "<br>\n",
    "\n",
    "\n",
    "### Website Hunt\n",
    "\n",
    "Next, **find three websites that explicitly use a `robots.txt` file and allow scraping by everyone, and three that do not allow scraping by generic user-agents**.\n",
    "\n",
    "When browsing through `robots.txt` files, you may notice that some have entries for several different user-agents. The user-agent you are interested in for this question is the generic user-agent, which is denoted by `*`. A `/` after a `Disallow:` indicates that no scraping is allowed, whereas nothing after the `Disallow:` or a `/` after `Allow:` indicates that all scraping is allowed.\n",
    "\n",
    "***Notes:***\n",
    "- During your search, you may notice that very few websites allow scraping by everyone. When trying to find websites that satisfy this criteria, you are encouraged to think contextually about what kinds of websites would and wouldn't mind you scraping their data. Would a government website likely mind scraping by everyone? How about a website someone created just for fun?\n",
    "\n",
    "- Some websites may cause Gradescope to time out. Please change a website if you encounter this issue. \n",
    "\n",
    "- Below, you are asked to store the URLs of the websites you find in a list. When storing URLs, you can add `'/robots.txt'` to the end, but you don't have to – either format will be accepted.\n",
    "\n",
    "<br>\n",
    "\n",
    "\n",
    "#### `answers`\n",
    "\n",
    "Create an argument-free function `answers` that returns **two lists**:\n",
    "\n",
    "* one containing your answers to the multiple-choice questions, and\n",
    "* one containing the URLs of the sites you found. The first 3 URLs in the list should be of websites that allow scraping by everyone, and the last 3 URLs in the list should be of websites that disallow scraping by generic user-agents."
   ]
  },
  {
   "cell_type": "code",
   "execution_count": null,
   "id": "58f770b5",
   "metadata": {},
   "outputs": [],
   "source": []
  },
  {
   "cell_type": "code",
   "execution_count": null,
   "id": "2dacbcd2",
   "metadata": {},
   "outputs": [],
   "source": []
  },
  {
   "cell_type": "code",
   "execution_count": 58,
   "id": "69e553fc",
   "metadata": {},
   "outputs": [],
   "source": [
    "# don't change this cell, but do run it -- it is needed for the tests to work\n",
    "mc_answers, websites = answers()"
   ]
  },
  {
   "cell_type": "code",
   "execution_count": 59,
   "id": "92c28551",
   "metadata": {},
   "outputs": [],
   "source": [
    "# don't change this cell, but do run it -- it is needed for the tests to work\n",
    "from urllib.parse import urlparse\n",
    "import urllib.robotparser\n",
    "\n",
    "# This code checks the robots.txt file\n",
    "def canFetch(url):\n",
    "    if url[:4] != 'http':\n",
    "        url = 'https://' + url\n",
    "    parsed_uri = urlparse(url)\n",
    "\n",
    "    domain = '{uri.scheme}://{uri.netloc}/'.format(uri=parsed_uri)\n",
    "\n",
    "    rp = urllib.robotparser.RobotFileParser()\n",
    "    rp.set_url(domain + \"/robots.txt\")\n",
    "    try:\n",
    "        rp.read()\n",
    "        canFetchBool = rp.can_fetch(\"*\", url)\n",
    "    except:\n",
    "        canFetchBool = None\n",
    "    \n",
    "    return canFetchBool\n",
    "\n",
    "ans_q5, websites_q5 = answers()\n",
    "canfetch_q5 = []\n",
    "for site in websites_q5:\n",
    "    try:\n",
    "        canfetch_q5.append(canFetch(site))\n",
    "    except:\n",
    "        canfetch_q5.append(None)"
   ]
  },
  {
   "cell_type": "code",
   "execution_count": null,
   "id": "1213515f",
   "metadata": {
    "deletable": false,
    "editable": false
   },
   "outputs": [],
   "source": [
    "grader.check(\"q5\")"
   ]
  },
  {
   "cell_type": "markdown",
   "id": "ad761f6e",
   "metadata": {},
   "source": [
    "## Congratulations! You're done! 🏁\n",
    "\n",
    "Submit your `lab.py` file to Gradescope. Note that you only need to submit the `lab.py` file; this notebook should not be uploaded.\n",
    "\n",
    "Before submitting, you should ensure that all of your work is in the `lab.py` file. You can do this by running the doctests below, which will verify that your work passes the public tests **and** that your work is in the `lab.py` file. Run the cell below; you should see no output."
   ]
  },
  {
   "cell_type": "code",
   "execution_count": 68,
   "id": "32f17367",
   "metadata": {},
   "outputs": [],
   "source": [
    "!python -m doctest lab.py"
   ]
  },
  {
   "cell_type": "markdown",
   "id": "a2ec49ee",
   "metadata": {},
   "source": [
    "In addition, `grader.check_all()` will verify that your work passes the public tests."
   ]
  },
  {
   "cell_type": "markdown",
   "id": "e3646207",
   "metadata": {
    "deletable": false,
    "editable": false
   },
   "source": [
    "---\n",
    "\n",
    "To double-check your work, the cell below will rerun all of the autograder tests."
   ]
  },
  {
   "cell_type": "code",
   "execution_count": null,
   "id": "c57831b6",
   "metadata": {
    "deletable": false,
    "editable": false
   },
   "outputs": [],
   "source": [
    "grader.check_all()"
   ]
  }
 ],
 "metadata": {
  "kernelspec": {
   "display_name": "Python 3 (ipykernel)",
   "language": "python",
   "name": "python3"
  },
  "language_info": {
   "codemirror_mode": {
    "name": "ipython",
    "version": 3
   },
   "file_extension": ".py",
   "mimetype": "text/x-python",
   "name": "python",
   "nbconvert_exporter": "python",
   "pygments_lexer": "ipython3",
   "version": "3.9.6"
  },
  "otter": {
   "tests": {
    "q1": {
     "name": "q1",
     "points": null,
     "suites": [
      {
       "cases": [
        {
         "code": ">>> isinstance(first_round(), list) and isinstance(second_round(), list)\nTrue",
         "hidden": false,
         "locked": false,
         "points": 0.5
        },
        {
         "code": ">>> first_pval < 1\nTrue",
         "hidden": false,
         "locked": false,
         "points": 0.5
        },
        {
         "code": ">>> first_result in ['NR', 'R']\nTrue",
         "hidden": false,
         "locked": false,
         "points": 0.5
        },
        {
         "code": ">>> second_pval < 1\nTrue",
         "hidden": false,
         "locked": false,
         "points": 0.5
        },
        {
         "code": ">>> second_result in ['NR', 'R']\nTrue",
         "hidden": false,
         "locked": false,
         "points": 0.5
        },
        {
         "code": ">>> second_result1 in ['ND', 'D']\nTrue",
         "hidden": false,
         "locked": false,
         "points": 0.5
        },
        {
         "code": ">>> np.isclose(first_pval, 0.16, atol=0.4)\nTrue",
         "failure_message": "first_round p-value approximate",
         "hidden": false,
         "locked": false,
         "points": 3
        },
        {
         "code": ">>> first_result == 'NR'\nTrue",
         "failure_message": "first_round result -- reject / do not reject",
         "hidden": false,
         "locked": false,
         "points": 2
        },
        {
         "code": ">>> second_result1 == 'D'\nTrue",
         "failure_message": "part 3 multiple choice",
         "hidden": false,
         "locked": false,
         "points": 1
        },
        {
         "code": ">>> np.isclose(second_pval, 0.02, atol=0.2)\nTrue",
         "failure_message": "second_round p-value approximate",
         "hidden": false,
         "locked": false,
         "points": 1
        },
        {
         "code": ">>> np.isclose(second_pval, 0.02, atol=0.1)\nTrue",
         "failure_message": "second_round p-value approximate",
         "hidden": false,
         "locked": false,
         "points": 1
        },
        {
         "code": ">>> np.isclose(second_pval, 0.02, atol=0.02)\nTrue",
         "failure_message": "second_round p-value",
         "hidden": false,
         "locked": false,
         "points": 1
        },
        {
         "code": ">>> second_result == 'R'\nTrue",
         "failure_message": "second_round result -- reject / do not reject",
         "hidden": false,
         "locked": false,
         "points": 1
        }
       ],
       "scored": true,
       "setup": "",
       "teardown": "",
       "type": "doctest"
      }
     ]
    },
    "q2": {
     "name": "q2",
     "points": null,
     "suites": [
      {
       "cases": [
        {
         "code": ">>> out1_q2['child_50'] < out1_q2['child_95']\nTrue",
         "hidden": false,
         "locked": false,
         "points": 0.5
        },
        {
         "code": ">>> out1_q2['child_5'] > out1_q2['child_50']\nTrue",
         "hidden": false,
         "locked": false,
         "points": 0.5
        },
        {
         "code": ">>> set(out2_q2) <= set(range(1, 6))\nTrue",
         "hidden": false,
         "locked": false,
         "points": 1
        },
        {
         "code": ">>> out1_q2['child_95'] > out1_q2['child_5']\nTrue",
         "failure_message": "95 > 5",
         "hidden": false,
         "locked": false,
         "points": 1
        },
        {
         "code": ">>> out1_q2['child_75'] > out1_q2['child_25']\nTrue",
         "failure_message": "75 > 25",
         "hidden": false,
         "locked": false,
         "points": 1
        },
        {
         "code": ">>> np.isclose(out1_q2['child_50'], 0, atol=0.02)\nTrue",
         "failure_message": "pvalue of child_50",
         "hidden": false,
         "locked": false,
         "points": 1
        },
        {
         "code": ">>> np.isclose(out1_q2['child_25'], 0.06, atol=0.2)\nTrue",
         "failure_message": "pvalue of child_25",
         "hidden": false,
         "locked": false,
         "points": 1
        },
        {
         "code": ">>> np.isclose(out1_q2['child_95'], 0.8, atol=0.2)\nTrue",
         "failure_message": "pvalue of child_95",
         "hidden": false,
         "locked": false,
         "points": 1
        },
        {
         "code": ">>> isinstance(out2_q2, list)\nTrue",
         "failure_message": "multiple choice (everyone receives credit for Option 1)",
         "hidden": false,
         "locked": false,
         "points": 1
        },
        {
         "code": ">>> 2 in out2_q2\nTrue",
         "failure_message": "multiple choice",
         "hidden": false,
         "locked": false,
         "points": 1
        },
        {
         "code": ">>> 3 not in out2_q2\nTrue",
         "failure_message": "multiple choice",
         "hidden": false,
         "locked": false,
         "points": 1
        },
        {
         "code": ">>> 4 not in out2_q2\nTrue",
         "failure_message": "multiple choice",
         "hidden": false,
         "locked": false,
         "points": 1
        },
        {
         "code": ">>> 5 in out2_q2\nTrue",
         "failure_message": "multiple choice",
         "hidden": false,
         "locked": false,
         "points": 1
        }
       ],
       "scored": true,
       "setup": "",
       "teardown": "",
       "type": "doctest"
      }
     ]
    },
    "q3": {
     "name": "q3",
     "points": null,
     "suites": [
      {
       "cases": [
        {
         "code": ">>> out_q3.isna().sum() == 0\nTrue",
         "hidden": false,
         "locked": false,
         "points": 1
        },
        {
         "code": ">>> (new_heights['child'].std() - out_q3.std()) > 0.5\nTrue",
         "hidden": false,
         "locked": false,
         "points": 1
        },
        {
         "code": ">>> np.isclose(out_q3.mean(), inp_q3['child'].mean(),atol=0.2)\nTrue",
         "failure_message": "means are close",
         "hidden": false,
         "locked": false,
         "points": 1
        },
        {
         "code": ">>> np.all(np.isclose(m_q3, 0, atol=2))\nTrue",
         "failure_message": "group-wise means are close: very approx",
         "hidden": false,
         "locked": false,
         "points": 1
        },
        {
         "code": ">>> np.isclose(m_q3.median(), 0.314, atol=0.1)\nTrue",
         "failure_message": "group-wise means are close: approx",
         "hidden": false,
         "locked": false,
         "points": 1
        },
        {
         "code": ">>> np.isclose(m_q3.median(), 0.31439, atol=0.01)\nTrue",
         "failure_message": "group-wise means are close",
         "hidden": false,
         "locked": false,
         "points": 1
        }
       ],
       "scored": true,
       "setup": "",
       "teardown": "",
       "type": "doctest"
      }
     ]
    },
    "q4": {
     "name": "q4",
     "points": null,
     "suites": [
      {
       "cases": [
        {
         "code": ">>> quantitative_distribution_out_q4.min() >= 56\nTrue",
         "hidden": false,
         "locked": false,
         "points": 0.5
        },
        {
         "code": ">>> quantitative_distribution_out_q4.max() <= 79\nTrue",
         "hidden": false,
         "locked": false,
         "points": 0.5
        },
        {
         "code": ">>> np.isclose(quantitative_distribution_out_q4.mean(), child.mean(), atol=1)\nTrue",
         "hidden": false,
         "locked": false,
         "points": 0.5
        },
        {
         "code": ">>> np.isclose(quantitative_distribution_out_q4.std(), 3.5, atol=0.65)\nTrue",
         "hidden": false,
         "locked": false,
         "points": 0.5
        },
        {
         "code": ">>> impute_height_quant_out_q4.isna().sum() == 0\nTrue",
         "hidden": false,
         "locked": false,
         "points": 0.5
        },
        {
         "code": ">>> np.isclose(impute_height_quant_out_q4.mean(), child.mean(), atol=0.5)\nTrue",
         "hidden": false,
         "locked": false,
         "points": 0.5
        },
        {
         "code": ">>> np.isclose(impute_height_quant_out_q4.mean(), child.mean(), atol=0.2)\nTrue",
         "hidden": false,
         "locked": false,
         "points": 0.5
        },
        {
         "code": ">>> np.isclose(impute_height_quant_out_q4.std(), child.std(), atol=0.15)\nTrue",
         "hidden": false,
         "locked": false,
         "points": 0.5
        },
        {
         "code": ">>> (set(quantitative_distribution_out_q4) - set(child.dropna())) != {}\nTrue",
         "failure_message": "new values",
         "hidden": false,
         "locked": false,
         "points": 1
        },
        {
         "code": ">>> (set(impute_height_quant_out_q4) - set(child.dropna())) != {}\nTrue",
         "failure_message": "new values",
         "hidden": false,
         "locked": false,
         "points": 1
        }
       ],
       "scored": true,
       "setup": "",
       "teardown": "",
       "type": "doctest"
      }
     ]
    },
    "q5": {
     "name": "q5",
     "points": null,
     "suites": [
      {
       "cases": [
        {
         "code": ">>> len(mc_answers) == 4\nTrue",
         "hidden": false,
         "locked": false,
         "points": 1
        },
        {
         "code": ">>> len(websites) == 6\nTrue",
         "hidden": false,
         "locked": false,
         "points": 1
        },
        {
         "code": ">>> ans_q5[0] == 1\nTrue",
         "failure_message": "multiple choice: 1",
         "hidden": false,
         "locked": false,
         "points": 1
        },
        {
         "code": ">>> ans_q5[1] == 2\nTrue",
         "failure_message": "multiple choice: 2",
         "hidden": false,
         "locked": false,
         "points": 1
        },
        {
         "code": ">>> ans_q5[2] == 2\nTrue",
         "failure_message": "multiple choice: 3",
         "hidden": false,
         "locked": false,
         "points": 1
        },
        {
         "code": ">>> ans_q5[3] == 1\nTrue",
         "failure_message": "multiple choice: 4",
         "hidden": false,
         "locked": false,
         "points": 1
        },
        {
         "code": ">>> True in canfetch_q5\nTrue",
         "failure_message": "at least one that can scrape",
         "hidden": false,
         "locked": false,
         "points": 2
        },
        {
         "code": ">>> False in canfetch_q5\nTrue",
         "failure_message": "at least one that can not scrape",
         "hidden": false,
         "locked": false,
         "points": 2
        }
       ],
       "scored": true,
       "setup": "",
       "teardown": "",
       "type": "doctest"
      }
     ]
    }
   }
  }
 },
 "nbformat": 4,
 "nbformat_minor": 5
}
