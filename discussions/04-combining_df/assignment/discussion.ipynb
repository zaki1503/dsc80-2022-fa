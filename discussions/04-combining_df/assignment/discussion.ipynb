{
 "cells": [
  {
   "cell_type": "code",
   "execution_count": null,
   "metadata": {
    "deletable": false,
    "editable": false
   },
   "outputs": [],
   "source": [
    "# Initialize Otter\n",
    "import otter\n",
    "grader = otter.Notebook(\"discussion.ipynb\")"
   ]
  },
  {
   "cell_type": "markdown",
   "metadata": {},
   "source": [
    "# DSC 80 - Discussion 04\n",
    "\n",
    "### Due Date: Saturday October 22, 11:59 PM\n",
    "\n",
    "**Discussions will be due by the end of the day on Saturday**"
   ]
  },
  {
   "cell_type": "markdown",
   "metadata": {
    "collapsed": true
   },
   "source": [
    "# Combining DataFrames, Permutation Testing & Data Visualization\n"
   ]
  },
  {
   "cell_type": "code",
   "execution_count": 1,
   "metadata": {},
   "outputs": [],
   "source": [
    "# import libraries\n",
    "import pandas as pd\n",
    "import numpy as np\n",
    "import os\n",
    "from IPython.display import HTML"
   ]
  },
  {
   "cell_type": "code",
   "execution_count": 2,
   "metadata": {},
   "outputs": [],
   "source": [
    "# for formatting purposes\n",
    "def multi_table(table_list):\n",
    "    ''' Acceps a list of IpyTable objects and returns a table which contains each IpyTable in a cell\n",
    "    '''\n",
    "    return HTML(\n",
    "        '<table><tr style=\"background-color:white;\">' + \n",
    "        ''.join(['<td>' + table._repr_html_() + '</td>' for table in table_list]) +\n",
    "        '</tr></table>'\n",
    "    )"
   ]
  },
  {
   "cell_type": "code",
   "execution_count": 3,
   "metadata": {},
   "outputs": [],
   "source": [
    "from discussion import *"
   ]
  },
  {
   "cell_type": "markdown",
   "metadata": {},
   "source": [
    "# 1. Review: Combining DataFrames \n",
    "\n",
    "#### `merge()`\n",
    "\n",
    "* Used to combine two (or more) dataframes on the basis of **values of common columns** (indices can also be used, use `left_index=True` and/or `right_index=True`).\n",
    "    * If we are joining columns on columns, the DataFrame indexes will be ignored. \n",
    "    * If we are joining indexes on indexes or indexes on a column or columns, the index will be passed on."
   ]
  },
  {
   "cell_type": "markdown",
   "metadata": {},
   "source": [
    "* **`on`**: column or index level names to join on. \n",
    "    * These must be found in both DataFrames. \n",
    "    * If `on` is `None` and not merging on indexes then this defaults to the intersection of the columns in both DataFrames."
   ]
  },
  {
   "cell_type": "markdown",
   "metadata": {},
   "source": [
    "* **`how`**: specifies how to determine which keys are to be included in the resulting table. \n",
    "    * If a key (column name) combination does not appear in either the left or the right tables, the values in the joined table will be `np.NaN`.\n",
    "    * Defaults to `inner`, joining will be performed on index. "
   ]
  },
  {
   "cell_type": "markdown",
   "metadata": {},
   "source": [
    "#### `concat()`\n",
    "\n",
    "* Used to append one (or more) dataframes one below the other (or sideways, depending on whether the axis option is set to 0 or 1).\n",
    "    * Useful if we have two or more data sets containing the same columns but different rows of data.\n",
    "    * We can also the columns from one `Dataframe` to those of another `Dataframe`."
   ]
  },
  {
   "cell_type": "markdown",
   "metadata": {},
   "source": [
    "#### `join()`\n",
    "\n",
    "* Used to merge two dataframes on the basis of the index; instead of using `merge()` with the option `left_index=True` we can use `join()`.\n",
    "    * Join operation honors the object on which it is called: `a.join(b)` $ \\neq $ `b.join(a)`."
   ]
  },
  {
   "cell_type": "markdown",
   "metadata": {},
   "source": [
    "<img src=\"imgs/join_types.jpg\">"
   ]
  },
  {
   "cell_type": "markdown",
   "metadata": {},
   "source": [
    "1. **Inner Join** – default behavior, only keep rows where the merge “on” value exists in both the left and right dataframes.\n",
    "2. **Left Outer** – keep every row in the left dataframe.\n",
    "    * Where there are missing values of the “on” variable in the right dataframe, add `np.NaN` values in the result.\n",
    "3. **Right Join** – keep every row in the right dataframe. \n",
    "    * Where there are missing values of the “on” variable in the left column, add `np.NaN` values in the result.\n",
    "4. **Outer Join** – returns all the rows from the left dataframe, all the rows from the right dataframe, and matches up rows where possible, with `NaNs` elsewhere.\n",
    "\n",
    "We'll start with a simple example:"
   ]
  },
  {
   "cell_type": "code",
   "execution_count": 5,
   "metadata": {},
   "outputs": [],
   "source": [
    "left = pd.DataFrame({'key': ['foo', 'bar'], 'val': [1, 2]}).set_index('key')\n",
    "right = pd.DataFrame({'key': ['foo', 'bar'], 'val': [4, 5]}).set_index('key')\n",
    "\n",
    "joined = left.join(right, lsuffix='_l', rsuffix='_r')\n",
    "\n",
    "multi_table([left, right, joined])"
   ]
  },
  {
   "cell_type": "markdown",
   "metadata": {},
   "source": [
    "Now let's try something a bit more complex:"
   ]
  },
  {
   "cell_type": "code",
   "execution_count": 6,
   "metadata": {},
   "outputs": [],
   "source": [
    "df1_data = {\n",
    "    'Year' : [2014, 2014, 2014, 2014, 2014],\n",
    "    'Week' : ['A', 'B', 'B', 'C', 'D'],\n",
    "    'Color' : ['Red', 'Red', 'Black', 'Red', 'Green'],\n",
    "    'Val' : [50, 60, 70, 10, 20]\n",
    "}\n",
    "\n",
    "df1 = pd.DataFrame(df1_data).set_index('Week')\n",
    "\n",
    "df2_data = {\n",
    "    'Year' : [2014, 2014, 2014, 2014, 2014],\n",
    "    'Week' : ['A', 'B', 'C', 'C', 'D'],\n",
    "    'Color' : ['Black', 'Black', 'Green', 'Red', 'Red'],\n",
    "    'Score' : [30, 100, 50, 20, 40]\n",
    "}\n",
    "\n",
    "df2 = pd.DataFrame(df2_data).set_index('Week')\n",
    "\n",
    "multi_table([df1, df2])"
   ]
  },
  {
   "cell_type": "code",
   "execution_count": 7,
   "metadata": {},
   "outputs": [],
   "source": [
    "# how many rows, how many columns?\n",
    "df1.join(df2, lsuffix='_l', rsuffix = '_r')"
   ]
  },
  {
   "cell_type": "code",
   "execution_count": 8,
   "metadata": {},
   "outputs": [],
   "source": [
    "# will this be any different?\n",
    "df2.join(df1, lsuffix='_l', rsuffix = '_r')"
   ]
  },
  {
   "cell_type": "markdown",
   "metadata": {},
   "source": [
    "# 2. Review: Permutation Testing"
   ]
  },
  {
   "cell_type": "markdown",
   "metadata": {
    "slideshow": {
     "slide_type": "slide"
    }
   },
   "source": [
    "### Hypothesis testing\n",
    "\n",
    "- In \"vanilla\" hypothesis testing, we are given a **single** observed sample, and are asked to make an assumption as to how it came to be.\n",
    "    - This assumption is the **null hypothesis**.\n",
    "    - This assumption must be a **probability model**, since we use it to generate new data.\n",
    "- We simulate data under the null hypothesis to answer the question, **if this assumption is true, how likely is the given observation?**"
   ]
  },
  {
   "cell_type": "markdown",
   "metadata": {
    "slideshow": {
     "slide_type": "slide"
    }
   },
   "source": [
    "### Permutation testing\n",
    "\n",
    "* **Given two observed samples, are they fundamentally different, or could they have been generated by the same process?**\n",
    "* In a permutation test, we decide whether two **fixed** random samples come from the same distribution.\n",
    "- Unlike in the previous hypothesis testing examples, when conducting a permutation test, you do not know **what distribution** generated your two samples!\n"
   ]
  },
  {
   "cell_type": "markdown",
   "metadata": {
    "slideshow": {
     "slide_type": "slide"
    }
   },
   "source": [
    "## Revisit: Birth weight example 👶"
   ]
  },
  {
   "cell_type": "markdown",
   "metadata": {
    "slideshow": {
     "slide_type": "slide"
    }
   },
   "source": [
    "### Birth weight and Maternal Age\n",
    "\n",
    "- Is there a significant difference in the weights of babies born to mothers who belong to certain weight categories?\n",
    "- We have 3 groups:\n",
    "    - Babies whose mothers belonged to age group 15-25\n",
    "    - Babies whose mothers belonged to age group 25-35\n",
    "    - Babies whose mothers belonged to age group 35-45\n",
    "- In each group, the relevant attribute is the birth weight of the baby. "
   ]
  },
  {
   "cell_type": "code",
   "execution_count": 9,
   "metadata": {
    "slideshow": {
     "slide_type": "-"
    }
   },
   "outputs": [],
   "source": [
    "# Kaiser dataset, 70s \n",
    "import os\n",
    "baby_fp = os.path.join('data', 'baby1.csv')\n",
    "baby = pd.read_csv(baby_fp)\n",
    "baby.head()\n",
    "# baby['Maternal Age'].max()"
   ]
  },
  {
   "cell_type": "code",
   "execution_count": 10,
   "metadata": {
    "slideshow": {
     "slide_type": "-"
    }
   },
   "outputs": [],
   "source": [
    "mother_age_and_birthweight = baby[['Maternal Age', 'Birth Weight']]\n",
    "mother_age_and_birthweight.head()"
   ]
  },
  {
   "cell_type": "markdown",
   "metadata": {
    "slideshow": {
     "slide_type": "slide"
    }
   },
   "source": [
    "### Exploratory data analysis\n",
    "\n",
    "How many babies are in each group?"
   ]
  },
  {
   "cell_type": "code",
   "execution_count": 11,
   "metadata": {},
   "outputs": [],
   "source": [
    "# Data binning\n",
    "bins = [15,25,35,45]\n",
    "group_names = ['15-25','25-35','35-45']\n",
    "mother_age_and_birthweight['Age Bracket'] = pd.cut(mother_age_and_birthweight['Maternal Age'],bins,labels=group_names)\n",
    "mother_age_and_birthweight.head()"
   ]
  },
  {
   "cell_type": "markdown",
   "metadata": {},
   "source": [
    "What is the average birth weight within each group?"
   ]
  },
  {
   "cell_type": "code",
   "execution_count": 12,
   "metadata": {
    "scrolled": true
   },
   "outputs": [],
   "source": [
    "mother_age_and_birthweight.groupby('Age Bracket')[['Birth Weight']].mean()"
   ]
  },
  {
   "cell_type": "markdown",
   "metadata": {},
   "source": [
    "Note that 16 ounces are in 1 pound, so the above weights are ~7-8 pounds."
   ]
  },
  {
   "cell_type": "markdown",
   "metadata": {
    "slideshow": {
     "slide_type": "slide"
    }
   },
   "source": [
    "### Visualizing birth weight distributions\n",
    "\n",
    "- Below, we draw the distribution of birth weights, separated by mother's Age group.\n",
    "- The histograms appear to be different, but is the difference possible **due to random chance** or is there a significant difference in the two distributions?"
   ]
  },
  {
   "cell_type": "code",
   "execution_count": 13,
   "metadata": {},
   "outputs": [],
   "source": [
    "title = \"Birth Weight by Mother's Age Group\"\n",
    "\n",
    "(\n",
    "    mother_age_and_birthweight\n",
    "    .groupby('Age Bracket')['Birth Weight']\n",
    "    .plot(kind='hist', density=True, legend=True,\n",
    "          ec='w', bins=np.arange(50, 200, 5), alpha=0.75,\n",
    "          title=title)\n",
    ");    "
   ]
  },
  {
   "cell_type": "code",
   "execution_count": 14,
   "metadata": {},
   "outputs": [],
   "source": [
    "(\n",
    "    mother_age_and_birthweight\n",
    "    .groupby('Age Bracket')['Birth Weight']\n",
    "    .plot(kind='kde', legend=True,\n",
    "          title=title)\n",
    ");    "
   ]
  },
  {
   "cell_type": "code",
   "execution_count": 15,
   "metadata": {},
   "outputs": [],
   "source": [
    "from matplotlib import pyplot as plt\n",
    "shuffled_weights = (\n",
    "    mother_age_and_birthweight['Birth Weight']\n",
    "    .sample(frac=1)\n",
    "    .reset_index(drop=True) # Question: What will happen if we do not reset the index?\n",
    ")\n",
    "\n",
    "original_and_shuffled = (\n",
    "    mother_age_and_birthweight\n",
    "    .assign(**{'Shuffled Birth Weight': shuffled_weights})\n",
    ")\n",
    "\n",
    "\n",
    "original_and_shuffled.head(10)\n",
    "fig, axes = plt.subplots(1, 2, figsize=(15, 5))\n",
    "\n",
    "title = 'Birth Weights by Maternal Age Group, SHUFFLED'\n",
    "original_and_shuffled.groupby('Age Bracket')['Shuffled Birth Weight'].plot(kind='kde', title=title, ax=axes[0])\n",
    "\n",
    "title = 'Birth Weights by Maternal Age Group'\n",
    "original_and_shuffled.groupby('Age Bracket')['Birth Weight'].plot(kind='kde', title=title, ax=axes[1]);"
   ]
  },
  {
   "cell_type": "code",
   "execution_count": 16,
   "metadata": {},
   "outputs": [],
   "source": [
    "observed_difference = (\n",
    "    mother_age_and_birthweight\n",
    "    .groupby('Age Bracket')['Birth Weight']\n",
    "    .mean()\n",
    "    .diff()\n",
    "    .iloc[-1]\n",
    ")\n",
    "\n",
    "observed_difference"
   ]
  },
  {
   "cell_type": "markdown",
   "metadata": {},
   "source": [
    "# 3. Plotting in `pandas`"
   ]
  },
  {
   "cell_type": "markdown",
   "metadata": {},
   "source": [
    "## is as easy as `.plot()`\n",
    "\n",
    "* `Series.plot()` plots a column."
   ]
  },
  {
   "cell_type": "code",
   "execution_count": 17,
   "metadata": {},
   "outputs": [],
   "source": [
    "data = pd.read_csv('data/data1.csv')"
   ]
  },
  {
   "cell_type": "code",
   "execution_count": 18,
   "metadata": {},
   "outputs": [],
   "source": [
    "data.head()"
   ]
  },
  {
   "cell_type": "code",
   "execution_count": 19,
   "metadata": {},
   "outputs": [],
   "source": [
    "# select a column from data\n",
    "z0 = data['z0']\n",
    "z0.head()"
   ]
  },
  {
   "cell_type": "markdown",
   "metadata": {},
   "source": [
    "* Use a line plot to plot numeric data.\n",
    "* `data.plot()` plots a line plot by default.\n",
    "    - The x-axis is the index by default\n",
    "    - Can be called out using the key-word argument `x`."
   ]
  },
  {
   "cell_type": "code",
   "execution_count": 20,
   "metadata": {},
   "outputs": [],
   "source": [
    "# index is [0...1000]\n",
    "z0.plot()"
   ]
  },
  {
   "cell_type": "code",
   "execution_count": 21,
   "metadata": {},
   "outputs": [],
   "source": [
    "# set index to plot correct x-axis\n",
    "z0 = data.set_index('x').loc[:, 'z0']\n",
    "z0.head()"
   ]
  },
  {
   "cell_type": "code",
   "execution_count": 22,
   "metadata": {},
   "outputs": [],
   "source": [
    "z0.plot()"
   ]
  },
  {
   "cell_type": "code",
   "execution_count": 23,
   "metadata": {},
   "outputs": [],
   "source": [
    "# set x-axis using a keyword argument\n",
    "data.plot(x='x', y='z0')"
   ]
  },
  {
   "cell_type": "markdown",
   "metadata": {},
   "source": [
    "### Plotting (quantitative) empirical distributions in Pandas\n",
    "\n",
    "* Use the key-word argument `kind`\n",
    "```\n",
    "kind : str\n",
    "    - 'hist' : histogram\n",
    "    - 'box' : boxplot\n",
    "    - 'kde' : Kernel Density Estimation plot\n",
    "    ...\n",
    "```\n",
    "* The `hist` keyword by default uses 10 bins, and returns the *count* of observations within those bins.\n",
    "    - use `density=True` to return a histogram whose area is normalized to 1."
   ]
  },
  {
   "cell_type": "code",
   "execution_count": 24,
   "metadata": {},
   "outputs": [],
   "source": [
    "# histogram of z0 values; \n",
    "# 25 bins.\n",
    "# density = normalized histogram\n",
    "\n",
    "z0.plot(kind='hist', bins=25, density=True, ec='w')"
   ]
  },
  {
   "cell_type": "code",
   "execution_count": 25,
   "metadata": {},
   "outputs": [],
   "source": [
    "# kernel density estimate of the distribution\n",
    "# smooth approximation of the empirical distribution\n",
    "\n",
    "z0.plot(kind='kde')"
   ]
  },
  {
   "cell_type": "code",
   "execution_count": 26,
   "metadata": {},
   "outputs": [],
   "source": [
    "z0.plot(kind='box')"
   ]
  },
  {
   "cell_type": "markdown",
   "metadata": {},
   "source": [
    "---\n",
    "\n",
    "## Practice Problems"
   ]
  },
  {
   "cell_type": "markdown",
   "metadata": {},
   "source": [
    "**Question 1**\n",
    "\n",
    "Like in Discussion-03, You are given two seperate dataframes: `mlb_2017` and `mlb_2018`. Both dataframes contain statistics for the 2017 and 2018 baseball seasons respectively. Your job is two combine these two dataframes into one using the following guidelines:\n",
    "\n",
    "* The dataframe you return should be indexed by team name (`Tm`).\n",
    "* The dataframe you return should include columns `#Bat`, `BatAge`, `R/G`, `G` from `mlb_2017` and `mlb_2018`.\n",
    "* Use the suffixes `_prev` and `_curr` to differentiate between statistics from both seasons.\n",
    "* The dataframe you return should have all rows from `mlb_2018` irrespective of the team name `Tm`.\n",
    "\n",
    "Create a function `specific_combined_seasons` that returns, as a tuple, the following:\n",
    "\n",
    "* The combined dataframe described above.\n",
    "* The highest average `R/G` of the 2017 and 2018 seasons combined."
   ]
  },
  {
   "cell_type": "code",
   "execution_count": 28,
   "metadata": {},
   "outputs": [],
   "source": [
    "# read in the following .txt files\n",
    "mlb_2017 = pd.read_csv(os.path.join('data','mlb_2017.txt'))\n",
    "mlb_2018 = pd.read_csv(os.path.join('data','mlb_2018.txt'))\n",
    "\n",
    "multi_table([mlb_2017.head(), mlb_2018.head()])"
   ]
  },
  {
   "cell_type": "code",
   "execution_count": 29,
   "metadata": {},
   "outputs": [],
   "source": [
    "# don't change this cell -- it is needed for the tests to work\n",
    "mlb_2017 = pd.read_csv(os.path.join('data','mlb_2017.txt'))\n",
    "mlb_2018 = pd.read_csv(os.path.join('data','mlb_2018.txt'))\n",
    "q1_out = specific_combined_seasons(mlb_2017, mlb_2018)"
   ]
  },
  {
   "cell_type": "code",
   "execution_count": null,
   "metadata": {
    "deletable": false,
    "editable": false
   },
   "outputs": [],
   "source": [
    "grader.check(\"q1\")"
   ]
  },
  {
   "cell_type": "markdown",
   "metadata": {},
   "source": [
    "**Question 2**\n",
    "\n",
    "Plot the counts of meals in `tips` by day. Your plotting function, `plot_meal_by_day` should return an `matplotlib.axes._subplots.AxesSubplot` object; your plot should look like the plot below. \n",
    "\n",
    "Note: You don't need to have exact same colors, but the plot orientation, axis order, and title should match.\n",
    "\n",
    "<img src=\"imgs/barh1.png\" width=\"50%\"/>"
   ]
  },
  {
   "cell_type": "code",
   "execution_count": 35,
   "metadata": {},
   "outputs": [],
   "source": [
    "# don't change this cell -- it is needed for the tests to work\n",
    "tips = sns.load_dataset('tips')\n",
    "q1_fig = plot_meal_by_day(tips)"
   ]
  },
  {
   "cell_type": "code",
   "execution_count": null,
   "metadata": {
    "deletable": false,
    "editable": false
   },
   "outputs": [],
   "source": [
    "grader.check(\"q2\")"
   ]
  },
  {
   "cell_type": "markdown",
   "metadata": {},
   "source": [
    "## Congratulations! You're done!\n",
    "\n",
    "* Submit your `.py` file to Gradescope. Note that you only need to submit the `.py` file; this notebook should not be uploaded. Make sure that all of your work is in the `.py` file and not here by running the doctests: `python -m doctest discussion.py`."
   ]
  },
  {
   "cell_type": "code",
   "execution_count": null,
   "metadata": {},
   "outputs": [],
   "source": []
  },
  {
   "cell_type": "markdown",
   "metadata": {
    "deletable": false,
    "editable": false
   },
   "source": [
    "---\n",
    "\n",
    "To double-check your work, the cell below will rerun all of the autograder tests."
   ]
  },
  {
   "cell_type": "code",
   "execution_count": null,
   "metadata": {
    "deletable": false,
    "editable": false
   },
   "outputs": [],
   "source": [
    "grader.check_all()"
   ]
  }
 ],
 "metadata": {
  "kernelspec": {
   "display_name": "Python 3 (ipykernel)",
   "language": "python",
   "name": "python3"
  },
  "language_info": {
   "codemirror_mode": {
    "name": "ipython",
    "version": 3
   },
   "file_extension": ".py",
   "mimetype": "text/x-python",
   "name": "python",
   "nbconvert_exporter": "python",
   "pygments_lexer": "ipython3",
   "version": "3.9.6"
  },
  "otter": {
   "tests": {
    "q1": {
     "name": "q1",
     "points": null,
     "suites": [
      {
       "cases": [
        {
         "code": ">>> q1_out[0].shape == (30, 8)\nTrue",
         "failure_message": "doctest: shape",
         "hidden": false,
         "locked": false,
         "points": 2
        },
        {
         "code": ">>> q1_out[0].isna().sum().sum() == 16\nTrue",
         "failure_message": "doctest: NaN count",
         "hidden": false,
         "locked": false,
         "points": 1
        },
        {
         "code": ">>> all([(('_prev' in x) or ('_curr' in x)) for x in q1_out[0]])\nTrue",
         "failure_message": "doctest: columns",
         "hidden": false,
         "locked": false,
         "points": 2
        },
        {
         "code": ">>> q1_out[1] == 5.13\nTrue",
         "failure_message": "doctest: max average R/G incorrect",
         "hidden": false,
         "locked": false,
         "points": 1
        }
       ],
       "scored": true,
       "setup": "",
       "teardown": "",
       "type": "doctest"
      }
     ]
    },
    "q2": {
     "name": "q2",
     "points": null,
     "suites": [
      {
       "cases": [
        {
         "code": ">>> isinstance(q1_fig, matplotlib.figure.Figure)\nTrue",
         "failure_message": "doctest",
         "hidden": false,
         "locked": false,
         "points": 2
        },
        {
         "code": ">>> q1_fig.get_axes()[0].get_title()\n'Counts of meals by day'",
         "failure_message": "need correct title",
         "hidden": false,
         "locked": false,
         "points": 1
        },
        {
         "code": ">>> [str(x.get_text()) for x in q1_fig.get_axes()[0].get_yticklabels()]\n['Thur', 'Fri', 'Sat', 'Sun']",
         "failure_message": "y-axis sorted and labeled correctly?",
         "hidden": false,
         "locked": false,
         "points": 2
        }
       ],
       "scored": true,
       "setup": "",
       "teardown": "",
       "type": "doctest"
      }
     ]
    }
   }
  }
 },
 "nbformat": 4,
 "nbformat_minor": 2
}
