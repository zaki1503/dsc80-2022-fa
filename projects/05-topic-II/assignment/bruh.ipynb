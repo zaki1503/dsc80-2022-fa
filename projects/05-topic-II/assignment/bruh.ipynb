{
 "cells": [
  {
   "cell_type": "code",
   "execution_count": 3,
   "metadata": {},
   "outputs": [],
   "source": [
    "import dsc40graph\n",
    "from operator import itemgetter\n",
    "\"\"\"A simple implementation of a Disjoint Set Forest in Python.\"\"\"\n",
    "\n",
    "\n",
    "class DisjointSetForest:\n",
    "\n",
    "    def __init__(self, elements):\n",
    "        self._core = _DisjointSetForestCore()\n",
    "\n",
    "        self.element_to_id = {}\n",
    "        self.id_to_element = {}\n",
    "\n",
    "        for element in elements:\n",
    "            eid = self._core.make_set()\n",
    "            self.element_to_id[element] = eid\n",
    "            self.id_to_element[eid] = element\n",
    "\n",
    "    def find_set(self, element):\n",
    "        \"\"\"Finds the \"representative\" of the set containing the element.\n",
    "        Initially, each element is in its own set, and so it's representative is itself.\n",
    "        Two elements which are in the same set are guaranteed to have the same\n",
    "        representative.\n",
    "        Example\n",
    "        -------\n",
    "        >>> dsf = DisjointSetForest(['a', 'b', 'c'])\n",
    "        >>> dsf.find_set('a')\n",
    "        'a'\n",
    "        \"\"\"\n",
    "        return self.id_to_element[\n",
    "                self._core.find_set(\n",
    "                    self.element_to_id[element]\n",
    "                )\n",
    "            ]\n",
    "\n",
    "    def union(self, x, y):\n",
    "        \"\"\"Unions the set containing `x` with the set containing `y`.\n",
    "        Example\n",
    "        -------\n",
    "        >>> dsf = DisjointSetForest(['a', 'b', 'c'])\n",
    "        >>> dsf.in_same_set('a', 'b')\n",
    "        False\n",
    "        >>> dsf.union('a', 'b')\n",
    "        >>> dsf.in_same_set('a', 'b')\n",
    "        True\n",
    "        \"\"\"\n",
    "        x_id = self.element_to_id[x]\n",
    "        y_id = self.element_to_id[y]\n",
    "        self._core.union(x_id, y_id)\n",
    "\n",
    "\n",
    "    def in_same_set(self, x, y):\n",
    "        \"\"\"Determines if elements x and y are in the same set.\n",
    "        Example\n",
    "        -------\n",
    "        >>> dsf = DisjointSetForest(['a', 'b', 'c'])\n",
    "        >>> dsf.in_same_set('a', 'b')\n",
    "        False\n",
    "        >>> dsf.union('a', 'b')\n",
    "        >>> dsf.in_same_set('a', 'b')\n",
    "        True\n",
    "        \"\"\"\n",
    "        return self.find_set(x) == self.find_set(y)\n",
    "\n",
    "\n",
    "class _DisjointSetForestCore:\n",
    "\n",
    "    def __init__(self):\n",
    "        self._parent = []\n",
    "        self._rank = []\n",
    "        self._size_of_set = []\n",
    "\n",
    "    def make_set(self):\n",
    "        # get the new element's \"id\"\n",
    "        x = len(self._parent)\n",
    "        self._parent.append(None)\n",
    "        self._rank.append(0)\n",
    "        self._size_of_set.append(1)\n",
    "        return x\n",
    "\n",
    "    def find_set(self, x):\n",
    "        try:\n",
    "            parent = self._parent[x]\n",
    "        except IndexError:\n",
    "            raise ValueError(f'{x} is not in the collection.')\n",
    "\n",
    "        if self._parent[x] is None:\n",
    "            return x\n",
    "        else:\n",
    "            root = self.find_set(self._parent[x])\n",
    "            self._parent[x] = root\n",
    "            return root\n",
    "\n",
    "    def union(self, x, y):\n",
    "        x_rep = self.find_set(x)\n",
    "        y_rep = self.find_set(y)\n",
    "\n",
    "        if x_rep == y_rep:\n",
    "            return\n",
    "\n",
    "        if self._rank[x_rep] > self._rank[y_rep]:\n",
    "            self._parent[y_rep] = x_rep\n",
    "            self._size_of_set[x_rep] += self._size_of_set[y_rep]\n",
    "        else:\n",
    "            self._parent[x_rep] = y_rep\n",
    "            self._size_of_set[y_rep] += self._size_of_set[x_rep]\n",
    "            if self._rank[x_rep] == self._rank[y_rep]:\n",
    "                self._rank[y_rep] += 1\n",
    "\n",
    "def d(edge):\n",
    "    u, v = sorted(edge)\n",
    "    return {\n",
    "    ('a', 'b'): 1,\n",
    "    ('a', 'c'): 4,\n",
    "    ('b', 'd'): 3,\n",
    "    ('c', 'd'): 2,\n",
    "    }[(u, v)]\n",
    "\n",
    "\n",
    "def slc(graph, d, k):\n",
    "    pass"
   ]
  },
  {
   "cell_type": "code",
   "execution_count": 4,
   "metadata": {},
   "outputs": [
    {
     "data": {
      "text/plain": [
       "<UndirectedGraph with 4 nodes and 4 edges>"
      ]
     },
     "execution_count": 4,
     "metadata": {},
     "output_type": "execute_result"
    }
   ],
   "source": [
    "g = dsc40graph.UndirectedGraph()\n",
    "edges = [('a', 'b'), ('a', 'c'), ('c', 'd'), ('b', 'd')]\n",
    "for edge in edges: g.add_edge(*edge)\n",
    "\n",
    "g"
   ]
  },
  {
   "cell_type": "code",
   "execution_count": 4,
   "metadata": {},
   "outputs": [
    {
     "data": {
      "text/plain": [
       "<__main__.DisjointSetForest at 0x22c58001f40>"
      ]
     },
     "execution_count": 4,
     "metadata": {},
     "output_type": "execute_result"
    }
   ],
   "source": [
    "dsf = DisjointSetForest(edges)"
   ]
  },
  {
   "cell_type": "code",
   "execution_count": 7,
   "metadata": {},
   "outputs": [
    {
     "name": "stdout",
     "output_type": "stream",
     "text": [
      "('a', 'b')\n",
      "('c', 'd')\n"
     ]
    },
    {
     "data": {
      "text/plain": [
       "frozenset({frozenset({'c', 'd'}), frozenset({'a', 'b'})})"
      ]
     },
     "execution_count": 7,
     "metadata": {},
     "output_type": "execute_result"
    }
   ],
   "source": [
    "from operator import itemgetter\n",
    "x={}\n",
    "\n",
    "for edge in edges:\n",
    "    x[edge] = d(edge)\n",
    "\n",
    "k = 2\n",
    "\n",
    "\n",
    "out = []\n",
    "init_clusters = sorted(x.items(), key = itemgetter(1))[:k]\n",
    "for tup in init_clusters:\n",
    "    cluster = tup[0]\n",
    "    print(cluster)\n",
    "    out.append(frozenset(cluster))\n",
    "\n",
    "frozenset()"
   ]
  },
  {
   "cell_type": "code",
   "execution_count": 19,
   "metadata": {},
   "outputs": [
    {
     "data": {
      "text/plain": [
       "frozenset({'a', 'b'})"
      ]
     },
     "execution_count": 19,
     "metadata": {},
     "output_type": "execute_result"
    }
   ],
   "source": [
    "frozenset(min(x))"
   ]
  },
  {
   "cell_type": "code",
   "execution_count": 18,
   "metadata": {},
   "outputs": [
    {
     "data": {
      "text/plain": [
       "frozenset({'a'})"
      ]
     },
     "execution_count": 18,
     "metadata": {},
     "output_type": "execute_result"
    }
   ],
   "source": [
    "frozenset(['a'])"
   ]
  },
  {
   "cell_type": "code",
   "execution_count": 1,
   "metadata": {},
   "outputs": [
    {
     "ename": "NameError",
     "evalue": "name 'x' is not defined",
     "output_type": "error",
     "traceback": [
      "\u001b[1;31m---------------------------------------------------------------------------\u001b[0m",
      "\u001b[1;31mNameError\u001b[0m                                 Traceback (most recent call last)",
      "\u001b[1;32mc:\\Users\\Zaki Ahmed\\dsc30_sp22\\dsc80-2022-fa\\projects\\05-topic-II\\assignment\\bruh.ipynb Cell 7\u001b[0m in \u001b[0;36m<module>\u001b[1;34m\u001b[0m\n\u001b[0;32m      <a href='vscode-notebook-cell:/c%3A/Users/Zaki%20Ahmed/dsc30_sp22/dsc80-2022-fa/projects/05-topic-II/assignment/bruh.ipynb#X10sZmlsZQ%3D%3D?line=1'>2</a>\u001b[0m k \u001b[39m=\u001b[39m \u001b[39m2\u001b[39m\n\u001b[0;32m      <a href='vscode-notebook-cell:/c%3A/Users/Zaki%20Ahmed/dsc30_sp22/dsc80-2022-fa/projects/05-topic-II/assignment/bruh.ipynb#X10sZmlsZQ%3D%3D?line=4'>5</a>\u001b[0m out \u001b[39m=\u001b[39m []\n\u001b[1;32m----> <a href='vscode-notebook-cell:/c%3A/Users/Zaki%20Ahmed/dsc30_sp22/dsc80-2022-fa/projects/05-topic-II/assignment/bruh.ipynb#X10sZmlsZQ%3D%3D?line=5'>6</a>\u001b[0m init_clusters \u001b[39m=\u001b[39m \u001b[39msorted\u001b[39m(x\u001b[39m.\u001b[39mitems(), key \u001b[39m=\u001b[39m itemgetter(\u001b[39m1\u001b[39m))[:k]\n\u001b[0;32m      <a href='vscode-notebook-cell:/c%3A/Users/Zaki%20Ahmed/dsc30_sp22/dsc80-2022-fa/projects/05-topic-II/assignment/bruh.ipynb#X10sZmlsZQ%3D%3D?line=6'>7</a>\u001b[0m \u001b[39mfor\u001b[39;00m tup \u001b[39min\u001b[39;00m init_clusters:\n\u001b[0;32m      <a href='vscode-notebook-cell:/c%3A/Users/Zaki%20Ahmed/dsc30_sp22/dsc80-2022-fa/projects/05-topic-II/assignment/bruh.ipynb#X10sZmlsZQ%3D%3D?line=7'>8</a>\u001b[0m     cluster \u001b[39m=\u001b[39m tup[\u001b[39m0\u001b[39m]\n",
      "\u001b[1;31mNameError\u001b[0m: name 'x' is not defined"
     ]
    }
   ],
   "source": [
    "from operator import itemgetter\n",
    "k = 2\n",
    "\n",
    "\n",
    "out = []\n",
    "init_clusters = sorted(x.items(), key = itemgetter(1))[:k]\n",
    "for tup in init_clusters:\n",
    "    cluster = tup[0]\n",
    "    out.append(frozenset(cluster))\n",
    "\n",
    "frozenset(out)\n",
    "\n",
    "\n",
    "    \n"
   ]
  },
  {
   "cell_type": "code",
   "execution_count": 1,
   "metadata": {},
   "outputs": [
    {
     "data": {
      "text/plain": [
       "6.5"
      ]
     },
     "execution_count": 1,
     "metadata": {},
     "output_type": "execute_result"
    }
   ],
   "source": [
    "import math\n",
    "data = [9,-5,8,7,5,6]\n",
    "colors = ['red', 'blue', 'red', 'red','blue','blue']\n",
    "\n",
    "pt_dict = dict(zip(data,colors))\n",
    "\n",
    "highest_blue = -math.inf\n",
    "lowest_red = math.inf\n",
    "for point in data:\n",
    "    if pt_dict[point] == 'red' and lowest_red> point:\n",
    "        lowest_red= point\n",
    "    elif pt_dict[point] == 'blue' and highest_blue < point:\n",
    "        highest_blue = point\n",
    "    else:\n",
    "        continue\n",
    "\n",
    "theta = (highest_blue+ lowest_red)/2\n",
    "theta\n",
    "\n"
   ]
  },
  {
   "cell_type": "code",
   "execution_count": 41,
   "metadata": {},
   "outputs": [
    {
     "data": {
      "text/plain": [
       "2.5"
      ]
     },
     "execution_count": 41,
     "metadata": {},
     "output_type": "execute_result"
    }
   ],
   "source": [
    "def learn_theta(data, colors):\n",
    "    pt_dict = dict(zip(data,colors))\n",
    "\n",
    "    highest_blue = -math.inf\n",
    "    lowest_red = math.inf\n",
    "    for point in data:\n",
    "        if pt_dict[point] == 'red' and lowest_red> point:\n",
    "            lowest_red= point\n",
    "        elif pt_dict[point] == 'blue' and highest_blue <= point:\n",
    "            highest_blue = point\n",
    "        else:\n",
    "            continue\n",
    "\n",
    "    theta = (highest_blue+lowest_red)/2\n",
    "    return theta\n",
    "\n",
    "data = [0,1,2,3,4,5]\n",
    "colors = ['blue', 'blue', 'blue', 'red', 'red', 'red']\n",
    "\n",
    "learn_theta(data, colors)"
   ]
  },
  {
   "cell_type": "code",
   "execution_count": 3,
   "metadata": {},
   "outputs": [],
   "source": [
    "def compute_ell(data, colors, theta):\n",
    "    pt_dict = dict(zip(data,colors))\n",
    "\n",
    "    blues = 0\n",
    "    reds = 0\n",
    "    for point in data:\n",
    "        if pt_dict[point] == 'red' and point<= theta:\n",
    "            reds+=1\n",
    "        elif pt_dict[point] == 'blue' and point > theta:\n",
    "            blues+=1\n",
    "        else:\n",
    "            continue\n",
    "\n",
    "    loss = blues + reds\n",
    "    return loss"
   ]
  },
  {
   "cell_type": "code",
   "execution_count": 47,
   "metadata": {},
   "outputs": [
    {
     "name": "stdout",
     "output_type": "stream",
     "text": [
      "['blue', 'blue', 'blue', 'red', 'red', 'red']\n",
      "[0, 0, 0, 2, 5, 400000000]\n"
     ]
    },
    {
     "data": {
      "text/plain": [
       "1.0"
      ]
     },
     "execution_count": 47,
     "metadata": {},
     "output_type": "execute_result"
    }
   ],
   "source": [
    "data = [2,5,400000000,0,0,0]\n",
    "pt_dict = dict(zip(data,colors))\n",
    "colors = ['red', 'red', 'red', 'blue','blue','blue']\n",
    "theta = -98\n",
    "print([pt_dict[i] for i in sorted(data)])\n",
    "print([i for i in sorted(data)])\n",
    "minimize_ell(data, colors)\n"
   ]
  },
  {
   "cell_type": "code",
   "execution_count": 39,
   "metadata": {},
   "outputs": [],
   "source": [
    "def minimize_ell(data, colors):\n",
    "    d = data\n",
    "    c = colors\n",
    "\n",
    "    top = max(d)\n",
    "    bottom = min(d)\n",
    "    k = (top-bottom)\n",
    "    theta = learn_theta(d,c)\n",
    "    lr = k/4\n",
    "    min_loss = compute_ell(d, c, theta)\n",
    "\n",
    "    while lr != 0.0:\n",
    "        if compute_ell(d,c,theta+lr) < min_loss:\n",
    "            theta = theta+lr\n",
    "            lr = lr/2\n",
    "        elif compute_ell(d,c,theta-lr) < min_loss:\n",
    "            theta = theta-lr\n",
    "            lr = lr/2\n",
    "        else:\n",
    "            lr = lr/2\n",
    "\n",
    "    return float(theta)\n",
    "\n",
    "    "
   ]
  },
  {
   "cell_type": "code",
   "execution_count": null,
   "metadata": {},
   "outputs": [
    {
     "data": {
      "text/plain": [
       "True"
      ]
     },
     "execution_count": 12,
     "metadata": {},
     "output_type": "execute_result"
    }
   ],
   "source": [
    "def minimize_ell_sorted(data, colors):\n",
    "    pt_dict= dict(zip(data,colors))\n",
    "    "
   ]
  },
  {
   "cell_type": "code",
   "execution_count": 71,
   "metadata": {},
   "outputs": [
    {
     "name": "stdout",
     "output_type": "stream",
     "text": [
      "3.0 0\n",
      "3.0 0\n",
      "2.0 0\n",
      "2.0 0\n",
      "2.0 0\n",
      "1.0 0\n"
     ]
    },
    {
     "data": {
      "text/plain": [
       "{0: 3.0, 1: 3.0, 2: 2.0, 3: 2.0, 4: 2.0, 5: 1.0}"
      ]
     },
     "execution_count": 71,
     "metadata": {},
     "output_type": "execute_result"
    }
   ],
   "source": [
    "data = [0,1,2,3,4,5]\n",
    "colors = ['blue', 'red', 'blue', 'red', 'red', 'blue']\n",
    "\n",
    "pt_dict = dict(zip(data, colors))\n",
    "\n",
    "lent = len(data)\n",
    "\n",
    "num_blue = lent/2\n",
    "num_red = lent/2\n",
    "\n",
    "blue_gt_theta = num_blue\n",
    "red_lt_theta = 0\n",
    "loss_dict = {}\n",
    "theta = 0\n",
    "prev_pt = data[0]\n",
    "\n",
    "for pt in data:\n",
    "    theta = (prev_pt+pt)/2\n",
    "    if pt_dict[pt] == 'blue' and pt> theta:\n",
    "        blue_gt_theta-=1\n",
    "    if pt_dict[pt] == 'red' and pt <= theta:\n",
    "        red_lt_theta+=1\n",
    "\n",
    "    loss_dict[pt] = blue_gt_theta + red_lt_theta\n",
    "    prev_pt = pt\n",
    "    print(blue_gt_theta, red_lt_theta)\n",
    "\n",
    "min(loss_dict.items(), key= lambda x: x[1])\n",
    "\n",
    "loss_dict\n",
    "\n",
    "\n",
    "\n"
   ]
  },
  {
   "cell_type": "code",
   "execution_count": 28,
   "metadata": {},
   "outputs": [
    {
     "data": {
      "text/plain": [
       "['blue', 'blue', 'blue', 'red', 'red', 'red']"
      ]
     },
     "execution_count": 28,
     "metadata": {},
     "output_type": "execute_result"
    }
   ],
   "source": [
    "colors = ['red', 'red', 'red', 'blue','blue','blue']\n",
    "colors[::-1]"
   ]
  },
  {
   "cell_type": "code",
   "execution_count": null,
   "metadata": {},
   "outputs": [],
   "source": []
  }
 ],
 "metadata": {
  "kernelspec": {
   "display_name": "Python 3.9.2 64-bit",
   "language": "python",
   "name": "python3"
  },
  "language_info": {
   "codemirror_mode": {
    "name": "ipython",
    "version": 3
   },
   "file_extension": ".py",
   "mimetype": "text/x-python",
   "name": "python",
   "nbconvert_exporter": "python",
   "pygments_lexer": "ipython3",
   "version": "3.9.2"
  },
  "orig_nbformat": 4,
  "vscode": {
   "interpreter": {
    "hash": "19b17eba0dbd5e4b8827ab8a6192fc0dff7c2985f63f4f278d5b971ef380745d"
   }
  }
 },
 "nbformat": 4,
 "nbformat_minor": 2
}
